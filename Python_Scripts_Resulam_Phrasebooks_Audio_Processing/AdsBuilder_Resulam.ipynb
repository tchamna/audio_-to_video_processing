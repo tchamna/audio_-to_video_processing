{
 "cells": [
  {
   "cell_type": "markdown",
   "id": "2cd3df6b",
   "metadata": {
    "ExecuteTime": {
     "end_time": "2024-01-02T04:37:53.869311Z",
     "start_time": "2024-01-02T04:37:53.863007Z"
    }
   },
   "source": [
    "# Build Video from images and audio"
   ]
  },
  {
   "cell_type": "code",
   "execution_count": 11,
   "id": "0737267a",
   "metadata": {
    "ExecuteTime": {
     "end_time": "2024-01-15T18:43:39.172573Z",
     "start_time": "2024-01-15T18:43:39.166202Z"
    }
   },
   "outputs": [],
   "source": [
    "# # import os, shutil, time, re, random, glob\n",
    "# # from moviepy.editor import ImageClip, AudioFileClip, concatenate_videoclips, TextClip, CompositeVideoClip, ColorClip\n",
    "# import os\n",
    "# from PIL import Image\n",
    "# Image.MAX_IMAGE_PIXELS = None  # This removes the limit on the number of pixels\n",
    "\n",
    "# from moviepy.editor import ImageClip, AudioFileClip, concatenate_videoclips, TextClip, CompositeVideoClip, ColorClip, concatenate_audioclips\n",
    "\n",
    "# from natsort import natsorted\n",
    "\n",
    "# # Define your paths and names\n",
    "\n",
    "# script_dir = os.getcwd()\n",
    "# local_language_name='nufi'\n",
    "# local_language_name='yoruba'\n",
    "\n",
    "\n",
    "\n",
    "# lln = local_language_name.title()\n",
    "\n",
    "# # audio_path = fr\"C:\\Users\\tcham\\Downloads\\Phrasebook{lln}\\{lln}Only - Copy\"\n",
    "# # audio_path_eng = fr\"C:\\Users\\tcham\\Downloads\\Phrasebook{lln}\\EnglishOnly\"\n",
    "\n",
    "# # audio_path = fr\"C:\\Users\\tcham\\Downloads\\Phrasebook{lln}\\{lln}Only_test\"\n",
    "# # audio_path_eng = fr\"C:\\Users\\tcham\\Downloads\\Phrasebook{lln}\\EnglishOnly_test\"\n",
    "\n",
    "# # current_dir = audio_path\n",
    "# # current_dir = os.path.join(audio_path,\"\")\n",
    "\n",
    "# font_name_short = \"CharisSIL-B.ttf\"\n",
    "# logo_name = \"resulam_logo_resurrectionLangue.png\"\n",
    "# # List containing the sentences\n",
    "# # Folder that will hold the mixed bilingual sentences\n",
    "\n",
    "# font_path = os.path.join(os.path.dirname(script_dir),\"Fonts\",font_name_short)\n",
    "# videos_ads_path = os.path.join(os.path.dirname(script_dir),\"Ads_Video\",\"\")\n",
    "\n",
    "# logo_path = os.path.join(os.path.dirname(script_dir),logo_name)\n",
    "\n",
    "# darkyellow = '#FFD700'  # Dark yellow\n",
    "\n",
    "\n",
    "# # Define the folders\n",
    "# ads_images_folder = os.path.join(os.path.dirname(script_dir), \n",
    "#                                  \"Languages\", f\"{lln}Phrasebook\", \"Ads_Images\",\"Branded_Images\")\n",
    "# ads_audios_folder = os.path.join(os.path.dirname(script_dir), \"Languages\", f\"{lln}Phrasebook\", \"Ads_Audios\")\n",
    "\n",
    "# # Get the list of audio and image files with full paths\n",
    "# audio_files = [os.path.join(ads_audios_folder, f) for f in os.listdir(ads_audios_folder) if f.endswith(('.mp3', '.wav'))]\n",
    "# image_files = [os.path.join(ads_images_folder, f) for f in os.listdir(ads_images_folder) if f.endswith(('.jpg', '.png'))]\n",
    "\n",
    "# # Sort files to ensure they are aligned\n",
    "# audio_files = natsorted(audio_files)\n",
    "# image_files = natsorted(image_files)\n",
    "\n",
    "# # Calculate total audio duration and individual image display time\n",
    "# total_audio_duration = sum(AudioFileClip(audio).duration for audio in audio_files)\n",
    "# image_display_time = total_audio_duration / len(image_files)\n",
    "\n",
    "# # Create the final audio clip by concatenating all audio clips\n",
    "# final_audio_clip = concatenate_audioclips([AudioFileClip(audio) for audio in audio_files])\n",
    "\n",
    "# # List to store all video clips\n",
    "# clips = []\n",
    "\n",
    "# # Process each image\n",
    "# for image_path in image_files:\n",
    "#     # Create image clip with white background\n",
    "#     bg_clip = ColorClip(size=(1920, 1080), color=(255, 255, 255), duration=image_display_time)\n",
    "#     image_clip = ImageClip(image_path).set_duration(image_display_time).set_position('center').resize(height=1080)\n",
    "\n",
    "#     # Add logos and texts\n",
    "#     logo_clip = ImageClip(logo_path).set_duration(image_display_time).resize(width=200).set_position((\"left\", \"bottom\"))\n",
    "#     logo_clip2 = ImageClip(logo_path).set_duration(image_display_time).resize(width=200).set_position((\"right\", \"bottom\"))\n",
    "#     website_text_clip = TextClip(\"www.resulam.com\", fontsize=70, color=darkyellow, font=font_path).set_duration(image_display_time).set_position('center')\n",
    "#     language_text_clip = TextClip(local_language_name, fontsize=30, color=\"black\", font=font_path).set_duration(image_display_time).set_position((\"left\", \"top\"))\n",
    "#     support_text_clip = TextClip(\"Please Support Resulam\", fontsize=30, color=\"black\", font=font_path).set_duration(image_display_time).set_position((\"right\", \"top\"))\n",
    "\n",
    "#     # Composite all elements\n",
    "#     final_clip = CompositeVideoClip([bg_clip, image_clip, logo_clip, logo_clip2, website_text_clip, language_text_clip, support_text_clip], size=(1920, 1080))\n",
    "#     clips.append(final_clip)\n",
    "\n",
    "# # Concatenate all clips into one video and set the audio\n",
    "# final_video = concatenate_videoclips(clips, method='compose').set_audio(final_audio_clip)\n",
    "\n",
    "# # Write the result to a file\n",
    "# final_video.write_videofile(videos_ads_path+\"ads_video.mp4\", fps=24, codec='libx264', audio_codec='aac')"
   ]
  },
  {
   "cell_type": "code",
   "execution_count": null,
   "id": "d337d032",
   "metadata": {
    "ExecuteTime": {
     "end_time": "2024-01-15T18:43:08.470247Z",
     "start_time": "2024-01-15T18:43:08.470247Z"
    }
   },
   "outputs": [],
   "source": [
    "# pip install python-pptx\n"
   ]
  },
  {
   "cell_type": "code",
   "execution_count": null,
   "id": "8691209b",
   "metadata": {
    "ExecuteTime": {
     "start_time": "2024-01-10T03:41:40.787Z"
    }
   },
   "outputs": [],
   "source": [
    "# !pip uninstall Pillow"
   ]
  },
  {
   "cell_type": "code",
   "execution_count": null,
   "id": "947d4382",
   "metadata": {},
   "outputs": [],
   "source": []
  },
  {
   "cell_type": "code",
   "execution_count": 2,
   "id": "d37a8946",
   "metadata": {
    "ExecuteTime": {
     "end_time": "2024-01-10T03:38:31.893769Z",
     "start_time": "2024-01-10T03:38:28.824406Z"
    },
    "scrolled": true
   },
   "outputs": [
    {
     "name": "stdout",
     "output_type": "stream",
     "text": [
      "Requirement already satisfied: Pillow in c:\\users\\tcham\\anaconda3\\lib\\site-packages (8.3.1)\n"
     ]
    },
    {
     "name": "stderr",
     "output_type": "stream",
     "text": [
      "WARNING: Ignoring invalid distribution -illow (c:\\users\\tcham\\anaconda3\\lib\\site-packages)\n",
      "WARNING: Ignoring invalid distribution -illow (c:\\users\\tcham\\anaconda3\\lib\\site-packages)\n",
      "DEPRECATION: pyodbc 4.0.0-unsupported has a non-standard version number. pip 24.0 will enforce this behaviour change. A possible replacement is to upgrade to a newer version of pyodbc or contact the author to suggest that they release a version with a conforming version number. Discussion can be found at https://github.com/pypa/pip/issues/12063\n",
      "\n",
      "[notice] A new release of pip is available: 23.3.1 -> 23.3.2\n",
      "[notice] To update, run: python.exe -m pip install --upgrade pip\n"
     ]
    }
   ],
   "source": [
    "# !pip install Pillow"
   ]
  },
  {
   "cell_type": "code",
   "execution_count": null,
   "id": "41b45595",
   "metadata": {},
   "outputs": [],
   "source": []
  },
  {
   "cell_type": "code",
   "execution_count": 22,
   "id": "ed264328",
   "metadata": {
    "ExecuteTime": {
     "end_time": "2024-01-16T00:44:11.904991Z",
     "start_time": "2024-01-15T22:44:20.054193Z"
    }
   },
   "outputs": [
    {
     "name": "stdout",
     "output_type": "stream",
     "text": [
      "Moviepy - Building video G:\\My Drive\\Data_Science\\Resulam\\Phrasebook_Audio_Video_Processing_production\\Ads_Video\\ads_video_new2.mp4.\n",
      "MoviePy - Writing audio in ads_video_new2TEMP_MPY_wvf_snd.mp4\n"
     ]
    },
    {
     "name": "stderr",
     "output_type": "stream",
     "text": [
      "                                                                                                                       \r"
     ]
    },
    {
     "name": "stdout",
     "output_type": "stream",
     "text": [
      "MoviePy - Done.\n",
      "Moviepy - Writing video G:\\My Drive\\Data_Science\\Resulam\\Phrasebook_Audio_Video_Processing_production\\Ads_Video\\ads_video_new2.mp4\n",
      "\n"
     ]
    },
    {
     "name": "stderr",
     "output_type": "stream",
     "text": [
      "                                                                                                                       \r"
     ]
    },
    {
     "name": "stdout",
     "output_type": "stream",
     "text": [
      "Moviepy - Done !\n",
      "Moviepy - video ready G:\\My Drive\\Data_Science\\Resulam\\Phrasebook_Audio_Video_Processing_production\\Ads_Video\\ads_video_new2.mp4\n"
     ]
    }
   ],
   "source": [
    "# import os, shutil, time, re, random, glob\n",
    "# from moviepy.editor import ImageClip, AudioFileClip, concatenate_videoclips, TextClip, CompositeVideoClip, ColorClip\n",
    "import os\n",
    "from PIL import Image\n",
    "Image.MAX_IMAGE_PIXELS = None  # This removes the limit on the number of pixels\n",
    "\n",
    "from moviepy.editor import ImageClip, AudioFileClip, concatenate_videoclips, TextClip, CompositeVideoClip, ColorClip, concatenate_audioclips\n",
    "\n",
    "from natsort import natsorted\n",
    "\n",
    "# Define your paths and names\n",
    "\n",
    "script_dir = os.getcwd()\n",
    "local_language_name='nufi'\n",
    "local_language_name='yoruba'\n",
    "\n",
    "\n",
    "\n",
    "lln = local_language_name.title()\n",
    "\n",
    "# audio_path = fr\"C:\\Users\\tcham\\Downloads\\Phrasebook{lln}\\{lln}Only - Copy\"\n",
    "# audio_path_eng = fr\"C:\\Users\\tcham\\Downloads\\Phrasebook{lln}\\EnglishOnly\"\n",
    "\n",
    "# audio_path = fr\"C:\\Users\\tcham\\Downloads\\Phrasebook{lln}\\{lln}Only_test\"\n",
    "# audio_path_eng = fr\"C:\\Users\\tcham\\Downloads\\Phrasebook{lln}\\EnglishOnly_test\"\n",
    "\n",
    "# current_dir = audio_path\n",
    "# current_dir = os.path.join(audio_path,\"\")\n",
    "\n",
    "font_name_short = \"CharisSIL-B.ttf\"\n",
    "logo_name = \"resulam_logo_resurrectionLangue.png\"\n",
    "# List containing the sentences\n",
    "# Folder that will hold the mixed bilingual sentences\n",
    "\n",
    "font_path = os.path.join(os.path.dirname(script_dir),\"Fonts\",font_name_short)\n",
    "videos_ads_path = os.path.join(os.path.dirname(script_dir),\"Ads_Video\",\"\")\n",
    "\n",
    "logo_path = os.path.join(os.path.dirname(script_dir),logo_name)\n",
    "\n",
    "darkyellow = '#FFD700'  # Dark yellow\n",
    "\n",
    "\n",
    "# Define the folders\n",
    "# ads_images_folder = r\"G:\\My Drive\\Data_Science\\Resulam\\Phrasebook_Audio_Video_Processing_production\\Ads_Images\\\\\"\n",
    "ads_images_folder = r\"G:\\My Drive\\Data_Science\\Resulam\\Phrasebook_Audio_Video_Processing_production\\Ads_Images_Cropped\\\\\"\n",
    "# ads_audios_folder = os.path.join(os.path.dirname(script_dir), \"Languages\", f\"{lln}Phrasebook\", \"Ads_Audios\")\n",
    "ads_audios_folder = r\"G:\\My Drive\\Data_Science\\Resulam\\Phrasebook_Audio_Video_Processing_production\\Ads_audios\\Combined\\\\\"\n",
    "# Get the list of audio and image files with full paths\n",
    "audio_files = [os.path.join(ads_audios_folder, f) for f in os.listdir(ads_audios_folder) \n",
    "               if f.endswith(('.mp3', '.wav','.m4a'))]\n",
    "image_files = [os.path.join(ads_images_folder, f) for f in os.listdir(ads_images_folder) if f.lower().endswith(('.jpg', '.png'))]\n",
    "\n",
    "# Sort files to ensure they are aligned\n",
    "audio_files = natsorted(audio_files)\n",
    "image_files = natsorted(image_files)\n",
    "\n",
    "# Calculate total audio duration and individual image display time\n",
    "total_audio_duration = sum(AudioFileClip(audio).duration for audio in audio_files)\n",
    "image_display_time = total_audio_duration / len(image_files)\n",
    "\n",
    "# Create the final audio clip by concatenating all audio clips\n",
    "final_audio_clip = concatenate_audioclips([AudioFileClip(audio) for audio in audio_files])\n",
    "\n",
    "# List to store all video clips\n",
    "clips = []\n",
    "\n",
    "# Process each image\n",
    "for image_path in image_files:\n",
    "    # Create image clip with white background\n",
    "    bg_clip = ColorClip(size=(1920, 1080), color=(255, 255, 255), duration=image_display_time)\n",
    "    image_clip = ImageClip(image_path).set_duration(image_display_time).set_position('center').resize(height=1080)\n",
    "\n",
    "    # Add logos and texts\n",
    "    logo_clip = ImageClip(logo_path).set_duration(image_display_time).resize(width=200).set_position((\"left\", \"bottom\"))\n",
    "    logo_clip2 = ImageClip(logo_path).set_duration(image_display_time).resize(width=200).set_position((\"right\", \"bottom\"))\n",
    "    website_text_clip = TextClip(\"www.resulam.com\", fontsize=70, color=darkyellow, font=font_path).set_duration(image_display_time).set_position('center')\n",
    "    language_text_clip = TextClip(local_language_name, fontsize=30, color=\"black\", font=font_path).set_duration(image_display_time).set_position((\"left\", \"top\"))\n",
    "    support_text_clip = TextClip(\"Please Support Resulam\", fontsize=30, color=\"black\", font=font_path).set_duration(image_display_time).set_position((\"right\", \"top\"))\n",
    "\n",
    "    # Composite all elements\n",
    "#     final_clip = CompositeVideoClip([bg_clip, image_clip, logo_clip, logo_clip2, support_text_clip], size=(1920, 1080))\n",
    "    final_clip = CompositeVideoClip([bg_clip, image_clip, logo_clip, logo_clip2], size=(1920, 1080))\n",
    "\n",
    "    clips.append(final_clip)\n",
    "\n",
    "# Concatenate all clips into one video and set the audio\n",
    "final_video = concatenate_videoclips(clips, method='compose').set_audio(final_audio_clip)\n",
    "\n",
    "# Write the result to a file\n",
    "final_video.write_videofile(videos_ads_path+\"ads_video_new2.mp4\", fps=24, codec='libx264', audio_codec='aac')\n"
   ]
  },
  {
   "cell_type": "code",
   "execution_count": 3,
   "id": "50335bac",
   "metadata": {
    "ExecuteTime": {
     "end_time": "2024-01-14T21:42:30.562464Z",
     "start_time": "2024-01-14T21:42:30.558584Z"
    }
   },
   "outputs": [],
   "source": [
    "# import os\n",
    "# from concurrent.futures import ProcessPoolExecutor\n",
    "# from moviepy.editor import AudioFileClip, concatenate_videoclips, concatenate_audioclips\n",
    "# from natsort import natsorted\n",
    "\n",
    "# # ... [your existing setup code] ...\n",
    "\n",
    "# # Function to create a video clip for a single image\n",
    "# def create_video_clip(image_path, image_display_time, logo_path, font_path, local_language_name, darkyellow):\n",
    "#     from moviepy.editor import ImageClip, CompositeVideoClip, ColorClip, TextClip\n",
    "\n",
    "#     # Create image clip with white background\n",
    "#     bg_clip = ColorClip(size=(1920, 1080), color=(255, 255, 255), duration=image_display_time)\n",
    "#     image_clip = ImageClip(image_path).set_duration(image_display_time).set_position('center').resize(height=1080)\n",
    "\n",
    "#     # Add logos and texts\n",
    "#     logo_clip = ImageClip(logo_path).set_duration(image_display_time).resize(width=200).set_position((\"left\", \"bottom\"))\n",
    "#     logo_clip2 = ImageClip(logo_path).set_duration(image_display_time).resize(width=200).set_position((\"right\", \"bottom\"))\n",
    "#     website_text_clip = TextClip(\"www.resulam.com\", fontsize=70, color=darkyellow, font=font_path).set_duration(image_display_time).set_position('center')\n",
    "#     language_text_clip = TextClip(local_language_name, fontsize=30, color=\"black\", font=font_path).set_duration(image_display_time).set_position((\"left\", \"top\"))\n",
    "#     support_text_clip = TextClip(\"Please Support Resulam\", fontsize=30, color=\"black\", font=font_path).set_duration(image_display_time).set_position((\"right\", \"top\"))\n",
    "\n",
    "#     # Composite all elements\n",
    "#     final_clip = CompositeVideoClip([bg_clip, image_clip, logo_clip, logo_clip2, support_text_clip], size=(1920, 1080))\n",
    "#     return final_clip\n",
    "\n",
    "# # Using ProcessPoolExecutor to parallelize video clip creation\n",
    "# with ProcessPoolExecutor() as executor:\n",
    "#     future_clips = [executor.submit(create_video_clip, image_path, image_display_time, logo_path, font_path, local_language_name, darkyellow) for image_path in image_files]\n",
    "\n",
    "# # Retrieve results from futures and concatenate clips\n",
    "# clips = [future.result() for future in future_clips]\n",
    "# final_video = concatenate_videoclips(clips, method='compose').set_audio(final_audio_clip)\n",
    "\n",
    "# # Write the result to a file\n",
    "# final_video.write_videofile(videos_ads_path + \"ads_video_new.mp4\", fps=24, codec='libx264', audio_codec='aac')\n"
   ]
  },
  {
   "cell_type": "code",
   "execution_count": null,
   "id": "94a82677",
   "metadata": {
    "ExecuteTime": {
     "end_time": "2024-01-08T08:16:34.447930Z",
     "start_time": "2024-01-08T08:16:34.317112Z"
    }
   },
   "outputs": [],
   "source": []
  },
  {
   "cell_type": "code",
   "execution_count": null,
   "id": "333cec13",
   "metadata": {
    "ExecuteTime": {
     "end_time": "2024-01-08T08:13:21.869727Z",
     "start_time": "2024-01-08T08:12:50.041338Z"
    }
   },
   "outputs": [],
   "source": []
  },
  {
   "cell_type": "code",
   "execution_count": null,
   "id": "45bee7ff",
   "metadata": {},
   "outputs": [],
   "source": []
  },
  {
   "cell_type": "code",
   "execution_count": null,
   "id": "0c4fb2b4",
   "metadata": {
    "ExecuteTime": {
     "end_time": "2024-01-08T08:12:27.219748Z",
     "start_time": "2024-01-08T08:12:26.439933Z"
    },
    "scrolled": false
   },
   "outputs": [],
   "source": []
  },
  {
   "cell_type": "code",
   "execution_count": null,
   "id": "d0fd19bf",
   "metadata": {},
   "outputs": [],
   "source": []
  },
  {
   "cell_type": "code",
   "execution_count": null,
   "id": "1ce52c90",
   "metadata": {
    "ExecuteTime": {
     "end_time": "2024-01-08T07:56:32.401903Z",
     "start_time": "2024-01-08T07:56:11.953584Z"
    }
   },
   "outputs": [],
   "source": [
    "\n",
    "from pptx import Presentation\n",
    "from PIL import Image\n",
    "from moviepy.editor import AudioFileClip, ImageClip, concatenate_videoclips\n",
    "import os\n",
    "\n",
    "ppt_filename = r\"G:\\My Drive\\Data_Science\\Resulam\\Phrasebook_Audio_Video_Processing_production\\Languages\\YorubaPhrasebook\\Ads_Images\\Album_ResulamBooks_Livres_Resulam_2015_2023_QRCodes.pptx\"\n",
    "output_folder = r'G:\\My Drive\\Data_Science\\Resulam\\Phrasebook_Audio_Video_Processing_production\\Languages\\YorubaPhrasebook\\Ads_Images\\Selected\\\\'\n",
    "\n",
    "\n",
    "\n",
    "from pptx import Presentation\n",
    "from moviepy.editor import *\n",
    "import os\n",
    "\n",
    "# Path to the PowerPoint file and audio folder\n",
    "audio_folder = r'G:\\My Drive\\Data_Science\\Resulam\\Phrasebook_Audio_Video_Processing_production\\Languages\\YorubaPhrasebook\\Ads_Audios\\\\'\n",
    "\n",
    "# Calculate total audio duration\n",
    "audio_files = [f for f in os.listdir(audio_folder) if f.endswith('.mp3')]\n",
    "total_audio_duration = sum(AudioFileClip(os.path.join(audio_folder, f)).duration for f in audio_files)\n",
    "\n",
    "# Duration each slide should be displayed\n",
    "slide_duration = total_audio_duration / len(image_paths)\n",
    "\n",
    "# Create video clips for each slide\n",
    "video_clips = [ImageClip(image_path, duration=slide_duration) for image_path in image_paths]\n",
    "\n",
    "# Concatenate video clips\n",
    "final_video = concatenate_videoclips(video_clips)\n",
    "\n",
    "# Combine with audio\n",
    "audio_clips = [AudioFileClip(os.path.join(audio_folder, f)) for f in audio_files]\n",
    "final_audio_clip = concatenate_audioclips(audio_clips)\n",
    "final_video = final_video.set_audio(final_audio_clip)\n",
    "\n",
    "# Write the result to a file\n",
    "final_video.write_videofile(\"final_video.mp4\", fps=24)\n",
    "\n",
    "# Optional: Clean up temporary images\n",
    "for image_path in image_paths:\n",
    "    os.remove(image_path)\n",
    "\n"
   ]
  },
  {
   "cell_type": "code",
   "execution_count": null,
   "id": "15dd636d",
   "metadata": {
    "ExecuteTime": {
     "end_time": "2024-01-08T07:41:44.461137Z",
     "start_time": "2024-01-08T07:41:44.452414Z"
    }
   },
   "outputs": [],
   "source": [
    "img_path"
   ]
  },
  {
   "cell_type": "code",
   "execution_count": null,
   "id": "2963a70d",
   "metadata": {},
   "outputs": [],
   "source": []
  }
 ],
 "metadata": {
  "hide_input": false,
  "kernelspec": {
   "display_name": "Python 3 (ipykernel)",
   "language": "python",
   "name": "python3"
  },
  "language_info": {
   "codemirror_mode": {
    "name": "ipython",
    "version": 3
   },
   "file_extension": ".py",
   "mimetype": "text/x-python",
   "name": "python",
   "nbconvert_exporter": "python",
   "pygments_lexer": "ipython3",
   "version": "3.11.5"
  },
  "toc": {
   "base_numbering": 1,
   "nav_menu": {},
   "number_sections": true,
   "sideBar": true,
   "skip_h1_title": false,
   "title_cell": "Table of Contents",
   "title_sidebar": "Contents",
   "toc_cell": false,
   "toc_position": {},
   "toc_section_display": true,
   "toc_window_display": false
  },
  "varInspector": {
   "cols": {
    "lenName": 16,
    "lenType": 16,
    "lenVar": 40
   },
   "kernels_config": {
    "python": {
     "delete_cmd_postfix": "",
     "delete_cmd_prefix": "del ",
     "library": "var_list.py",
     "varRefreshCmd": "print(var_dic_list())"
    },
    "r": {
     "delete_cmd_postfix": ") ",
     "delete_cmd_prefix": "rm(",
     "library": "var_list.r",
     "varRefreshCmd": "cat(var_dic_list()) "
    }
   },
   "types_to_exclude": [
    "module",
    "function",
    "builtin_function_or_method",
    "instance",
    "_Feature"
   ],
   "window_display": false
  }
 },
 "nbformat": 4,
 "nbformat_minor": 5
}

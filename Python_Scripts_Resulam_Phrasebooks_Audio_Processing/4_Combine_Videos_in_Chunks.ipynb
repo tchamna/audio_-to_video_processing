{
 "cells": [
  {
   "cell_type": "code",
   "execution_count": null,
   "id": "c03de3a5",
   "metadata": {
    "ExecuteTime": {
     "start_time": "2024-04-07T13:26:31.422Z"
    },
    "code_folding": [],
    "scrolled": true
   },
   "outputs": [],
   "source": []
  },
  {
   "cell_type": "code",
   "execution_count": null,
   "id": "591d133f",
   "metadata": {
    "ExecuteTime": {
     "end_time": "2024-04-22T04:58:35.979911Z",
     "start_time": "2024-04-22T04:58:35.975749Z"
    }
   },
   "outputs": [],
   "source": []
  },
  {
   "cell_type": "code",
   "execution_count": 1,
   "id": "5d3dd572",
   "metadata": {
    "ExecuteTime": {
     "end_time": "2024-05-20T00:55:19.374470Z",
     "start_time": "2024-05-20T00:55:17.849616Z"
    }
   },
   "outputs": [],
   "source": [
    "from moviepy.editor import VideoFileClip, concatenate_videoclips, AudioFileClip, CompositeAudioClip\n",
    "from moviepy.audio.AudioClip import concatenate_audioclips\n",
    "import os\n",
    "import random\n",
    "from natsort import natsorted\n"
   ]
  },
  {
   "cell_type": "code",
   "execution_count": 2,
   "id": "98480ad0",
   "metadata": {
    "ExecuteTime": {
     "end_time": "2024-05-20T00:55:19.402733Z",
     "start_time": "2024-05-20T00:55:19.377990Z"
    }
   },
   "outputs": [
    {
     "data": {
      "text/plain": [
       "'Igbo'"
      ]
     },
     "execution_count": 2,
     "metadata": {},
     "output_type": "execute_result"
    }
   ],
   "source": [
    "local_language_name='nufi'\n",
    "# local_language_name='yoruba'\n",
    "\n",
    "local_language_name='lingala'\n",
    "local_language_name='swahili'\n",
    "\n",
    "local_language_name='igbo'\n",
    "\n",
    "\n",
    "lln = local_language_name.title()\n",
    "lln "
   ]
  },
  {
   "cell_type": "code",
   "execution_count": null,
   "id": "a50b071a",
   "metadata": {},
   "outputs": [],
   "source": []
  },
  {
   "cell_type": "code",
   "execution_count": 3,
   "id": "1a52f37a",
   "metadata": {
    "ExecuteTime": {
     "end_time": "2024-05-20T00:55:19.417498Z",
     "start_time": "2024-05-20T00:55:19.406864Z"
    },
    "code_folding": [
     5
    ]
   },
   "outputs": [],
   "source": [
    "\n",
    "# def process_chunk(chunk, ad_clip_path, instrumental_path, output_filename,\n",
    "#                   fadein_instr=1, fadeout_instr=1, reduce_volume_by=0.5, \n",
    "#                   original_audio_volume=0.5, fadein_ad=2, fadeout_ad=2,\n",
    "#                   remove_original_audio=False, include_instrumental=True):\n",
    "#     if not chunk:\n",
    "#         print(\"No video clips to process.\")\n",
    "#         return\n",
    "\n",
    "#     # Load the advertisement clip\n",
    "#     ad_clip = VideoFileClip(ad_clip_path)\n",
    "#     ad_clip_audio = ad_clip.audio.audio_fadein(fadein_ad).audio_fadeout(fadeout_ad)\n",
    "#     ad_clip = ad_clip.set_audio(ad_clip_audio)\n",
    "\n",
    "#     # Check if there are enough clips to split\n",
    "#     mid_position = len(chunk) // 2\n",
    "#     if mid_position == 0:\n",
    "#         print(\"Not enough video clips to split into two parts.\")\n",
    "#         return\n",
    "\n",
    "\n",
    "#     first_part = concatenate_videoclips(chunk[:mid_position])\n",
    "#     second_part = concatenate_videoclips(chunk[mid_position:])\n",
    "\n",
    "#     final_audio_first = final_audio_second = None\n",
    "\n",
    "#     if include_instrumental:\n",
    "#         # Load and process the instrumental audio file if included\n",
    "#         instrumental_audio = AudioFileClip(instrumental_path)\n",
    "#         instrumental_first = loop_audio(instrumental_audio, first_part.duration)\n",
    "#         instrumental_second = loop_audio(instrumental_audio, second_part.duration)\n",
    "\n",
    "#         # Apply volume and fade effects to instrumental audio\n",
    "#         instrumental_first = (instrumental_first.volumex(reduce_volume_by)\n",
    "#                               .audio_fadein(fadein_instr).audio_fadeout(fadeout_instr))\n",
    "#         instrumental_second = (instrumental_second.volumex(reduce_volume_by)\n",
    "#                                .audio_fadein(fadein_instr).audio_fadeout(fadeout_instr))\n",
    "\n",
    "#     # Determine the final audio clips based on settings\n",
    "#     if not remove_original_audio:\n",
    "#         original_first = first_part.audio.volumex(original_audio_volume)\n",
    "#         original_second = second_part.audio.volumex(original_audio_volume)\n",
    "#         audio_components_first = [original_first] + ([instrumental_first] if include_instrumental else [])\n",
    "#         audio_components_second = [original_second] + ([instrumental_second] if include_instrumental else [])\n",
    "#         final_audio_first = CompositeAudioClip(audio_components_first)\n",
    "#         final_audio_second = CompositeAudioClip(audio_components_second)\n",
    "#     else:\n",
    "#         final_audio_first = CompositeAudioClip([instrumental_first] if include_instrumental else [])\n",
    "#         final_audio_second = CompositeAudioClip([instrumental_second] if include_instrumental else [])\n",
    "\n",
    "#     # Set the processed audio clips to the corresponding video parts\n",
    "#     first_part = first_part.set_audio(final_audio_first)\n",
    "#     second_part = second_part.set_audio(final_audio_second)\n",
    "\n",
    "#     # Combine all parts into the final clip\n",
    "#     final_clip = concatenate_videoclips([first_part, ad_clip, second_part])\n",
    "\n",
    "#     # Save the resulting video file\n",
    "#     final_clip.write_videofile(output_filename, codec=\"libx264\", fps=24)\n",
    "#     print(f\"Output saved to {output_filename}\")\n",
    "\n",
    "#     # Close all clips to free up memory\n",
    "#     ad_clip.close()\n",
    "#     first_part.close()\n",
    "#     second_part.close()\n",
    "#     final_clip.close()"
   ]
  },
  {
   "cell_type": "code",
   "execution_count": 4,
   "id": "e622c17c",
   "metadata": {
    "ExecuteTime": {
     "end_time": "2024-05-20T00:55:19.436965Z",
     "start_time": "2024-05-20T00:55:19.422027Z"
    }
   },
   "outputs": [],
   "source": [
    "from moviepy.editor import VideoFileClip, AudioFileClip, concatenate_videoclips, CompositeAudioClip\n",
    "\n",
    "def process_chunk(chunk, ad_clip_path, instrumental_path, output_filename,\n",
    "                  fadein_instr=1, fadeout_instr=1, reduce_volume_by=0.5, \n",
    "                  original_audio_volume=0.5, fadein_ad=2, fadeout_ad=2,\n",
    "                  remove_original_audio=False, include_instrumental=True):\n",
    "    if not chunk:\n",
    "        print(\"No video clips to process.\")\n",
    "        return\n",
    "\n",
    "    # Check if there are enough clips to split\n",
    "    mid_position = len(chunk) // 2\n",
    "    if mid_position == 0:\n",
    "        print(\"Not enough video clips to split into two parts.\")\n",
    "        return\n",
    "\n",
    "    first_part = concatenate_videoclips(chunk[:mid_position])\n",
    "    second_part = concatenate_videoclips(chunk[mid_position:])\n",
    "\n",
    "    final_audio_first = final_audio_second = None\n",
    "\n",
    "    if include_instrumental:\n",
    "        # Load and process the instrumental audio file if included\n",
    "        instrumental_audio = AudioFileClip(instrumental_path)\n",
    "        instrumental_first = loop_audio(instrumental_audio, first_part.duration)\n",
    "        instrumental_second = loop_audio(instrumental_audio, second_part.duration)\n",
    "\n",
    "        # Apply volume and fade effects to instrumental audio\n",
    "        instrumental_first = (instrumental_first.volumex(reduce_volume_by)\n",
    "                              .audio_fadein(fadein_instr).audio_fadeout(fadeout_instr))\n",
    "        instrumental_second = (instrumental_second.volumex(reduce_volume_by)\n",
    "                               .audio_fadein(fadein_instr).audio_fadeout(fadeout_instr))\n",
    "\n",
    "    # Determine the final audio clips based on settings\n",
    "    if not remove_original_audio:\n",
    "        original_first = first_part.audio.volumex(original_audio_volume)\n",
    "        original_second = second_part.audio.volumex(original_audio_volume)\n",
    "        audio_components_first = [original_first] + ([instrumental_first] if include_instrumental else [])\n",
    "        audio_components_second = [original_second] + ([instrumental_second] if include_instrumental else [])\n",
    "        final_audio_first = CompositeAudioClip(audio_components_first)\n",
    "        final_audio_second = CompositeAudioClip(audio_components_second)\n",
    "    else:\n",
    "        final_audio_first = CompositeAudioClip([instrumental_first] if include_instrumental else [])\n",
    "        final_audio_second = CompositeAudioClip([instrumental_second] if include_instrumental else [])\n",
    "\n",
    "    # Set the processed audio clips to the corresponding video parts\n",
    "    first_part = first_part.set_audio(final_audio_first)\n",
    "    second_part = second_part.set_audio(final_audio_second)\n",
    "\n",
    "    # If ad_clip_path is provided, include the ad clip\n",
    "    if ad_clip_path:\n",
    "        ad_clip = VideoFileClip(ad_clip_path)\n",
    "        ad_clip_audio = ad_clip.audio.audio_fadein(fadein_ad).audio_fadeout(fadeout_ad)\n",
    "        ad_clip = ad_clip.set_audio(ad_clip_audio)\n",
    "        final_clip = concatenate_videoclips([first_part, ad_clip, second_part])\n",
    "    else:\n",
    "        final_clip = concatenate_videoclips([first_part, second_part])\n",
    "\n",
    "    # Save the resulting video file\n",
    "    final_clip.write_videofile(output_filename, codec=\"libx264\", fps=24)\n",
    "    print(f\"Output saved to {output_filename}\")\n",
    "\n",
    "    # Close all clips to free up memory\n",
    "    if ad_clip_path:\n",
    "        ad_clip.close()\n",
    "    first_part.close()\n",
    "    second_part.close()\n",
    "    final_clip.close()\n"
   ]
  },
  {
   "cell_type": "code",
   "execution_count": null,
   "id": "07d18fcc",
   "metadata": {},
   "outputs": [],
   "source": []
  },
  {
   "cell_type": "code",
   "execution_count": null,
   "id": "2f1aea65",
   "metadata": {},
   "outputs": [],
   "source": []
  },
  {
   "cell_type": "code",
   "execution_count": null,
   "id": "3cdd50ca",
   "metadata": {
    "ExecuteTime": {
     "start_time": "2024-05-20T01:00:21.083Z"
    },
    "code_folding": [
     5
    ]
   },
   "outputs": [
    {
     "name": "stdout",
     "output_type": "stream",
     "text": [
      "Starting from Chapter:  1\n",
      "Processing Chap1...\n",
      "0\n",
      "Moviepy - Building video G:\\My Drive\\Data_Science\\Resulam\\Phrasebook_Audio_Video_Processing_production\\Languages\\IgboPhrasebook\\bilingual_sentences\\Chap1_chunk_1.mp4.\n",
      "MoviePy - Writing audio in Chap1_chunk_1TEMP_MPY_wvf_snd.mp3\n"
     ]
    },
    {
     "name": "stderr",
     "output_type": "stream",
     "text": [
      "                                                                                                                       \r"
     ]
    },
    {
     "name": "stdout",
     "output_type": "stream",
     "text": [
      "MoviePy - Done.\n",
      "Moviepy - Writing video G:\\My Drive\\Data_Science\\Resulam\\Phrasebook_Audio_Video_Processing_production\\Languages\\IgboPhrasebook\\bilingual_sentences\\Chap1_chunk_1.mp4\n",
      "\n"
     ]
    },
    {
     "name": "stderr",
     "output_type": "stream",
     "text": [
      "                                                                                                                       \r"
     ]
    },
    {
     "name": "stdout",
     "output_type": "stream",
     "text": [
      "Moviepy - Done !\n",
      "Moviepy - video ready G:\\My Drive\\Data_Science\\Resulam\\Phrasebook_Audio_Video_Processing_production\\Languages\\IgboPhrasebook\\bilingual_sentences\\Chap1_chunk_1.mp4\n",
      "Output saved to G:\\My Drive\\Data_Science\\Resulam\\Phrasebook_Audio_Video_Processing_production\\Languages\\IgboPhrasebook\\bilingual_sentences\\Chap1_chunk_1.mp4\n",
      "20\n",
      "Moviepy - Building video G:\\My Drive\\Data_Science\\Resulam\\Phrasebook_Audio_Video_Processing_production\\Languages\\IgboPhrasebook\\bilingual_sentences\\Chap1_chunk_2.mp4.\n",
      "MoviePy - Writing audio in Chap1_chunk_2TEMP_MPY_wvf_snd.mp3\n"
     ]
    },
    {
     "name": "stderr",
     "output_type": "stream",
     "text": [
      "                                                                                                                       \r"
     ]
    },
    {
     "name": "stdout",
     "output_type": "stream",
     "text": [
      "MoviePy - Done.\n",
      "Moviepy - Writing video G:\\My Drive\\Data_Science\\Resulam\\Phrasebook_Audio_Video_Processing_production\\Languages\\IgboPhrasebook\\bilingual_sentences\\Chap1_chunk_2.mp4\n",
      "\n"
     ]
    },
    {
     "name": "stderr",
     "output_type": "stream",
     "text": [
      "                                                                                                                       \r"
     ]
    },
    {
     "name": "stdout",
     "output_type": "stream",
     "text": [
      "Moviepy - Done !\n",
      "Moviepy - video ready G:\\My Drive\\Data_Science\\Resulam\\Phrasebook_Audio_Video_Processing_production\\Languages\\IgboPhrasebook\\bilingual_sentences\\Chap1_chunk_2.mp4\n",
      "Output saved to G:\\My Drive\\Data_Science\\Resulam\\Phrasebook_Audio_Video_Processing_production\\Languages\\IgboPhrasebook\\bilingual_sentences\\Chap1_chunk_2.mp4\n",
      "40\n",
      "Moviepy - Building video G:\\My Drive\\Data_Science\\Resulam\\Phrasebook_Audio_Video_Processing_production\\Languages\\IgboPhrasebook\\bilingual_sentences\\Chap1_chunk_3.mp4.\n",
      "MoviePy - Writing audio in Chap1_chunk_3TEMP_MPY_wvf_snd.mp3\n"
     ]
    },
    {
     "name": "stderr",
     "output_type": "stream",
     "text": [
      "                                                                                                                       \r"
     ]
    },
    {
     "name": "stdout",
     "output_type": "stream",
     "text": [
      "MoviePy - Done.\n",
      "Moviepy - Writing video G:\\My Drive\\Data_Science\\Resulam\\Phrasebook_Audio_Video_Processing_production\\Languages\\IgboPhrasebook\\bilingual_sentences\\Chap1_chunk_3.mp4\n",
      "\n"
     ]
    },
    {
     "name": "stderr",
     "output_type": "stream",
     "text": [
      "                                                                                                                       \r"
     ]
    },
    {
     "name": "stdout",
     "output_type": "stream",
     "text": [
      "Moviepy - Done !\n",
      "Moviepy - video ready G:\\My Drive\\Data_Science\\Resulam\\Phrasebook_Audio_Video_Processing_production\\Languages\\IgboPhrasebook\\bilingual_sentences\\Chap1_chunk_3.mp4\n",
      "Output saved to G:\\My Drive\\Data_Science\\Resulam\\Phrasebook_Audio_Video_Processing_production\\Languages\\IgboPhrasebook\\bilingual_sentences\\Chap1_chunk_3.mp4\n",
      "60\n",
      "Moviepy - Building video G:\\My Drive\\Data_Science\\Resulam\\Phrasebook_Audio_Video_Processing_production\\Languages\\IgboPhrasebook\\bilingual_sentences\\Chap1_chunk_4.mp4.\n",
      "MoviePy - Writing audio in Chap1_chunk_4TEMP_MPY_wvf_snd.mp3\n"
     ]
    },
    {
     "name": "stderr",
     "output_type": "stream",
     "text": [
      "                                                                                                                       \r"
     ]
    },
    {
     "name": "stdout",
     "output_type": "stream",
     "text": [
      "MoviePy - Done.\n",
      "Moviepy - Writing video G:\\My Drive\\Data_Science\\Resulam\\Phrasebook_Audio_Video_Processing_production\\Languages\\IgboPhrasebook\\bilingual_sentences\\Chap1_chunk_4.mp4\n",
      "\n"
     ]
    },
    {
     "name": "stderr",
     "output_type": "stream",
     "text": [
      "                                                                                                                       \r"
     ]
    },
    {
     "name": "stdout",
     "output_type": "stream",
     "text": [
      "Moviepy - Done !\n",
      "Moviepy - video ready G:\\My Drive\\Data_Science\\Resulam\\Phrasebook_Audio_Video_Processing_production\\Languages\\IgboPhrasebook\\bilingual_sentences\\Chap1_chunk_4.mp4\n",
      "Output saved to G:\\My Drive\\Data_Science\\Resulam\\Phrasebook_Audio_Video_Processing_production\\Languages\\IgboPhrasebook\\bilingual_sentences\\Chap1_chunk_4.mp4\n",
      "80\n",
      "Moviepy - Building video G:\\My Drive\\Data_Science\\Resulam\\Phrasebook_Audio_Video_Processing_production\\Languages\\IgboPhrasebook\\bilingual_sentences\\Chap1_chunk_5.mp4.\n",
      "MoviePy - Writing audio in Chap1_chunk_5TEMP_MPY_wvf_snd.mp3\n"
     ]
    },
    {
     "name": "stderr",
     "output_type": "stream",
     "text": [
      "                                                                                                                       \r"
     ]
    },
    {
     "name": "stdout",
     "output_type": "stream",
     "text": [
      "MoviePy - Done.\n",
      "Moviepy - Writing video G:\\My Drive\\Data_Science\\Resulam\\Phrasebook_Audio_Video_Processing_production\\Languages\\IgboPhrasebook\\bilingual_sentences\\Chap1_chunk_5.mp4\n",
      "\n"
     ]
    },
    {
     "name": "stderr",
     "output_type": "stream",
     "text": [
      "                                                                                                                       \r"
     ]
    },
    {
     "name": "stdout",
     "output_type": "stream",
     "text": [
      "Moviepy - Done !\n",
      "Moviepy - video ready G:\\My Drive\\Data_Science\\Resulam\\Phrasebook_Audio_Video_Processing_production\\Languages\\IgboPhrasebook\\bilingual_sentences\\Chap1_chunk_5.mp4\n",
      "Output saved to G:\\My Drive\\Data_Science\\Resulam\\Phrasebook_Audio_Video_Processing_production\\Languages\\IgboPhrasebook\\bilingual_sentences\\Chap1_chunk_5.mp4\n",
      "100\n",
      "Moviepy - Building video G:\\My Drive\\Data_Science\\Resulam\\Phrasebook_Audio_Video_Processing_production\\Languages\\IgboPhrasebook\\bilingual_sentences\\Chap1_chunk_6.mp4.\n",
      "MoviePy - Writing audio in Chap1_chunk_6TEMP_MPY_wvf_snd.mp3\n"
     ]
    },
    {
     "name": "stderr",
     "output_type": "stream",
     "text": [
      "                                                                                                                       \r"
     ]
    },
    {
     "name": "stdout",
     "output_type": "stream",
     "text": [
      "MoviePy - Done.\n",
      "Moviepy - Writing video G:\\My Drive\\Data_Science\\Resulam\\Phrasebook_Audio_Video_Processing_production\\Languages\\IgboPhrasebook\\bilingual_sentences\\Chap1_chunk_6.mp4\n",
      "\n"
     ]
    },
    {
     "name": "stderr",
     "output_type": "stream",
     "text": [
      "                                                                                                                       \r"
     ]
    },
    {
     "name": "stdout",
     "output_type": "stream",
     "text": [
      "Moviepy - Done !\n",
      "Moviepy - video ready G:\\My Drive\\Data_Science\\Resulam\\Phrasebook_Audio_Video_Processing_production\\Languages\\IgboPhrasebook\\bilingual_sentences\\Chap1_chunk_6.mp4\n",
      "Output saved to G:\\My Drive\\Data_Science\\Resulam\\Phrasebook_Audio_Video_Processing_production\\Languages\\IgboPhrasebook\\bilingual_sentences\\Chap1_chunk_6.mp4\n",
      "120\n",
      "Moviepy - Building video G:\\My Drive\\Data_Science\\Resulam\\Phrasebook_Audio_Video_Processing_production\\Languages\\IgboPhrasebook\\bilingual_sentences\\Chap1_chunk_7.mp4.\n",
      "MoviePy - Writing audio in Chap1_chunk_7TEMP_MPY_wvf_snd.mp3\n"
     ]
    },
    {
     "name": "stderr",
     "output_type": "stream",
     "text": [
      "                                                                                                                       \r"
     ]
    },
    {
     "name": "stdout",
     "output_type": "stream",
     "text": [
      "MoviePy - Done.\n",
      "Moviepy - Writing video G:\\My Drive\\Data_Science\\Resulam\\Phrasebook_Audio_Video_Processing_production\\Languages\\IgboPhrasebook\\bilingual_sentences\\Chap1_chunk_7.mp4\n",
      "\n"
     ]
    },
    {
     "name": "stderr",
     "output_type": "stream",
     "text": [
      "                                                                                                                       \r"
     ]
    },
    {
     "name": "stdout",
     "output_type": "stream",
     "text": [
      "Moviepy - Done !\n",
      "Moviepy - video ready G:\\My Drive\\Data_Science\\Resulam\\Phrasebook_Audio_Video_Processing_production\\Languages\\IgboPhrasebook\\bilingual_sentences\\Chap1_chunk_7.mp4\n",
      "Output saved to G:\\My Drive\\Data_Science\\Resulam\\Phrasebook_Audio_Video_Processing_production\\Languages\\IgboPhrasebook\\bilingual_sentences\\Chap1_chunk_7.mp4\n",
      "140\n",
      "Moviepy - Building video G:\\My Drive\\Data_Science\\Resulam\\Phrasebook_Audio_Video_Processing_production\\Languages\\IgboPhrasebook\\bilingual_sentences\\Chap1_chunk_8.mp4.\n",
      "MoviePy - Writing audio in Chap1_chunk_8TEMP_MPY_wvf_snd.mp3\n"
     ]
    },
    {
     "name": "stderr",
     "output_type": "stream",
     "text": [
      "                                                                                                                       \r"
     ]
    },
    {
     "name": "stdout",
     "output_type": "stream",
     "text": [
      "MoviePy - Done.\n",
      "Moviepy - Writing video G:\\My Drive\\Data_Science\\Resulam\\Phrasebook_Audio_Video_Processing_production\\Languages\\IgboPhrasebook\\bilingual_sentences\\Chap1_chunk_8.mp4\n",
      "\n"
     ]
    },
    {
     "name": "stderr",
     "output_type": "stream",
     "text": [
      "                                                                                                                       \r"
     ]
    },
    {
     "name": "stdout",
     "output_type": "stream",
     "text": [
      "Moviepy - Done !\n",
      "Moviepy - video ready G:\\My Drive\\Data_Science\\Resulam\\Phrasebook_Audio_Video_Processing_production\\Languages\\IgboPhrasebook\\bilingual_sentences\\Chap1_chunk_8.mp4\n",
      "Output saved to G:\\My Drive\\Data_Science\\Resulam\\Phrasebook_Audio_Video_Processing_production\\Languages\\IgboPhrasebook\\bilingual_sentences\\Chap1_chunk_8.mp4\n",
      "160\n",
      "Moviepy - Building video G:\\My Drive\\Data_Science\\Resulam\\Phrasebook_Audio_Video_Processing_production\\Languages\\IgboPhrasebook\\bilingual_sentences\\Chap1_chunk_9.mp4.\n",
      "MoviePy - Writing audio in Chap1_chunk_9TEMP_MPY_wvf_snd.mp3\n"
     ]
    },
    {
     "name": "stderr",
     "output_type": "stream",
     "text": [
      "                                                                                                                       \r"
     ]
    },
    {
     "name": "stdout",
     "output_type": "stream",
     "text": [
      "MoviePy - Done.\n",
      "Moviepy - Writing video G:\\My Drive\\Data_Science\\Resulam\\Phrasebook_Audio_Video_Processing_production\\Languages\\IgboPhrasebook\\bilingual_sentences\\Chap1_chunk_9.mp4\n",
      "\n"
     ]
    },
    {
     "name": "stderr",
     "output_type": "stream",
     "text": [
      "                                                                                                                       \r"
     ]
    },
    {
     "name": "stdout",
     "output_type": "stream",
     "text": [
      "Moviepy - Done !\n",
      "Moviepy - video ready G:\\My Drive\\Data_Science\\Resulam\\Phrasebook_Audio_Video_Processing_production\\Languages\\IgboPhrasebook\\bilingual_sentences\\Chap1_chunk_9.mp4\n",
      "Output saved to G:\\My Drive\\Data_Science\\Resulam\\Phrasebook_Audio_Video_Processing_production\\Languages\\IgboPhrasebook\\bilingual_sentences\\Chap1_chunk_9.mp4\n",
      "Starting from Chapter:  2\n",
      "Processing Chap2...\n",
      "0\n",
      "Moviepy - Building video G:\\My Drive\\Data_Science\\Resulam\\Phrasebook_Audio_Video_Processing_production\\Languages\\IgboPhrasebook\\bilingual_sentences\\Chap2_chunk_1.mp4.\n",
      "MoviePy - Writing audio in Chap2_chunk_1TEMP_MPY_wvf_snd.mp3\n"
     ]
    },
    {
     "name": "stderr",
     "output_type": "stream",
     "text": [
      "                                                                                                                       \r"
     ]
    },
    {
     "name": "stdout",
     "output_type": "stream",
     "text": [
      "MoviePy - Done.\n",
      "Moviepy - Writing video G:\\My Drive\\Data_Science\\Resulam\\Phrasebook_Audio_Video_Processing_production\\Languages\\IgboPhrasebook\\bilingual_sentences\\Chap2_chunk_1.mp4\n",
      "\n"
     ]
    },
    {
     "name": "stderr",
     "output_type": "stream",
     "text": [
      "                                                                                                                       \r"
     ]
    },
    {
     "name": "stdout",
     "output_type": "stream",
     "text": [
      "Moviepy - Done !\n",
      "Moviepy - video ready G:\\My Drive\\Data_Science\\Resulam\\Phrasebook_Audio_Video_Processing_production\\Languages\\IgboPhrasebook\\bilingual_sentences\\Chap2_chunk_1.mp4\n",
      "Output saved to G:\\My Drive\\Data_Science\\Resulam\\Phrasebook_Audio_Video_Processing_production\\Languages\\IgboPhrasebook\\bilingual_sentences\\Chap2_chunk_1.mp4\n",
      "20\n",
      "Moviepy - Building video G:\\My Drive\\Data_Science\\Resulam\\Phrasebook_Audio_Video_Processing_production\\Languages\\IgboPhrasebook\\bilingual_sentences\\Chap2_chunk_2.mp4.\n",
      "MoviePy - Writing audio in Chap2_chunk_2TEMP_MPY_wvf_snd.mp3\n"
     ]
    },
    {
     "name": "stderr",
     "output_type": "stream",
     "text": [
      "                                                                                                                       \r"
     ]
    },
    {
     "name": "stdout",
     "output_type": "stream",
     "text": [
      "MoviePy - Done.\n",
      "Moviepy - Writing video G:\\My Drive\\Data_Science\\Resulam\\Phrasebook_Audio_Video_Processing_production\\Languages\\IgboPhrasebook\\bilingual_sentences\\Chap2_chunk_2.mp4\n",
      "\n"
     ]
    },
    {
     "name": "stderr",
     "output_type": "stream",
     "text": [
      "                                                                                                                       \r"
     ]
    },
    {
     "name": "stdout",
     "output_type": "stream",
     "text": [
      "Moviepy - Done !\n",
      "Moviepy - video ready G:\\My Drive\\Data_Science\\Resulam\\Phrasebook_Audio_Video_Processing_production\\Languages\\IgboPhrasebook\\bilingual_sentences\\Chap2_chunk_2.mp4\n",
      "Output saved to G:\\My Drive\\Data_Science\\Resulam\\Phrasebook_Audio_Video_Processing_production\\Languages\\IgboPhrasebook\\bilingual_sentences\\Chap2_chunk_2.mp4\n",
      "40\n",
      "Moviepy - Building video G:\\My Drive\\Data_Science\\Resulam\\Phrasebook_Audio_Video_Processing_production\\Languages\\IgboPhrasebook\\bilingual_sentences\\Chap2_chunk_3.mp4.\n",
      "MoviePy - Writing audio in Chap2_chunk_3TEMP_MPY_wvf_snd.mp3\n"
     ]
    },
    {
     "name": "stderr",
     "output_type": "stream",
     "text": [
      "                                                                                                                       \r"
     ]
    },
    {
     "name": "stdout",
     "output_type": "stream",
     "text": [
      "MoviePy - Done.\n",
      "Moviepy - Writing video G:\\My Drive\\Data_Science\\Resulam\\Phrasebook_Audio_Video_Processing_production\\Languages\\IgboPhrasebook\\bilingual_sentences\\Chap2_chunk_3.mp4\n",
      "\n"
     ]
    },
    {
     "name": "stderr",
     "output_type": "stream",
     "text": [
      "                                                                                                                       \r"
     ]
    },
    {
     "name": "stdout",
     "output_type": "stream",
     "text": [
      "Moviepy - Done !\n",
      "Moviepy - video ready G:\\My Drive\\Data_Science\\Resulam\\Phrasebook_Audio_Video_Processing_production\\Languages\\IgboPhrasebook\\bilingual_sentences\\Chap2_chunk_3.mp4\n",
      "Output saved to G:\\My Drive\\Data_Science\\Resulam\\Phrasebook_Audio_Video_Processing_production\\Languages\\IgboPhrasebook\\bilingual_sentences\\Chap2_chunk_3.mp4\n",
      "60\n",
      "Moviepy - Building video G:\\My Drive\\Data_Science\\Resulam\\Phrasebook_Audio_Video_Processing_production\\Languages\\IgboPhrasebook\\bilingual_sentences\\Chap2_chunk_4.mp4.\n",
      "MoviePy - Writing audio in Chap2_chunk_4TEMP_MPY_wvf_snd.mp3\n"
     ]
    },
    {
     "name": "stderr",
     "output_type": "stream",
     "text": [
      "                                                                                                                       \r"
     ]
    },
    {
     "name": "stdout",
     "output_type": "stream",
     "text": [
      "MoviePy - Done.\n",
      "Moviepy - Writing video G:\\My Drive\\Data_Science\\Resulam\\Phrasebook_Audio_Video_Processing_production\\Languages\\IgboPhrasebook\\bilingual_sentences\\Chap2_chunk_4.mp4\n",
      "\n"
     ]
    },
    {
     "name": "stderr",
     "output_type": "stream",
     "text": [
      "                                                                                                                       \r"
     ]
    },
    {
     "name": "stdout",
     "output_type": "stream",
     "text": [
      "Moviepy - Done !\n",
      "Moviepy - video ready G:\\My Drive\\Data_Science\\Resulam\\Phrasebook_Audio_Video_Processing_production\\Languages\\IgboPhrasebook\\bilingual_sentences\\Chap2_chunk_4.mp4\n",
      "Output saved to G:\\My Drive\\Data_Science\\Resulam\\Phrasebook_Audio_Video_Processing_production\\Languages\\IgboPhrasebook\\bilingual_sentences\\Chap2_chunk_4.mp4\n",
      "Starting from Chapter:  3\n",
      "Processing Chap3...\n",
      "0\n",
      "Moviepy - Building video G:\\My Drive\\Data_Science\\Resulam\\Phrasebook_Audio_Video_Processing_production\\Languages\\IgboPhrasebook\\bilingual_sentences\\Chap3_chunk_1.mp4.\n",
      "MoviePy - Writing audio in Chap3_chunk_1TEMP_MPY_wvf_snd.mp3\n"
     ]
    },
    {
     "name": "stderr",
     "output_type": "stream",
     "text": [
      "                                                                                                                       \r"
     ]
    },
    {
     "name": "stdout",
     "output_type": "stream",
     "text": [
      "MoviePy - Done.\n",
      "Moviepy - Writing video G:\\My Drive\\Data_Science\\Resulam\\Phrasebook_Audio_Video_Processing_production\\Languages\\IgboPhrasebook\\bilingual_sentences\\Chap3_chunk_1.mp4\n",
      "\n"
     ]
    },
    {
     "name": "stderr",
     "output_type": "stream",
     "text": [
      "                                                                                                                       \r"
     ]
    },
    {
     "name": "stdout",
     "output_type": "stream",
     "text": [
      "Moviepy - Done !\n",
      "Moviepy - video ready G:\\My Drive\\Data_Science\\Resulam\\Phrasebook_Audio_Video_Processing_production\\Languages\\IgboPhrasebook\\bilingual_sentences\\Chap3_chunk_1.mp4\n",
      "Output saved to G:\\My Drive\\Data_Science\\Resulam\\Phrasebook_Audio_Video_Processing_production\\Languages\\IgboPhrasebook\\bilingual_sentences\\Chap3_chunk_1.mp4\n",
      "Starting from Chapter:  4\n",
      "Processing Chap4...\n",
      "0\n",
      "Moviepy - Building video G:\\My Drive\\Data_Science\\Resulam\\Phrasebook_Audio_Video_Processing_production\\Languages\\IgboPhrasebook\\bilingual_sentences\\Chap4_chunk_1.mp4.\n",
      "MoviePy - Writing audio in Chap4_chunk_1TEMP_MPY_wvf_snd.mp3\n"
     ]
    },
    {
     "name": "stderr",
     "output_type": "stream",
     "text": [
      "                                                                                                                       \r"
     ]
    },
    {
     "name": "stdout",
     "output_type": "stream",
     "text": [
      "MoviePy - Done.\n",
      "Moviepy - Writing video G:\\My Drive\\Data_Science\\Resulam\\Phrasebook_Audio_Video_Processing_production\\Languages\\IgboPhrasebook\\bilingual_sentences\\Chap4_chunk_1.mp4\n",
      "\n"
     ]
    },
    {
     "name": "stderr",
     "output_type": "stream",
     "text": [
      "t:  29%|██████████████████▊                                              | 2391/8274 [01:36<04:10, 23.53it/s, now=None]"
     ]
    }
   ],
   "source": [
    "# Function to loop audio to required duration\n",
    "def loop_audio(audio, duration):\n",
    "    repeats = int(duration / audio.duration) + 1\n",
    "    return concatenate_audioclips([audio] * repeats).subclip(0, duration)\n",
    "\n",
    "\n",
    "# Path to the advertisements directory\n",
    "ads_dir = fr'G:\\My Drive\\Data_Science\\Resulam\\Phrasebook_Audio_Video_Processing_production\\Ads_Video\\ResulamVideosAds_Bon\\{lln}VideoAds'\n",
    "ads_dir_global = fr'G:\\My Drive\\Data_Science\\Resulam\\Phrasebook_Audio_Video_Processing_production\\Ads_Video\\ResulamVideosAds_Bon\\GlobalVideoAds'\n",
    "\n",
    "\n",
    "try:\n",
    "\n",
    "    # List the contents of both directories and create full paths\n",
    "    video_ads_list = [os.path.join(ads_dir, f) for f in os.listdir(ads_dir)] + [os.path.join(ads_dir_global, f) for f in os.listdir(ads_dir_global)]\n",
    "    video_ads_list = [i for i in video_ads_list if \".mp4\" in i]\n",
    "except:\n",
    "    video_ads_list = [os.path.join(ads_dir_global, f) for f in os.listdir(ads_dir_global)]\n",
    "    video_ads_list = [i for i in video_ads_list if \".mp4\" in i]\n",
    "    \n",
    "video_ads_list = list(set(video_ads_list))  # Remove duplicates if any\n",
    "\n",
    "\n",
    "\n",
    "# Path to the chapters directories\n",
    "chapters_dir = fr'G:\\My Drive\\Data_Science\\Resulam\\Phrasebook_Audio_Video_Processing_production\\Languages\\{lln}Phrasebook\\bilingual_sentences'\n",
    "\n",
    "instrumental_dir = r'G:\\My Drive\\Data_Science\\Resulam\\Phrasebook_Audio_Video_Processing_production\\Background_music'\n",
    "\n",
    "start_from_chapter = 1\n",
    "# Process each chapter\n",
    "for chapter in natsorted(os.listdir(chapters_dir)):\n",
    "\n",
    "    if \"Chap\" in chapter and \"chunk\" not in chapter:\n",
    "\n",
    "        chap_num = int(chapter.split(\"Chap\")[1])\n",
    "        if chap_num >= start_from_chapter:\n",
    "            print(\"Starting from Chapter: \",chap_num)\n",
    "\n",
    "            chapter_path = os.path.join(chapters_dir, chapter)\n",
    "            if os.path.isdir(chapter_path):\n",
    "                print(f\"Processing {chapter}...\")\n",
    "                # Naturally Sort Videos, and Take care of Special/Odd Videos containing the prefix \"no_\"\n",
    "                all_videos = natsorted([v for v in os.listdir(chapter_path) if v.endswith(('.mp4', '.avi', '.mov'))])  # List all video files\n",
    "\n",
    "                odd_sentences = [s for s in all_videos if \"no_\" in s]\n",
    "                all_videos_to_sort = [s.split(\"no_\",1)[-1] for s in all_videos]\n",
    "                all_odd_sentences_suffix = [s.split(\"no_\",1)[-1] for s in odd_sentences]\n",
    "                all_videos_sorted = natsorted(all_videos_to_sort)\n",
    "                all_videos_sorted = [\"no_\" + s if s in all_odd_sentences_suffix else s for s in all_videos_sorted]\n",
    "            \n",
    "                chunk_size = 20\n",
    "\n",
    "                # Get the total number of videos\n",
    "                len_total_videos = len(all_videos_sorted)\n",
    "\n",
    "                for i in range(0, len_total_videos, chunk_size):\n",
    "                    print(i)\n",
    "                    chunk = all_videos_sorted[i:i+chunk_size] if i + chunk_size < len_total_videos else all_videos_sorted[i:]\n",
    "                    video_clips = [VideoFileClip(os.path.join(chapter_path, video)) for video in chunk]\n",
    "                    \n",
    "                    # Randomly select an ad and an instrumental track\n",
    "#                     ad_video = random.choice(os.listdir(ads_dir))\n",
    "#                     ad_clip_path = os.path.join(ads_dir, ad_video)\n",
    "\n",
    "                    if video_ads_list:\n",
    "                        ad_clip_path = random.choice(video_ads_list)\n",
    "                    else:\n",
    "                        print(\"No video ads available.\")\n",
    "                        ad_clip_path = None\n",
    "#                     ad_clip_path = random.choice(video_ads_list)\n",
    "                    \n",
    "                    instrumental_track = random.choice(os.listdir(instrumental_dir))\n",
    "                    instrumental_path = os.path.join(instrumental_dir, instrumental_track)\n",
    "                    \n",
    "                    # Output filename\n",
    "                    output_filename = os.path.join(chapters_dir, f\"{chapter}_chunk_{(i//chunk_size) + 1}.mp4\")\n",
    "                    \n",
    "                    # Process with settings\n",
    "                    process_chunk(video_clips, ad_clip_path, instrumental_path, output_filename,\n",
    "                                fadein_instr=2, fadeout_instr=2, reduce_volume_by=0.1, \n",
    "                                remove_original_audio=False, \n",
    "                                include_instrumental=True)\n",
    "\n",
    "                    # Close video clips\n",
    "                    for clip in video_clips:\n",
    "                        clip.close()"
   ]
  },
  {
   "cell_type": "code",
   "execution_count": null,
   "id": "689f80f0",
   "metadata": {
    "ExecuteTime": {
     "end_time": "2024-05-20T00:55:20.419747Z",
     "start_time": "2024-05-20T00:55:20.419747Z"
    }
   },
   "outputs": [],
   "source": [
    "ad_clip_path"
   ]
  },
  {
   "cell_type": "code",
   "execution_count": null,
   "id": "55f665bd",
   "metadata": {},
   "outputs": [],
   "source": []
  },
  {
   "cell_type": "code",
   "execution_count": null,
   "id": "fcf5ddd3",
   "metadata": {},
   "outputs": [],
   "source": []
  },
  {
   "cell_type": "markdown",
   "id": "c2322d24",
   "metadata": {},
   "source": [
    "# Version 2"
   ]
  },
  {
   "cell_type": "code",
   "execution_count": null,
   "id": "d1b96dcd",
   "metadata": {},
   "outputs": [],
   "source": []
  },
  {
   "cell_type": "code",
   "execution_count": null,
   "id": "5b1c1c39",
   "metadata": {
    "code_folding": []
   },
   "outputs": [],
   "source": []
  },
  {
   "cell_type": "code",
   "execution_count": null,
   "id": "c78c7ff9",
   "metadata": {
    "ExecuteTime": {
     "end_time": "2024-05-20T00:55:20.421656Z",
     "start_time": "2024-05-20T00:55:20.421656Z"
    }
   },
   "outputs": [],
   "source": [
    "# VERSION 2"
   ]
  },
  {
   "cell_type": "code",
   "execution_count": null,
   "id": "79df7523",
   "metadata": {
    "ExecuteTime": {
     "end_time": "2024-05-20T00:55:20.422664Z",
     "start_time": "2024-05-20T00:55:20.422664Z"
    }
   },
   "outputs": [],
   "source": [
    "# # [if \"Chap\" in i and \"chunk\" not in i ]\n",
    "\n",
    "# for i in natsorted(os.listdir(chapters_dir)):\n",
    "\n",
    "#     if \"Chap\" in i and \"chunk\" not in i:\n",
    "#         chap_num = int(i.split(\"Chap\")[1])\n",
    "#         if chap_num >10:\n",
    "#                     print(chap_num)\n"
   ]
  },
  {
   "cell_type": "code",
   "execution_count": null,
   "id": "84a59bca",
   "metadata": {},
   "outputs": [],
   "source": []
  },
  {
   "cell_type": "code",
   "execution_count": null,
   "id": "835f3cd5",
   "metadata": {},
   "outputs": [],
   "source": []
  },
  {
   "cell_type": "code",
   "execution_count": null,
   "id": "b1d9ebfc",
   "metadata": {},
   "outputs": [],
   "source": []
  },
  {
   "cell_type": "code",
   "execution_count": null,
   "id": "2b71b6e6",
   "metadata": {
    "ExecuteTime": {
     "end_time": "2024-04-14T13:20:10.518804Z",
     "start_time": "2024-04-14T05:14:43.590139Z"
    }
   },
   "outputs": [],
   "source": []
  },
  {
   "cell_type": "code",
   "execution_count": null,
   "id": "69503dc8",
   "metadata": {},
   "outputs": [],
   "source": []
  },
  {
   "cell_type": "code",
   "execution_count": null,
   "id": "d4374513",
   "metadata": {},
   "outputs": [],
   "source": []
  },
  {
   "cell_type": "code",
   "execution_count": null,
   "id": "701061dc",
   "metadata": {},
   "outputs": [],
   "source": []
  },
  {
   "cell_type": "code",
   "execution_count": null,
   "id": "c83c4da5",
   "metadata": {},
   "outputs": [],
   "source": []
  }
 ],
 "metadata": {
  "kernelspec": {
   "display_name": "Python 3 (ipykernel)",
   "language": "python",
   "name": "python3"
  },
  "language_info": {
   "codemirror_mode": {
    "name": "ipython",
    "version": 3
   },
   "file_extension": ".py",
   "mimetype": "text/x-python",
   "name": "python",
   "nbconvert_exporter": "python",
   "pygments_lexer": "ipython3",
   "version": "3.11.5"
  },
  "toc": {
   "base_numbering": 1,
   "nav_menu": {},
   "number_sections": true,
   "sideBar": true,
   "skip_h1_title": false,
   "title_cell": "Table of Contents",
   "title_sidebar": "Contents",
   "toc_cell": false,
   "toc_position": {},
   "toc_section_display": true,
   "toc_window_display": false
  }
 },
 "nbformat": 4,
 "nbformat_minor": 5
}

{
 "cells": [
  {
   "cell_type": "code",
   "execution_count": 17,
   "id": "5ff45480",
   "metadata": {
    "ExecuteTime": {
     "end_time": "2024-01-01T05:02:41.182311Z",
     "start_time": "2024-01-01T04:52:41.335213Z"
    }
   },
   "outputs": [
    {
     "name": "stdout",
     "output_type": "stream",
     "text": [
      "Moviepy - Building video output_video.mp4.\n",
      "MoviePy - Writing audio in output_videoTEMP_MPY_wvf_snd.mp3\n"
     ]
    },
    {
     "name": "stderr",
     "output_type": "stream",
     "text": [
      "                                                                                                                   \r"
     ]
    },
    {
     "name": "stdout",
     "output_type": "stream",
     "text": [
      "MoviePy - Done.\n",
      "Moviepy - Writing video output_video.mp4\n",
      "\n"
     ]
    },
    {
     "name": "stderr",
     "output_type": "stream",
     "text": [
      "                                                                                                                   \r"
     ]
    },
    {
     "name": "stdout",
     "output_type": "stream",
     "text": [
      "Moviepy - Done !\n",
      "Moviepy - video ready output_video.mp4\n"
     ]
    }
   ],
   "source": [
    "from moviepy.editor import VideoFileClip, AudioFileClip, CompositeVideoClip, TextClip, ImageClip\n",
    "import moviepy.video.fx.all as vfx\n",
    "\n",
    "# Replace these paths with the paths to your files\n",
    "audio_path = r'C:\\Users\\tcham\\Downloads\\indila-derniere-danse-clip-officiel-youtube.mp3'\n",
    "background_image_path = r\"G:\\My Drive\\Data_Science\\Resulam\\Phrasebook_Audio_Video_Processing_production\\Backgrounds\\chap2_darkblueBackground.jpg\"\n",
    "lyric_text_path = r\"C:\\Users\\tcham\\OneDrive\\Documents\\Audacity\\test_fracais_audacity_.txt\"\n",
    "output_video_path = r'output_video.mp4'\n",
    "\n",
    "with open(lyric_text_path) as f:\n",
    "    lyrics = f.readlines()\n",
    "\n",
    "# Parse the start times, end times, and text from the lyrics file\n",
    "lyrics_timestamps = []\n",
    "for line in lyrics:\n",
    "    start, end, text = line.split(\"\\t\")\n",
    "    start = float(start)\n",
    "    end = float(end)\n",
    "    lyrics_timestamps.append((start, end, text.strip()))\n",
    "\n",
    "# Load the audio\n",
    "audio_clip = AudioFileClip(audio_path)\n",
    "\n",
    "# Load the background image\n",
    "bg_clip = ImageClip(background_image_path, duration=audio_clip.duration)\n",
    "\n",
    "# Create text clips for each line of lyrics\n",
    "text_clips = []\n",
    "for start, end, text in lyrics_timestamps:\n",
    "    txt_clip = TextClip(text, fontsize=90, color='white', font='Arial', size=bg_clip.size)\n",
    "    txt_clip = txt_clip.set_start(start).set_duration(end - start)\n",
    "    text_clips.append(txt_clip)\n",
    "\n",
    "# Create the final video\n",
    "final_clip = CompositeVideoClip([bg_clip] + text_clips)\n",
    "final_clip = final_clip.set_audio(audio_clip)\n",
    "\n",
    "# Write the video file to disk\n",
    "final_clip.write_videofile(output_video_path, fps=24)\n"
   ]
  },
  {
   "cell_type": "code",
   "execution_count": null,
   "id": "b028a129",
   "metadata": {
    "ExecuteTime": {
     "end_time": "2024-01-01T04:49:34.932532Z",
     "start_time": "2024-01-01T04:49:34.928407Z"
    },
    "scrolled": true
   },
   "outputs": [],
   "source": []
  },
  {
   "cell_type": "code",
   "execution_count": null,
   "id": "23917640",
   "metadata": {},
   "outputs": [],
   "source": []
  },
  {
   "cell_type": "code",
   "execution_count": 16,
   "id": "d3b74d26",
   "metadata": {
    "ExecuteTime": {
     "end_time": "2024-01-01T04:51:25.857395Z",
     "start_time": "2024-01-01T04:51:25.268249Z"
    },
    "scrolled": true
   },
   "outputs": [
    {
     "ename": "TypeError",
     "evalue": "unsupported operand type(s) for -: 'str' and 'str'",
     "output_type": "error",
     "traceback": [
      "\u001b[1;31m---------------------------------------------------------------------------\u001b[0m",
      "\u001b[1;31mTypeError\u001b[0m                                 Traceback (most recent call last)",
      "Cell \u001b[1;32mIn[16], line 11\u001b[0m\n\u001b[0;32m      9\u001b[0m \u001b[38;5;28;01mfor\u001b[39;00m start, end, text \u001b[38;5;129;01min\u001b[39;00m lyrics_timestamps:\n\u001b[0;32m     10\u001b[0m     txt_clip \u001b[38;5;241m=\u001b[39m TextClip(text, fontsize\u001b[38;5;241m=\u001b[39m\u001b[38;5;241m90\u001b[39m, color\u001b[38;5;241m=\u001b[39m\u001b[38;5;124m'\u001b[39m\u001b[38;5;124mwhite\u001b[39m\u001b[38;5;124m'\u001b[39m, font\u001b[38;5;241m=\u001b[39m\u001b[38;5;124m'\u001b[39m\u001b[38;5;124mArial\u001b[39m\u001b[38;5;124m'\u001b[39m, size\u001b[38;5;241m=\u001b[39mbg_clip\u001b[38;5;241m.\u001b[39msize)\n\u001b[1;32m---> 11\u001b[0m     txt_clip \u001b[38;5;241m=\u001b[39m txt_clip\u001b[38;5;241m.\u001b[39mset_start(start)\u001b[38;5;241m.\u001b[39mset_duration(end \u001b[38;5;241m-\u001b[39m start)\n\u001b[0;32m     12\u001b[0m     text_clips\u001b[38;5;241m.\u001b[39mappend(txt_clip)\n\u001b[0;32m     14\u001b[0m \u001b[38;5;66;03m# Create the final video\u001b[39;00m\n",
      "\u001b[1;31mTypeError\u001b[0m: unsupported operand type(s) for -: 'str' and 'str'"
     ]
    }
   ],
   "source": []
  },
  {
   "cell_type": "code",
   "execution_count": null,
   "id": "d2028f4a",
   "metadata": {},
   "outputs": [],
   "source": []
  }
 ],
 "metadata": {
  "kernelspec": {
   "display_name": "Python 3 (ipykernel)",
   "language": "python",
   "name": "python3"
  },
  "language_info": {
   "codemirror_mode": {
    "name": "ipython",
    "version": 3
   },
   "file_extension": ".py",
   "mimetype": "text/x-python",
   "name": "python",
   "nbconvert_exporter": "python",
   "pygments_lexer": "ipython3",
   "version": "3.11.5"
  },
  "toc": {
   "base_numbering": 1,
   "nav_menu": {},
   "number_sections": true,
   "sideBar": true,
   "skip_h1_title": false,
   "title_cell": "Table of Contents",
   "title_sidebar": "Contents",
   "toc_cell": false,
   "toc_position": {},
   "toc_section_display": true,
   "toc_window_display": false
  }
 },
 "nbformat": 4,
 "nbformat_minor": 5
}

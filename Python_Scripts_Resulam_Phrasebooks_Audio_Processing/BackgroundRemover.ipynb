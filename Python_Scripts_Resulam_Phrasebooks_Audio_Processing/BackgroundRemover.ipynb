{
 "cells": [
  {
   "cell_type": "code",
   "execution_count": 1,
   "id": "33fa25f7",
   "metadata": {
    "ExecuteTime": {
     "end_time": "2024-01-01T17:39:30.024585Z",
     "start_time": "2024-01-01T17:39:21.124519Z"
    }
   },
   "outputs": [
    {
     "name": "stdout",
     "output_type": "stream",
     "text": [
      "Defaulting to user installation because normal site-packages is not writeable\n",
      "Collecting rembg\n",
      "  Obtaining dependency information for rembg from https://files.pythonhosted.org/packages/55/6e/5a336d1308105fbe2a9738e7b99e79549628e80595d62142c4334e319b67/rembg-2.0.53-py3-none-any.whl.metadata\n",
      "  Downloading rembg-2.0.53-py3-none-any.whl.metadata (14 kB)\n",
      "Requirement already satisfied: jsonschema in c:\\programdata\\anaconda3\\lib\\site-packages (from rembg) (4.17.3)\n",
      "Requirement already satisfied: numpy in c:\\programdata\\anaconda3\\lib\\site-packages (from rembg) (1.24.3)\n",
      "Collecting onnxruntime (from rembg)\n",
      "  Obtaining dependency information for onnxruntime from https://files.pythonhosted.org/packages/49/bd/a00f271510098ee62c097ecec663484ff12de632bea1bcaa02ea3679cd03/onnxruntime-1.16.3-cp311-cp311-win_amd64.whl.metadata\n",
      "  Downloading onnxruntime-1.16.3-cp311-cp311-win_amd64.whl.metadata (4.5 kB)\n",
      "Collecting opencv-python-headless (from rembg)\n",
      "  Obtaining dependency information for opencv-python-headless from https://files.pythonhosted.org/packages/20/44/458a0a135866f5e08266566b32ad9a182a7a059a894effe6c41a9c841ff1/opencv_python_headless-4.9.0.80-cp37-abi3-win_amd64.whl.metadata\n",
      "  Downloading opencv_python_headless-4.9.0.80-cp37-abi3-win_amd64.whl.metadata (20 kB)\n",
      "Requirement already satisfied: pillow in c:\\programdata\\anaconda3\\lib\\site-packages (from rembg) (9.4.0)\n",
      "Collecting pooch (from rembg)\n",
      "  Obtaining dependency information for pooch from https://files.pythonhosted.org/packages/1a/a5/5174dac3957ac412e80a00f30b6507031fcab7000afc9ea0ac413bddcff2/pooch-1.8.0-py3-none-any.whl.metadata\n",
      "  Downloading pooch-1.8.0-py3-none-any.whl.metadata (9.9 kB)\n",
      "Collecting pymatting (from rembg)\n",
      "  Obtaining dependency information for pymatting from https://files.pythonhosted.org/packages/46/aa/d7ff530c33c654263d8775ceb50a73f636fc65edbdf09e102c47a3be391b/PyMatting-1.1.12-py3-none-any.whl.metadata\n",
      "  Downloading PyMatting-1.1.12-py3-none-any.whl.metadata (7.4 kB)\n",
      "Requirement already satisfied: scikit-image in c:\\programdata\\anaconda3\\lib\\site-packages (from rembg) (0.20.0)\n",
      "Requirement already satisfied: scipy in c:\\programdata\\anaconda3\\lib\\site-packages (from rembg) (1.11.1)\n",
      "Requirement already satisfied: tqdm in c:\\programdata\\anaconda3\\lib\\site-packages (from rembg) (4.65.0)\n",
      "Requirement already satisfied: attrs>=17.4.0 in c:\\programdata\\anaconda3\\lib\\site-packages (from jsonschema->rembg) (22.1.0)\n",
      "Requirement already satisfied: pyrsistent!=0.17.0,!=0.17.1,!=0.17.2,>=0.14.0 in c:\\programdata\\anaconda3\\lib\\site-packages (from jsonschema->rembg) (0.18.0)\n",
      "Collecting coloredlogs (from onnxruntime->rembg)\n",
      "  Downloading coloredlogs-15.0.1-py2.py3-none-any.whl (46 kB)\n",
      "     ---------------------------------------- 0.0/46.0 kB ? eta -:--:--\n",
      "     ---------------------------------------- 46.0/46.0 kB 2.2 MB/s eta 0:00:00\n",
      "Collecting flatbuffers (from onnxruntime->rembg)\n",
      "  Obtaining dependency information for flatbuffers from https://files.pythonhosted.org/packages/6f/12/d5c79ee252793ffe845d58a913197bfa02ae9a0b5c9bc3dc4b58d477b9e7/flatbuffers-23.5.26-py2.py3-none-any.whl.metadata\n",
      "  Downloading flatbuffers-23.5.26-py2.py3-none-any.whl.metadata (850 bytes)\n",
      "Requirement already satisfied: packaging in c:\\programdata\\anaconda3\\lib\\site-packages (from onnxruntime->rembg) (23.1)\n",
      "Collecting protobuf (from onnxruntime->rembg)\n",
      "  Obtaining dependency information for protobuf from https://files.pythonhosted.org/packages/fe/6b/7f177e8d6fe4caa14f4065433af9f879d4fab84f0d17dcba7b407f6bd808/protobuf-4.25.1-cp310-abi3-win_amd64.whl.metadata\n",
      "  Downloading protobuf-4.25.1-cp310-abi3-win_amd64.whl.metadata (541 bytes)\n",
      "Requirement already satisfied: sympy in c:\\programdata\\anaconda3\\lib\\site-packages (from onnxruntime->rembg) (1.11.1)\n",
      "Requirement already satisfied: platformdirs>=2.5.0 in c:\\programdata\\anaconda3\\lib\\site-packages (from pooch->rembg) (3.10.0)\n",
      "Requirement already satisfied: requests>=2.19.0 in c:\\programdata\\anaconda3\\lib\\site-packages (from pooch->rembg) (2.31.0)\n",
      "Requirement already satisfied: numba!=0.49.0 in c:\\programdata\\anaconda3\\lib\\site-packages (from pymatting->rembg) (0.57.1)\n",
      "Requirement already satisfied: networkx>=2.8 in c:\\programdata\\anaconda3\\lib\\site-packages (from scikit-image->rembg) (3.1)\n",
      "Requirement already satisfied: imageio>=2.4.1 in c:\\programdata\\anaconda3\\lib\\site-packages (from scikit-image->rembg) (2.26.0)\n",
      "Requirement already satisfied: tifffile>=2019.7.26 in c:\\programdata\\anaconda3\\lib\\site-packages (from scikit-image->rembg) (2023.4.12)\n",
      "Requirement already satisfied: PyWavelets>=1.1.1 in c:\\programdata\\anaconda3\\lib\\site-packages (from scikit-image->rembg) (1.4.1)\n",
      "Requirement already satisfied: lazy_loader>=0.1 in c:\\programdata\\anaconda3\\lib\\site-packages (from scikit-image->rembg) (0.2)\n",
      "Requirement already satisfied: colorama in c:\\programdata\\anaconda3\\lib\\site-packages (from tqdm->rembg) (0.4.6)\n",
      "Requirement already satisfied: llvmlite<0.41,>=0.40.0dev0 in c:\\programdata\\anaconda3\\lib\\site-packages (from numba!=0.49.0->pymatting->rembg) (0.40.0)\n",
      "Requirement already satisfied: charset-normalizer<4,>=2 in c:\\programdata\\anaconda3\\lib\\site-packages (from requests>=2.19.0->pooch->rembg) (2.0.4)\n",
      "Requirement already satisfied: idna<4,>=2.5 in c:\\programdata\\anaconda3\\lib\\site-packages (from requests>=2.19.0->pooch->rembg) (3.4)\n",
      "Requirement already satisfied: urllib3<3,>=1.21.1 in c:\\programdata\\anaconda3\\lib\\site-packages (from requests>=2.19.0->pooch->rembg) (1.26.16)\n",
      "Requirement already satisfied: certifi>=2017.4.17 in c:\\programdata\\anaconda3\\lib\\site-packages (from requests>=2.19.0->pooch->rembg) (2023.7.22)\n",
      "Collecting humanfriendly>=9.1 (from coloredlogs->onnxruntime->rembg)\n",
      "  Downloading humanfriendly-10.0-py2.py3-none-any.whl (86 kB)\n",
      "     ---------------------------------------- 0.0/86.8 kB ? eta -:--:--\n",
      "     ---------------------------------------- 86.8/86.8 kB 4.8 MB/s eta 0:00:00\n",
      "Requirement already satisfied: mpmath>=0.19 in c:\\programdata\\anaconda3\\lib\\site-packages (from sympy->onnxruntime->rembg) (1.3.0)\n",
      "Collecting pyreadline3 (from humanfriendly>=9.1->coloredlogs->onnxruntime->rembg)\n",
      "  Downloading pyreadline3-3.4.1-py3-none-any.whl (95 kB)\n",
      "     ---------------------------------------- 0.0/95.2 kB ? eta -:--:--\n",
      "     ---------------------------------------- 95.2/95.2 kB ? eta 0:00:00\n",
      "Downloading rembg-2.0.53-py3-none-any.whl (32 kB)\n",
      "Downloading onnxruntime-1.16.3-cp311-cp311-win_amd64.whl (7.4 MB)\n",
      "   ---------------------------------------- 0.0/7.4 MB ? eta -:--:--\n",
      "   ---- ----------------------------------- 0.8/7.4 MB 17.9 MB/s eta 0:00:01\n",
      "   ----------------- ---------------------- 3.3/7.4 MB 34.9 MB/s eta 0:00:01\n",
      "   ----------------------------- ---------- 5.5/7.4 MB 44.1 MB/s eta 0:00:01\n",
      "   ---------------------------------------  7.4/7.4 MB 47.1 MB/s eta 0:00:01\n",
      "   ---------------------------------------- 7.4/7.4 MB 39.3 MB/s eta 0:00:00\n",
      "Downloading opencv_python_headless-4.9.0.80-cp37-abi3-win_amd64.whl (38.5 MB)\n",
      "   ---------------------------------------- 0.0/38.5 MB ? eta -:--:--\n",
      "   --- ------------------------------------ 3.5/38.5 MB 73.2 MB/s eta 0:00:01\n",
      "   ------ --------------------------------- 6.6/38.5 MB 70.0 MB/s eta 0:00:01\n",
      "   -------- ------------------------------- 8.1/38.5 MB 64.4 MB/s eta 0:00:01\n",
      "   ---------- ----------------------------- 10.1/38.5 MB 58.6 MB/s eta 0:00:01\n",
      "   ------------ --------------------------- 12.3/38.5 MB 65.6 MB/s eta 0:00:01\n",
      "   --------------- ------------------------ 15.1/38.5 MB 65.6 MB/s eta 0:00:01\n",
      "   ----------------- ---------------------- 16.6/38.5 MB 59.5 MB/s eta 0:00:01\n",
      "   -------------------- ------------------- 19.7/38.5 MB 65.2 MB/s eta 0:00:01\n",
      "   ------------------------ --------------- 23.2/38.5 MB 73.1 MB/s eta 0:00:01\n",
      "   --------------------------- ------------ 26.7/38.5 MB 73.1 MB/s eta 0:00:01\n",
      "   ---------------------------- ----------- 27.2/38.5 MB 72.6 MB/s eta 0:00:01\n",
      "   ----------------------------- ---------- 28.3/38.5 MB 50.4 MB/s eta 0:00:01\n",
      "   ------------------------------- -------- 30.7/38.5 MB 46.7 MB/s eta 0:00:01\n",
      "   ---------------------------------- ----- 33.3/38.5 MB 43.5 MB/s eta 0:00:01\n",
      "   -------------------------------------- - 36.8/38.5 MB 43.5 MB/s eta 0:00:01\n",
      "   ---------------------------------------  38.5/38.5 MB 59.5 MB/s eta 0:00:01\n",
      "   ---------------------------------------  38.5/38.5 MB 59.5 MB/s eta 0:00:01\n",
      "   ---------------------------------------- 38.5/38.5 MB 40.9 MB/s eta 0:00:00\n",
      "Downloading pooch-1.8.0-py3-none-any.whl (62 kB)\n",
      "   ---------------------------------------- 0.0/62.7 kB ? eta -:--:--\n",
      "   ---------------------------------------- 62.7/62.7 kB 3.5 MB/s eta 0:00:00\n",
      "Downloading PyMatting-1.1.12-py3-none-any.whl (52 kB)\n",
      "   ---------------------------------------- 0.0/53.0 kB ? eta -:--:--\n",
      "   ---------------------------------------- 53.0/53.0 kB 2.7 MB/s eta 0:00:00\n",
      "Downloading flatbuffers-23.5.26-py2.py3-none-any.whl (26 kB)\n",
      "Downloading protobuf-4.25.1-cp310-abi3-win_amd64.whl (413 kB)\n",
      "   ---------------------------------------- 0.0/413.4 kB ? eta -:--:--\n",
      "   --------------------------------------- 413.4/413.4 kB 26.9 MB/s eta 0:00:00\n",
      "Installing collected packages: pyreadline3, flatbuffers, protobuf, opencv-python-headless, humanfriendly, pymatting, pooch, coloredlogs, onnxruntime, rembg\n",
      "Successfully installed coloredlogs-15.0.1 flatbuffers-23.5.26 humanfriendly-10.0 onnxruntime-1.16.3 opencv-python-headless-4.9.0.80 pooch-1.8.0 protobuf-4.25.1 pymatting-1.1.12 pyreadline3-3.4.1 rembg-2.0.53\n",
      "Note: you may need to restart the kernel to use updated packages.\n"
     ]
    }
   ],
   "source": [
    "pip install rembg\n"
   ]
  },
  {
   "cell_type": "code",
   "execution_count": 2,
   "id": "e8fa1dcb",
   "metadata": {
    "ExecuteTime": {
     "end_time": "2024-01-01T18:13:00.165232Z",
     "start_time": "2024-01-01T18:13:00.158257Z"
    }
   },
   "outputs": [],
   "source": [
    "import os, shutil, time, re, random, glob\n",
    "\n",
    "local_language_name='nufi'\n",
    "local_language_name='yoruba'\n",
    "\n",
    "\n",
    "script_dir = os.getcwd()\n",
    "\n",
    "lln = local_language_name.title()\n",
    "\n",
    "# audio_path = fr\"C:\\Users\\tcham\\Downloads\\Phrasebook{lln}\\{lln}Only - Copy\"\n",
    "# audio_path_eng = fr\"C:\\Users\\tcham\\Downloads\\Phrasebook{lln}\\EnglishOnly\"\n",
    "\n",
    "# audio_path = fr\"C:\\Users\\tcham\\Downloads\\Phrasebook{lln}\\{lln}Only_test\"\n",
    "# audio_path_eng = fr\"C:\\Users\\tcham\\Downloads\\Phrasebook{lln}\\EnglishOnly_test\"\n",
    "\n",
    "# current_dir = audio_path\n",
    "# current_dir = os.path.join(audio_path,\"\")\n",
    "\n",
    "font_name_short = \"CharisSIL-B.ttf\"\n",
    "logo_name = \"resulam_logo_resurrectionLangue.png\"\n",
    "# List containing the sentences\n",
    "phrases_filename = f\"{lln}_english_french_phrasebook_sentences_list.txt\"\n",
    "# Folder that will hold the mixed bilingual sentences\n",
    "bilingual_audios_folder = os.path.join(os.path.dirname(script_dir),\"Languages\",f\"{lln}Phrasebook\",f\"bilingual_sentences\",\"\")\n",
    "\n",
    "# Ads Folder\n",
    "ads_images_folder = os.path.join(os.path.dirname(script_dir),\"Languages\",f\"{lln}Phrasebook\",f\"Ads_Images\",\"\")\n",
    "ads_audios_folder = os.path.join(os.path.dirname(script_dir),\"Languages\",f\"{lln}Phrasebook\",f\"Ads_Audios\",\"\")\n"
   ]
  },
  {
   "cell_type": "code",
   "execution_count": 6,
   "id": "d902d387",
   "metadata": {
    "ExecuteTime": {
     "end_time": "2024-01-01T17:43:37.306817Z",
     "start_time": "2024-01-01T17:43:30.724236Z"
    }
   },
   "outputs": [
    {
     "data": {
      "text/plain": [
       "<moviepy.video.VideoClip.ImageClip at 0x25efe658510>"
      ]
     },
     "execution_count": 6,
     "metadata": {},
     "output_type": "execute_result"
    }
   ],
   "source": [
    "# from rembg import remove\n",
    "import rembg\n",
    "from PIL import Image\n",
    "\n",
    "\n",
    "# List of image and audio files\n",
    "image_files = [f for f in os.listdir(ads_images_folder) if f.endswith(('.jpg', '.png'))]\n",
    "\n",
    "# Sort files to ensure they are aligned\n",
    "image_files.sort()\n",
    "\n",
    "for audio in image_files:\n",
    "    image_path = os.path.join(ads_images_folder, image)\n",
    "\n",
    "    # Remove background from image\n",
    "    with open(image_path, 'rb') as img_file:\n",
    "        input_image = img_file.read()\n",
    "    output_image = rembg.remove(input_image)\n",
    "    \n",
    "    # Save the image with removed background\n",
    "    image_no_bg_path = os.path.splitext(image_path)[0] + '_nobg.png'\n",
    "    with open(image_no_bg_path, 'wb') as img_file_no_bg:\n",
    "        img_file_no_bg.write(output_image)\n"
   ]
  },
  {
   "cell_type": "code",
   "execution_count": 7,
   "id": "b5ab606d",
   "metadata": {
    "ExecuteTime": {
     "end_time": "2024-01-01T17:45:06.312823Z",
     "start_time": "2024-01-01T17:45:06.309331Z"
    }
   },
   "outputs": [],
   "source": [
    "import rembg\n",
    "from PIL import Image\n",
    "from io import BytesIO\n",
    "from moviepy.editor import ImageClip, AudioFileClip, concatenate_videoclips, TextClip\n",
    "import os"
   ]
  },
  {
   "cell_type": "code",
   "execution_count": null,
   "id": "0c799046",
   "metadata": {},
   "outputs": [],
   "source": [
    "for audio, image in zip(audio_files, image_files):\n",
    "    audio_path = os.path.join(ads_audios_folder, audio)\n",
    "    image_path = os.path.join(ads_images_folder, image)\n",
    "\n",
    "    # Remove background from image\n",
    "    with open(image_path, 'rb') as img_file:\n",
    "        input_image = img_file.read()\n",
    "    output_image = rembg.remove(input_image)\n",
    "    \n",
    "    # Save the image with removed background\n",
    "    image_no_bg_path = os.path.splitext(image_path)[0] + '_nobg.png'\n",
    "    with open(image_no_bg_path, 'wb') as img_file_no_bg:\n",
    "        img_file_no_bg.write(output_image)\n",
    "\n",
    "    # Display the resulting image\n",
    "    result_image = Image.open(image_clip)\n",
    "    result_image.show()\n",
    "\n",
    "    # ... [rest of your video creation code] ..."
   ]
  },
  {
   "cell_type": "code",
   "execution_count": 6,
   "id": "18ec7b48",
   "metadata": {
    "ExecuteTime": {
     "end_time": "2024-01-10T13:48:10.945237Z",
     "start_time": "2024-01-10T13:47:21.521056Z"
    },
    "code_folding": []
   },
   "outputs": [
    {
     "name": "stdout",
     "output_type": "stream",
     "text": [
      "Processed slide100.png\n",
      "Processed slide101.png\n",
      "Processed slide102.png\n",
      "Processed slide103.png\n",
      "Processed slide104.png\n",
      "Processed slide105.png\n",
      "Processed slide106.png\n",
      "Processed slide107.png\n",
      "Processed slide108.png\n",
      "Processed slide109.png\n",
      "Processed slide10_english_french.png\n",
      "Processed slide110.png\n",
      "Processed slide111.png\n",
      "Processed slide11_medumba.png\n",
      "Processed slide12_ewondo.png\n",
      "Processed slide13_nufi.png\n",
      "Processed slide14_nufi_medumba_ghomala.png\n",
      "Processed slide15_duala.png\n",
      "Processed slide16_medumba.png\n",
      "Processed slide17_yemba.png\n",
      "Processed slide18.png\n",
      "Processed slide18_paypal.png\n",
      "Processed slide19_nufi.png\n",
      "Image slide1_amazon_logo_resulam_.png is already transparent. Skipping.\n",
      "Processed slide20_english_french.png\n",
      "Processed slide21_fongbe.png\n",
      "Processed slide22_advertise_with_us.png\n",
      "Processed slide22_wolof.png\n",
      "Processed slide23_medumba.png\n",
      "Processed slide24_kikongo.png\n",
      "Processed slide25_yemba.png\n",
      "Processed slide26_duala.png\n",
      "Processed slide27_ewondo.png\n",
      "Processed slide28.png\n",
      "Processed slide29_nufi.png\n",
      "Processed slide2_resulam_contact.png\n",
      "Processed slide3.png\n",
      "Processed slide30_nufi.png\n",
      "Processed slide31_ewondo.png\n",
      "Processed slide32_nufi.png\n"
     ]
    },
    {
     "ename": "KeyboardInterrupt",
     "evalue": "",
     "output_type": "error",
     "traceback": [
      "\u001b[1;31m---------------------------------------------------------------------------\u001b[0m",
      "\u001b[1;31mKeyboardInterrupt\u001b[0m                         Traceback (most recent call last)",
      "Cell \u001b[1;32mIn[6], line 44\u001b[0m\n\u001b[0;32m     41\u001b[0m image_folder \u001b[38;5;241m=\u001b[39m \u001b[38;5;124mr\u001b[39m\u001b[38;5;124m\"\u001b[39m\u001b[38;5;124mG:\u001b[39m\u001b[38;5;124m\\\u001b[39m\u001b[38;5;124mMy Drive\u001b[39m\u001b[38;5;124m\\\u001b[39m\u001b[38;5;124mData_Science\u001b[39m\u001b[38;5;124m\\\u001b[39m\u001b[38;5;124mResulam\u001b[39m\u001b[38;5;124m\\\u001b[39m\u001b[38;5;124mPhrasebook_Audio_Video_Processing_production\u001b[39m\u001b[38;5;124m\\\u001b[39m\u001b[38;5;124mAds_Images - Copy (2)\u001b[39m\u001b[38;5;124m\"\u001b[39m\n\u001b[0;32m     43\u001b[0m os\u001b[38;5;241m.\u001b[39mchdir(image_folder)\n\u001b[1;32m---> 44\u001b[0m remove_background(image_folder)\n",
      "Cell \u001b[1;32mIn[6], line 39\u001b[0m, in \u001b[0;36mremove_background\u001b[1;34m(ads_images_folder, output_folder)\u001b[0m\n\u001b[0;32m     37\u001b[0m \u001b[38;5;28;01mfor\u001b[39;00m image \u001b[38;5;129;01min\u001b[39;00m image_files:\n\u001b[0;32m     38\u001b[0m     image_path \u001b[38;5;241m=\u001b[39m os\u001b[38;5;241m.\u001b[39mpath\u001b[38;5;241m.\u001b[39mjoin(ads_images_folder, image)\n\u001b[1;32m---> 39\u001b[0m     __remove_background(image_path, output_folder)\n",
      "Cell \u001b[1;32mIn[6], line 20\u001b[0m, in \u001b[0;36mremove_background.<locals>.__remove_background\u001b[1;34m(image_path, output_folder)\u001b[0m\n\u001b[0;32m     18\u001b[0m \u001b[38;5;28;01mwith\u001b[39;00m \u001b[38;5;28mopen\u001b[39m(image_path, \u001b[38;5;124m'\u001b[39m\u001b[38;5;124mrb\u001b[39m\u001b[38;5;124m'\u001b[39m) \u001b[38;5;28;01mas\u001b[39;00m img_file:\n\u001b[0;32m     19\u001b[0m     input_image \u001b[38;5;241m=\u001b[39m img_file\u001b[38;5;241m.\u001b[39mread()\n\u001b[1;32m---> 20\u001b[0m output_image \u001b[38;5;241m=\u001b[39m rembg\u001b[38;5;241m.\u001b[39mremove(input_image)\n\u001b[0;32m     22\u001b[0m \u001b[38;5;66;03m# Save the image with removed background\u001b[39;00m\n\u001b[0;32m     23\u001b[0m image_no_bg_path \u001b[38;5;241m=\u001b[39m os\u001b[38;5;241m.\u001b[39mpath\u001b[38;5;241m.\u001b[39mjoin(output_folder, os\u001b[38;5;241m.\u001b[39mpath\u001b[38;5;241m.\u001b[39mbasename(os\u001b[38;5;241m.\u001b[39mpath\u001b[38;5;241m.\u001b[39msplitext(image_path)[\u001b[38;5;241m0\u001b[39m] \u001b[38;5;241m+\u001b[39m \u001b[38;5;124m'\u001b[39m\u001b[38;5;124m_nobg.png\u001b[39m\u001b[38;5;124m'\u001b[39m))\n",
      "File \u001b[1;32m~\\AppData\\Roaming\\Python\\Python311\\site-packages\\rembg\\bg.py:255\u001b[0m, in \u001b[0;36mremove\u001b[1;34m(data, alpha_matting, alpha_matting_foreground_threshold, alpha_matting_background_threshold, alpha_matting_erode_size, session, only_mask, post_process_mask, bgcolor, *args, **kwargs)\u001b[0m\n\u001b[0;32m    252\u001b[0m img \u001b[38;5;241m=\u001b[39m fix_image_orientation(img)\n\u001b[0;32m    254\u001b[0m \u001b[38;5;28;01mif\u001b[39;00m session \u001b[38;5;129;01mis\u001b[39;00m \u001b[38;5;28;01mNone\u001b[39;00m:\n\u001b[1;32m--> 255\u001b[0m     session \u001b[38;5;241m=\u001b[39m new_session(\u001b[38;5;124m\"\u001b[39m\u001b[38;5;124mu2net\u001b[39m\u001b[38;5;124m\"\u001b[39m, \u001b[38;5;241m*\u001b[39margs, \u001b[38;5;241m*\u001b[39m\u001b[38;5;241m*\u001b[39mkwargs)\n\u001b[0;32m    257\u001b[0m masks \u001b[38;5;241m=\u001b[39m session\u001b[38;5;241m.\u001b[39mpredict(img, \u001b[38;5;241m*\u001b[39margs, \u001b[38;5;241m*\u001b[39m\u001b[38;5;241m*\u001b[39mkwargs)\n\u001b[0;32m    258\u001b[0m cutouts \u001b[38;5;241m=\u001b[39m []\n",
      "File \u001b[1;32m~\\AppData\\Roaming\\Python\\Python311\\site-packages\\rembg\\session_factory.py:44\u001b[0m, in \u001b[0;36mnew_session\u001b[1;34m(model_name, providers, *args, **kwargs)\u001b[0m\n\u001b[0;32m     41\u001b[0m     sess_opts\u001b[38;5;241m.\u001b[39minter_op_num_threads \u001b[38;5;241m=\u001b[39m \u001b[38;5;28mint\u001b[39m(os\u001b[38;5;241m.\u001b[39menviron[\u001b[38;5;124m\"\u001b[39m\u001b[38;5;124mOMP_NUM_THREADS\u001b[39m\u001b[38;5;124m\"\u001b[39m])\n\u001b[0;32m     42\u001b[0m     sess_opts\u001b[38;5;241m.\u001b[39mintra_op_num_threads \u001b[38;5;241m=\u001b[39m \u001b[38;5;28mint\u001b[39m(os\u001b[38;5;241m.\u001b[39menviron[\u001b[38;5;124m\"\u001b[39m\u001b[38;5;124mOMP_NUM_THREADS\u001b[39m\u001b[38;5;124m\"\u001b[39m])\n\u001b[1;32m---> 44\u001b[0m \u001b[38;5;28;01mreturn\u001b[39;00m session_class(model_name, sess_opts, providers, \u001b[38;5;241m*\u001b[39margs, \u001b[38;5;241m*\u001b[39m\u001b[38;5;241m*\u001b[39mkwargs)\n",
      "File \u001b[1;32m~\\AppData\\Roaming\\Python\\Python311\\site-packages\\rembg\\sessions\\base.py:34\u001b[0m, in \u001b[0;36mBaseSession.__init__\u001b[1;34m(self, model_name, sess_opts, providers, *args, **kwargs)\u001b[0m\n\u001b[0;32m     31\u001b[0m \u001b[38;5;28;01melse\u001b[39;00m:\n\u001b[0;32m     32\u001b[0m     \u001b[38;5;28mself\u001b[39m\u001b[38;5;241m.\u001b[39mproviders\u001b[38;5;241m.\u001b[39mextend(_providers)\n\u001b[1;32m---> 34\u001b[0m \u001b[38;5;28mself\u001b[39m\u001b[38;5;241m.\u001b[39minner_session \u001b[38;5;241m=\u001b[39m ort\u001b[38;5;241m.\u001b[39mInferenceSession(\n\u001b[0;32m     35\u001b[0m     \u001b[38;5;28mstr\u001b[39m(\u001b[38;5;28mself\u001b[39m\u001b[38;5;241m.\u001b[39m\u001b[38;5;18m__class__\u001b[39m\u001b[38;5;241m.\u001b[39mdownload_models(\u001b[38;5;241m*\u001b[39margs, \u001b[38;5;241m*\u001b[39m\u001b[38;5;241m*\u001b[39mkwargs)),\n\u001b[0;32m     36\u001b[0m     providers\u001b[38;5;241m=\u001b[39m\u001b[38;5;28mself\u001b[39m\u001b[38;5;241m.\u001b[39mproviders,\n\u001b[0;32m     37\u001b[0m     sess_options\u001b[38;5;241m=\u001b[39msess_opts,\n\u001b[0;32m     38\u001b[0m )\n",
      "File \u001b[1;32m~\\AppData\\Roaming\\Python\\Python311\\site-packages\\onnxruntime\\capi\\onnxruntime_inference_collection.py:419\u001b[0m, in \u001b[0;36mInferenceSession.__init__\u001b[1;34m(self, path_or_bytes, sess_options, providers, provider_options, **kwargs)\u001b[0m\n\u001b[0;32m    416\u001b[0m disabled_optimizers \u001b[38;5;241m=\u001b[39m kwargs[\u001b[38;5;124m\"\u001b[39m\u001b[38;5;124mdisabled_optimizers\u001b[39m\u001b[38;5;124m\"\u001b[39m] \u001b[38;5;28;01mif\u001b[39;00m \u001b[38;5;124m\"\u001b[39m\u001b[38;5;124mdisabled_optimizers\u001b[39m\u001b[38;5;124m\"\u001b[39m \u001b[38;5;129;01min\u001b[39;00m kwargs \u001b[38;5;28;01melse\u001b[39;00m \u001b[38;5;28;01mNone\u001b[39;00m\n\u001b[0;32m    418\u001b[0m \u001b[38;5;28;01mtry\u001b[39;00m:\n\u001b[1;32m--> 419\u001b[0m     \u001b[38;5;28mself\u001b[39m\u001b[38;5;241m.\u001b[39m_create_inference_session(providers, provider_options, disabled_optimizers)\n\u001b[0;32m    420\u001b[0m \u001b[38;5;28;01mexcept\u001b[39;00m (\u001b[38;5;167;01mValueError\u001b[39;00m, \u001b[38;5;167;01mRuntimeError\u001b[39;00m) \u001b[38;5;28;01mas\u001b[39;00m e:\n\u001b[0;32m    421\u001b[0m     \u001b[38;5;28;01mif\u001b[39;00m \u001b[38;5;28mself\u001b[39m\u001b[38;5;241m.\u001b[39m_enable_fallback:\n",
      "File \u001b[1;32m~\\AppData\\Roaming\\Python\\Python311\\site-packages\\onnxruntime\\capi\\onnxruntime_inference_collection.py:471\u001b[0m, in \u001b[0;36mInferenceSession._create_inference_session\u001b[1;34m(self, providers, provider_options, disabled_optimizers)\u001b[0m\n\u001b[0;32m    469\u001b[0m \u001b[38;5;28mself\u001b[39m\u001b[38;5;241m.\u001b[39m_overridable_initializers \u001b[38;5;241m=\u001b[39m \u001b[38;5;28mself\u001b[39m\u001b[38;5;241m.\u001b[39m_sess\u001b[38;5;241m.\u001b[39moverridable_initializers\n\u001b[0;32m    470\u001b[0m \u001b[38;5;28mself\u001b[39m\u001b[38;5;241m.\u001b[39m_model_meta \u001b[38;5;241m=\u001b[39m \u001b[38;5;28mself\u001b[39m\u001b[38;5;241m.\u001b[39m_sess\u001b[38;5;241m.\u001b[39mmodel_meta\n\u001b[1;32m--> 471\u001b[0m \u001b[38;5;28mself\u001b[39m\u001b[38;5;241m.\u001b[39m_providers \u001b[38;5;241m=\u001b[39m \u001b[38;5;28mself\u001b[39m\u001b[38;5;241m.\u001b[39m_sess\u001b[38;5;241m.\u001b[39mget_providers()\n\u001b[0;32m    472\u001b[0m \u001b[38;5;28mself\u001b[39m\u001b[38;5;241m.\u001b[39m_provider_options \u001b[38;5;241m=\u001b[39m \u001b[38;5;28mself\u001b[39m\u001b[38;5;241m.\u001b[39m_sess\u001b[38;5;241m.\u001b[39mget_provider_options()\n\u001b[0;32m    473\u001b[0m \u001b[38;5;28mself\u001b[39m\u001b[38;5;241m.\u001b[39m_profiling_start_time_ns \u001b[38;5;241m=\u001b[39m \u001b[38;5;28mself\u001b[39m\u001b[38;5;241m.\u001b[39m_sess\u001b[38;5;241m.\u001b[39mget_profiling_start_time_ns\n",
      "\u001b[1;31mKeyboardInterrupt\u001b[0m: "
     ]
    }
   ],
   "source": [
    "import os\n",
    "from PIL import Image\n",
    "import rembg\n",
    "def remove_background(ads_images_folder, output_folder = 'Processed_Images'):\n",
    "\n",
    "    def __remove_background(image_path, output_folder):\n",
    "        \"\"\"\n",
    "        Removes the background from an image if it's not already transparent\n",
    "        and saves the result in the specified output folder.\n",
    "        \"\"\"\n",
    "        # Check if the image is already transparent\n",
    "        with Image.open(image_path) as img:\n",
    "            if img.mode in ('RGBA', 'LA'):\n",
    "                print(f\"Image {os.path.basename(image_path)} is already transparent. Skipping.\")\n",
    "                return\n",
    "\n",
    "        # Remove background from image\n",
    "        with open(image_path, 'rb') as img_file:\n",
    "            input_image = img_file.read()\n",
    "        output_image = rembg.remove(input_image)\n",
    "\n",
    "        # Save the image with removed background\n",
    "        image_no_bg_path = os.path.join(output_folder, os.path.basename(os.path.splitext(image_path)[0] + '_nobg.png'))\n",
    "        with open(image_no_bg_path, 'wb') as img_file_no_bg:\n",
    "            img_file_no_bg.write(output_image)\n",
    "        print(f\"Processed {os.path.basename(image_path)}\")\n",
    "\n",
    "    # List of image files\n",
    "    image_files = [os.path.join(ads_images_folder, f) for f in os.listdir(ads_images_folder) if f.endswith(('.jpg', '.png'))]\n",
    "\n",
    "    image_files.sort()\n",
    "\n",
    "    # Output folder for processed images\n",
    "#     output_folder = 'Processed_Images'\n",
    "    os.makedirs(output_folder, exist_ok=True)\n",
    "\n",
    "    for image in image_files:\n",
    "        image_path = os.path.join(ads_images_folder, image)\n",
    "        __remove_background(image_path, output_folder)\n",
    "  \n",
    "image_folder = r\"G:\\My Drive\\Data_Science\\Resulam\\Phrasebook_Audio_Video_Processing_production\\Ads_Images - Copy (2)\"\n",
    "\n",
    "os.chdir(image_folder)\n",
    "remove_background(image_folder)"
   ]
  },
  {
   "cell_type": "code",
   "execution_count": null,
   "id": "27f2594b",
   "metadata": {},
   "outputs": [],
   "source": []
  },
  {
   "cell_type": "code",
   "execution_count": 8,
   "id": "0caa4e87",
   "metadata": {
    "ExecuteTime": {
     "end_time": "2024-01-10T13:53:12.117794Z",
     "start_time": "2024-01-10T13:53:12.051044Z"
    },
    "code_folding": [],
    "scrolled": true
   },
   "outputs": [
    {
     "ename": "error",
     "evalue": "OpenCV(4.9.0) D:\\a\\opencv-python\\opencv-python\\opencv\\modules\\imgproc\\src\\color.cpp:196: error: (-215:Assertion failed) !_src.empty() in function 'cv::cvtColor'\n",
     "output_type": "error",
     "traceback": [
      "\u001b[1;31m---------------------------------------------------------------------------\u001b[0m",
      "\u001b[1;31merror\u001b[0m                                     Traceback (most recent call last)",
      "Cell \u001b[1;32mIn[8], line 39\u001b[0m\n\u001b[0;32m     37\u001b[0m image_path \u001b[38;5;241m=\u001b[39m \u001b[38;5;124m'\u001b[39m\u001b[38;5;124mpath_to_your_image.jpg\u001b[39m\u001b[38;5;124m'\u001b[39m\n\u001b[0;32m     38\u001b[0m output_path \u001b[38;5;241m=\u001b[39m \u001b[38;5;124m'\u001b[39m\u001b[38;5;124mpath_to_output_image.png\u001b[39m\u001b[38;5;124m'\u001b[39m\n\u001b[1;32m---> 39\u001b[0m remove_background_advanced(image_path, output_path)\n",
      "Cell \u001b[1;32mIn[8], line 9\u001b[0m, in \u001b[0;36mremove_background_advanced\u001b[1;34m(image_path, output_path)\u001b[0m\n\u001b[0;32m      6\u001b[0m \u001b[38;5;28;01mdef\u001b[39;00m \u001b[38;5;21mremove_background_advanced\u001b[39m(image_path, output_path):\n\u001b[0;32m      7\u001b[0m     \u001b[38;5;66;03m# Read the image\u001b[39;00m\n\u001b[0;32m      8\u001b[0m     img \u001b[38;5;241m=\u001b[39m cv2\u001b[38;5;241m.\u001b[39mimread(image_path)\n\u001b[1;32m----> 9\u001b[0m     gray \u001b[38;5;241m=\u001b[39m cv2\u001b[38;5;241m.\u001b[39mcvtColor(img, cv2\u001b[38;5;241m.\u001b[39mCOLOR_BGR2GRAY)\n\u001b[0;32m     11\u001b[0m     \u001b[38;5;66;03m# Edge detection\u001b[39;00m\n\u001b[0;32m     12\u001b[0m     edges \u001b[38;5;241m=\u001b[39m cv2\u001b[38;5;241m.\u001b[39mCanny(gray, \u001b[38;5;241m50\u001b[39m, \u001b[38;5;241m150\u001b[39m)\n",
      "\u001b[1;31merror\u001b[0m: OpenCV(4.9.0) D:\\a\\opencv-python\\opencv-python\\opencv\\modules\\imgproc\\src\\color.cpp:196: error: (-215:Assertion failed) !_src.empty() in function 'cv::cvtColor'\n"
     ]
    }
   ],
   "source": [
    "import cv2\n",
    "import numpy as np\n",
    "from PIL import Image\n",
    "import rembg\n",
    "\n",
    "def remove_background_advanced(image_path, output_path):\n",
    "    # Read the image\n",
    "    img = cv2.imread(image_path)\n",
    "    gray = cv2.cvtColor(img, cv2.COLOR_BGR2GRAY)\n",
    "\n",
    "    # Edge detection\n",
    "    edges = cv2.Canny(gray, 50, 150)\n",
    "\n",
    "    # Dilate edges to make the outline thicker\n",
    "    kernel = np.ones((5,5), np.uint8)\n",
    "    edges_dilated = cv2.dilate(edges, kernel, iterations=1)\n",
    "\n",
    "    # Create mask with edges\n",
    "    mask = np.zeros_like(edges_dilated)\n",
    "    contours, _ = cv2.findContours(edges_dilated, cv2.RETR_EXTERNAL, cv2.CHAIN_APPROX_SIMPLE)\n",
    "    cv2.drawContours(mask, contours, -1, (255), thickness=cv2.FILLED)\n",
    "\n",
    "    # Invert mask\n",
    "    mask_inv = cv2.bitwise_not(mask)\n",
    "\n",
    "    # Extract the region of interest from the original image\n",
    "    foreground = cv2.bitwise_and(img, img, mask=mask)\n",
    "\n",
    "    # Background removal with rembg\n",
    "    bg_removed = rembg.remove(cv2.imencode('.png', foreground)[1].tobytes())\n",
    "\n",
    "    # Convert back to PIL Image and save\n",
    "    result_img = Image.open(io.BytesIO(bg_removed))\n",
    "    result_img.save(output_path)\n",
    "\n",
    "# Example usage\n",
    "image_path = 'path_to_your_image.jpg'\n",
    "output_path = 'path_to_output_image.png'\n",
    "remove_background_advanced(image_path, output_path)\n"
   ]
  },
  {
   "cell_type": "code",
   "execution_count": null,
   "id": "45f87006",
   "metadata": {
    "ExecuteTime": {
     "end_time": "2024-01-01T18:36:34.283858Z",
     "start_time": "2024-01-01T18:34:51.246759Z"
    }
   },
   "outputs": [],
   "source": []
  },
  {
   "cell_type": "code",
   "execution_count": null,
   "id": "9434f779",
   "metadata": {
    "ExecuteTime": {
     "end_time": "2024-01-01T19:01:53.130042Z",
     "start_time": "2024-01-01T19:01:53.072457Z"
    }
   },
   "outputs": [],
   "source": []
  },
  {
   "cell_type": "code",
   "execution_count": null,
   "id": "a6a73774",
   "metadata": {
    "ExecuteTime": {
     "end_time": "2024-01-01T19:01:36.082322Z",
     "start_time": "2024-01-01T19:01:36.051680Z"
    }
   },
   "outputs": [],
   "source": []
  },
  {
   "cell_type": "code",
   "execution_count": null,
   "id": "39c5edf2",
   "metadata": {
    "ExecuteTime": {
     "end_time": "2024-01-01T18:45:18.886481Z",
     "start_time": "2024-01-01T18:45:18.843750Z"
    }
   },
   "outputs": [],
   "source": []
  },
  {
   "cell_type": "code",
   "execution_count": null,
   "id": "224b6b55",
   "metadata": {},
   "outputs": [],
   "source": []
  }
 ],
 "metadata": {
  "kernelspec": {
   "display_name": "Python 3 (ipykernel)",
   "language": "python",
   "name": "python3"
  },
  "language_info": {
   "codemirror_mode": {
    "name": "ipython",
    "version": 3
   },
   "file_extension": ".py",
   "mimetype": "text/x-python",
   "name": "python",
   "nbconvert_exporter": "python",
   "pygments_lexer": "ipython3",
   "version": "3.11.5"
  },
  "toc": {
   "base_numbering": 1,
   "nav_menu": {},
   "number_sections": true,
   "sideBar": true,
   "skip_h1_title": false,
   "title_cell": "Table of Contents",
   "title_sidebar": "Contents",
   "toc_cell": false,
   "toc_position": {},
   "toc_section_display": true,
   "toc_window_display": false
  }
 },
 "nbformat": 4,
 "nbformat_minor": 5
}

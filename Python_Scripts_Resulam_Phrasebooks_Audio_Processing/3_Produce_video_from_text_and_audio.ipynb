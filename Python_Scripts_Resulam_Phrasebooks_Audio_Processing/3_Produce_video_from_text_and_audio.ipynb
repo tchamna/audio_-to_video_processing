{
 "cells": [
  {
   "cell_type": "markdown",
   "id": "9bb14f68",
   "metadata": {},
   "source": [
    "# Parameters"
   ]
  },
  {
   "cell_type": "code",
   "execution_count": 1,
   "id": "cd896d29",
   "metadata": {
    "ExecuteTime": {
     "end_time": "2024-02-02T13:37:55.502090Z",
     "start_time": "2024-02-02T13:37:55.497145Z"
    },
    "execution": {
     "iopub.execute_input": "2024-03-11T00:15:08.724699Z",
     "iopub.status.busy": "2024-03-11T00:15:08.724699Z",
     "iopub.status.idle": "2024-03-11T00:15:08.730893Z",
     "shell.execute_reply": "2024-03-11T00:15:08.730893Z",
     "shell.execute_reply.started": "2024-03-11T00:15:08.724699Z"
    }
   },
   "outputs": [],
   "source": [
    "bilingual_audios_folder = \"\"\n",
    "bilingual_phrases_path = \"\"\n",
    "\n",
    "fonts_path = \"\"\n",
    "background_image = \"\"\n"
   ]
  },
  {
   "cell_type": "code",
   "execution_count": 2,
   "id": "6934a7d7",
   "metadata": {
    "ExecuteTime": {
     "end_time": "2024-02-02T13:37:55.531962Z",
     "start_time": "2024-02-02T13:37:55.503104Z"
    },
    "execution": {
     "iopub.execute_input": "2024-03-11T00:15:08.734435Z",
     "iopub.status.busy": "2024-03-11T00:15:08.732965Z",
     "iopub.status.idle": "2024-03-11T00:15:09.395607Z",
     "shell.execute_reply": "2024-03-11T00:15:09.395607Z",
     "shell.execute_reply.started": "2024-03-11T00:15:08.732965Z"
    }
   },
   "outputs": [],
   "source": [
    "import os\n",
    "import shutil\n",
    "\n",
    "\n",
    "from natsort import natsorted\n"
   ]
  },
  {
   "cell_type": "code",
   "execution_count": 3,
   "id": "bc00f3b4",
   "metadata": {
    "ExecuteTime": {
     "end_time": "2024-02-02T13:37:55.535131Z",
     "start_time": "2024-02-02T13:37:55.532978Z"
    },
    "execution": {
     "iopub.execute_input": "2024-03-11T00:15:09.399121Z",
     "iopub.status.busy": "2024-03-11T00:15:09.399121Z",
     "iopub.status.idle": "2024-03-11T00:15:09.403533Z",
     "shell.execute_reply": "2024-03-11T00:15:09.402527Z",
     "shell.execute_reply.started": "2024-03-11T00:15:09.399121Z"
    }
   },
   "outputs": [],
   "source": [
    "# pip install rembg\n"
   ]
  },
  {
   "cell_type": "code",
   "execution_count": 4,
   "id": "108cd63a",
   "metadata": {
    "ExecuteTime": {
     "end_time": "2024-02-02T13:37:55.537875Z",
     "start_time": "2024-02-02T13:37:55.536136Z"
    },
    "execution": {
     "iopub.execute_input": "2024-03-11T00:15:09.409043Z",
     "iopub.status.busy": "2024-03-11T00:15:09.408037Z",
     "iopub.status.idle": "2024-03-11T00:15:09.420401Z",
     "shell.execute_reply": "2024-03-11T00:15:09.420401Z",
     "shell.execute_reply.started": "2024-03-11T00:15:09.409043Z"
    }
   },
   "outputs": [],
   "source": [
    "# TODO\n",
    "# # Make Ads pictures per languages\n",
    "# Add Amazon Icon Left and Right of the ads images\n",
    "# Make ads images transparent\n",
    "# Group resulting videos by group of 10 videos\n",
    "# Build Adds and insert them afterbefore and after 5 videos\n",
    "# Subscribe as membership not to be disturb with ads\n",
    "\n"
   ]
  },
  {
   "cell_type": "code",
   "execution_count": 5,
   "id": "04ad3cca",
   "metadata": {
    "ExecuteTime": {
     "end_time": "2024-02-02T13:37:55.541310Z",
     "start_time": "2024-02-02T13:37:55.538879Z"
    },
    "execution": {
     "iopub.execute_input": "2024-03-11T00:15:09.425407Z",
     "iopub.status.busy": "2024-03-11T00:15:09.424406Z",
     "iopub.status.idle": "2024-03-11T00:15:09.430431Z",
     "shell.execute_reply": "2024-03-11T00:15:09.429425Z",
     "shell.execute_reply.started": "2024-03-11T00:15:09.425407Z"
    }
   },
   "outputs": [],
   "source": [
    "import os, shutil, time, re, random, glob\n",
    "\n",
    "local_language_name='nufi'\n",
    "local_language_name='yoruba'\n",
    "# local_language_name='lingala'\n",
    "\n",
    "\n",
    "\n",
    "\n",
    "lln = local_language_name.title()\n",
    "\n",
    "# audio_path = fr\"C:\\Users\\tcham\\Downloads\\Phrasebook{lln}\\{lln}Only - Copy\"\n",
    "# audio_path_eng = fr\"C:\\Users\\tcham\\Downloads\\Phrasebook{lln}\\EnglishOnly\"\n",
    "\n",
    "# audio_path = fr\"C:\\Users\\tcham\\Downloads\\Phrasebook{lln}\\{lln}Only_test\"\n",
    "# audio_path_eng = fr\"C:\\Users\\tcham\\Downloads\\Phrasebook{lln}\\EnglishOnly_test\"\n",
    "\n",
    "# current_dir = audio_path\n",
    "# current_dir = os.path.join(audio_path,\"\")\n"
   ]
  },
  {
   "cell_type": "code",
   "execution_count": 6,
   "id": "d9f04e70-d329-403f-a3fd-a978f07deee3",
   "metadata": {
    "execution": {
     "iopub.execute_input": "2024-03-11T00:15:09.433431Z",
     "iopub.status.busy": "2024-03-11T00:15:09.433431Z",
     "iopub.status.idle": "2024-03-11T00:15:09.436431Z",
     "shell.execute_reply": "2024-03-11T00:15:09.436431Z",
     "shell.execute_reply.started": "2024-03-11T00:15:09.433431Z"
    }
   },
   "outputs": [],
   "source": [
    "# pip install moviepy"
   ]
  },
  {
   "cell_type": "code",
   "execution_count": null,
   "id": "6790ea57-a5ba-47b9-8243-10ef102047e2",
   "metadata": {},
   "outputs": [],
   "source": []
  },
  {
   "cell_type": "code",
   "execution_count": 7,
   "id": "11e34c0e",
   "metadata": {
    "ExecuteTime": {
     "end_time": "2024-02-02T13:37:55.671566Z",
     "start_time": "2024-02-02T13:37:55.542315Z"
    },
    "execution": {
     "iopub.execute_input": "2024-03-11T00:15:09.441152Z",
     "iopub.status.busy": "2024-03-11T00:15:09.440153Z",
     "iopub.status.idle": "2024-03-11T00:15:14.548590Z",
     "shell.execute_reply": "2024-03-11T00:15:14.548590Z",
     "shell.execute_reply.started": "2024-03-11T00:15:09.441152Z"
    }
   },
   "outputs": [],
   "source": [
    "from moviepy.config import change_settings\n",
    "change_settings({\"IMAGEMAGICK_BINARY\": fr\"C:\\Program Files\\ImageMagick-7.1.1-Q16-HDRI\\convert.exe\"})\n"
   ]
  },
  {
   "cell_type": "code",
   "execution_count": null,
   "id": "ddc5224d",
   "metadata": {},
   "outputs": [],
   "source": []
  },
  {
   "cell_type": "markdown",
   "id": "725681f0",
   "metadata": {},
   "source": [
    "# Directory Setup"
   ]
  },
  {
   "cell_type": "code",
   "execution_count": null,
   "id": "ce5862e6",
   "metadata": {},
   "outputs": [],
   "source": []
  },
  {
   "cell_type": "code",
   "execution_count": null,
   "id": "bb226467",
   "metadata": {},
   "outputs": [],
   "source": []
  },
  {
   "cell_type": "code",
   "execution_count": 8,
   "id": "6567e49d",
   "metadata": {
    "ExecuteTime": {
     "end_time": "2024-02-02T13:37:55.675332Z",
     "start_time": "2024-02-02T13:37:55.672571Z"
    },
    "execution": {
     "iopub.execute_input": "2024-03-11T00:15:14.550598Z",
     "iopub.status.busy": "2024-03-11T00:15:14.550598Z",
     "iopub.status.idle": "2024-03-11T00:15:14.554294Z",
     "shell.execute_reply": "2024-03-11T00:15:14.554294Z",
     "shell.execute_reply.started": "2024-03-11T00:15:14.550598Z"
    }
   },
   "outputs": [],
   "source": [
    "script_dir = os.getcwd()\n"
   ]
  },
  {
   "cell_type": "code",
   "execution_count": 9,
   "id": "12b48d5d",
   "metadata": {
    "ExecuteTime": {
     "end_time": "2024-02-02T13:37:55.695142Z",
     "start_time": "2024-02-02T13:37:55.676337Z"
    },
    "execution": {
     "iopub.execute_input": "2024-03-11T00:15:14.557299Z",
     "iopub.status.busy": "2024-03-11T00:15:14.557299Z",
     "iopub.status.idle": "2024-03-11T00:15:14.576244Z",
     "shell.execute_reply": "2024-03-11T00:15:14.576244Z",
     "shell.execute_reply.started": "2024-03-11T00:15:14.557299Z"
    }
   },
   "outputs": [
    {
     "data": {
      "text/plain": [
       "['G:\\\\My Drive\\\\Data_Science\\\\Resulam\\\\Phrasebook_Audio_Video_Processing_production_Backup\\\\Languages\\\\YorubaPhrasebook\\\\Ads_Images_Yoruba\\\\Swahili Book Cover Couverture 3D (2).png',\n",
       " 'G:\\\\My Drive\\\\Data_Science\\\\Resulam\\\\Phrasebook_Audio_Video_Processing_production_Backup\\\\Languages\\\\YorubaPhrasebook\\\\Ads_Images_Yoruba\\\\Swahili Book Cover Couverture 3D (3).png',\n",
       " 'G:\\\\My Drive\\\\Data_Science\\\\Resulam\\\\Phrasebook_Audio_Video_Processing_production_Backup\\\\Languages\\\\YorubaPhrasebook\\\\Ads_Images_Yoruba\\\\yoruba-books_resulam_amazon.png',\n",
       " 'G:\\\\My Drive\\\\Data_Science\\\\Resulam\\\\Phrasebook_Audio_Video_Processing_production_Backup\\\\Languages\\\\YorubaPhrasebook\\\\Ads_Images_Yoruba\\\\yoruba-books_resulam_amazon2.png',\n",
       " 'G:\\\\My Drive\\\\Data_Science\\\\Resulam\\\\Phrasebook_Audio_Video_Processing_production_Backup\\\\Languages\\\\YorubaPhrasebook\\\\Ads_Images_Yoruba\\\\amazon_logo.png',\n",
       " 'G:\\\\My Drive\\\\Data_Science\\\\Resulam\\\\Phrasebook_Audio_Video_Processing_production_Backup\\\\Languages\\\\YorubaPhrasebook\\\\Ads_Images_Yoruba\\\\branded_Paper_back_grenier_bookFullCoverCouvertureLivreResulamYoruba.png',\n",
       " 'G:\\\\My Drive\\\\Data_Science\\\\Resulam\\\\Phrasebook_Audio_Video_Processing_production_Backup\\\\Languages\\\\YorubaPhrasebook\\\\Ads_Images_Yoruba\\\\branded_Front_couvertureCoverGuideConversationPhraseBookExpressionUsuelleYoruba_Nigeria_6x9.png',\n",
       " 'G:\\\\My Drive\\\\Data_Science\\\\Resulam\\\\Phrasebook_Audio_Video_Processing_production_Backup\\\\Languages\\\\YorubaPhrasebook\\\\Ads_Images_Yoruba\\\\branded_Paper_back_grenier_bookFullCoverCouvertureLivreResulamSwahili2.png',\n",
       " 'G:\\\\My Drive\\\\Data_Science\\\\Resulam\\\\Phrasebook_Audio_Video_Processing_production_Backup\\\\Languages\\\\YorubaPhrasebook\\\\Ads_Images_Yoruba\\\\branded_Swahili Book Cover Couverture 3D (2).png',\n",
       " 'G:\\\\My Drive\\\\Data_Science\\\\Resulam\\\\Phrasebook_Audio_Video_Processing_production_Backup\\\\Languages\\\\YorubaPhrasebook\\\\Ads_Images_Yoruba\\\\branded_Swahili Book Cover Couverture 3D (3).png',\n",
       " 'G:\\\\My Drive\\\\Data_Science\\\\Resulam\\\\Phrasebook_Audio_Video_Processing_production_Backup\\\\Languages\\\\YorubaPhrasebook\\\\Ads_Images_Yoruba\\\\branded_amazon_logo.png',\n",
       " 'G:\\\\My Drive\\\\Data_Science\\\\Resulam\\\\Phrasebook_Audio_Video_Processing_production_Backup\\\\Languages\\\\YorubaPhrasebook\\\\Ads_Images_Yoruba\\\\resulam on amazon.png',\n",
       " 'G:\\\\My Drive\\\\Data_Science\\\\Resulam\\\\Phrasebook_Audio_Video_Processing_production_Backup\\\\Languages\\\\YorubaPhrasebook\\\\Ads_Images_Yoruba\\\\Advertise with Resulam.png',\n",
       " 'G:\\\\My Drive\\\\Data_Science\\\\Resulam\\\\Phrasebook_Audio_Video_Processing_production_Backup\\\\Languages\\\\YorubaPhrasebook\\\\Ads_Images_Yoruba\\\\YorubaPhrasebookQRCode.png',\n",
       " 'G:\\\\My Drive\\\\Data_Science\\\\Resulam\\\\Phrasebook_Audio_Video_Processing_production_Backup\\\\Languages\\\\YorubaPhrasebook\\\\Ads_Images_Yoruba\\\\YorubaPhrasebookQRCode_with_paypal.png',\n",
       " 'G:\\\\My Drive\\\\Data_Science\\\\Resulam\\\\Phrasebook_Audio_Video_Processing_production_Backup\\\\Languages\\\\YorubaPhrasebook\\\\Ads_Images_Yoruba\\\\PaypalResulam.png']"
      ]
     },
     "execution_count": 9,
     "metadata": {},
     "output_type": "execute_result"
    }
   ],
   "source": [
    "font_name_short = \"CharisSIL-B.ttf\"\n",
    "logo_name = \"resulam_logo_resurrectionLangue.png\"\n",
    "# List containing the sentences\n",
    "phrases_filename = f\"{lln}_english_french_phrasebook_sentences_list.txt\"\n",
    "# Folder that will hold the mixed bilingual sentences\n",
    "bilingual_audios_folder = os.path.join(os.path.dirname(script_dir),\"Languages\",f\"{lln}Phrasebook\",f\"bilingual_sentences\",\"\")\n",
    "\n",
    "# Ads Folder\n",
    "ads_folder = os.path.join(os.path.dirname(script_dir),\"Languages\",f\"{lln}Phrasebook\",f\"Ads_Images_{lln}\",\"\")\n",
    "# ads_folder = os.path.join(os.path.dirname(script_dir),\"Ads_Images_Cropped\",\"\") \n",
    "\n",
    "# Original Local Language Folder\n",
    "local_audios_folder = os.path.join(os.path.dirname(script_dir),\"Languages\",f\"{lln}Phrasebook\",f\"{lln}Only\",\"\")\n",
    "\n",
    "bilingual_phrases_path = os.path.join(os.path.dirname(script_dir), \"Languages\", f\"{lln}Phrasebook\", f\"{phrases_filename}\")\n",
    "\n",
    "backgrounds_folder = os.path.join(os.path.dirname(script_dir),\"Backgrounds\",\"\")\n",
    "\n",
    "font_path = os.path.join(os.path.dirname(script_dir),\"Fonts\",font_name_short)\n",
    "logo_path = os.path.join(os.path.dirname(script_dir),logo_name)\n",
    "\n",
    "background_images = [f for ext in [\"*.jpg\", \"*.png\"] for f in glob.glob(backgrounds_folder + ext)]\n",
    "ads_images = [f for ext in [\"*.jpg\", \"*.png\"] for f in glob.glob(ads_folder + ext)]\n",
    "\n",
    "keywords = [lln.lower(), \"amazon\", \"paypal\", \"swahili\",\"tshiluba\",\"igbo\",\"lingala\",\n",
    "            \"kikongo\",\"advertise\",\"fulfulde\",\"dioula\",\"fongbe\",\"prenom\"]\n",
    "ads_images = [i for i in ads_images if any(keyword in os.path.basename(i).lower() for keyword in keywords)]\n",
    "\n",
    "ads_images"
   ]
  },
  {
   "cell_type": "code",
   "execution_count": 10,
   "id": "3b2b56a4",
   "metadata": {
    "ExecuteTime": {
     "end_time": "2024-02-02T13:37:55.700293Z",
     "start_time": "2024-02-02T13:37:55.696147Z"
    },
    "execution": {
     "iopub.execute_input": "2024-03-11T00:15:14.578249Z",
     "iopub.status.busy": "2024-03-11T00:15:14.578249Z",
     "iopub.status.idle": "2024-03-11T00:15:14.585395Z",
     "shell.execute_reply": "2024-03-11T00:15:14.585395Z",
     "shell.execute_reply.started": "2024-03-11T00:15:14.578249Z"
    }
   },
   "outputs": [
    {
     "data": {
      "text/plain": [
       "['G:\\\\My Drive\\\\Data_Science\\\\Resulam\\\\Phrasebook_Audio_Video_Processing_production_Backup\\\\Languages\\\\YorubaPhrasebook\\\\Ads_Images_Yoruba\\\\Advertise with Resulam.png',\n",
       " 'G:\\\\My Drive\\\\Data_Science\\\\Resulam\\\\Phrasebook_Audio_Video_Processing_production_Backup\\\\Languages\\\\YorubaPhrasebook\\\\Ads_Images_Yoruba\\\\PaypalResulam.png',\n",
       " 'G:\\\\My Drive\\\\Data_Science\\\\Resulam\\\\Phrasebook_Audio_Video_Processing_production_Backup\\\\Languages\\\\YorubaPhrasebook\\\\Ads_Images_Yoruba\\\\YorubaPhrasebookQRCode.png',\n",
       " 'G:\\\\My Drive\\\\Data_Science\\\\Resulam\\\\Phrasebook_Audio_Video_Processing_production_Backup\\\\Languages\\\\YorubaPhrasebook\\\\Ads_Images_Yoruba\\\\YorubaPhrasebookQRCode_with_paypal.png',\n",
       " 'G:\\\\My Drive\\\\Data_Science\\\\Resulam\\\\Phrasebook_Audio_Video_Processing_production_Backup\\\\Languages\\\\YorubaPhrasebook\\\\Ads_Images_Yoruba\\\\amazon_logo.png',\n",
       " 'G:\\\\My Drive\\\\Data_Science\\\\Resulam\\\\Phrasebook_Audio_Video_Processing_production_Backup\\\\Languages\\\\YorubaPhrasebook\\\\Ads_Images_Yoruba\\\\branded_Front_couvertureCoverGuideConversationPhraseBookExpressionUsuelleYoruba_Nigeria_6x9.png',\n",
       " 'G:\\\\My Drive\\\\Data_Science\\\\Resulam\\\\Phrasebook_Audio_Video_Processing_production_Backup\\\\Languages\\\\YorubaPhrasebook\\\\Ads_Images_Yoruba\\\\branded_Paper_back_grenier_bookFullCoverCouvertureLivreResulamSwahili2.png',\n",
       " 'G:\\\\My Drive\\\\Data_Science\\\\Resulam\\\\Phrasebook_Audio_Video_Processing_production_Backup\\\\Languages\\\\YorubaPhrasebook\\\\Ads_Images_Yoruba\\\\branded_Paper_back_grenier_bookFullCoverCouvertureLivreResulamYoruba.png',\n",
       " 'G:\\\\My Drive\\\\Data_Science\\\\Resulam\\\\Phrasebook_Audio_Video_Processing_production_Backup\\\\Languages\\\\YorubaPhrasebook\\\\Ads_Images_Yoruba\\\\branded_amazon_logo.png',\n",
       " 'G:\\\\My Drive\\\\Data_Science\\\\Resulam\\\\Phrasebook_Audio_Video_Processing_production_Backup\\\\Languages\\\\YorubaPhrasebook\\\\Ads_Images_Yoruba\\\\resulam on amazon.png',\n",
       " 'G:\\\\My Drive\\\\Data_Science\\\\Resulam\\\\Phrasebook_Audio_Video_Processing_production_Backup\\\\Languages\\\\YorubaPhrasebook\\\\Ads_Images_Yoruba\\\\yoruba-books_resulam_amazon2.png',\n",
       " 'G:\\\\My Drive\\\\Data_Science\\\\Resulam\\\\Phrasebook_Audio_Video_Processing_production_Backup\\\\Languages\\\\YorubaPhrasebook\\\\Ads_Images_Yoruba\\\\yoruba-books_resulam_amazon.png']"
      ]
     },
     "execution_count": 10,
     "metadata": {},
     "output_type": "execute_result"
    }
   ],
   "source": [
    "# priority_ads_image = [img for img in ads_images if lln.lower() in img]\n",
    "# priority_ads_image2 = [img for img in ads_images if \"amazon\" in img.lower() or \"paypal\" in img.lower() or \"donate\" in img.lower() or \"resulam\" in img.lower()]\n",
    "# priority_ads_image_full_path = priority_ads_image + priority_ads_image2\n",
    "\n",
    "keywords = [lln.lower(),\"amazon\", \"paypal\", \"donate\", \"resulam\",\"bamileke\"]\n",
    "priority_ads_image1 = [img for img in ads_images if lln.lower() in os.path.basename(img).lower() ]\n",
    "priority_ads_image2 = [i for i in ads_images if any(keyword in os.path.basename(i).lower() for keyword in keywords)]\n",
    "priority_ads_image = list(set(priority_ads_image1 + priority_ads_image2))\n",
    "\n",
    "priority_ads_image = natsorted(priority_ads_image)\n",
    "priority_ads_image "
   ]
  },
  {
   "cell_type": "code",
   "execution_count": null,
   "id": "4847f781",
   "metadata": {
    "ExecuteTime": {
     "end_time": "2024-01-18T21:12:23.028713Z",
     "start_time": "2024-01-18T21:12:23.024645Z"
    }
   },
   "outputs": [],
   "source": []
  },
  {
   "cell_type": "code",
   "execution_count": null,
   "id": "93378d16",
   "metadata": {},
   "outputs": [],
   "source": []
  },
  {
   "cell_type": "raw",
   "id": "db4ec7c6",
   "metadata": {
    "ExecuteTime": {
     "end_time": "2023-12-31T18:11:31.647167Z",
     "start_time": "2023-12-31T18:11:31.642528Z"
    },
    "execution": {
     "iopub.execute_input": "2023-12-31T04:23:31.477767Z",
     "iopub.status.busy": "2023-12-31T04:23:31.476767Z",
     "iopub.status.idle": "2023-12-31T04:23:31.484255Z",
     "shell.execute_reply": "2023-12-31T04:23:31.483221Z",
     "shell.execute_reply.started": "2023-12-31T04:23:31.477767Z"
    }
   },
   "source": []
  },
  {
   "cell_type": "code",
   "execution_count": 11,
   "id": "e5716556-751c-4adb-bb86-4d53b82f2682",
   "metadata": {
    "ExecuteTime": {
     "end_time": "2024-02-02T13:37:55.703613Z",
     "start_time": "2024-02-02T13:37:55.701298Z"
    },
    "execution": {
     "iopub.execute_input": "2024-03-11T00:15:14.587400Z",
     "iopub.status.busy": "2024-03-11T00:15:14.587400Z",
     "iopub.status.idle": "2024-03-11T00:15:14.592225Z",
     "shell.execute_reply": "2024-03-11T00:15:14.592225Z",
     "shell.execute_reply.started": "2024-03-11T00:15:14.587400Z"
    }
   },
   "outputs": [],
   "source": [
    "\n",
    "# bilingual_audios_folder = fr\"C:\\Users\\tcham\\Downloads\\Phrasebook{lln}\\{lln}Only\\bilingual_sentences\"\n",
    "\n",
    "# bilingual_phrases_path =  fr\"C:\\Users\\tcham\\Downloads\\Phrasebook{lln}\\{lln}_english_french_phrasebook_sentences_list.txt\"\n",
    "\n",
    "# backgrounds_folder = fr\"C:\\Users\\tcham\\Downloads\\PhrasebookYoruba\\Backgrounds\"\n",
    "# backgrounds_folder = os.path.join(backgrounds_folder,\"\")\n",
    "##############################################################################\n",
    "# fonts_path = r\"C:\\Users\\tcham\\Downloads\\NufiPhrasebook-27-3-23\\app\\src\\main\\assets\\fonts\\CharisSIL-B.ttf\"\n",
    "# background_image = fr\"C:\\Users\\tcham\\Downloads\\Phrasebook{lln}\\AfricanBackground.jpg\"\n",
    "# default_background_image = fr\"C:\\Users\\tcham\\Downloads\\Phrasebook{lln}\\chap2_darkblueBackground.jpg\"\n",
    "\n",
    "# background_images = [fr\"C:\\Users\\tcham\\Downloads\\Phrasebook{lln}\\chap1_AfricanBackground.jpg\",\n",
    "#                      fr\"C:\\Users\\tcham\\Downloads\\Phrasebook{lln}\\chap2_darkblueBackground.jpg\",\n",
    "#                      fr\"C:\\Users\\tcham\\Downloads\\Phrasebook{lln}\\chap27_darkblueBackground.jpg\",\n",
    "#                     ]\n",
    "\n",
    "# background_images = [f for ext in [\"*.jpg\", \"*.png\"] for f in glob.glob(backgrounds_folder + ext)]\n",
    "\n",
    "\n",
    "# logo_path = r\"C:\\Users\\tcham\\Downloads\\PhrasebookYoruba\\resulam_logo_egg_resurrectionLangue_.png\"\n",
    "\n",
    "# font_path = r\"C:\\Users\\tcham\\Downloads\\NufiPhrasebook-27-3-23\\app\\src\\main\\assets\\fonts\\CharisSIL-B.ttf\""
   ]
  },
  {
   "cell_type": "code",
   "execution_count": null,
   "id": "bc8cc2b0",
   "metadata": {},
   "outputs": [],
   "source": []
  },
  {
   "cell_type": "code",
   "execution_count": null,
   "id": "d618501c",
   "metadata": {
    "ExecuteTime": {
     "end_time": "2024-01-18T22:31:42.017663Z",
     "start_time": "2024-01-18T22:31:12.343448Z"
    }
   },
   "outputs": [],
   "source": []
  },
  {
   "cell_type": "code",
   "execution_count": 12,
   "id": "bc3284dd",
   "metadata": {
    "ExecuteTime": {
     "end_time": "2024-02-02T13:37:56.591987Z",
     "start_time": "2024-02-02T13:37:55.704618Z"
    },
    "execution": {
     "iopub.execute_input": "2024-03-11T00:15:14.594230Z",
     "iopub.status.busy": "2024-03-11T00:15:14.593230Z",
     "iopub.status.idle": "2024-03-11T00:15:22.802173Z",
     "shell.execute_reply": "2024-03-11T00:15:22.802173Z",
     "shell.execute_reply.started": "2024-03-11T00:15:14.594230Z"
    },
    "scrolled": true
   },
   "outputs": [
    {
     "name": "stdout",
     "output_type": "stream",
     "text": [
      "greenboard.jpg: No resize needed.\n",
      "\n",
      "darkblue.jpg: No resize needed.\n",
      "\n",
      "chap2_darkblueBackground.jpg: No resize needed.\n",
      "\n",
      "Picture13.jpg: No resize needed.\n",
      "\n"
     ]
    }
   ],
   "source": [
    "from PIL import ImageFile, Image\n",
    "from moviepy.editor import ImageClip\n",
    "\n",
    "ImageFile.LOAD_TRUNCATED_IMAGES = True\n",
    "\n",
    "def resize_background_image(image_path, output_size=(1920, 1080), output_path=None):\n",
    "    \n",
    "    base_name = os.path.basename(image_path)\n",
    "    try:\n",
    "        # Open the image to check its size\n",
    "        with Image.open(image_path) as img:\n",
    "            if img.size != output_size:\n",
    "                clip = ImageClip(image_path)\n",
    "                resized_clip = clip.resize(newsize=output_size)\n",
    "\n",
    "                if output_path is None:\n",
    "                    output_path = image_path\n",
    "\n",
    "                resized_clip.save_frame(output_path)\n",
    "            else:\n",
    "                print(f\"{base_name}: No resize needed.\\n\")\n",
    "    except Exception as e:\n",
    "        print(f\"Error processing {base_name}: {e}\")\n",
    "\n",
    "for img in background_images:\n",
    "    base_name = os.path.basename(img)\n",
    "#     print(f\"Processing {base_name}...\")\n",
    "    resize_background_image(img)\n"
   ]
  },
  {
   "cell_type": "code",
   "execution_count": null,
   "id": "dddbe9bc-cb4d-481c-b6f5-76ccdba3aad9",
   "metadata": {},
   "outputs": [],
   "source": []
  },
  {
   "cell_type": "code",
   "execution_count": null,
   "id": "130b4dc9-a805-4c3a-99e9-20285065c168",
   "metadata": {},
   "outputs": [],
   "source": []
  },
  {
   "cell_type": "code",
   "execution_count": 13,
   "id": "1fed7088",
   "metadata": {
    "execution": {
     "iopub.execute_input": "2024-03-11T00:15:22.803178Z",
     "iopub.status.busy": "2024-03-11T00:15:22.803178Z",
     "iopub.status.idle": "2024-03-11T00:15:22.805228Z",
     "shell.execute_reply": "2024-03-11T00:15:22.805228Z",
     "shell.execute_reply.started": "2024-03-11T00:15:22.803178Z"
    }
   },
   "outputs": [],
   "source": [
    "# pip install moviepy --upgrade  \n"
   ]
  },
  {
   "cell_type": "code",
   "execution_count": 14,
   "id": "83557dd0-1338-420c-b066-0c92e365bdf6",
   "metadata": {
    "execution": {
     "iopub.execute_input": "2024-03-11T00:15:22.806233Z",
     "iopub.status.busy": "2024-03-11T00:15:22.805228Z",
     "iopub.status.idle": "2024-03-11T00:15:22.820849Z",
     "shell.execute_reply": "2024-03-11T00:15:22.820849Z",
     "shell.execute_reply.started": "2024-03-11T00:15:22.806233Z"
    }
   },
   "outputs": [],
   "source": [
    "# ! pip uninstall Pillow "
   ]
  },
  {
   "cell_type": "code",
   "execution_count": 15,
   "id": "1f2b1bb1-1ecf-4b37-96ae-05ab1a296931",
   "metadata": {
    "execution": {
     "iopub.execute_input": "2024-03-11T00:15:22.821856Z",
     "iopub.status.busy": "2024-03-11T00:15:22.821856Z",
     "iopub.status.idle": "2024-03-11T00:15:22.828577Z",
     "shell.execute_reply": "2024-03-11T00:15:22.828577Z",
     "shell.execute_reply.started": "2024-03-11T00:15:22.821856Z"
    }
   },
   "outputs": [],
   "source": [
    "# !pip install Pillow==9.4.0 \n"
   ]
  },
  {
   "cell_type": "code",
   "execution_count": null,
   "id": "d7b2cc7b-8632-4218-84df-88aef2a9ac1f",
   "metadata": {},
   "outputs": [],
   "source": []
  },
  {
   "cell_type": "code",
   "execution_count": 16,
   "id": "db79925d-684c-4ea5-9b96-550241694fca",
   "metadata": {
    "execution": {
     "iopub.execute_input": "2024-03-11T00:15:22.830651Z",
     "iopub.status.busy": "2024-03-11T00:15:22.829645Z",
     "iopub.status.idle": "2024-03-11T00:15:22.834945Z",
     "shell.execute_reply": "2024-03-11T00:15:22.834945Z",
     "shell.execute_reply.started": "2024-03-11T00:15:22.830651Z"
    }
   },
   "outputs": [
    {
     "name": "stdout",
     "output_type": "stream",
     "text": [
      "9.4.0\n"
     ]
    }
   ],
   "source": [
    "# !pip freeze > requirements33.txt \n",
    "# 9.4.0 \n",
    "# pip freeze > requirements_old.txt\n",
    "import PIL\n",
    "\n",
    "print(PIL.__version__)\n",
    "# PIL version = 9.4.0\n",
    "\n"
   ]
  },
  {
   "cell_type": "code",
   "execution_count": null,
   "id": "7236e238-a458-4390-ae35-0671a62c4118",
   "metadata": {},
   "outputs": [],
   "source": []
  },
  {
   "cell_type": "code",
   "execution_count": 17,
   "id": "5faf2226",
   "metadata": {
    "ExecuteTime": {
     "end_time": "2024-02-02T13:37:56.605404Z",
     "start_time": "2024-02-02T13:37:56.593514Z"
    },
    "code_folding": [
     24,
     41,
     66,
     87,
     118,
     129,
     173
    ],
    "execution": {
     "iopub.execute_input": "2024-03-11T00:15:22.836444Z",
     "iopub.status.busy": "2024-03-11T00:15:22.836444Z",
     "iopub.status.idle": "2024-03-11T00:15:22.852624Z",
     "shell.execute_reply": "2024-03-11T00:15:22.852624Z",
     "shell.execute_reply.started": "2024-03-11T00:15:22.836444Z"
    }
   },
   "outputs": [],
   "source": [
    "from moviepy.editor import *\n",
    "\n",
    "\n",
    "# Define necessary functions like 'create_text_clip', 'calculate_text_position', 'create_countdown_clip' here\n",
    "\n",
    "def format_time(seconds):\n",
    "    \"\"\" Convert seconds to HH:MM:SS format \"\"\"\n",
    "    hours, remainder = divmod(seconds, 3600)\n",
    "    minutes, seconds = divmod(remainder, 60)\n",
    "    return f\"{int(hours):02}:{int(minutes):02}:{int(seconds):02}\"\n",
    "\n",
    "def pick_background(background_images, chap):\n",
    "\n",
    "    for i in background_images:\n",
    "        base = os.path.basename(i)\n",
    "        if \"_\" in base and base.split(\"_\")[0].lower() == chap.lower():            \n",
    "            return i\n",
    "\n",
    "    else:\n",
    "        return default_background_image\n",
    "\n",
    "\n",
    "import random\n",
    "\n",
    "# def background_random_picker(background_images):\n",
    "#     \"\"\"\n",
    "#     Generator function to yield a random, unique background image from a list.\n",
    "#     Cycles through all images before repeating any.\n",
    "#     \"\"\"\n",
    "#     remaining_images = background_images.copy()\n",
    "#     while True:\n",
    "#         if not remaining_images:\n",
    "#             # Once all images are used, reset the list\n",
    "#             remaining_images = background_images.copy()\n",
    "\n",
    "#         chosen_image = random.choice(remaining_images)\n",
    "#         remaining_images.remove(chosen_image)\n",
    "#         yield chosen_image\n",
    "\n",
    "import random\n",
    "\n",
    "def background_random_picker(background_images, selected_images):\n",
    "    \"\"\"\n",
    "    Generator function to yield a random, unique background image from a list.\n",
    "    Starts with selected images, then cycles through the remaining images before repeating any.\n",
    "    \"\"\"\n",
    "    # First, yield the selected images in the order provided\n",
    "    for image in selected_images:\n",
    "        yield image\n",
    "\n",
    "    # Prepare the remaining images, excluding the already selected ones\n",
    "    remaining_images = [img for img in background_images if img not in selected_images]\n",
    "    \n",
    "    while True:\n",
    "        # Shuffle the remaining images at the start of each cycle\n",
    "        random.shuffle(remaining_images)\n",
    "        for chosen_image in remaining_images:\n",
    "            yield chosen_image\n",
    "\n",
    "\n",
    "\n",
    "\n",
    "# Function to create a TextClip for a given text segment\n",
    "# def create_text_clip(text, color, fontsize=70, pos=(\"center\", \"center\"), font_path=font_path):\n",
    "#     return TextClip(text, fontsize=fontsize, color=color, font=font_path, size=(1920, 1080)).set_position(pos)\n",
    "\n",
    "def create_text_clip(text, color, fontsize=70, pos=(\"center\", \"center\"), font_path=font_path):\n",
    "    # Calculate the maximum number of characters that can fit in the text box width\n",
    "    max_chars_per_line = 50\n",
    "    max_lines = 5  # Adjust this based on your screen size and layout\n",
    "    max_text_width = max_chars_per_line * fontsize * 0.6\n",
    "    max_text_height = max_lines * fontsize\n",
    "\n",
    "    # Calculate the font size that fits the text within the text box\n",
    "    while fontsize > 0:\n",
    "        wrapped_text = textwrap.fill(text, max_chars_per_line)\n",
    "        text_clip = TextClip(wrapped_text, fontsize=fontsize, color=color, font=font_path, size=(1920, 1080))\n",
    "        text_w, text_h = text_clip.size\n",
    "\n",
    "        if text_w <= max_text_width and text_h <= max_text_height:\n",
    "            break  # Font size is small enough to fit\n",
    "        else:\n",
    "            fontsize -= 1  # Reduce font size and try again\n",
    "\n",
    "    return TextClip(wrapped_text, fontsize=fontsize, \n",
    "                    color=color, font=font_path, size=(1920, 1080)).set_position(pos)\n",
    "\n",
    "def adjust_font_size(text, color, fontsize=70, min_font_size = 12, pos=(\"center\", \"center\"), font_path=font_path):\n",
    "    # Calculate the maximum number of characters that can fit in the text box width\n",
    "    max_chars_per_line = 50\n",
    "    max_lines = 5  # Adjust this based on your screen size and layout\n",
    "    max_text_width = max_chars_per_line * fontsize * 0.6\n",
    "    max_text_height = max_lines * fontsize\n",
    "\n",
    "    # Calculate the font size that fits the text within the text box\n",
    "    while fontsize > 0:\n",
    "        wrapped_text = textwrap.fill(text, max_chars_per_line)\n",
    "        text_clip = TextClip(wrapped_text, fontsize=fontsize, color=color, font=font_path, size=(1920, 1080))\n",
    "        text_w, text_h = text_clip.size\n",
    "\n",
    "        if fontsize <= min_font_size:\n",
    "            break  # Font size is small enough to fit\n",
    "        else:\n",
    "            fontsize -= 1  # Reduce font size and try again\n",
    "\n",
    "    return TextClip(wrapped_text, fontsize=fontsize, \n",
    "                    color=color, font=font_path, size=(1920, 1080)).set_position(pos)\n",
    "\n",
    "# Function to calculate vertical position for the centered text\n",
    "def calculate_text_position(n_lines, line_height, fontsize, video_height=1080):\n",
    "    total_text_height = n_lines * (line_height + fontsize)\n",
    "    base_y = - (video_height - total_text_height) / 2\n",
    "    return base_y\n",
    "\n",
    "\n",
    "\n",
    "\n",
    "# Function to create a countdown clip\n",
    "def create_countdown_clip(duration, fontsize=70, pos=(\"right\", \"top\"), font_path=font_path,color='white'):\n",
    "    countdown_clips = []\n",
    "    for i in range(duration, 0, -1):\n",
    "        countdown_text = str(i)\n",
    "        countdown_clip = TextClip(countdown_text, fontsize=fontsize, color=color, \n",
    "                                  font=font_path, size=(1920, 1080))\n",
    "        countdown_clip = countdown_clip.set_position(pos).set_duration(1)\n",
    "        countdown_clips.append(countdown_clip)\n",
    "    return concatenate_videoclips(countdown_clips, method=\"chain\")\n",
    "\n",
    "\n",
    "# def resize_image_proportionally(ads_images, max_height, screen_height):\n",
    "#     \"\"\"\n",
    "#     Resize the image proportionally to fit within the max_height, \n",
    "#     keeping the aspect ratio and ensuring it doesn't go beyond the screen limits.\n",
    "#     \"\"\"\n",
    "#     # Load the image\n",
    "    \n",
    "    \n",
    "#     remaining_images = ads_images.copy()\n",
    "#     while True:\n",
    "#         if not remaining_images:\n",
    "#             # Once all images are used, reset the list\n",
    "#             remaining_images = ads_images.copy()\n",
    "\n",
    "#         if ads_images == priority_images:\n",
    "#             chosen_image = remaining_images[0]\n",
    "#         else:\n",
    "#             chosen_image = random.choice(remaining_images)\n",
    "            \n",
    "#         remaining_images.remove(chosen_image)\n",
    "    \n",
    "        \n",
    "        \n",
    "#         img_clip = ImageClip(chosen_image)\n",
    "#         # Initialize new_width and new_height\n",
    "#         new_width = img_clip.w\n",
    "#         new_height = img_clip.h \n",
    "        \n",
    "#         # Calculate the resizing scale factor\n",
    "#         if img_clip.h > max_height:\n",
    "#             scale_factor = max_height / float(img_clip.h)\n",
    "#             new_width = int(img_clip.w * scale_factor)\n",
    "#             new_height = int(img_clip.h * scale_factor)\n",
    "\n",
    "#             # Resize the image proportionally\n",
    "#             img_clip = img_clip.resize(newsize=(new_width, new_height))\n",
    "\n",
    "#         # Calculate the position (centered, 10 pixels from vertical center)\n",
    "#         y_position = (screen_height - new_height) // 2 + 10\n",
    "        \n",
    "#         yield img_clip.set_position((\"center\", y_position))\n",
    "\n",
    "from moviepy.editor import ImageClip\n",
    "\n",
    "def resize_and_position_clip(img_clip, max_height, screen_height):\n",
    "    # Calculate the resizing scale factor and resize the image proportionally\n",
    "    if img_clip.h > max_height:\n",
    "        scale_factor = max_height / float(img_clip.h)\n",
    "        new_width = int(img_clip.w * scale_factor)\n",
    "        new_height = int(img_clip.h * scale_factor)\n",
    "        img_clip = img_clip.resize(newsize=(new_width, new_height))\n",
    "    else:\n",
    "        new_width = img_clip.w\n",
    "        new_height = img_clip.h\n",
    "\n",
    "    # Calculate the position (centered below the vertical center)\n",
    "    vertical_center = screen_height // 2\n",
    "#     y_position = vertical_center + (new_height // 2)  # This ensures the top of the ad image is at the vertical center\n",
    "    y_position = vertical_center\n",
    "    # Add margin if needed to lower the ad image further\n",
    "    margin = 35  # Adjust the margin value as needed\n",
    "    y_position += margin\n",
    "    \n",
    "    # Ensure the image does not go off the bottom of the screen\n",
    "#     y_position = min(y_position, screen_height - new_height)\n",
    "\n",
    "    return img_clip.set_position((\"center\", y_position))\n",
    "\n",
    "\n",
    "\n",
    "\n",
    "\n",
    "\n",
    "\n",
    "# USED\n",
    "def resize_image_proportionally(ads_images, priority_images, max_height, screen_height):\n",
    "    \"\"\"\n",
    "    Resize the image proportionally to fit within the max_height, \n",
    "    keeping the aspect ratio and ensuring it doesn't go beyond the screen limits.\n",
    "    Starts with priority images, then cycles through the remaining images before repeating any.\n",
    "    \"\"\"\n",
    "    # First, yield the priority images in the order provided\n",
    "    for image_path in priority_images:\n",
    "        img_clip = ImageClip(image_path)\n",
    "        img_clip = resize_and_position_clip(img_clip, max_height, screen_height)\n",
    "        yield img_clip\n",
    "\n",
    "    # Prepare the remaining images, excluding the already selected ones\n",
    "    remaining_images = [img for img in ads_images if img not in priority_images]\n",
    "    \n",
    "    while True:\n",
    "        # Shuffle the remaining images at the start of each cycle\n",
    "        random.shuffle(remaining_images)\n",
    "        for image_path in remaining_images:\n",
    "            img_clip = ImageClip(image_path)\n",
    "            img_clip = resize_and_position_clip(img_clip, max_height, screen_height)\n",
    "            yield img_clip\n",
    "\n",
    "\n",
    "\n",
    "\n",
    "# priority_ads_image = [f\"{lln}PhrasebookQRCode.png\",f\"{lln}PhrasebookQRCode_with_paypal.png\",\n",
    "#                   f\"branded_amazon_logo.png\"] \n",
    "\n",
    "priority_background_image = [\"data_center.png\",\"chap2_darkblueBackground.jpg\",\"flag_map_african_union.jpg\",\n",
    "                   \"futurist_background.jpg\"] \n",
    "\n",
    "\n",
    "priority_background_image_full_path = [ os.path.dirname(background_images[0])+f\"\\{img}\" for img in priority_background_image]\n",
    "\n",
    "# priority_ads_image_full_path = [ os.path.dirname(ads_images[0])+f\"\\{img}\" for img in priority_ads_image]\n",
    "\n",
    "background_image_generator = background_random_picker(background_images,priority_background_image_full_path)\n",
    "\n",
    "# ads_image_generator = resize_image_proportionally(ads_images,max_height=1920, screen_height=1080)\n",
    "\n"
   ]
  },
  {
   "cell_type": "code",
   "execution_count": null,
   "id": "3609826a",
   "metadata": {},
   "outputs": [],
   "source": []
  },
  {
   "cell_type": "code",
   "execution_count": null,
   "id": "07926b20",
   "metadata": {
    "ExecuteTime": {
     "end_time": "2024-01-03T02:03:23.465598Z",
     "start_time": "2024-01-03T02:03:23.456355Z"
    }
   },
   "outputs": [],
   "source": []
  },
  {
   "cell_type": "code",
   "execution_count": null,
   "id": "48cb1349",
   "metadata": {},
   "outputs": [],
   "source": []
  },
  {
   "cell_type": "code",
   "execution_count": null,
   "id": "0c43f09e",
   "metadata": {
    "ExecuteTime": {
     "end_time": "2024-01-02T10:20:04.493027Z",
     "start_time": "2024-01-02T10:20:04.472134Z"
    }
   },
   "outputs": [],
   "source": []
  },
  {
   "cell_type": "code",
   "execution_count": null,
   "id": "c13db582",
   "metadata": {},
   "outputs": [],
   "source": []
  },
  {
   "cell_type": "code",
   "execution_count": 18,
   "id": "8096ee96",
   "metadata": {
    "ExecuteTime": {
     "end_time": "2024-02-02T13:37:56.608826Z",
     "start_time": "2024-02-02T13:37:56.606421Z"
    },
    "code_folding": [],
    "execution": {
     "iopub.execute_input": "2024-03-11T00:15:22.854134Z",
     "iopub.status.busy": "2024-03-11T00:15:22.854134Z",
     "iopub.status.idle": "2024-03-11T00:15:22.857741Z",
     "shell.execute_reply": "2024-03-11T00:15:22.856735Z",
     "shell.execute_reply.started": "2024-03-11T00:15:22.854134Z"
    }
   },
   "outputs": [],
   "source": [
    "\n",
    "#\n",
    "# max_height = 500  # Example maximum height\n",
    "# screen_height = 1080  # Example screen height\n",
    "\n",
    "# ads_image_generator = resize_image_proportionally(ads_images, priority_ads_image_full_path, max_height, screen_height)\n",
    "\n",
    "# Get the next resized and positioned image clip\n",
    "# next_image_clip = next(image_generator)\n"
   ]
  },
  {
   "cell_type": "code",
   "execution_count": null,
   "id": "fbcb9717",
   "metadata": {
    "ExecuteTime": {
     "end_time": "2024-01-02T10:20:10.115748Z",
     "start_time": "2024-01-02T10:20:10.089790Z"
    }
   },
   "outputs": [],
   "source": []
  },
  {
   "cell_type": "code",
   "execution_count": 19,
   "id": "629b1a0e",
   "metadata": {
    "ExecuteTime": {
     "end_time": "2024-02-02T13:37:56.612008Z",
     "start_time": "2024-02-02T13:37:56.609834Z"
    },
    "execution": {
     "iopub.execute_input": "2024-03-11T00:15:22.858741Z",
     "iopub.status.busy": "2024-03-11T00:15:22.858741Z",
     "iopub.status.idle": "2024-03-11T00:15:22.861019Z",
     "shell.execute_reply": "2024-03-11T00:15:22.861019Z",
     "shell.execute_reply.started": "2024-03-11T00:15:22.858741Z"
    }
   },
   "outputs": [],
   "source": [
    "from moviepy.editor import TextClip, concatenate_videoclips, AudioFileClip"
   ]
  },
  {
   "cell_type": "code",
   "execution_count": 20,
   "id": "f6a52404",
   "metadata": {
    "ExecuteTime": {
     "end_time": "2024-02-02T13:37:56.618922Z",
     "start_time": "2024-02-02T13:37:56.612882Z"
    },
    "code_folding": [],
    "execution": {
     "iopub.execute_input": "2024-03-11T00:15:22.862024Z",
     "iopub.status.busy": "2024-03-11T00:15:22.862024Z",
     "iopub.status.idle": "2024-03-11T00:15:22.870501Z",
     "shell.execute_reply": "2024-03-11T00:15:22.870501Z",
     "shell.execute_reply.started": "2024-03-11T00:15:22.862024Z"
    }
   },
   "outputs": [],
   "source": [
    "import os\n",
    "\n",
    "bilingual_audios_folder = os.path.join(bilingual_audios_folder,\"\")\n",
    "\n",
    "\n",
    "os.chdir(bilingual_audios_folder)\n",
    "\n",
    "def get_audio(audio_path, ext = [\"*.mp3\", \"*.wav\", \"*.ogg\", \"*.flac\"],check_subfolders=False):\n",
    "\n",
    "    \"\"\"\n",
    "    The code defines a function named get_audio that takes in three parameters:\n",
    "    audio_path, ext and check_subfolders. It imports the necessary modules such as os and glob.\n",
    "    The function searches for audio files in a directory specified by the audio_path parameter and returns two lists;\n",
    "    the first list containing the absolute path of the audio files and the second list containing the relative path of the audio files.\n",
    "    The function has an optional parameter ext that takes a list of audio file extensions   to be searched for, and check_subfolders\n",
    "    is another optional parameter that specifies whether to search for audio files recursively in subfolders or not.\n",
    "    \"\"\"\n",
    "\n",
    "    import os\n",
    "    import glob\n",
    "\n",
    "    # List of audio file extensions to search for\n",
    "    # AUDIO_EXTENSIONS = ext\n",
    "\n",
    "    # Directory to search for audio files\n",
    "    directory = audio_path  # Replace with the path to your directory\n",
    "\n",
    "    if check_subfolders == False:\n",
    "      # Search for audio files using glob\n",
    "      audio_files = []\n",
    "      for extension in ext:\n",
    "          audio_files.extend(glob.glob(directory + \"*\" + extension, recursive=check_subfolders))\n",
    "    else:\n",
    "\n",
    "      # Search for audio files using glob\n",
    "      audio_files = []\n",
    "      for extension in ext:\n",
    "          audio_files.extend(glob.glob(directory + \"/**/\" + extension, recursive=check_subfolders))\n",
    "\n",
    "    audio_base_names = [os.path.basename(i) for i in audio_files]\n",
    "\n",
    "    return audio_files, audio_base_names\n",
    "\n",
    "\n",
    "\n"
   ]
  },
  {
   "cell_type": "code",
   "execution_count": null,
   "id": "d37299ed",
   "metadata": {},
   "outputs": [],
   "source": []
  },
  {
   "cell_type": "code",
   "execution_count": 21,
   "id": "564a77a3",
   "metadata": {
    "ExecuteTime": {
     "end_time": "2024-02-02T13:37:56.624801Z",
     "start_time": "2024-02-02T13:37:56.620960Z"
    },
    "code_folding": [
     0
    ],
    "execution": {
     "iopub.execute_input": "2024-03-11T00:15:22.872506Z",
     "iopub.status.busy": "2024-03-11T00:15:22.871506Z",
     "iopub.status.idle": "2024-03-11T00:15:22.879292Z",
     "shell.execute_reply": "2024-03-11T00:15:22.879292Z",
     "shell.execute_reply.started": "2024-03-11T00:15:22.872506Z"
    }
   },
   "outputs": [],
   "source": [
    "chapter_ranges = {\n",
    "    \"1-173\": \"Chap1\",\n",
    "    \"174-240\": \"Chap2\",\n",
    "    \"241-258\": \"Chap3\",\n",
    "    \"259-407\": \"Chap4\",\n",
    "    \"408-543\": \"Chap5\",\n",
    "    \"544-568\": \"Chap6\",\n",
    "    \"569-703\": \"Chap7\",\n",
    "    \"704-788\": \"Chap8\",\n",
    "    \"789-930\": \"Chap9\",\n",
    "    \"931-991\": \"Chap10\",\n",
    "    \"992-1011\": \"Chap11\",\n",
    "    \"1012-1036\": \"Chap12\",\n",
    "    \"1037-1074\": \"Chap13\",\n",
    "    \"1075-1104\": \"Chap14\",\n",
    "    \"1105-1125\": \"Chap15\",\n",
    "    \"1126-1152\": \"Chap16\",\n",
    "    \"1153-1195\": \"Chap17\",\n",
    "    \"1196-1218\": \"Chap18\",\n",
    "    \"1219-1248\": \"Chap19\",\n",
    "    \"1249-1279\": \"Chap20\",\n",
    "    \"1280-1303\": \"Chap21\",\n",
    "    \"1304-1366\": \"Chap22\",\n",
    "    \"1367-1407\": \"Chap23\",\n",
    "    \"1408-1471\": \"Chap24\",\n",
    "    \"1472-1500\": \"Chap25\",\n",
    "    \"1501-1569\": \"Chap26\",\n",
    "    \"1570-1650\": \"Chap27\",\n",
    "    \"1651-1717\": \"Chap28\",\n",
    "    \"1718-1947\": \"Chap29\",\n",
    "    \"1948-1964\": \"Chap30\",\n",
    "    \"1965-1999\": \"Chap31\",\n",
    "    \"2000-2044\": \"Chap32\"\n",
    "}\n",
    "\n",
    "# english_nufi_phrasebook_1108.mp3\n",
    "Chapters_begining = []\n",
    "Chapters_ending = []\n",
    "\n",
    "def chapter_name_func(x):\n",
    "    \n",
    "    for i in chapter_ranges:\n",
    "        beg = int(i.split(\"-\")[0])\n",
    "        end = int(i.split(\"-\")[1])\n",
    "\n",
    "        if beg <= int(x) <= end:\n",
    "            return chapter_ranges[i]\n",
    "\n",
    "\n",
    "\n",
    "chapter_name_func(1304)\n",
    "\n",
    "def get_digits_numbers_from_string(s):\n",
    "    try:\n",
    "\n",
    "        number = int(re.search(r'\\d+', s).group())\n",
    "        return number\n",
    "    except:\n",
    "        pass \n",
    "\n",
    "\n"
   ]
  },
  {
   "cell_type": "code",
   "execution_count": null,
   "id": "ddb0c30a",
   "metadata": {},
   "outputs": [],
   "source": []
  },
  {
   "cell_type": "code",
   "execution_count": null,
   "id": "df01ceac",
   "metadata": {
    "ExecuteTime": {
     "end_time": "2024-01-01T16:44:09.697881Z",
     "start_time": "2024-01-01T16:44:09.476211Z"
    },
    "scrolled": true
   },
   "outputs": [],
   "source": []
  },
  {
   "cell_type": "code",
   "execution_count": 22,
   "id": "47260e0f",
   "metadata": {
    "ExecuteTime": {
     "end_time": "2024-02-02T13:37:56.645777Z",
     "start_time": "2024-02-02T13:37:56.625945Z"
    },
    "execution": {
     "iopub.execute_input": "2024-03-11T00:15:22.881297Z",
     "iopub.status.busy": "2024-03-11T00:15:22.880297Z",
     "iopub.status.idle": "2024-03-11T00:15:23.032543Z",
     "shell.execute_reply": "2024-03-11T00:15:23.032543Z",
     "shell.execute_reply.started": "2024-03-11T00:15:22.881297Z"
    }
   },
   "outputs": [
    {
     "name": "stdout",
     "output_type": "stream",
     "text": [
      "english_yoruba_phrasebook_1_padded.mp3 moved to Chap1\n",
      "no_english_yoruba_phrasebook_2_padded.mp3 moved to Chap1\n",
      "english_yoruba_phrasebook_3_padded.mp3 moved to Chap1\n",
      "english_yoruba_phrasebook_4_padded.mp3 moved to Chap1\n",
      "english_yoruba_phrasebook_5_padded.mp3 moved to Chap1\n",
      "english_yoruba_phrasebook_6_padded.mp3 moved to Chap1\n",
      "english_yoruba_phrasebook_7_padded.mp3 moved to Chap1\n",
      "english_yoruba_phrasebook_8_padded.mp3 moved to Chap1\n",
      "english_yoruba_phrasebook_9_padded.mp3 moved to Chap1\n",
      "english_yoruba_phrasebook_10_padded.mp3 moved to Chap1\n"
     ]
    }
   ],
   "source": [
    "\n",
    "with open(bilingual_phrases_path, encoding=\"utf -8-sig\") as f:\n",
    "    \n",
    "    phrases =  f.readlines()\n",
    " \n",
    "\n",
    "audio_files_plus_ext, audio_files = get_audio(bilingual_audios_folder, ext = [\"*.mp3\", \"*.wav\", \"*.ogg\", \"*.flac\"],check_subfolders=False)\n",
    "# Sort the file names alphabtically\n",
    "audio_files = natsorted(audio_files, key=lambda x: x.lower())\n",
    "\n",
    "\n",
    "for audio_ in audio_files_plus_ext:\n",
    "    \n",
    "    if '.mp3' in audio_:\n",
    "        audios_no_ext = audio_.split(\".\")[0] \n",
    "        i = get_digits_numbers_from_string(os.path.basename(audios_no_ext))\n",
    "        \n",
    "        if i:\n",
    "            chapter_name = chapter_name_func(i)\n",
    "            chapter_folder = os.path.join(os.getcwd(), chapter_name)\n",
    "            destination_path = os.path.join(chapter_folder, os.path.basename(audio_))\n",
    "\n",
    "            # Create the chapter directory if it doesn't exist\n",
    "            os.makedirs(chapter_name, exist_ok=True)\n",
    "\n",
    "            # Check if the file exists in the destination and remove it if it does\n",
    "            if os.path.exists(destination_path):\n",
    "                os.remove(destination_path)\n",
    "                print(f\"Existing file {os.path.basename(audio_)} in {chapter_name} overwritten.\")\n",
    "\n",
    "            # Move the file to the destination\n",
    "            shutil.move(audio_, chapter_folder)\n",
    "            print(f\"{os.path.basename(audio_)} moved to {chapter_name}\")\n"
   ]
  },
  {
   "cell_type": "code",
   "execution_count": null,
   "id": "72cd0803",
   "metadata": {},
   "outputs": [],
   "source": []
  },
  {
   "cell_type": "code",
   "execution_count": 23,
   "id": "d64ea534",
   "metadata": {
    "ExecuteTime": {
     "end_time": "2024-02-02T13:37:56.649924Z",
     "start_time": "2024-02-02T13:37:56.646399Z"
    },
    "execution": {
     "iopub.execute_input": "2024-03-11T00:15:23.033545Z",
     "iopub.status.busy": "2024-03-11T00:15:23.033545Z",
     "iopub.status.idle": "2024-03-11T00:15:23.036111Z",
     "shell.execute_reply": "2024-03-11T00:15:23.036111Z",
     "shell.execute_reply.started": "2024-03-11T00:15:23.033545Z"
    }
   },
   "outputs": [],
   "source": [
    "# Re-importing the necessary library and redefining the data as the code execution state was reset\n",
    "import re\n",
    "\n",
    "# def get_digits_numbers_from_string(s):\n",
    "#     number = int(re.search(r'\\d+', s).group())\n",
    "#     return number\n",
    "\n",
    "def get_sent_numbers_from_string(s):\n",
    "    sentence_number = int(re.search(r'\\d+', s).group())\n",
    "\n",
    "    return sentence_number\n",
    "def get_audio_numbers_from_string(s):\n",
    "    audio_number = int(re.search(r'_\\d+', s).group()[1:])\n",
    "    return audio_number \n",
    "\n",
    "# get_digits_numbers_from_string(phrases[0])"
   ]
  },
  {
   "cell_type": "code",
   "execution_count": 24,
   "id": "aea21ee2",
   "metadata": {
    "ExecuteTime": {
     "end_time": "2024-02-02T13:37:56.669417Z",
     "start_time": "2024-02-02T13:37:56.650936Z"
    },
    "execution": {
     "iopub.execute_input": "2024-03-11T00:15:23.039113Z",
     "iopub.status.busy": "2024-03-11T00:15:23.039113Z",
     "iopub.status.idle": "2024-03-11T00:15:23.061945Z",
     "shell.execute_reply": "2024-03-11T00:15:23.061945Z",
     "shell.execute_reply.started": "2024-03-11T00:15:23.039113Z"
    }
   },
   "outputs": [
    {
     "data": {
      "text/plain": [
       "['bilingual_sentences_chapters', 'Chap1']"
      ]
     },
     "execution_count": 24,
     "metadata": {},
     "output_type": "execute_result"
    }
   ],
   "source": [
    "import re\n",
    "from natsort import natsorted\n",
    "\n",
    "def create_audio_map(sorted_audio_file_names):\n",
    "    audio_map = {}\n",
    "    for file in sorted_audio_file_names:\n",
    "        match = re.search(r'_\\d+', file)\n",
    "        if match:\n",
    "            key = int(match.group()[1:])\n",
    "            audio_map[key] = file\n",
    "        else:\n",
    "            print(f\"Pattern not found in file: {file}\")\n",
    "    return {k: audio_map[k] for k in natsorted(audio_map)}\n",
    "\n",
    "\n",
    "def get_subfolder_names(directory):\n",
    "    return [name for name in os.listdir(directory)\n",
    "            if os.path.isdir(os.path.join(directory, name))]\n",
    "\n",
    "subfolders = get_subfolder_names(bilingual_audios_folder)\n",
    "\n",
    "chapters_subfolders = natsorted(subfolders, key=lambda x: x.lower())\n",
    "\n",
    "chapters_subfolders"
   ]
  },
  {
   "cell_type": "code",
   "execution_count": null,
   "id": "efc8666e",
   "metadata": {},
   "outputs": [],
   "source": []
  },
  {
   "cell_type": "code",
   "execution_count": null,
   "id": "d3581483",
   "metadata": {},
   "outputs": [],
   "source": []
  },
  {
   "cell_type": "code",
   "execution_count": 25,
   "id": "7dad1a46",
   "metadata": {
    "ExecuteTime": {
     "end_time": "2024-02-02T13:37:56.973341Z",
     "start_time": "2024-02-02T13:37:56.670423Z"
    },
    "code_folding": [],
    "execution": {
     "iopub.execute_input": "2024-03-11T00:15:23.063519Z",
     "iopub.status.busy": "2024-03-11T00:15:23.063519Z",
     "iopub.status.idle": "2024-03-11T00:15:23.086267Z",
     "shell.execute_reply": "2024-03-11T00:15:23.086267Z",
     "shell.execute_reply.started": "2024-03-11T00:15:23.063519Z"
    }
   },
   "outputs": [
    {
     "name": "stdout",
     "output_type": "stream",
     "text": [
      "Pattern not found in file: G:\\My Drive\\Data_Science\\Resulam\\Phrasebook_Audio_Video_Processing_production_Backup\\Languages\\YorubaPhrasebook\\bilingual_sentences\\bilingual_sentences_chapters\\1_CombineAudio.mp3\n",
      "Pattern not found in file: G:\\My Drive\\Data_Science\\Resulam\\Phrasebook_Audio_Video_Processing_production_Backup\\Languages\\YorubaPhrasebook\\bilingual_sentences\\bilingual_sentences_chapters\\phrasebook_yoruba_Chap1.mp3\n"
     ]
    },
    {
     "data": {
      "text/plain": [
       "{'1)  Chapter 1. Introductions.| Orí 1. Ìfáàrà.  |  Chapitre 1. Faire les présentations. \\n': 'G:\\\\My Drive\\\\Data_Science\\\\Resulam\\\\Phrasebook_Audio_Video_Processing_production_Backup\\\\Languages\\\\YorubaPhrasebook\\\\bilingual_sentences\\\\Chap1\\\\english_yoruba_phrasebook_1_padded.mp3',\n",
       " '2)  Introducing or talking about yourself, is the most instinctive thing in the world. At the end of this chapter, you will not only be able to present yourself correctly in the Yoruba language, but also to ask questions to your interlocutor to get to know him better.| Ṣíṣe àfihàn t tàbís sọ̀rọ̀ nípa ara ẹni, jẹ ohùn tí ó gba èrò ọpọlọ ní ayé yìí. Ní òpin ipele yìí, o ò ní lè ṣe àfihàn ara rẹ nìkan, wà á tún lè béèrè ìbéèrè lọ́wọ́ atọkùn láti lè mọ̀ nípa òun náà.  |  Se présenter, c’est-à-dire parler de soi est la chose la plus instinctive du monde. À la fin de ce chapitre, vous serez en mesure non seulement de vous présenter correctement en langue Yoruba, mais aussi de poser les questions à votre interlocuteur pour mieux le connaitre. \\n': 'G:\\\\My Drive\\\\Data_Science\\\\Resulam\\\\Phrasebook_Audio_Video_Processing_production_Backup\\\\Languages\\\\YorubaPhrasebook\\\\bilingual_sentences\\\\Chap1\\\\no_english_yoruba_phrasebook_2_padded.mp3',\n",
       " '3)  Hello.| Ẹ ǹ lẹ́.  |  Salut. \\n': 'G:\\\\My Drive\\\\Data_Science\\\\Resulam\\\\Phrasebook_Audio_Video_Processing_production_Backup\\\\Languages\\\\YorubaPhrasebook\\\\bilingual_sentences\\\\Chap1\\\\english_yoruba_phrasebook_3_padded.mp3',\n",
       " '4)  Hello my brother/sister.| Ẹ ǹ lẹ́, arákùnrin/arábìnrin mi.  |  Salut mon frère/ma sœur. \\n': 'G:\\\\My Drive\\\\Data_Science\\\\Resulam\\\\Phrasebook_Audio_Video_Processing_production_Backup\\\\Languages\\\\YorubaPhrasebook\\\\bilingual_sentences\\\\Chap1\\\\english_yoruba_phrasebook_4_padded.mp3',\n",
       " '5)  How are you ?| Báwo ni?  |  Comment ça va ? \\n': 'G:\\\\My Drive\\\\Data_Science\\\\Resulam\\\\Phrasebook_Audio_Video_Processing_production_Backup\\\\Languages\\\\YorubaPhrasebook\\\\bilingual_sentences\\\\Chap1\\\\english_yoruba_phrasebook_5_padded.mp3',\n",
       " '6)  I am fine.| Mo wà dáadáa.  |  Ça va bien. \\n': 'G:\\\\My Drive\\\\Data_Science\\\\Resulam\\\\Phrasebook_Audio_Video_Processing_production_Backup\\\\Languages\\\\YorubaPhrasebook\\\\bilingual_sentences\\\\Chap1\\\\english_yoruba_phrasebook_6_padded.mp3',\n",
       " '7)  I am fine, thank you.| Mo wà dáadáa, ẹ sé.  |  Ça va bien, merci. \\n': 'G:\\\\My Drive\\\\Data_Science\\\\Resulam\\\\Phrasebook_Audio_Video_Processing_production_Backup\\\\Languages\\\\YorubaPhrasebook\\\\bilingual_sentences\\\\Chap1\\\\english_yoruba_phrasebook_7_padded.mp3',\n",
       " '8)  How about you?| Ìwọ ń kó?  |  Et toi? \\n': 'G:\\\\My Drive\\\\Data_Science\\\\Resulam\\\\Phrasebook_Audio_Video_Processing_production_Backup\\\\Languages\\\\YorubaPhrasebook\\\\bilingual_sentences\\\\Chap1\\\\english_yoruba_phrasebook_8_padded.mp3',\n",
       " '9)  I am in good health, thank you.| Mo wà ní àlàáfíà, ẹ sé.  |  Je suis en santé, merci. \\n': 'G:\\\\My Drive\\\\Data_Science\\\\Resulam\\\\Phrasebook_Audio_Video_Processing_production_Backup\\\\Languages\\\\YorubaPhrasebook\\\\bilingual_sentences\\\\Chap1\\\\english_yoruba_phrasebook_9_padded.mp3',\n",
       " '10)  Who are you?| Ta ni ọ́?  |  Qui es-tu ? \\n': 'G:\\\\My Drive\\\\Data_Science\\\\Resulam\\\\Phrasebook_Audio_Video_Processing_production_Backup\\\\Languages\\\\YorubaPhrasebook\\\\bilingual_sentences\\\\Chap1\\\\english_yoruba_phrasebook_10_padded.mp3'}"
      ]
     },
     "execution_count": 25,
     "metadata": {},
     "output_type": "execute_result"
    }
   ],
   "source": [
    "# for i in len(audio_files):\n",
    "#     sentence_number = get_sent_numbers_from_string(phrases[i])\n",
    "#     audio_number = get_audio_numbers_from_string(audio_files[i])\n",
    "\n",
    "\n",
    "def map_audio_and_sentences(phrases,audios_subfolder):\n",
    "    \n",
    "    \n",
    "    audio_files_plus_ext, audio_files = get_audio(audios_subfolder, \n",
    "                                                  ext = [\"*.mp3\", \"*.wav\", \"*.ogg\", \"*.flac\"],\n",
    "                                                  check_subfolders=False)\n",
    "    # Sort the file names alphabtically\n",
    "    audio_files = natsorted(audio_files, key=lambda x: x.lower())\n",
    "    audio_files_plus_ext = natsorted(audio_files_plus_ext, key=lambda x: x.lower())\n",
    "    \n",
    "    \n",
    "    # Extracting the numbers from phrases and audio files\n",
    "    phrase_numbers = {int(re.search(r'\\d+', phrase).group()):phrase for phrase in phrases}\n",
    "    # audio_numbers =  {int(re.search(r'_\\d+', file).group()[1:]): file for file in audio_files_plus_ext}\n",
    "    audio_numbers = create_audio_map(audio_files_plus_ext)\n",
    "\n",
    "    # # Mapping phrases to their corresponding audio files based on the extracted numbers\n",
    "    # phrase_audio_map = {phrases[phrase_numbers.index(num)]: audio_files_plus_ext[audio_numbers.index(num)] \n",
    "    #                     for num in phrase_numbers if num in audio_numbers}\n",
    "\n",
    "    phrase_audio_map = {phrase_numbers[i]: audio_numbers[i] for i in audio_numbers if i in phrase_numbers}\n",
    "\n",
    "    phrase_audio_map = {k: phrase_audio_map[k] for k in natsorted(phrase_audio_map)}\n",
    "\n",
    "    \n",
    "    return phrase_audio_map\n",
    "#     display(phrase_audio_map_first_10)\n",
    "\n",
    "for chap in chapters_subfolders:\n",
    "    \n",
    "    \n",
    "    chap_subfolder_dir = os.path.join(bilingual_audios_folder,chap,\"\")\n",
    "    os.chdir(chap_subfolder_dir)\n",
    "    \n",
    "    phrase_audio_map = map_audio_and_sentences(phrases,chap_subfolder_dir)\n",
    "    phrase_audio_map_first_10 = dict(list(phrase_audio_map.items()))\n",
    "phrase_audio_map_first_10"
   ]
  },
  {
   "cell_type": "code",
   "execution_count": 26,
   "id": "6b90dbe5",
   "metadata": {
    "ExecuteTime": {
     "end_time": "2024-02-02T13:37:56.977157Z",
     "start_time": "2024-02-02T13:37:56.974348Z"
    },
    "execution": {
     "iopub.execute_input": "2024-03-11T00:15:23.087270Z",
     "iopub.status.busy": "2024-03-11T00:15:23.087270Z",
     "iopub.status.idle": "2024-03-11T00:15:23.090308Z",
     "shell.execute_reply": "2024-03-11T00:15:23.090308Z",
     "shell.execute_reply.started": "2024-03-11T00:15:23.087270Z"
    }
   },
   "outputs": [
    {
     "data": {
      "text/plain": [
       "'Yoruba'"
      ]
     },
     "execution_count": 26,
     "metadata": {},
     "output_type": "execute_result"
    }
   ],
   "source": [
    "lln"
   ]
  },
  {
   "cell_type": "code",
   "execution_count": null,
   "id": "9613b932",
   "metadata": {
    "ExecuteTime": {
     "end_time": "2023-12-23T03:39:24.389793Z",
     "start_time": "2023-12-23T03:39:24.380246Z"
    }
   },
   "outputs": [],
   "source": []
  },
  {
   "cell_type": "code",
   "execution_count": 27,
   "id": "4c00d787",
   "metadata": {
    "ExecuteTime": {
     "end_time": "2024-02-02T13:37:56.983101Z",
     "start_time": "2024-02-02T13:37:56.978167Z"
    },
    "code_folding": [
     0
    ],
    "execution": {
     "iopub.execute_input": "2024-03-11T00:15:23.092311Z",
     "iopub.status.busy": "2024-03-11T00:15:23.091312Z",
     "iopub.status.idle": "2024-03-11T00:15:23.096246Z",
     "shell.execute_reply": "2024-03-11T00:15:23.096246Z",
     "shell.execute_reply.started": "2024-03-11T00:15:23.092311Z"
    }
   },
   "outputs": [],
   "source": [
    "chapter_ranges = {\n",
    "    \"1-173\": \"Chap1\",\n",
    "    \"174-240\": \"Chap2\",\n",
    "    \"241-258\": \"Chap3\",\n",
    "    \"259-407\": \"Chap4\",\n",
    "    \"408-543\": \"Chap5\",\n",
    "    \"544-568\": \"Chap6\",\n",
    "    \"569-703\": \"Chap7\",\n",
    "    \"704-788\": \"Chap8\",\n",
    "    \"789-930\": \"Chap9\",\n",
    "    \"931-991\": \"Chap10\",\n",
    "    \"992-1011\": \"Chap11\",\n",
    "    \"1012-1036\": \"Chap12\",\n",
    "    \"1037-1074\": \"Chap13\",\n",
    "    \"1075-1104\": \"Chap14\",\n",
    "    \"1105-1125\": \"Chap15\",\n",
    "    \"1126-1152\": \"Chap16\",\n",
    "    \"1153-1195\": \"Chap17\",\n",
    "    \"1196-1218\": \"Chap18\",\n",
    "    \"1219-1248\": \"Chap19\",\n",
    "    \"1249-1279\": \"Chap20\",\n",
    "    \"1280-1303\": \"Chap21\",\n",
    "    \"1304-1366\": \"Chap22\",\n",
    "    \"1367-1407\": \"Chap23\",\n",
    "    \"1408-1471\": \"Chap24\",\n",
    "    \"1472-1500\": \"Chap25\",\n",
    "    \"1501-1569\": \"Chap26\",\n",
    "    \"1570-1650\": \"Chap27\",\n",
    "    \"1651-1717\": \"Chap28\",\n",
    "    \"1718-1947\": \"Chap29\",\n",
    "    \"1948-1964\": \"Chap30\",\n",
    "    \"1965-1999\": \"Chap31\",\n",
    "    \"2000-2044\": \"Chap32\"\n",
    "}\n",
    "\n",
    "missing_audio_english = []\n",
    "# english_nufi_phrasebook_1108.mp3\n",
    "Chapters_begining = []\n",
    "Chapters_ending = []\n",
    "\n",
    "for i in chapter_ranges:\n",
    "    beg = int(i.split(\"-\")[0])\n",
    "\n",
    "    end = int(i.split(\"-\")[1])\n",
    "    missing_audio_english.append(beg+1)\n",
    "    \n",
    "\n",
    "\n"
   ]
  },
  {
   "cell_type": "code",
   "execution_count": null,
   "id": "682038cc",
   "metadata": {
    "ExecuteTime": {
     "end_time": "2024-01-01T00:06:14.421723Z",
     "start_time": "2024-01-01T00:06:14.416573Z"
    },
    "code_folding": []
   },
   "outputs": [],
   "source": []
  },
  {
   "cell_type": "code",
   "execution_count": null,
   "id": "8695d808",
   "metadata": {
    "ExecuteTime": {
     "end_time": "2024-01-01T00:06:14.692627Z",
     "start_time": "2024-01-01T00:06:14.686844Z"
    }
   },
   "outputs": [],
   "source": []
  },
  {
   "cell_type": "code",
   "execution_count": 28,
   "id": "d704f4a7",
   "metadata": {
    "ExecuteTime": {
     "end_time": "2024-02-02T13:37:57.148790Z",
     "start_time": "2024-02-02T13:37:56.984114Z"
    },
    "execution": {
     "iopub.execute_input": "2024-03-11T00:15:23.097249Z",
     "iopub.status.busy": "2024-03-11T00:15:23.097249Z",
     "iopub.status.idle": "2024-03-11T00:15:23.117069Z",
     "shell.execute_reply": "2024-03-11T00:15:23.117069Z",
     "shell.execute_reply.started": "2024-03-11T00:15:23.097249Z"
    }
   },
   "outputs": [
    {
     "data": {
      "text/plain": [
       "{'1)  Chapter 1. Introductions.| Orí 1. Ìfáàrà.  |  Chapitre 1. Faire les présentations. \\n': 'G:\\\\My Drive\\\\Data_Science\\\\Resulam\\\\Phrasebook_Audio_Video_Processing_production_Backup\\\\Languages\\\\YorubaPhrasebook\\\\YorubaOnly\\\\yoruba_phrasebook_1.mp3',\n",
       " '2)  Introducing or talking about yourself, is the most instinctive thing in the world. At the end of this chapter, you will not only be able to present yourself correctly in the Yoruba language, but also to ask questions to your interlocutor to get to know him better.| Ṣíṣe àfihàn t tàbís sọ̀rọ̀ nípa ara ẹni, jẹ ohùn tí ó gba èrò ọpọlọ ní ayé yìí. Ní òpin ipele yìí, o ò ní lè ṣe àfihàn ara rẹ nìkan, wà á tún lè béèrè ìbéèrè lọ́wọ́ atọkùn láti lè mọ̀ nípa òun náà.  |  Se présenter, c’est-à-dire parler de soi est la chose la plus instinctive du monde. À la fin de ce chapitre, vous serez en mesure non seulement de vous présenter correctement en langue Yoruba, mais aussi de poser les questions à votre interlocuteur pour mieux le connaitre. \\n': 'G:\\\\My Drive\\\\Data_Science\\\\Resulam\\\\Phrasebook_Audio_Video_Processing_production_Backup\\\\Languages\\\\YorubaPhrasebook\\\\YorubaOnly\\\\yoruba_phrasebook_2.mp3',\n",
       " '3)  Hello.| Ẹ ǹ lẹ́.  |  Salut. \\n': 'G:\\\\My Drive\\\\Data_Science\\\\Resulam\\\\Phrasebook_Audio_Video_Processing_production_Backup\\\\Languages\\\\YorubaPhrasebook\\\\YorubaOnly\\\\yoruba_phrasebook_3.mp3',\n",
       " '4)  Hello my brother/sister.| Ẹ ǹ lẹ́, arákùnrin/arábìnrin mi.  |  Salut mon frère/ma sœur. \\n': 'G:\\\\My Drive\\\\Data_Science\\\\Resulam\\\\Phrasebook_Audio_Video_Processing_production_Backup\\\\Languages\\\\YorubaPhrasebook\\\\YorubaOnly\\\\yoruba_phrasebook_4.mp3',\n",
       " '5)  How are you ?| Báwo ni?  |  Comment ça va ? \\n': 'G:\\\\My Drive\\\\Data_Science\\\\Resulam\\\\Phrasebook_Audio_Video_Processing_production_Backup\\\\Languages\\\\YorubaPhrasebook\\\\YorubaOnly\\\\yoruba_phrasebook_5.mp3',\n",
       " '6)  I am fine.| Mo wà dáadáa.  |  Ça va bien. \\n': 'G:\\\\My Drive\\\\Data_Science\\\\Resulam\\\\Phrasebook_Audio_Video_Processing_production_Backup\\\\Languages\\\\YorubaPhrasebook\\\\YorubaOnly\\\\yoruba_phrasebook_6.mp3',\n",
       " '7)  I am fine, thank you.| Mo wà dáadáa, ẹ sé.  |  Ça va bien, merci. \\n': 'G:\\\\My Drive\\\\Data_Science\\\\Resulam\\\\Phrasebook_Audio_Video_Processing_production_Backup\\\\Languages\\\\YorubaPhrasebook\\\\YorubaOnly\\\\yoruba_phrasebook_7.mp3',\n",
       " '8)  How about you?| Ìwọ ń kó?  |  Et toi? \\n': 'G:\\\\My Drive\\\\Data_Science\\\\Resulam\\\\Phrasebook_Audio_Video_Processing_production_Backup\\\\Languages\\\\YorubaPhrasebook\\\\YorubaOnly\\\\yoruba_phrasebook_8.mp3',\n",
       " '9)  I am in good health, thank you.| Mo wà ní àlàáfíà, ẹ sé.  |  Je suis en santé, merci. \\n': 'G:\\\\My Drive\\\\Data_Science\\\\Resulam\\\\Phrasebook_Audio_Video_Processing_production_Backup\\\\Languages\\\\YorubaPhrasebook\\\\YorubaOnly\\\\yoruba_phrasebook_9.mp3',\n",
       " '10)  Who are you?| Ta ni ọ́?  |  Qui es-tu ? \\n': 'G:\\\\My Drive\\\\Data_Science\\\\Resulam\\\\Phrasebook_Audio_Video_Processing_production_Backup\\\\Languages\\\\YorubaPhrasebook\\\\YorubaOnly\\\\yoruba_phrasebook_10.mp3'}"
      ]
     },
     "execution_count": 28,
     "metadata": {},
     "output_type": "execute_result"
    }
   ],
   "source": [
    "phrase_audio_map2 = map_audio_and_sentences(phrases,local_audios_folder)\n",
    "phrase_audio_map2"
   ]
  },
  {
   "cell_type": "code",
   "execution_count": 29,
   "id": "dcfdbbc0",
   "metadata": {
    "ExecuteTime": {
     "end_time": "2024-02-02T13:37:57.158737Z",
     "start_time": "2024-02-02T13:37:57.149830Z"
    },
    "execution": {
     "iopub.execute_input": "2024-03-11T00:15:23.118072Z",
     "iopub.status.busy": "2024-03-11T00:15:23.118072Z",
     "iopub.status.idle": "2024-03-11T00:15:23.124277Z",
     "shell.execute_reply": "2024-03-11T00:15:23.123273Z",
     "shell.execute_reply.started": "2024-03-11T00:15:23.118072Z"
    }
   },
   "outputs": [
    {
     "name": "stdout",
     "output_type": "stream",
     "text": [
      "1\n"
     ]
    },
    {
     "data": {
      "text/plain": [
       "{'2)  Introducing or talking about yourself, is the most instinctive thing in the world. At the end of this chapter, you will not only be able to present yourself correctly in the Yoruba language, but also to ask questions to your interlocutor to get to know him better.| Ṣíṣe àfihàn t tàbís sọ̀rọ̀ nípa ara ẹni, jẹ ohùn tí ó gba èrò ọpọlọ ní ayé yìí. Ní òpin ipele yìí, o ò ní lè ṣe àfihàn ara rẹ nìkan, wà á tún lè béèrè ìbéèrè lọ́wọ́ atọkùn láti lè mọ̀ nípa òun náà.  |  Se présenter, c’est-à-dire parler de soi est la chose la plus instinctive du monde. À la fin de ce chapitre, vous serez en mesure non seulement de vous présenter correctement en langue Yoruba, mais aussi de poser les questions à votre interlocuteur pour mieux le connaitre. \\n': 'G:\\\\My Drive\\\\Data_Science\\\\Resulam\\\\Phrasebook_Audio_Video_Processing_production_Backup\\\\Languages\\\\YorubaPhrasebook\\\\YorubaOnly\\\\yoruba_phrasebook_2.mp3'}"
      ]
     },
     "execution_count": 29,
     "metadata": {},
     "output_type": "execute_result"
    }
   ],
   "source": [
    "\n",
    "import re\n",
    "\n",
    "def get_missing_phrase_audio_map(phrase_audio_map):\n",
    "\n",
    "    missing_phrases = {}\n",
    "    for k,v in phrase_audio_map.items():\n",
    "\n",
    "        # Extract numbers at the beginning of each line followed by a closing parenthesis\n",
    "        numbers = re.findall(r\"\\d+\\)\", k)\n",
    "        numbers = numbers[0].strip(')')\n",
    "        if int(numbers) in missing_audio_english:\n",
    "\n",
    "            missing_phrases.update({k:v})\n",
    "\n",
    "    return missing_phrases\n",
    "missing_phrase_audio_map = get_missing_phrase_audio_map(phrase_audio_map2)\n",
    "\n",
    "print(len(missing_phrase_audio_map))\n",
    "missing_phrase_audio_map"
   ]
  },
  {
   "cell_type": "code",
   "execution_count": null,
   "id": "029a6329",
   "metadata": {
    "ExecuteTime": {
     "end_time": "2023-12-23T03:39:24.407869Z",
     "start_time": "2023-12-23T03:39:24.396323Z"
    }
   },
   "outputs": [],
   "source": []
  },
  {
   "cell_type": "code",
   "execution_count": 30,
   "id": "17e60498",
   "metadata": {
    "ExecuteTime": {
     "end_time": "2024-02-02T13:37:57.168125Z",
     "start_time": "2024-02-02T13:37:57.159787Z"
    },
    "execution": {
     "iopub.execute_input": "2024-03-11T00:15:23.126275Z",
     "iopub.status.busy": "2024-03-11T00:15:23.125276Z",
     "iopub.status.idle": "2024-03-11T00:15:23.129606Z",
     "shell.execute_reply": "2024-03-11T00:15:23.129606Z",
     "shell.execute_reply.started": "2024-03-11T00:15:23.126275Z"
    }
   },
   "outputs": [],
   "source": [
    "darkyellow = '#CCCC00'\n",
    "line_height = 10  # Adjust as needed for spacing between lines\n",
    "fontsize = 90     # Adjust as needed\n",
    "delay = 3"
   ]
  },
  {
   "cell_type": "markdown",
   "id": "78d82c33",
   "metadata": {},
   "source": [
    "# Fit Multiple Text to Screen Area"
   ]
  },
  {
   "cell_type": "code",
   "execution_count": null,
   "id": "6ef141c5",
   "metadata": {},
   "outputs": [],
   "source": []
  },
  {
   "cell_type": "code",
   "execution_count": null,
   "id": "097a110a",
   "metadata": {},
   "outputs": [],
   "source": []
  },
  {
   "cell_type": "code",
   "execution_count": 31,
   "id": "c8a8b982",
   "metadata": {
    "ExecuteTime": {
     "end_time": "2024-02-02T13:37:57.176193Z",
     "start_time": "2024-02-02T13:37:57.169165Z"
    },
    "code_folding": [
     30
    ],
    "execution": {
     "iopub.execute_input": "2024-03-11T00:15:23.130609Z",
     "iopub.status.busy": "2024-03-11T00:15:23.130609Z",
     "iopub.status.idle": "2024-03-11T00:15:23.137111Z",
     "shell.execute_reply": "2024-03-11T00:15:23.137111Z",
     "shell.execute_reply.started": "2024-03-11T00:15:23.130609Z"
    }
   },
   "outputs": [],
   "source": [
    "from moviepy.editor import TextClip, CompositeVideoClip\n",
    "\n",
    "def fit_multi_lang_to_screen(multi_lingual_sentence = \"sentence 1. sentence 2. sentence 3\",\n",
    "                             sentences_duration = 3,\n",
    "                             fontsize=90, screen_width=1920, screen_height=1080, \n",
    "                             txt_separator=\".\", y_pos=0, \n",
    "                             color1=\"white\", color2=\"yellow\", \n",
    "                             screen_fraction=1/2, decrease_font_increment = 2, flag_bilingual = True):\n",
    "    \"\"\"\n",
    "    Generates a composite video clip from a multi-lingual sentence. Each part of the sentence\n",
    "    is displayed as a text clip with alternating colors and is dynamically sized to fit within\n",
    "    a specified fraction of the screen height.\n",
    "\n",
    "    Parameters:\n",
    "    - multi_lingual_sentence (str): The multi-lingual sentence(s) to be displayed.\n",
    "    - fontsize (int): Initial font size for the text.\n",
    "    - screen_width (int): Width of the video screen.\n",
    "    - screen_height (int): Height of the video screen.\n",
    "    - txt_separator (str): Separator used for splitting the multi-lingual sentence.\n",
    "    - y_pos (int): Initial vertical position for the first text clip.\n",
    "    - color1 (str): First color for text.\n",
    "    - color2 (str): Second color for text.\n",
    "    - screen_fraction (float): Fraction of screen height for displaying text.\n",
    "\n",
    "    Returns:\n",
    "    - CompositeVideoClip: A composite video clip of the multi-lingual sentence.\n",
    "    \"\"\"\n",
    "\n",
    "    screensize = (screen_width, screen_height)\n",
    "    max_width = screen_width\n",
    "\n",
    "#     def calculate_appropriate_font_size(sentences, font_name, fontsize, max_width, \n",
    "#                                         screen_height,decrease_font_increment=3):\n",
    "#         \"\"\"\n",
    "#         Calculates the appropriate font size so that all sentences fit within the screen height.\n",
    "#         \"\"\"\n",
    "#         def check_total_height(sentences, font_name, fontsize, max_width, screen_height):\n",
    "#             total_height = 0\n",
    "#             for sentence in sentences:\n",
    "#                 clip = TextClip(sentence, fontsize=fontsize, font=font_name, color='white', size=(max_width, None), method='caption')\n",
    "#                 total_height += clip.size[1]\n",
    "#                 if total_height > screen_height:\n",
    "#                     return False\n",
    "#             return True\n",
    "\n",
    "#         while not check_total_height(sentences, font_name, fontsize, max_width, screen_height) and fontsize > 10:\n",
    "#             fontsize -= decrease_font_increment\n",
    "#             print(\"Calculating appropriate font size:\",fontsize)\n",
    "#         return fontsize\n",
    "    \n",
    "    if flag_bilingual:\n",
    "        sentences = [sentence.strip() for sentence in multi_lingual_sentence.split(txt_separator) if sentence]\n",
    "    else:\n",
    "        sentences = [multi_lingual_sentence.split(txt_separator)[0]]\n",
    "        \n",
    "    max_text_height = screen_height * screen_fraction\n",
    "    fontsize = calculate_appropriate_font_size(sentences, font_name, fontsize, max_width, \n",
    "                                               max_text_height,decrease_font_increment)\n",
    "\n",
    "    text_clips = []\n",
    "    for index, sentence in enumerate(sentences):\n",
    "        color = color1 if index % 2 == 0 else color2\n",
    "        clip = TextClip(sentence, fontsize=fontsize, color=color, font=font_name, \n",
    "                        size=(max_width, None), method='caption').set_position(('center', y_pos))\n",
    "        text_clips.append(clip.set_duration(sentences_duration))\n",
    "        y_pos += clip.size[1] + 10\n",
    "        \n",
    "        \n",
    "\n",
    "#     total_duration = sum(clip.duration for clip in text_clips)\n",
    "    \n",
    "\n",
    "    composite_clip = CompositeVideoClip(text_clips, size=screensize)\n",
    "    \n",
    "#     composite_clip.duration = sentences_duration\n",
    "\n",
    "    return composite_clip\n",
    "\n",
    "multi_lingual_sentence = \"sentence 1. sentence 2. sentence 3\"\n",
    "multi_lingual_sentence = \"Làh ndɑ́’sí nā wěn mɑ́ ntûmbhì wū yì mbɑ̀wɑ̄lɑ́ nnēē nkwá’sí làh ngʉ́ sīècɑ́’ è lɑ́. Ǒ ìndī’ měh béé sìèsì lè mɑ̀ ǒ còh nzhī làh ndɑ́’sí nā ō, mbát nté’sí nǔ mbhí wèn yì yēē pɑ́h í mɑ̀nsāhnù lɑ́, ɑ́ lǎh cǒh zhī ì. | Ṣíṣe àfihàn t tàbís sọ̀rọ̀ nípa ara ẹni, jẹ ohùn tí ó gba èrò ọpọlọ ní ayé yìí. Ní òpin ipele yìí, o ò ní lè ṣe àfihàn ara rẹ nìkan, wà á tún lè béèrè ìbéèrè lọ́wọ́ atọkùn láti lè mọ̀ nípa òun náà. | Se présenter, c’est-à-dire parler de soi est la chose la plus instinctive du monde. À la fin de ce chapitre, vous serez en mesure non seulement de vous présenter correctement en langue fè'éfě'è, mais aussi de poser les questions à votre interlocuteur pour mieux le connaitre. | Introducing or talking about yourself, is the most instinctive thing in the world. At the end of this chapter, you will not only be able to present yourself correctly in the Fè'éfě'è 'language, but also to ask questions to your interlocutor to get to know him better.\" \n",
    "\n",
    "txt_separator = \".\"\n",
    "font_name = font_path  # Replace with your actual font path\n",
    "fontsize = 30\n",
    "white = 'white'\n",
    "darkyellow = '#FFD700'  # Dark yellow\n",
    "y_start_position = 0\n",
    "\n",
    "# composite_clip = fit_multi_lang_to_screen(multi_lingual_sentence=multi_lingual_sentence,\n",
    "#                                           sentences_duration = 10,\n",
    "#                                           fontsize=fontsize,\n",
    "#                              screen_width = 1920, \n",
    "#                              screen_height = 1080,  \n",
    "#                              txt_separator = txt_separator,y_pos = y_start_position,\n",
    "#                              color1 =white,\n",
    "#                              color2 =darkyellow,\n",
    "#                              screen_fraction = 1/2,\n",
    "#                              decrease_font_increment = 10)\n",
    "# composite_clip.write_videofile(\"test_video_2.mp4\", fps=24)\n"
   ]
  },
  {
   "cell_type": "markdown",
   "id": "b2df22e1",
   "metadata": {},
   "source": [
    "# Teleprompter"
   ]
  },
  {
   "cell_type": "code",
   "execution_count": null,
   "id": "001ab363",
   "metadata": {},
   "outputs": [],
   "source": []
  },
  {
   "cell_type": "code",
   "execution_count": 32,
   "id": "29526c44",
   "metadata": {
    "ExecuteTime": {
     "end_time": "2024-02-02T13:37:57.180760Z",
     "start_time": "2024-02-02T13:37:57.177368Z"
    },
    "code_folding": [
     2
    ],
    "execution": {
     "iopub.execute_input": "2024-03-11T00:15:23.138114Z",
     "iopub.status.busy": "2024-03-11T00:15:23.138114Z",
     "iopub.status.idle": "2024-03-11T00:15:23.143529Z",
     "shell.execute_reply": "2024-03-11T00:15:23.142525Z",
     "shell.execute_reply.started": "2024-03-11T00:15:23.138114Z"
    }
   },
   "outputs": [],
   "source": [
    "# from moviepy.editor import TextClip, concatenate_videoclips\n",
    "\n",
    "# def teleprompter(multi_lingual_sentence, fontsize, screen_width, screen_height, \n",
    "#                              txt_separator, color1, color2, decrease_font_increment=2):\n",
    "#     \"\"\"\n",
    "#     Generates a series of video clips from a multi-lingual sentence, each displayed \n",
    "#     one at a time with alternating colors.\n",
    "\n",
    "#     Parameters:\n",
    "#     - multi_lingual_sentence (str): The multi-lingual sentence(s) to be displayed.\n",
    "#     - fontsize (int): Initial font size for the text.\n",
    "#     - screen_width (int): Width of the video screen.\n",
    "#     - screen_height (int): Height of the video screen.\n",
    "#     - txt_separator (str): Separator used for splitting the multi-lingual sentence.\n",
    "#     - color1 (str): First color for text.\n",
    "#     - color2 (str): Second color for text.\n",
    "\n",
    "#     Returns:\n",
    "#     - final_clip: A concatenated video clip of all sentences.\n",
    "#     \"\"\"\n",
    "\n",
    "#     screensize = (screen_width, screen_height)\n",
    "#     max_width = screen_width\n",
    "#     y_pos = screen_height // 2\n",
    "\n",
    "#     sentences = [sentence.strip() for sentence in multi_lingual_sentence.split(txt_separator) if sentence]\n",
    "\n",
    "#     video_clips = []\n",
    "#     for index, sentence in enumerate(sentences):\n",
    "#         color = color1 if index % 2 == 0 else color2\n",
    "\n",
    "#         # Adjust font size for the sentence\n",
    "#         clip = TextClip(sentence, fontsize=fontsize, color=color, font=font_name,\n",
    "#                         size=(max_width, None), method='caption').set_position(('center', y_pos))\n",
    "\n",
    "#         # Set the duration for each clip and append to the list\n",
    "#         video_clips.append(clip.set_duration(15))\n",
    "\n",
    "#     # Concatenate all video clips into a final clip\n",
    "#     final_clip = concatenate_videoclips(video_clips, method=\"compose\")\n",
    "\n",
    "#     return final_clip\n",
    "\n",
    "\n",
    "# multi_lingual_sentence = \"Làh ndɑ́’sí nā wěn mɑ́ ntûmbhì wū yì mbɑ̀wɑ̄lɑ́ nnēē nkwá’sí làh ngʉ́ sīècɑ́’ è lɑ́. Ǒ ìndī’ měh béé sìèsì lè mɑ̀ ǒ còh nzhī làh ndɑ́’sí nā ō, mbát nté’sí nǔ mbhí wèn yì yēē pɑ́h í mɑ̀nsāhnù lɑ́, ɑ́ lǎh cǒh zhī ì. | Ṣíṣe àfihàn t tàbís sọ̀rọ̀ nípa ara ẹni, jẹ ohùn tí ó gba èrò ọpọlọ ní ayé yìí. Ní òpin ipele yìí, o ò ní lè ṣe àfihàn ara rẹ nìkan, wà á tún lè béèrè ìbéèrè lọ́wọ́ atọkùn láti lè mọ̀ nípa òun náà. | Se présenter, c’est-à-dire parler de soi est la chose la plus instinctive du monde. À la fin de ce chapitre, vous serez en mesure non seulement de vous présenter correctement en langue fè'éfě'è, mais aussi de poser les questions à votre interlocuteur pour mieux le connaitre. | Introducing or talking about yourself, is the most instinctive thing in the world. At the end of this chapter, you will not only be able to present yourself correctly in the Fè'éfě'è 'language, but also to ask questions to your interlocutor to get to know him better.\" \n",
    "\n",
    "# txt_separator = \".\"\n",
    "# font_name = font_path  # Replace with your actual font path\n",
    "# fontsize = 90\n",
    "# color1 = 'white'\n",
    "# color2 = '#FFD700'  # Dark yellow\n",
    "\n",
    "# final_clip = teleprompter(multi_lingual_sentence, fontsize, 1920, 1080, txt_separator, color1, color2)\n",
    "# final_clip.write_videofile(\"teleprompter_video.mp4\", fps=24)\n"
   ]
  },
  {
   "cell_type": "code",
   "execution_count": 33,
   "id": "579e96bd",
   "metadata": {
    "ExecuteTime": {
     "end_time": "2024-02-02T13:37:57.186872Z",
     "start_time": "2024-02-02T13:37:57.181769Z"
    },
    "code_folding": [],
    "execution": {
     "iopub.execute_input": "2024-03-11T00:15:23.144528Z",
     "iopub.status.busy": "2024-03-11T00:15:23.144528Z",
     "iopub.status.idle": "2024-03-11T00:15:23.151191Z",
     "shell.execute_reply": "2024-03-11T00:15:23.151191Z",
     "shell.execute_reply.started": "2024-03-11T00:15:23.144528Z"
    }
   },
   "outputs": [],
   "source": [
    "from moviepy.editor import TextClip, concatenate_videoclips\n",
    "\n",
    "def teleprompter_normalized(multi_lingual_sentence, fontsize, screen_width, screen_height, \n",
    "                             txt_separator, color1, color2, seconds_per_word=1):\n",
    "    \"\"\"\n",
    "    Generates a series of video clips from a multi-lingual sentence, each displayed \n",
    "    one at a time with alternating colors, and with clip duration proportional to \n",
    "    the number of words.\n",
    "\n",
    "    Parameters:\n",
    "    - multi_lingual_sentence (str): The multi-lingual sentence(s) to be displayed.\n",
    "    - fontsize (int): Initial font size for the text.\n",
    "    - screen_width (int): Width of the video screen.\n",
    "    - screen_height (int): Height of the video screen.\n",
    "    - txt_separator (str): Separator used for splitting the multi-lingual sentence.\n",
    "    - color1 (str): First color for text.\n",
    "    - color2 (str): Second color for text.\n",
    "    - seconds_per_word (int): Number of seconds per word for clip duration.\n",
    "\n",
    "    Returns:\n",
    "    - final_clip: A concatenated video clip of all sentences.\n",
    "    \"\"\"\n",
    "\n",
    "    screensize = (screen_width, screen_height)\n",
    "    max_width = screen_width\n",
    "    y_pos = screen_height // 2\n",
    "\n",
    "    sentences = [sentence.strip() for sentence in multi_lingual_sentence.split(txt_separator) if sentence]\n",
    "\n",
    "    video_clips = []\n",
    "    for index, sentence in enumerate(sentences):\n",
    "        color = color1 if index % 2 == 0 else color2\n",
    "        words = sentence.split()\n",
    "        clip_duration = max(5, len(words) * seconds_per_word)  # Ensure a minimum duration\n",
    "\n",
    "        # Adjust font size for the sentence\n",
    "        clip = TextClip(sentence, fontsize=fontsize, color=color, font=font_name,\n",
    "                        size=(max_width, None), method='caption').set_position(('center', y_pos))\n",
    "\n",
    "        # Set the proportional duration for each clip and append to the list\n",
    "        video_clips.append(clip.set_duration(clip_duration))\n",
    "\n",
    "    # Concatenate all video clips into a final clip\n",
    "    final_clip = concatenate_videoclips(video_clips, method=\"compose\")\n",
    "\n",
    "    return final_clip\n",
    "\n",
    "# Example usage\n",
    "multi_lingual_sentence = \"Làh ndɑ́’sí nā wěn mɑ́ ntûmbhì...\"\n",
    "multi_lingual_sentence = \"Làh ndɑ́’sí nā wěn mɑ́ ntûmbhì wū yì mbɑ̀wɑ̄lɑ́ nnēē nkwá’sí làh ngʉ́ sīècɑ́’ è lɑ́. Ǒ ìndī’ měh béé sìèsì lè mɑ̀ ǒ còh nzhī làh ndɑ́’sí nā ō, mbát nté’sí nǔ mbhí wèn yì yēē pɑ́h í mɑ̀nsāhnù lɑ́, ɑ́ lǎh cǒh zhī ì. | Ṣíṣe àfihàn t tàbís sọ̀rọ̀ nípa ara ẹni, jẹ ohùn tí ó gba èrò ọpọlọ ní ayé yìí. Ní òpin ipele yìí, o ò ní lè ṣe àfihàn ara rẹ nìkan, wà á tún lè béèrè ìbéèrè lọ́wọ́ atọkùn láti lè mọ̀ nípa òun náà. | Se présenter, c’est-à-dire parler de soi est la chose la plus instinctive du monde. À la fin de ce chapitre, vous serez en mesure non seulement de vous présenter correctement en langue fè'éfě'è, mais aussi de poser les questions à votre interlocuteur pour mieux le connaitre. | Introducing or talking about yourself, is the most instinctive thing in the world. At the end of this chapter, you will not only be able to present yourself correctly in the Fè'éfě'è 'language, but also to ask questions to your interlocutor to get to know him better.\" \n",
    "\n",
    "# ...rest of the multi_lingual_sentence...\n",
    "txt_separator = \".\"\n",
    "font_name = font_path  # Replace with your actual font path\n",
    "fontsize = 90\n",
    "color1 = 'white'\n",
    "color2 = '#FFD700'  # Dark yellow\n",
    "\n",
    "# final_clip = teleprompter_normalized(multi_lingual_sentence, fontsize, 1920, 1080, txt_separator, color1, color2)\n",
    "# final_clip.write_videofile(\"teleprompter_video2.mp4\", fps=24)\n"
   ]
  },
  {
   "cell_type": "code",
   "execution_count": 34,
   "id": "1f46cfe3",
   "metadata": {
    "ExecuteTime": {
     "end_time": "2024-02-02T13:37:57.190325Z",
     "start_time": "2024-02-02T13:37:57.187914Z"
    },
    "execution": {
     "iopub.execute_input": "2024-03-11T00:15:23.153196Z",
     "iopub.status.busy": "2024-03-11T00:15:23.153196Z",
     "iopub.status.idle": "2024-03-11T00:15:23.158699Z",
     "shell.execute_reply": "2024-03-11T00:15:23.157696Z",
     "shell.execute_reply.started": "2024-03-11T00:15:23.153196Z"
    },
    "scrolled": true
   },
   "outputs": [
    {
     "data": {
      "text/plain": [
       "['G:\\\\My Drive\\\\Data_Science\\\\Resulam\\\\Phrasebook_Audio_Video_Processing_production_Backup\\\\Backgrounds\\\\greenboard.jpg',\n",
       " 'G:\\\\My Drive\\\\Data_Science\\\\Resulam\\\\Phrasebook_Audio_Video_Processing_production_Backup\\\\Backgrounds\\\\darkblue.jpg',\n",
       " 'G:\\\\My Drive\\\\Data_Science\\\\Resulam\\\\Phrasebook_Audio_Video_Processing_production_Backup\\\\Backgrounds\\\\chap2_darkblueBackground.jpg',\n",
       " 'G:\\\\My Drive\\\\Data_Science\\\\Resulam\\\\Phrasebook_Audio_Video_Processing_production_Backup\\\\Backgrounds\\\\Picture13.jpg']"
      ]
     },
     "execution_count": 34,
     "metadata": {},
     "output_type": "execute_result"
    }
   ],
   "source": [
    "background_images"
   ]
  },
  {
   "cell_type": "code",
   "execution_count": null,
   "id": "a4176c99",
   "metadata": {
    "ExecuteTime": {
     "end_time": "2023-12-29T23:15:07.342081Z",
     "start_time": "2023-12-29T23:14:39.922728Z"
    },
    "code_folding": [],
    "scrolled": true
   },
   "outputs": [],
   "source": []
  },
  {
   "cell_type": "code",
   "execution_count": null,
   "id": "0835b774",
   "metadata": {},
   "outputs": [],
   "source": []
  },
  {
   "cell_type": "markdown",
   "id": "e621182f",
   "metadata": {},
   "source": [
    "# Video Generation"
   ]
  },
  {
   "cell_type": "code",
   "execution_count": null,
   "id": "30004a4a",
   "metadata": {},
   "outputs": [],
   "source": []
  },
  {
   "cell_type": "markdown",
   "id": "5463e98d",
   "metadata": {},
   "source": [
    "## Generate Single Videos"
   ]
  },
  {
   "cell_type": "code",
   "execution_count": null,
   "id": "4854f5cc",
   "metadata": {},
   "outputs": [],
   "source": []
  },
  {
   "cell_type": "code",
   "execution_count": 35,
   "id": "5aca4470",
   "metadata": {
    "ExecuteTime": {
     "end_time": "2024-02-02T13:37:57.550688Z",
     "start_time": "2024-02-02T13:37:57.191332Z"
    },
    "code_folding": [],
    "execution": {
     "iopub.execute_input": "2024-03-11T00:15:23.159699Z",
     "iopub.status.busy": "2024-03-11T00:15:23.159699Z",
     "iopub.status.idle": "2024-03-11T00:15:23.178103Z",
     "shell.execute_reply": "2024-03-11T00:15:23.177100Z",
     "shell.execute_reply.started": "2024-03-11T00:15:23.159699Z"
    },
    "scrolled": true
   },
   "outputs": [
    {
     "name": "stdout",
     "output_type": "stream",
     "text": [
      "Pattern not found in file: G:\\My Drive\\Data_Science\\Resulam\\Phrasebook_Audio_Video_Processing_production_Backup\\Languages\\YorubaPhrasebook\\bilingual_sentences\\bilingual_sentences_chapters\\1_CombineAudio.mp3\n",
      "Pattern not found in file: G:\\My Drive\\Data_Science\\Resulam\\Phrasebook_Audio_Video_Processing_production_Backup\\Languages\\YorubaPhrasebook\\bilingual_sentences\\bilingual_sentences_chapters\\phrasebook_yoruba_Chap1.mp3\n"
     ]
    }
   ],
   "source": [
    "from moviepy.editor import TextClip, CompositeVideoClip\n",
    "import textwrap\n",
    "\n",
    "\n",
    "# Settings\n",
    "\n",
    "screen_width = 1920\n",
    "screen_height = 1080\n",
    "\n",
    "screensize = (screen_width, screen_height)\n",
    "\n",
    "multi_lingual_sentence = \"Làh ndɑ́’sí nā wěn mɑ́ ntûmbhì wū yì mbɑ̀wɑ̄lɑ́ nnēē nkwá’sí làh ngʉ́ sīècɑ́’ è lɑ́. Ǒ ìndī’ měh béé sìèsì lè mɑ̀ ǒ còh nzhī làh ndɑ́’sí nā ō, mbát nté’sí nǔ mbhí wèn yì yēē pɑ́h í mɑ̀nsāhnù lɑ́, ɑ́ lǎh cǒh zhī ì. | Ṣíṣe àfihàn t tàbís sọ̀rọ̀ nípa ara ẹni, jẹ ohùn tí ó gba èrò ọpọlọ ní ayé yìí. Ní òpin ipele yìí, o ò ní lè ṣe àfihàn ara rẹ nìkan, wà á tún lè béèrè ìbéèrè lọ́wọ́ atọkùn láti lè mọ̀ nípa òun náà. | Se présenter, c’est-à-dire parler de soi est la chose la plus instinctive du monde. À la fin de ce chapitre, vous serez en mesure non seulement de vous présenter correctement en langue fè'éfě'è, mais aussi de poser les questions à votre interlocuteur pour mieux le connaitre. | Introducing or talking about yourself, is the most instinctive thing in the world. At the end of this chapter, you will not only be able to present yourself correctly in the Fè'éfě'è 'language, but also to ask questions to your interlocutor to get to know him better.\" \n",
    "txt_separator = \"|\"\n",
    "\n",
    "# Settings\n",
    "font_name = font_path  # Replace with your actual font path\n",
    "fontsize = 90\n",
    "max_width = screen_height\n",
    "white = 'white'\n",
    "darkyellow = '#FFD700'  # Hex code for dark yellow\n",
    "\n",
    "\n",
    "# Function to check if the total height of clips exceeds screen height\n",
    "def calculate_appropriate_font_size(sentences=[\"sentence 1\",\"sentence 2\",\"sentence 3\"], \n",
    "                                    font_name=\"\", fontsize=90, \n",
    "                                    max_width=1920, screen_height=1080,decrease_font_increment=3):\n",
    "\n",
    "    def check_total_height(sentences, font_name, fontsize, max_width, screen_height):\n",
    "        total_height = 0\n",
    "        for sentence in sentences:\n",
    "            clip = TextClip(sentence, fontsize=fontsize, font=font_name, color='white', size=(max_width, None), method='caption')\n",
    "            total_height += clip.size[1]\n",
    "            if total_height > screen_height:\n",
    "                return False\n",
    "        return True\n",
    "\n",
    "    \n",
    "\n",
    "    # Adjust font size so that all sentences fit vertically within the screen\n",
    "    while not check_total_height(sentences, font_name, fontsize, max_width, screen_height) and fontsize > 10:\n",
    "        fontsize -= decrease_font_increment\n",
    "        print(\"Calculating appropriate font size:\",fontsize)\n",
    "    return fontsize\n",
    "\n",
    "\n",
    "text_clips = []\n",
    "y_pos = 100\n",
    "\n",
    "# background_image = next(background_image_generator)\n",
    "\n",
    "\n",
    "phrase_audio_map_per_chapters = {f\"{i}\":{} for i in chapters_subfolders }\n",
    "for chap in chapters_subfolders:\n",
    "    \n",
    "    \n",
    "    chap_subfolder_dir = os.path.join(bilingual_audios_folder,chap,\"\")\n",
    "    os.chdir(chap_subfolder_dir)\n",
    "    \n",
    "    phrase_audio_map = map_audio_and_sentences(phrases,chap_subfolder_dir)\n",
    "    phrase_audio_map_per_chapters[chap].update(phrase_audio_map)\n"
   ]
  },
  {
   "cell_type": "code",
   "execution_count": 36,
   "id": "b590331d",
   "metadata": {
    "ExecuteTime": {
     "end_time": "2024-02-02T13:37:57.907374Z",
     "start_time": "2024-02-02T13:37:57.551707Z"
    },
    "execution": {
     "iopub.execute_input": "2024-03-11T00:15:23.179608Z",
     "iopub.status.busy": "2024-03-11T00:15:23.178606Z",
     "iopub.status.idle": "2024-03-11T00:15:23.195533Z",
     "shell.execute_reply": "2024-03-11T00:15:23.194531Z",
     "shell.execute_reply.started": "2024-03-11T00:15:23.179608Z"
    }
   },
   "outputs": [
    {
     "name": "stdout",
     "output_type": "stream",
     "text": [
      "Pattern not found in file: G:\\My Drive\\Data_Science\\Resulam\\Phrasebook_Audio_Video_Processing_production_Backup\\Languages\\YorubaPhrasebook\\bilingual_sentences\\bilingual_sentences_chapters\\1_CombineAudio.mp3\n",
      "Pattern not found in file: G:\\My Drive\\Data_Science\\Resulam\\Phrasebook_Audio_Video_Processing_production_Backup\\Languages\\YorubaPhrasebook\\bilingual_sentences\\bilingual_sentences_chapters\\phrasebook_yoruba_Chap1.mp3\n"
     ]
    }
   ],
   "source": [
    "missing_phrase_audio_map\n",
    "\n",
    "for chap in chapters_subfolders:\n",
    "    \n",
    "    \n",
    "    chap_subfolder_dir = os.path.join(bilingual_audios_folder,chap,\"\")\n",
    "    os.chdir(chap_subfolder_dir)\n",
    "    \n",
    "    phrase_audio_map = map_audio_and_sentences(phrases,chap_subfolder_dir)\n",
    "    phrase_audio_map_per_chapters[chap].update(phrase_audio_map)"
   ]
  },
  {
   "cell_type": "code",
   "execution_count": 37,
   "id": "966f6132",
   "metadata": {
    "ExecuteTime": {
     "end_time": "2024-02-02T13:37:57.910874Z",
     "start_time": "2024-02-02T13:37:57.908386Z"
    },
    "code_folding": [],
    "execution": {
     "iopub.execute_input": "2024-03-11T00:15:23.196533Z",
     "iopub.status.busy": "2024-03-11T00:15:23.195533Z",
     "iopub.status.idle": "2024-03-11T00:15:23.200195Z",
     "shell.execute_reply": "2024-03-11T00:15:23.200195Z",
     "shell.execute_reply.started": "2024-03-11T00:15:23.196533Z"
    }
   },
   "outputs": [],
   "source": [
    "# def resize_image_proportionally(ads_images, max_height, screen_height):\n",
    "#     \"\"\"\n",
    "#     Resize the image proportionally to fit within the max_height, \n",
    "#     keeping the aspect ratio and ensuring it doesn't go beyond the screen limits.\n",
    "#     \"\"\"\n",
    "#     # Load the image\n",
    "    \n",
    "    \n",
    "#     remaining_images = ads_images.copy()\n",
    "#     while True:\n",
    "#         if not remaining_images:\n",
    "#             # Once all images are used, reset the list\n",
    "#             remaining_images = ads_images.copy()\n",
    "\n",
    "#         chosen_image = random.choice(remaining_images)\n",
    "#         remaining_images.remove(chosen_image)\n",
    "        \n",
    "        \n",
    "        \n",
    "#         img_clip = ImageClip(chosen_image)\n",
    "#         # Initialize new_width and new_height\n",
    "#         new_width = img_clip.w\n",
    "#         new_height = img_clip.h \n",
    "        \n",
    "#         # Calculate the resizing scale factor\n",
    "#         if img_clip.h > max_height:\n",
    "#             scale_factor = max_height / float(img_clip.h)\n",
    "#             new_width = int(img_clip.w * scale_factor)\n",
    "#             new_height = int(img_clip.h * scale_factor)\n",
    "\n",
    "#             # Resize the image proportionally\n",
    "#             img_clip = img_clip.resize(newsize=(new_width, new_height))\n",
    "\n",
    "#         # Calculate the position (centered, 10 pixels from vertical center)\n",
    "#         y_position = screen_height // 2 + 55\n",
    "        \n",
    "#         yield img_clip.set_position((\"center\", y_position))\n"
   ]
  },
  {
   "cell_type": "code",
   "execution_count": 38,
   "id": "98c68143",
   "metadata": {
    "ExecuteTime": {
     "end_time": "2024-02-02T13:37:57.927497Z",
     "start_time": "2024-02-02T13:37:57.911887Z"
    },
    "execution": {
     "iopub.execute_input": "2024-03-11T00:15:23.201197Z",
     "iopub.status.busy": "2024-03-11T00:15:23.201197Z",
     "iopub.status.idle": "2024-03-11T00:15:23.204440Z",
     "shell.execute_reply": "2024-03-11T00:15:23.204440Z",
     "shell.execute_reply.started": "2024-03-11T00:15:23.201197Z"
    }
   },
   "outputs": [],
   "source": [
    "# from 10 AM to 11 PM my code produces 173 videos\n",
    "# The time taken to produce each video is approximately 4.51 minutes.\n",
    "\n",
    "# It will take approximately 150.29 hours to produce 2,000 videos. This is equivalent to about 6.26 days. \n",
    "\n",
    "\n",
    "\n"
   ]
  },
  {
   "cell_type": "code",
   "execution_count": 39,
   "id": "ba6fbd0f",
   "metadata": {
    "ExecuteTime": {
     "end_time": "2024-02-02T13:37:57.935755Z",
     "start_time": "2024-02-02T13:37:57.928504Z"
    },
    "execution": {
     "iopub.execute_input": "2024-03-11T00:15:23.206443Z",
     "iopub.status.busy": "2024-03-11T00:15:23.205443Z",
     "iopub.status.idle": "2024-03-11T00:15:23.211466Z",
     "shell.execute_reply": "2024-03-11T00:15:23.211466Z",
     "shell.execute_reply.started": "2024-03-11T00:15:23.206443Z"
    }
   },
   "outputs": [
    {
     "data": {
      "text/plain": [
       "{'1)  Chapter 1. Introductions.| Orí 1. Ìfáàrà.  |  Chapitre 1. Faire les présentations. \\n': 'G:\\\\My Drive\\\\Data_Science\\\\Resulam\\\\Phrasebook_Audio_Video_Processing_production_Backup\\\\Languages\\\\YorubaPhrasebook\\\\bilingual_sentences\\\\Chap1\\\\english_yoruba_phrasebook_1_padded.mp3',\n",
       " '2)  Introducing or talking about yourself, is the most instinctive thing in the world. At the end of this chapter, you will not only be able to present yourself correctly in the Yoruba language, but also to ask questions to your interlocutor to get to know him better.| Ṣíṣe àfihàn t tàbís sọ̀rọ̀ nípa ara ẹni, jẹ ohùn tí ó gba èrò ọpọlọ ní ayé yìí. Ní òpin ipele yìí, o ò ní lè ṣe àfihàn ara rẹ nìkan, wà á tún lè béèrè ìbéèrè lọ́wọ́ atọkùn láti lè mọ̀ nípa òun náà.  |  Se présenter, c’est-à-dire parler de soi est la chose la plus instinctive du monde. À la fin de ce chapitre, vous serez en mesure non seulement de vous présenter correctement en langue Yoruba, mais aussi de poser les questions à votre interlocuteur pour mieux le connaitre. \\n': 'G:\\\\My Drive\\\\Data_Science\\\\Resulam\\\\Phrasebook_Audio_Video_Processing_production_Backup\\\\Languages\\\\YorubaPhrasebook\\\\bilingual_sentences\\\\Chap1\\\\no_english_yoruba_phrasebook_2_padded.mp3',\n",
       " '3)  Hello.| Ẹ ǹ lẹ́.  |  Salut. \\n': 'G:\\\\My Drive\\\\Data_Science\\\\Resulam\\\\Phrasebook_Audio_Video_Processing_production_Backup\\\\Languages\\\\YorubaPhrasebook\\\\bilingual_sentences\\\\Chap1\\\\english_yoruba_phrasebook_3_padded.mp3',\n",
       " '4)  Hello my brother/sister.| Ẹ ǹ lẹ́, arákùnrin/arábìnrin mi.  |  Salut mon frère/ma sœur. \\n': 'G:\\\\My Drive\\\\Data_Science\\\\Resulam\\\\Phrasebook_Audio_Video_Processing_production_Backup\\\\Languages\\\\YorubaPhrasebook\\\\bilingual_sentences\\\\Chap1\\\\english_yoruba_phrasebook_4_padded.mp3',\n",
       " '5)  How are you ?| Báwo ni?  |  Comment ça va ? \\n': 'G:\\\\My Drive\\\\Data_Science\\\\Resulam\\\\Phrasebook_Audio_Video_Processing_production_Backup\\\\Languages\\\\YorubaPhrasebook\\\\bilingual_sentences\\\\Chap1\\\\english_yoruba_phrasebook_5_padded.mp3',\n",
       " '6)  I am fine.| Mo wà dáadáa.  |  Ça va bien. \\n': 'G:\\\\My Drive\\\\Data_Science\\\\Resulam\\\\Phrasebook_Audio_Video_Processing_production_Backup\\\\Languages\\\\YorubaPhrasebook\\\\bilingual_sentences\\\\Chap1\\\\english_yoruba_phrasebook_6_padded.mp3',\n",
       " '7)  I am fine, thank you.| Mo wà dáadáa, ẹ sé.  |  Ça va bien, merci. \\n': 'G:\\\\My Drive\\\\Data_Science\\\\Resulam\\\\Phrasebook_Audio_Video_Processing_production_Backup\\\\Languages\\\\YorubaPhrasebook\\\\bilingual_sentences\\\\Chap1\\\\english_yoruba_phrasebook_7_padded.mp3',\n",
       " '8)  How about you?| Ìwọ ń kó?  |  Et toi? \\n': 'G:\\\\My Drive\\\\Data_Science\\\\Resulam\\\\Phrasebook_Audio_Video_Processing_production_Backup\\\\Languages\\\\YorubaPhrasebook\\\\bilingual_sentences\\\\Chap1\\\\english_yoruba_phrasebook_8_padded.mp3',\n",
       " '9)  I am in good health, thank you.| Mo wà ní àlàáfíà, ẹ sé.  |  Je suis en santé, merci. \\n': 'G:\\\\My Drive\\\\Data_Science\\\\Resulam\\\\Phrasebook_Audio_Video_Processing_production_Backup\\\\Languages\\\\YorubaPhrasebook\\\\bilingual_sentences\\\\Chap1\\\\english_yoruba_phrasebook_9_padded.mp3',\n",
       " '10)  Who are you?| Ta ni ọ́?  |  Qui es-tu ? \\n': 'G:\\\\My Drive\\\\Data_Science\\\\Resulam\\\\Phrasebook_Audio_Video_Processing_production_Backup\\\\Languages\\\\YorubaPhrasebook\\\\bilingual_sentences\\\\Chap1\\\\english_yoruba_phrasebook_10_padded.mp3'}"
      ]
     },
     "execution_count": 39,
     "metadata": {},
     "output_type": "execute_result"
    }
   ],
   "source": [
    "phrase_audio_map"
   ]
  },
  {
   "cell_type": "code",
   "execution_count": null,
   "id": "62c5ac12",
   "metadata": {
    "ExecuteTime": {
     "end_time": "2024-01-12T04:53:53.262250Z",
     "start_time": "2024-01-12T04:53:53.135361Z"
    }
   },
   "outputs": [],
   "source": []
  },
  {
   "cell_type": "code",
   "execution_count": null,
   "id": "50e1e2a8",
   "metadata": {
    "ExecuteTime": {
     "end_time": "2024-01-12T01:16:39.719170Z",
     "start_time": "2024-01-12T01:16:39.719170Z"
    }
   },
   "outputs": [],
   "source": []
  },
  {
   "cell_type": "code",
   "execution_count": 40,
   "id": "5fb90e49",
   "metadata": {
    "ExecuteTime": {
     "end_time": "2024-02-02T13:37:57.939764Z",
     "start_time": "2024-02-02T13:37:57.936766Z"
    },
    "execution": {
     "iopub.execute_input": "2024-03-11T00:15:23.213468Z",
     "iopub.status.busy": "2024-03-11T00:15:23.212469Z",
     "iopub.status.idle": "2024-03-11T00:15:23.218687Z",
     "shell.execute_reply": "2024-03-11T00:15:23.217684Z",
     "shell.execute_reply.started": "2024-03-11T00:15:23.213468Z"
    }
   },
   "outputs": [],
   "source": [
    "\n",
    "def start_build_from(num,phrase_audio_map_per_chapters):\n",
    "    \n",
    "#     for chap, phrase_audio_map in phrase_audio_map_per_chapters.items():    \n",
    "        \n",
    "#         print(start_indx)\n",
    "#         if start_indx and int(start_indx) == start_build_num:\n",
    "#             return start_indx\n",
    "\n",
    "    for i, (k,v) in enumerate(phrase_audio_map_per_chapters.items()):\n",
    "        \n",
    "        phrases = list(v.keys())\n",
    "        for p in phrases:\n",
    "            sentence_num = p.split(\")\")[0]\n",
    "            print(sentence_num)\n",
    "        print(list(v.keys()))\n",
    "        if num == sentence_num:\n",
    "            return i \n",
    "        \n"
   ]
  },
  {
   "cell_type": "code",
   "execution_count": null,
   "id": "4c10bc38",
   "metadata": {
    "ExecuteTime": {
     "end_time": "2024-01-14T18:05:02.766843Z",
     "start_time": "2024-01-14T18:05:02.763980Z"
    }
   },
   "outputs": [],
   "source": []
  },
  {
   "cell_type": "markdown",
   "id": "14198224",
   "metadata": {},
   "source": [
    "# Starts Sequential Building"
   ]
  },
  {
   "cell_type": "code",
   "execution_count": null,
   "id": "5701f554",
   "metadata": {},
   "outputs": [],
   "source": []
  },
  {
   "cell_type": "markdown",
   "id": "93374f25",
   "metadata": {},
   "source": [
    "## Backup Working Code"
   ]
  },
  {
   "cell_type": "code",
   "execution_count": 41,
   "id": "adbc439e",
   "metadata": {
    "ExecuteTime": {
     "end_time": "2024-02-02T13:37:57.956580Z",
     "start_time": "2024-02-02T13:37:57.940770Z"
    },
    "code_folding": [
     0
    ],
    "execution": {
     "iopub.execute_input": "2024-03-11T00:15:23.220191Z",
     "iopub.status.busy": "2024-03-11T00:15:23.219688Z",
     "iopub.status.idle": "2024-03-11T00:15:23.237962Z",
     "shell.execute_reply": "2024-03-11T00:15:23.236959Z",
     "shell.execute_reply.started": "2024-03-11T00:15:23.220191Z"
    }
   },
   "outputs": [],
   "source": [
    "def build_videos_from_sentence_n(n):\n",
    "    y_start_position = 25 \n",
    "\n",
    "    start_build_num = n #Start building video from this sentence number >= 1\n",
    "    # start_build_num = 1954 #Start building video from this sentence number >= 1\n",
    "\n",
    "    #  STOPPED HERE Building Video no_english_yoruba_phrasebook_932.mp3 ... Long sentence: len: 364\n",
    "    #  Building Video no_english_yoruba_phrasebook_1954.mp3 Passed ... Long sentence: 315\n",
    "\n",
    "    ads_image_generator = resize_image_proportionally(\n",
    "                                    ads_images=ads_images,\n",
    "                                    priority_images=priority_ads_image,\n",
    "                                    max_height=int(screen_height/2.5), \n",
    "                                    screen_height=screen_height\n",
    "                                )\n",
    "\n",
    "    background_image = next(background_image_generator)\n",
    "    resized_image_clip = next(ads_image_generator)\n",
    "\n",
    "    # start_indx = start_build_from(start_build_num,phrase_audio_map)\n",
    "    def build_videos_per_chapter(phrase_audio_map_chap, default_fontsize=90, \n",
    "                                 change_background_frequency=5, \n",
    "                                 local_language_name=\"Nùfī\",decrease_font_increment=3):\n",
    "        for indx, (multi_lingual_sentence, audio_path) in enumerate(phrase_audio_map_chap.items()):\n",
    "\n",
    "            audio_name = os.path.basename(audio_path)\n",
    "    #         print(audio_name)\n",
    "            number = extract_digits(audio_name) \n",
    "\n",
    "    #         if indx >= start_indx:\n",
    "            if number and int(number) >= int(start_build_num):\n",
    "\n",
    "                print(f\"Building Video {audio_name} ...\\n\\n\")\n",
    "\n",
    "\n",
    "                if \"no_english\" in audio_name:\n",
    "                    flag_bilingual = False\n",
    "                    multi_lingual_sentence = multi_lingual_sentence.split(txt_separator)[0]\n",
    "                    sentences = [sentence.strip() for sentence in multi_lingual_sentence.split(\".\") if sentence]\n",
    "\n",
    "                else:\n",
    "                    flag_bilingual = True\n",
    "                    sentences = [sentence.strip() for sentence in multi_lingual_sentence.split(txt_separator) if sentence]\n",
    "        #         print(flag_bilingual)\n",
    "                background_image = next(background_image_generator)\n",
    "                resized_image_clip = next(ads_image_generator)\n",
    "\n",
    "                if indx % change_background_frequency == 0:\n",
    "                    background_image = next(background_image_generator)\n",
    "                    resized_image_clip = next(ads_image_generator)\n",
    "\n",
    "\n",
    "\n",
    "                chap_subfolder_name = os.path.basename(os.path.dirname(audio_path))\n",
    "                saving_folder = os.path.dirname(audio_path)\n",
    "                saving_folder = os.path.join(saving_folder, \"\")\n",
    "\n",
    "                filename = os.path.basename(audio_path)\n",
    "                filename = filename.replace(\".mp3\", \".mp4\")        \n",
    "                saving_path = os.path.join(saving_folder, filename)\n",
    "\n",
    "\n",
    "                fontsize = calculate_appropriate_font_size(sentences, font_name, default_fontsize, \n",
    "                                                           max_width, screen_height // 2,decrease_font_increment)\n",
    "                print(f\"appropriate font size {filename}: {fontsize}\") \n",
    "\n",
    "                # Load the corresponding audio\n",
    "                audio_clip = AudioFileClip(audio_path)\n",
    "                bg_clip = ImageClip(background_image, duration=audio_clip.duration)\n",
    "\n",
    "                # Add a logo and website text to each video clip\n",
    "                logo_clip = ImageClip(logo_path, duration=audio_clip.duration).resize(width=200)\n",
    "                logo_clip = logo_clip.set_position((\"left\", \"bottom\"))\n",
    "\n",
    "                logo_clip2 = ImageClip(logo_path, duration=audio_clip.duration).resize(width=200)\n",
    "                logo_clip2 = logo_clip2.set_position((\"right\", \"bottom\"))\n",
    "\n",
    "                website_text_clip = TextClip(\"www.resulam.com\", fontsize=70, color=darkyellow, \n",
    "                                             font=font_path).set_duration(audio_clip.duration)\n",
    "        #         website_text_clip = website_text_clip.set_position((\"right\", \"bottom\"))\n",
    "\n",
    "                # Calculate position to place the website text just above the logo\n",
    "                website_text_clip = website_text_clip.set_position('center')\n",
    "\n",
    "                language_text_clip = TextClip(f\"{local_language_name}\", fontsize=30, color= darkyellow, \n",
    "                                              font=font_path).set_duration(audio_clip.duration)\n",
    "                language_text_clip = language_text_clip.set_position((\"left\", \"top\"))\n",
    "\n",
    "                support_text_clip = TextClip(f\"Please Support Resulam\", fontsize=30, color= darkyellow, \n",
    "                                              font=font_path).set_duration(audio_clip.duration)\n",
    "                support_text_clip = support_text_clip.set_position((\"right\", \"top\"))\n",
    "\n",
    "                # Create and add countdown clip\n",
    "        #         countdown_clip = create_countdown_clip(int(audio_clip.duration))\n",
    "                duration_of_audio = int(audio_clip.duration)  # Replace with actual duration\n",
    "        #         countdown_clip = create_countdown_clip(duration_of_audio,  color=darkyellow)\n",
    "                countdown_clip = create_countdown_clip(duration_of_audio, fontsize=70, pos=(\"right\", \"top\"), \n",
    "                                                       font_path=font_path,color=darkyellow)\n",
    "\n",
    "\n",
    "                resized_image_clip = resized_image_clip.set_duration(audio_clip.duration)\n",
    "\n",
    "\n",
    "\n",
    "\n",
    "                # Generate the composite video clip\n",
    "                composite_clip = fit_multi_lang_to_screen(multi_lingual_sentence=multi_lingual_sentence,\n",
    "                                                          fontsize=fontsize,\n",
    "                                                          screen_width=1920, \n",
    "                                                          screen_height=1080,  \n",
    "                                                          txt_separator=\"|\", y_pos=y_start_position,\n",
    "                                                          color1=white, color2=darkyellow,\n",
    "                                                          screen_fraction=1/2,\n",
    "                                                          decrease_font_increment=2,\n",
    "                                                          flag_bilingual = flag_bilingual)\n",
    "\n",
    "\n",
    "                # Add the resized image clip to your composite video\n",
    "                video_with_audio = CompositeVideoClip([bg_clip, logo_clip, logo_clip2, support_text_clip,\n",
    "                                                       website_text_clip, language_text_clip, \n",
    "                                                       composite_clip, resized_image_clip])  # Add 'resized_image_clip' here\n",
    "\n",
    "                video_with_audio = video_with_audio.set_audio(audio_clip)\n",
    "                video_with_audio.duration = audio_clip.duration\n",
    "\n",
    "                video_with_audio.write_videofile(saving_path, preset='ultrafast', fps=24, bitrate='4000k', codec='libx264')\n",
    "\n",
    "\n",
    "    for chap, phrase_audio_map in phrase_audio_map_per_chapters.items():\n",
    "\n",
    "            build_videos_per_chapter(phrase_audio_map,\n",
    "                                     default_fontsize=90,\n",
    "                                     change_background_frequency = 5,\n",
    "                                     decrease_font_increment=10,\n",
    "                                     local_language_name=lln)\n",
    "\n",
    "# build_videos_from_sentence_n(932)"
   ]
  },
  {
   "cell_type": "code",
   "execution_count": 42,
   "id": "0c160248",
   "metadata": {
    "ExecuteTime": {
     "end_time": "2024-02-02T13:37:57.962973Z",
     "start_time": "2024-02-02T13:37:57.957588Z"
    },
    "execution": {
     "iopub.execute_input": "2024-03-11T00:15:23.238962Z",
     "iopub.status.busy": "2024-03-11T00:15:23.237962Z",
     "iopub.status.idle": "2024-03-11T00:15:23.243592Z",
     "shell.execute_reply": "2024-03-11T00:15:23.242589Z",
     "shell.execute_reply.started": "2024-03-11T00:15:23.238962Z"
    }
   },
   "outputs": [],
   "source": [
    "# start_build_num = 787 #Start building video from this sentence number >= 1\n",
    "# start_indx = start_build_from(start_build_num)\n",
    "# start_indx\n",
    "\n",
    "# for chap, phrase_audio_map in phrase_audio_map_per_chapters.items():\n",
    "    \n",
    "#     for indx, (multi_lingual_sentence, audio_path) in enumerate(phrase_audio_map.items()):\n",
    "        \n",
    "# #         if multi_lingual_sentence >= start_indx:\n",
    "#             if multi_lingual_sentence == start_indx:\n",
    "#                 print(multi_lingual_sentence)\n",
    "#                 break \n",
    "            "
   ]
  },
  {
   "cell_type": "code",
   "execution_count": 43,
   "id": "ecbfa412",
   "metadata": {
    "ExecuteTime": {
     "end_time": "2024-02-02T13:37:57.965950Z",
     "start_time": "2024-02-02T13:37:57.963986Z"
    },
    "execution": {
     "iopub.execute_input": "2024-03-11T00:15:23.244592Z",
     "iopub.status.busy": "2024-03-11T00:15:23.243592Z",
     "iopub.status.idle": "2024-03-11T00:15:23.246725Z",
     "shell.execute_reply": "2024-03-11T00:15:23.246725Z",
     "shell.execute_reply.started": "2024-03-11T00:15:23.244592Z"
    },
    "scrolled": true
   },
   "outputs": [],
   "source": [
    "# start_build_num = 212 #Start building video from this sentence number >= 1\n",
    "\n",
    "# for chap, phrase_audio_map in phrase_audio_map_per_chapters.items():\n",
    "# #     print(phrase_audio_map)\n",
    "    \n",
    "#     start_indx = start_build_from(start_build_num,phrase_audio_map)\n",
    "#     print(start_indx)\n",
    "#     if start_indxint(start_indx) == start_build_num:\n",
    "#         break \n",
    "# start_indx"
   ]
  },
  {
   "cell_type": "code",
   "execution_count": 44,
   "id": "a7949653",
   "metadata": {
    "ExecuteTime": {
     "end_time": "2024-02-02T13:37:57.970176Z",
     "start_time": "2024-02-02T13:37:57.966955Z"
    },
    "execution": {
     "iopub.execute_input": "2024-03-11T00:15:23.248727Z",
     "iopub.status.busy": "2024-03-11T00:15:23.247728Z",
     "iopub.status.idle": "2024-03-11T00:15:23.251732Z",
     "shell.execute_reply": "2024-03-11T00:15:23.251732Z",
     "shell.execute_reply.started": "2024-03-11T00:15:23.248727Z"
    }
   },
   "outputs": [],
   "source": [
    "#  STOPPED HERE Building Video no_english_yoruba_phrasebook_932.mp3 ... Long sentence\n",
    "#  STOPPED HERE Building Video no_english_yoruba_phrasebook_1954.mp3 ... Long sentence"
   ]
  },
  {
   "cell_type": "code",
   "execution_count": 45,
   "id": "b2d055eb",
   "metadata": {
    "ExecuteTime": {
     "end_time": "2024-02-02T13:37:57.977915Z",
     "start_time": "2024-02-02T13:37:57.974185Z"
    },
    "execution": {
     "iopub.execute_input": "2024-03-11T00:15:23.253735Z",
     "iopub.status.busy": "2024-03-11T00:15:23.252735Z",
     "iopub.status.idle": "2024-03-11T00:15:23.258757Z",
     "shell.execute_reply": "2024-03-11T00:15:23.257753Z",
     "shell.execute_reply.started": "2024-03-11T00:15:23.253735Z"
    }
   },
   "outputs": [],
   "source": [
    "# english_yoruba_phrasebook_1\n",
    "\n",
    "audio_name = \"english_yoruba_phrasebook_1.mp3\"\n",
    "audio_name = \"english_yoruba_phrasebook_258e.mp3\"\n",
    "\n",
    "\n",
    "\n",
    "# It appears there was an issue with the previous code execution.\n",
    "# Let's try to extract the digits from the audio file names again using regular expressions.\n",
    "\n",
    "import re\n",
    "\n",
    "# Define the audio names\n",
    "audio_names = [\"english_yoruba_phrasebook_1.mp3\", \"english_yoruba_phrasebook_258e.mp3\"]\n",
    "\n",
    "# Function to extract digits from the audio name\n",
    "def extract_digits(audio_name):\n",
    "    # Use regular expression to find digits, assuming the digits are at the end before the file extension\n",
    "    match = re.search(r'(\\d+)(?=\\D*\\.\\w+$)', audio_name)\n",
    "    # If a match is found, return the digits as an integer\n",
    "    return int(match.group(1)) if match else None\n",
    "\n"
   ]
  },
  {
   "cell_type": "code",
   "execution_count": 46,
   "id": "ade661dc",
   "metadata": {
    "ExecuteTime": {
     "end_time": "2024-02-02T13:37:57.983651Z",
     "start_time": "2024-02-02T13:37:57.979922Z"
    },
    "execution": {
     "iopub.execute_input": "2024-03-11T00:15:23.259757Z",
     "iopub.status.busy": "2024-03-11T00:15:23.258757Z",
     "iopub.status.idle": "2024-03-11T00:15:23.266425Z",
     "shell.execute_reply": "2024-03-11T00:15:23.266425Z",
     "shell.execute_reply.started": "2024-03-11T00:15:23.259757Z"
    }
   },
   "outputs": [
    {
     "data": {
      "text/plain": [
       "1484"
      ]
     },
     "execution_count": 46,
     "metadata": {},
     "output_type": "execute_result"
    }
   ],
   "source": [
    "1476 +8"
   ]
  },
  {
   "cell_type": "code",
   "execution_count": 47,
   "id": "e1d50abc-b81e-4851-a43f-e97733029595",
   "metadata": {
    "execution": {
     "iopub.execute_input": "2024-03-11T00:15:23.267429Z",
     "iopub.status.busy": "2024-03-11T00:15:23.267429Z",
     "iopub.status.idle": "2024-03-11T00:15:23.271930Z",
     "shell.execute_reply": "2024-03-11T00:15:23.271428Z",
     "shell.execute_reply.started": "2024-03-11T00:15:23.267429Z"
    }
   },
   "outputs": [],
   "source": [
    "# pip install --upgrade Pillow\n",
    "# --> 180     img_clip = img_clip.resize(newsize=(new_width, new_height)) "
   ]
  },
  {
   "cell_type": "code",
   "execution_count": 48,
   "id": "2f893b50-9d29-41c7-aee5-e2f552f5ee54",
   "metadata": {
    "execution": {
     "iopub.execute_input": "2024-03-11T00:15:23.272933Z",
     "iopub.status.busy": "2024-03-11T00:15:23.272933Z",
     "iopub.status.idle": "2024-03-11T00:15:37.237329Z",
     "shell.execute_reply": "2024-03-11T00:15:37.237329Z",
     "shell.execute_reply.started": "2024-03-11T00:15:23.272933Z"
    }
   },
   "outputs": [
    {
     "name": "stdout",
     "output_type": "stream",
     "text": [
      "Note: you may need to restart the kernel to use updated packages.\n"
     ]
    }
   ],
   "source": [
    "# pip freeze > requirements_video_production.txt"
   ]
  },
  {
   "cell_type": "code",
   "execution_count": null,
   "id": "a1320baa-ca84-41da-930d-cf2e1e657d33",
   "metadata": {},
   "outputs": [],
   "source": []
  },
  {
   "cell_type": "code",
   "execution_count": 49,
   "id": "00448ad8-b683-4bd2-a3ba-ba11c9b9d710",
   "metadata": {
    "execution": {
     "iopub.execute_input": "2024-03-11T00:15:37.238336Z",
     "iopub.status.busy": "2024-03-11T00:15:37.238336Z",
     "iopub.status.idle": "2024-03-11T00:15:37.243898Z",
     "shell.execute_reply": "2024-03-11T00:15:37.243847Z",
     "shell.execute_reply.started": "2024-03-11T00:15:37.238336Z"
    }
   },
   "outputs": [
    {
     "data": {
      "text/plain": [
       "'9.4.0'"
      ]
     },
     "execution_count": 49,
     "metadata": {},
     "output_type": "execute_result"
    }
   ],
   "source": [
    "PIL.__version__"
   ]
  },
  {
   "cell_type": "code",
   "execution_count": null,
   "id": "684ca688-c9d0-4619-b0f1-a8acc9ea7248",
   "metadata": {},
   "outputs": [],
   "source": []
  },
  {
   "cell_type": "code",
   "execution_count": 50,
   "id": "cb93a58f",
   "metadata": {
    "ExecuteTime": {
     "end_time": "2024-02-10T14:35:46.152856Z",
     "start_time": "2024-02-10T13:23:53.747444Z"
    },
    "code_folding": [
     59
    ],
    "execution": {
     "iopub.execute_input": "2024-03-11T00:15:37.244855Z",
     "iopub.status.busy": "2024-03-11T00:15:37.244855Z",
     "iopub.status.idle": "2024-03-11T00:28:16.732678Z",
     "shell.execute_reply": "2024-03-11T00:28:16.732678Z",
     "shell.execute_reply.started": "2024-03-11T00:15:37.244855Z"
    }
   },
   "outputs": [
    {
     "name": "stdout",
     "output_type": "stream",
     "text": [
      "\n",
      "Building Video english_yoruba_phrasebook_1_padded.mp3 ...\n",
      "\n",
      "\n",
      "HEYYYYY!! sentences =  ['1)  Chapter 1. Introductions.', 'Orí 1. Ìfáàrà.', 'Chapitre 1. Faire les présentations.']\n",
      "Calculating appropriate font size: 80\n",
      "Calculating appropriate font size: 70\n",
      "appropriate font size english_yoruba_phrasebook_1_padded.mp4: 70\n",
      "Moviepy - Building video G:\\My Drive\\Data_Science\\Resulam\\Phrasebook_Audio_Video_Processing_production_Backup\\Languages\\YorubaPhrasebook\\bilingual_sentences\\Chap1\\english_yoruba_phrasebook_1_padded.mp4.\n",
      "MoviePy - Writing audio in english_yoruba_phrasebook_1_paddedTEMP_MPY_wvf_snd.mp3\n"
     ]
    },
    {
     "name": "stderr",
     "output_type": "stream",
     "text": [
      "                                                                                                                            \r"
     ]
    },
    {
     "name": "stdout",
     "output_type": "stream",
     "text": [
      "MoviePy - Done.\n",
      "Moviepy - Writing video G:\\My Drive\\Data_Science\\Resulam\\Phrasebook_Audio_Video_Processing_production_Backup\\Languages\\YorubaPhrasebook\\bilingual_sentences\\Chap1\\english_yoruba_phrasebook_1_padded.mp4\n",
      "\n"
     ]
    },
    {
     "name": "stderr",
     "output_type": "stream",
     "text": [
      "                                                                                                                            \r"
     ]
    },
    {
     "name": "stdout",
     "output_type": "stream",
     "text": [
      "Moviepy - Done !\n",
      "Moviepy - video ready G:\\My Drive\\Data_Science\\Resulam\\Phrasebook_Audio_Video_Processing_production_Backup\\Languages\\YorubaPhrasebook\\bilingual_sentences\\Chap1\\english_yoruba_phrasebook_1_padded.mp4\n",
      "\n",
      "Building Video no_english_yoruba_phrasebook_2_padded.mp3 ...\n",
      "\n",
      "\n",
      "HEYYYYY!! sentences =  ['2)  Introducing or talking about yourself, is the most instinctive thing in the world', 'At the end of this chapter, you will not only be able to present yourself correctly in the Yoruba language, but also to ask questions to your interlocutor to get to know him better']\n",
      "Calculating appropriate font size: 80\n",
      "Calculating appropriate font size: 70\n",
      "Calculating appropriate font size: 60\n",
      "Calculating appropriate font size: 50\n",
      "Calculating appropriate font size: 40\n",
      "appropriate font size no_english_yoruba_phrasebook_2_padded.mp4: 40\n",
      "Moviepy - Building video G:\\My Drive\\Data_Science\\Resulam\\Phrasebook_Audio_Video_Processing_production_Backup\\Languages\\YorubaPhrasebook\\bilingual_sentences\\Chap1\\no_english_yoruba_phrasebook_2_padded.mp4.\n",
      "MoviePy - Writing audio in no_english_yoruba_phrasebook_2_paddedTEMP_MPY_wvf_snd.mp3\n"
     ]
    },
    {
     "name": "stderr",
     "output_type": "stream",
     "text": [
      "                                                                                                                            \r"
     ]
    },
    {
     "name": "stdout",
     "output_type": "stream",
     "text": [
      "MoviePy - Done.\n",
      "Moviepy - Writing video G:\\My Drive\\Data_Science\\Resulam\\Phrasebook_Audio_Video_Processing_production_Backup\\Languages\\YorubaPhrasebook\\bilingual_sentences\\Chap1\\no_english_yoruba_phrasebook_2_padded.mp4\n",
      "\n"
     ]
    },
    {
     "name": "stderr",
     "output_type": "stream",
     "text": [
      "                                                                                                                            \r"
     ]
    },
    {
     "name": "stdout",
     "output_type": "stream",
     "text": [
      "Moviepy - Done !\n",
      "Moviepy - video ready G:\\My Drive\\Data_Science\\Resulam\\Phrasebook_Audio_Video_Processing_production_Backup\\Languages\\YorubaPhrasebook\\bilingual_sentences\\Chap1\\no_english_yoruba_phrasebook_2_padded.mp4\n",
      "\n",
      "Building Video english_yoruba_phrasebook_3_padded.mp3 ...\n",
      "\n",
      "\n",
      "HEYYYYY!! sentences =  ['3)  Hello.', 'Ẹ ǹ lẹ́.', 'Salut.']\n",
      "appropriate font size english_yoruba_phrasebook_3_padded.mp4: 90\n",
      "Moviepy - Building video G:\\My Drive\\Data_Science\\Resulam\\Phrasebook_Audio_Video_Processing_production_Backup\\Languages\\YorubaPhrasebook\\bilingual_sentences\\Chap1\\english_yoruba_phrasebook_3_padded.mp4.\n",
      "MoviePy - Writing audio in english_yoruba_phrasebook_3_paddedTEMP_MPY_wvf_snd.mp3\n"
     ]
    },
    {
     "name": "stderr",
     "output_type": "stream",
     "text": [
      "                                                                                                                            \r"
     ]
    },
    {
     "name": "stdout",
     "output_type": "stream",
     "text": [
      "MoviePy - Done.\n",
      "Moviepy - Writing video G:\\My Drive\\Data_Science\\Resulam\\Phrasebook_Audio_Video_Processing_production_Backup\\Languages\\YorubaPhrasebook\\bilingual_sentences\\Chap1\\english_yoruba_phrasebook_3_padded.mp4\n",
      "\n"
     ]
    },
    {
     "name": "stderr",
     "output_type": "stream",
     "text": [
      "                                                                                                                            \r"
     ]
    },
    {
     "name": "stdout",
     "output_type": "stream",
     "text": [
      "Moviepy - Done !\n",
      "Moviepy - video ready G:\\My Drive\\Data_Science\\Resulam\\Phrasebook_Audio_Video_Processing_production_Backup\\Languages\\YorubaPhrasebook\\bilingual_sentences\\Chap1\\english_yoruba_phrasebook_3_padded.mp4\n",
      "\n",
      "Building Video english_yoruba_phrasebook_4_padded.mp3 ...\n",
      "\n",
      "\n",
      "HEYYYYY!! sentences =  ['4)  Hello my brother/sister.', 'Ẹ ǹ lẹ́, arákùnrin/arábìnrin mi.', 'Salut mon frère/ma sœur.']\n",
      "Calculating appropriate font size: 80\n",
      "appropriate font size english_yoruba_phrasebook_4_padded.mp4: 80\n",
      "Moviepy - Building video G:\\My Drive\\Data_Science\\Resulam\\Phrasebook_Audio_Video_Processing_production_Backup\\Languages\\YorubaPhrasebook\\bilingual_sentences\\Chap1\\english_yoruba_phrasebook_4_padded.mp4.\n",
      "MoviePy - Writing audio in english_yoruba_phrasebook_4_paddedTEMP_MPY_wvf_snd.mp3\n"
     ]
    },
    {
     "name": "stderr",
     "output_type": "stream",
     "text": [
      "                                                                                                                            \r"
     ]
    },
    {
     "name": "stdout",
     "output_type": "stream",
     "text": [
      "MoviePy - Done.\n",
      "Moviepy - Writing video G:\\My Drive\\Data_Science\\Resulam\\Phrasebook_Audio_Video_Processing_production_Backup\\Languages\\YorubaPhrasebook\\bilingual_sentences\\Chap1\\english_yoruba_phrasebook_4_padded.mp4\n",
      "\n"
     ]
    },
    {
     "name": "stderr",
     "output_type": "stream",
     "text": [
      "                                                                                                                            \r"
     ]
    },
    {
     "name": "stdout",
     "output_type": "stream",
     "text": [
      "Moviepy - Done !\n",
      "Moviepy - video ready G:\\My Drive\\Data_Science\\Resulam\\Phrasebook_Audio_Video_Processing_production_Backup\\Languages\\YorubaPhrasebook\\bilingual_sentences\\Chap1\\english_yoruba_phrasebook_4_padded.mp4\n",
      "\n",
      "Building Video english_yoruba_phrasebook_5_padded.mp3 ...\n",
      "\n",
      "\n",
      "HEYYYYY!! sentences =  ['5)  How are you ?', 'Báwo ni?', 'Comment ça va ?']\n",
      "appropriate font size english_yoruba_phrasebook_5_padded.mp4: 90\n",
      "Moviepy - Building video G:\\My Drive\\Data_Science\\Resulam\\Phrasebook_Audio_Video_Processing_production_Backup\\Languages\\YorubaPhrasebook\\bilingual_sentences\\Chap1\\english_yoruba_phrasebook_5_padded.mp4.\n",
      "MoviePy - Writing audio in english_yoruba_phrasebook_5_paddedTEMP_MPY_wvf_snd.mp3\n"
     ]
    },
    {
     "name": "stderr",
     "output_type": "stream",
     "text": [
      "                                                                                                                            \r"
     ]
    },
    {
     "name": "stdout",
     "output_type": "stream",
     "text": [
      "MoviePy - Done.\n",
      "Moviepy - Writing video G:\\My Drive\\Data_Science\\Resulam\\Phrasebook_Audio_Video_Processing_production_Backup\\Languages\\YorubaPhrasebook\\bilingual_sentences\\Chap1\\english_yoruba_phrasebook_5_padded.mp4\n",
      "\n"
     ]
    },
    {
     "name": "stderr",
     "output_type": "stream",
     "text": [
      "                                                                                                                            \r"
     ]
    },
    {
     "name": "stdout",
     "output_type": "stream",
     "text": [
      "Moviepy - Done !\n",
      "Moviepy - video ready G:\\My Drive\\Data_Science\\Resulam\\Phrasebook_Audio_Video_Processing_production_Backup\\Languages\\YorubaPhrasebook\\bilingual_sentences\\Chap1\\english_yoruba_phrasebook_5_padded.mp4\n",
      "\n",
      "Building Video english_yoruba_phrasebook_6_padded.mp3 ...\n",
      "\n",
      "\n",
      "HEYYYYY!! sentences =  ['6)  I am fine.', 'Mo wà dáadáa.', 'Ça va bien.']\n",
      "appropriate font size english_yoruba_phrasebook_6_padded.mp4: 90\n"
     ]
    },
    {
     "ename": "FileNotFoundError",
     "evalue": "No such file: 'G:\\My Drive\\Data_Science\\Resulam\\Phrasebook_Audio_Video_Processing_production_Backup\\Backgrounds\\flag_map_african_union.jpg'",
     "output_type": "error",
     "traceback": [
      "\u001b[1;31m---------------------------------------------------------------------------\u001b[0m",
      "\u001b[1;31mFileNotFoundError\u001b[0m                         Traceback (most recent call last)",
      "Cell \u001b[1;32mIn[50], line 152\u001b[0m\n\u001b[0;32m    147\u001b[0m             video_with_audio\u001b[38;5;241m.\u001b[39mwrite_videofile(saving_path, preset\u001b[38;5;241m=\u001b[39m\u001b[38;5;124m'\u001b[39m\u001b[38;5;124multrafast\u001b[39m\u001b[38;5;124m'\u001b[39m, fps\u001b[38;5;241m=\u001b[39m\u001b[38;5;241m24\u001b[39m, bitrate\u001b[38;5;241m=\u001b[39m\u001b[38;5;124m'\u001b[39m\u001b[38;5;124m4000k\u001b[39m\u001b[38;5;124m'\u001b[39m, codec\u001b[38;5;241m=\u001b[39m\u001b[38;5;124m'\u001b[39m\u001b[38;5;124mlibx264\u001b[39m\u001b[38;5;124m'\u001b[39m)\n\u001b[0;32m    150\u001b[0m \u001b[38;5;28;01mfor\u001b[39;00m chap, phrase_audio_map \u001b[38;5;129;01min\u001b[39;00m phrase_audio_map_per_chapters\u001b[38;5;241m.\u001b[39mitems():\n\u001b[1;32m--> 152\u001b[0m         \u001b[43mbuild_videos_per_chapter\u001b[49m\u001b[43m(\u001b[49m\u001b[43mphrase_audio_map\u001b[49m\u001b[43m,\u001b[49m\u001b[43m \u001b[49m\u001b[43mbackground_image\u001b[49m\u001b[43m,\u001b[49m\u001b[43mresized_image_clip\u001b[49m\u001b[43m,\u001b[49m\n\u001b[0;32m    153\u001b[0m \u001b[43m                                 \u001b[49m\u001b[43mdefault_fontsize\u001b[49m\u001b[38;5;241;43m=\u001b[39;49m\u001b[38;5;241;43m90\u001b[39;49m\u001b[43m,\u001b[49m\n\u001b[0;32m    154\u001b[0m \u001b[43m                                 \u001b[49m\u001b[43mchange_background_frequency\u001b[49m\u001b[43m \u001b[49m\u001b[38;5;241;43m=\u001b[39;49m\u001b[43m \u001b[49m\u001b[38;5;241;43m5\u001b[39;49m\u001b[43m,\u001b[49m\n\u001b[0;32m    155\u001b[0m \u001b[43m                                 \u001b[49m\u001b[43mdecrease_font_increment\u001b[49m\u001b[38;5;241;43m=\u001b[39;49m\u001b[38;5;241;43m10\u001b[39;49m\u001b[43m,\u001b[49m\n\u001b[0;32m    156\u001b[0m \u001b[43m                                 \u001b[49m\u001b[43mlocal_language_name\u001b[49m\u001b[38;5;241;43m=\u001b[39;49m\u001b[43mlln\u001b[49m\u001b[43m)\u001b[49m\n\u001b[0;32m    158\u001b[0m \u001b[38;5;66;03m# appropriate font size no_english_nufi_phrasebook_2.mp4: 45; Decrement of 5\u001b[39;00m\n\u001b[0;32m    159\u001b[0m \u001b[38;5;66;03m# appropriate font size no_english_nufi_phrasebook_2.mp4: 40; Decrement of 10\u001b[39;00m\n",
      "Cell \u001b[1;32mIn[50], line 86\u001b[0m, in \u001b[0;36mbuild_videos_per_chapter\u001b[1;34m(phrase_audio_map_chap, background_image, resized_image_clip, default_fontsize, change_background_frequency, local_language_name, decrease_font_increment)\u001b[0m\n\u001b[0;32m     84\u001b[0m \u001b[38;5;66;03m# Load the corresponding audio\u001b[39;00m\n\u001b[0;32m     85\u001b[0m audio_clip \u001b[38;5;241m=\u001b[39m AudioFileClip(audio_path)\n\u001b[1;32m---> 86\u001b[0m bg_clip \u001b[38;5;241m=\u001b[39m \u001b[43mImageClip\u001b[49m\u001b[43m(\u001b[49m\u001b[43mbackground_image\u001b[49m\u001b[43m,\u001b[49m\u001b[43m \u001b[49m\u001b[43mduration\u001b[49m\u001b[38;5;241;43m=\u001b[39;49m\u001b[43maudio_clip\u001b[49m\u001b[38;5;241;43m.\u001b[39;49m\u001b[43mduration\u001b[49m\u001b[43m)\u001b[49m\n\u001b[0;32m     88\u001b[0m \u001b[38;5;66;03m# Add a logo and website text to each video clip\u001b[39;00m\n\u001b[0;32m     89\u001b[0m logo_clip \u001b[38;5;241m=\u001b[39m ImageClip(logo_path, duration\u001b[38;5;241m=\u001b[39maudio_clip\u001b[38;5;241m.\u001b[39mduration)\u001b[38;5;241m.\u001b[39mresize(width\u001b[38;5;241m=\u001b[39m\u001b[38;5;241m200\u001b[39m)\n",
      "File \u001b[1;32mG:\\My Drive\\Data_Science\\Resulam\\Phrasebook_Audio_Video_Processing_production_Backup\\Python_Scripts_Resulam_Phrasebooks_Audio_Processing\\venv_phrasebook\\Lib\\site-packages\\moviepy\\video\\VideoClip.py:889\u001b[0m, in \u001b[0;36mImageClip.__init__\u001b[1;34m(self, img, ismask, transparent, fromalpha, duration)\u001b[0m\n\u001b[0;32m    886\u001b[0m VideoClip\u001b[38;5;241m.\u001b[39m\u001b[38;5;21m__init__\u001b[39m(\u001b[38;5;28mself\u001b[39m, ismask\u001b[38;5;241m=\u001b[39mismask, duration\u001b[38;5;241m=\u001b[39mduration)\n\u001b[0;32m    888\u001b[0m \u001b[38;5;28;01mif\u001b[39;00m \u001b[38;5;28misinstance\u001b[39m(img, string_types):\n\u001b[1;32m--> 889\u001b[0m     img \u001b[38;5;241m=\u001b[39m \u001b[43mimread\u001b[49m\u001b[43m(\u001b[49m\u001b[43mimg\u001b[49m\u001b[43m)\u001b[49m\n\u001b[0;32m    891\u001b[0m \u001b[38;5;28;01mif\u001b[39;00m \u001b[38;5;28mlen\u001b[39m(img\u001b[38;5;241m.\u001b[39mshape) \u001b[38;5;241m==\u001b[39m \u001b[38;5;241m3\u001b[39m:  \u001b[38;5;66;03m# img is (now) a RGB(a) numpy array\u001b[39;00m\n\u001b[0;32m    893\u001b[0m     \u001b[38;5;28;01mif\u001b[39;00m img\u001b[38;5;241m.\u001b[39mshape[\u001b[38;5;241m2\u001b[39m] \u001b[38;5;241m==\u001b[39m \u001b[38;5;241m4\u001b[39m:\n",
      "File \u001b[1;32mG:\\My Drive\\Data_Science\\Resulam\\Phrasebook_Audio_Video_Processing_production_Backup\\Python_Scripts_Resulam_Phrasebooks_Audio_Processing\\venv_phrasebook\\Lib\\site-packages\\imageio\\__init__.py:97\u001b[0m, in \u001b[0;36mimread\u001b[1;34m(uri, format, **kwargs)\u001b[0m\n\u001b[0;32m     68\u001b[0m \u001b[38;5;250m\u001b[39m\u001b[38;5;124;03m\"\"\"imread(uri, format=None, **kwargs)\u001b[39;00m\n\u001b[0;32m     69\u001b[0m \n\u001b[0;32m     70\u001b[0m \u001b[38;5;124;03mReads an image from the specified file. Returns a numpy array, which\u001b[39;00m\n\u001b[1;32m   (...)\u001b[0m\n\u001b[0;32m     86\u001b[0m \u001b[38;5;124;03m    to see what arguments are available for a particular format.\u001b[39;00m\n\u001b[0;32m     87\u001b[0m \u001b[38;5;124;03m\"\"\"\u001b[39;00m\n\u001b[0;32m     89\u001b[0m warnings\u001b[38;5;241m.\u001b[39mwarn(\n\u001b[0;32m     90\u001b[0m     \u001b[38;5;124m\"\u001b[39m\u001b[38;5;124mStarting with ImageIO v3 the behavior of this function will switch to that of\u001b[39m\u001b[38;5;124m\"\u001b[39m\n\u001b[0;32m     91\u001b[0m     \u001b[38;5;124m\"\u001b[39m\u001b[38;5;124m iio.v3.imread. To keep the current behavior (and make this warning disappear)\u001b[39m\u001b[38;5;124m\"\u001b[39m\n\u001b[1;32m   (...)\u001b[0m\n\u001b[0;32m     94\u001b[0m     stacklevel\u001b[38;5;241m=\u001b[39m\u001b[38;5;241m2\u001b[39m,\n\u001b[0;32m     95\u001b[0m )\n\u001b[1;32m---> 97\u001b[0m \u001b[38;5;28;01mreturn\u001b[39;00m \u001b[43mimread_v2\u001b[49m\u001b[43m(\u001b[49m\u001b[43muri\u001b[49m\u001b[43m,\u001b[49m\u001b[43m \u001b[49m\u001b[38;5;28;43mformat\u001b[39;49m\u001b[38;5;241;43m=\u001b[39;49m\u001b[38;5;28;43mformat\u001b[39;49m\u001b[43m,\u001b[49m\u001b[43m \u001b[49m\u001b[38;5;241;43m*\u001b[39;49m\u001b[38;5;241;43m*\u001b[39;49m\u001b[43mkwargs\u001b[49m\u001b[43m)\u001b[49m\n",
      "File \u001b[1;32mG:\\My Drive\\Data_Science\\Resulam\\Phrasebook_Audio_Video_Processing_production_Backup\\Python_Scripts_Resulam_Phrasebooks_Audio_Processing\\venv_phrasebook\\Lib\\site-packages\\imageio\\v2.py:359\u001b[0m, in \u001b[0;36mimread\u001b[1;34m(uri, format, **kwargs)\u001b[0m\n\u001b[0;32m    356\u001b[0m imopen_args \u001b[38;5;241m=\u001b[39m decypher_format_arg(\u001b[38;5;28mformat\u001b[39m)\n\u001b[0;32m    357\u001b[0m imopen_args[\u001b[38;5;124m\"\u001b[39m\u001b[38;5;124mlegacy_mode\u001b[39m\u001b[38;5;124m\"\u001b[39m] \u001b[38;5;241m=\u001b[39m \u001b[38;5;28;01mTrue\u001b[39;00m\n\u001b[1;32m--> 359\u001b[0m \u001b[38;5;28;01mwith\u001b[39;00m \u001b[43mimopen\u001b[49m\u001b[43m(\u001b[49m\u001b[43muri\u001b[49m\u001b[43m,\u001b[49m\u001b[43m \u001b[49m\u001b[38;5;124;43m\"\u001b[39;49m\u001b[38;5;124;43mri\u001b[39;49m\u001b[38;5;124;43m\"\u001b[39;49m\u001b[43m,\u001b[49m\u001b[43m \u001b[49m\u001b[38;5;241;43m*\u001b[39;49m\u001b[38;5;241;43m*\u001b[39;49m\u001b[43mimopen_args\u001b[49m\u001b[43m)\u001b[49m \u001b[38;5;28;01mas\u001b[39;00m file:\n\u001b[0;32m    360\u001b[0m     result \u001b[38;5;241m=\u001b[39m file\u001b[38;5;241m.\u001b[39mread(index\u001b[38;5;241m=\u001b[39m\u001b[38;5;241m0\u001b[39m, \u001b[38;5;241m*\u001b[39m\u001b[38;5;241m*\u001b[39mkwargs)\n\u001b[0;32m    362\u001b[0m \u001b[38;5;28;01mreturn\u001b[39;00m result\n",
      "File \u001b[1;32mG:\\My Drive\\Data_Science\\Resulam\\Phrasebook_Audio_Video_Processing_production_Backup\\Python_Scripts_Resulam_Phrasebooks_Audio_Processing\\venv_phrasebook\\Lib\\site-packages\\imageio\\core\\imopen.py:113\u001b[0m, in \u001b[0;36mimopen\u001b[1;34m(uri, io_mode, plugin, extension, format_hint, legacy_mode, **kwargs)\u001b[0m\n\u001b[0;32m    111\u001b[0m     request\u001b[38;5;241m.\u001b[39mformat_hint \u001b[38;5;241m=\u001b[39m format_hint\n\u001b[0;32m    112\u001b[0m \u001b[38;5;28;01melse\u001b[39;00m:\n\u001b[1;32m--> 113\u001b[0m     request \u001b[38;5;241m=\u001b[39m \u001b[43mRequest\u001b[49m\u001b[43m(\u001b[49m\u001b[43muri\u001b[49m\u001b[43m,\u001b[49m\u001b[43m \u001b[49m\u001b[43mio_mode\u001b[49m\u001b[43m,\u001b[49m\u001b[43m \u001b[49m\u001b[43mformat_hint\u001b[49m\u001b[38;5;241;43m=\u001b[39;49m\u001b[43mformat_hint\u001b[49m\u001b[43m,\u001b[49m\u001b[43m \u001b[49m\u001b[43mextension\u001b[49m\u001b[38;5;241;43m=\u001b[39;49m\u001b[43mextension\u001b[49m\u001b[43m)\u001b[49m\n\u001b[0;32m    115\u001b[0m source \u001b[38;5;241m=\u001b[39m \u001b[38;5;124m\"\u001b[39m\u001b[38;5;124m<bytes>\u001b[39m\u001b[38;5;124m\"\u001b[39m \u001b[38;5;28;01mif\u001b[39;00m \u001b[38;5;28misinstance\u001b[39m(uri, \u001b[38;5;28mbytes\u001b[39m) \u001b[38;5;28;01melse\u001b[39;00m uri\n\u001b[0;32m    117\u001b[0m \u001b[38;5;66;03m# fast-path based on plugin\u001b[39;00m\n\u001b[0;32m    118\u001b[0m \u001b[38;5;66;03m# (except in legacy mode)\u001b[39;00m\n",
      "File \u001b[1;32mG:\\My Drive\\Data_Science\\Resulam\\Phrasebook_Audio_Video_Processing_production_Backup\\Python_Scripts_Resulam_Phrasebooks_Audio_Processing\\venv_phrasebook\\Lib\\site-packages\\imageio\\core\\request.py:247\u001b[0m, in \u001b[0;36mRequest.__init__\u001b[1;34m(self, uri, mode, extension, format_hint, **kwargs)\u001b[0m\n\u001b[0;32m    244\u001b[0m     \u001b[38;5;28;01mraise\u001b[39;00m \u001b[38;5;167;01mValueError\u001b[39;00m(\u001b[38;5;124mf\u001b[39m\u001b[38;5;124m\"\u001b[39m\u001b[38;5;124mInvalid Request.Mode: \u001b[39m\u001b[38;5;132;01m{\u001b[39;00mmode\u001b[38;5;132;01m}\u001b[39;00m\u001b[38;5;124m\"\u001b[39m)\n\u001b[0;32m    246\u001b[0m \u001b[38;5;66;03m# Parse what was given\u001b[39;00m\n\u001b[1;32m--> 247\u001b[0m \u001b[38;5;28;43mself\u001b[39;49m\u001b[38;5;241;43m.\u001b[39;49m\u001b[43m_parse_uri\u001b[49m\u001b[43m(\u001b[49m\u001b[43muri\u001b[49m\u001b[43m)\u001b[49m\n\u001b[0;32m    249\u001b[0m \u001b[38;5;66;03m# Set extension\u001b[39;00m\n\u001b[0;32m    250\u001b[0m \u001b[38;5;28;01mif\u001b[39;00m extension \u001b[38;5;129;01mis\u001b[39;00m \u001b[38;5;129;01mnot\u001b[39;00m \u001b[38;5;28;01mNone\u001b[39;00m:\n",
      "File \u001b[1;32mG:\\My Drive\\Data_Science\\Resulam\\Phrasebook_Audio_Video_Processing_production_Backup\\Python_Scripts_Resulam_Phrasebooks_Audio_Processing\\venv_phrasebook\\Lib\\site-packages\\imageio\\core\\request.py:407\u001b[0m, in \u001b[0;36mRequest._parse_uri\u001b[1;34m(self, uri)\u001b[0m\n\u001b[0;32m    404\u001b[0m \u001b[38;5;28;01mif\u001b[39;00m is_read_request:\n\u001b[0;32m    405\u001b[0m     \u001b[38;5;66;03m# Reading: check that the file exists (but is allowed a dir)\u001b[39;00m\n\u001b[0;32m    406\u001b[0m     \u001b[38;5;28;01mif\u001b[39;00m \u001b[38;5;129;01mnot\u001b[39;00m os\u001b[38;5;241m.\u001b[39mpath\u001b[38;5;241m.\u001b[39mexists(fn):\n\u001b[1;32m--> 407\u001b[0m         \u001b[38;5;28;01mraise\u001b[39;00m \u001b[38;5;167;01mFileNotFoundError\u001b[39;00m(\u001b[38;5;124m\"\u001b[39m\u001b[38;5;124mNo such file: \u001b[39m\u001b[38;5;124m'\u001b[39m\u001b[38;5;132;01m%s\u001b[39;00m\u001b[38;5;124m'\u001b[39m\u001b[38;5;124m\"\u001b[39m \u001b[38;5;241m%\u001b[39m fn)\n\u001b[0;32m    408\u001b[0m \u001b[38;5;28;01melse\u001b[39;00m:\n\u001b[0;32m    409\u001b[0m     \u001b[38;5;66;03m# Writing: check that the directory to write to does exist\u001b[39;00m\n\u001b[0;32m    410\u001b[0m     dn \u001b[38;5;241m=\u001b[39m os\u001b[38;5;241m.\u001b[39mpath\u001b[38;5;241m.\u001b[39mdirname(fn)\n",
      "\u001b[1;31mFileNotFoundError\u001b[0m: No such file: 'G:\\My Drive\\Data_Science\\Resulam\\Phrasebook_Audio_Video_Processing_production_Backup\\Backgrounds\\flag_map_african_union.jpg'"
     ]
    }
   ],
   "source": [
    "# Check Sentences 1476-1483 # Days of the Weeks\n",
    "\n",
    "y_start_position = 25 \n",
    "\n",
    "start_build_num = 932 #Start building video from this sentence number >= 1\n",
    "start_build_num = 1 #Start building video from this sentence number >= 1\n",
    "\n",
    "# start_build_num = 1954 #Start building video from this sentence number >= 1\n",
    "\n",
    "#  STOPPED HERE Building Video no_english_yoruba_phrasebook_932, 1557, 1574\n",
    "#  Building Video no_english_yoruba_phrasebook_1954.mp3 Passed ... Long sentence: 315\n",
    "# HEYYYYY!! sentences =  ['1557)  The roof.', 'Àjà.', 'Le toit.']\n",
    "# HEYYYYY!! sentences =  ['1574)  Be careful, the food is very hot!', 'Rọra, oúnjẹ náà gbóná.', 'Attention, la nourriture est brûlante !']\n",
    "\n",
    "ads_image_generator = resize_image_proportionally(\n",
    "                                ads_images=ads_images,\n",
    "                                priority_images=priority_ads_image,\n",
    "                                max_height=int(screen_height/2.5), \n",
    "                                screen_height=screen_height\n",
    "                            )\n",
    "\n",
    "# background_image = next(background_image_generator)\n",
    "# resized_image_clip = next(ads_image_generator)\n",
    "background_image = next(background_image_generator)\n",
    "resized_image_clip = next(ads_image_generator)\n",
    "# start_indx = start_build_from(start_build_num,phrase_audio_map)\n",
    "def build_videos_per_chapter(phrase_audio_map_chap, background_image, resized_image_clip,\n",
    "                             default_fontsize=90, \n",
    "                             change_background_frequency=5, \n",
    "                             local_language_name=\"Nùfī\",decrease_font_increment=3):\n",
    "    \n",
    "    for indx, (multi_lingual_sentence, audio_path) in enumerate(phrase_audio_map_chap.items()):\n",
    "        \n",
    "        audio_name = os.path.basename(audio_path)\n",
    "#         print(audio_name)\n",
    "        number = extract_digits(audio_name) \n",
    "        \n",
    "#         if indx >= start_indx:\n",
    "        if number and int(number) >= int(start_build_num):\n",
    "            \n",
    "            print()\n",
    "            print(f\"Building Video {audio_name} ...\\n\\n\")\n",
    "\n",
    "\n",
    "            if \"no_english\" in audio_name:\n",
    "                flag_bilingual = False\n",
    "                multi_lingual_sentence = multi_lingual_sentence.split(txt_separator)[0]\n",
    "                sentences = [sentence.strip() for sentence in multi_lingual_sentence.split(\".\") if sentence]\n",
    "                sentences = [s for s in sentences if len(s)]\n",
    "                print(\"HEYYYYY!! sentences = \",sentences)\n",
    "                \n",
    "                if len(sentences) <=1:\n",
    "                    continue\n",
    "\n",
    "            else:\n",
    "                flag_bilingual = True\n",
    "                sentences = [sentence.strip() for sentence in multi_lingual_sentence.split(txt_separator) if sentence]\n",
    "                sentences = [s for s in sentences if len(s)]\n",
    "                print(\"HEYYYYY!! sentences = \",sentences)\n",
    "                if len(sentences) <=1:\n",
    "                    continue\n",
    "    #         print(flag_bilingual)\n",
    "            \n",
    "            \n",
    "            if indx % change_background_frequency == 0:\n",
    "                background_image = next(background_image_generator)\n",
    "                resized_image_clip = next(ads_image_generator)\n",
    "\n",
    "\n",
    "\n",
    "            chap_subfolder_name = os.path.basename(os.path.dirname(audio_path))\n",
    "            saving_folder = os.path.dirname(audio_path)\n",
    "            saving_folder = os.path.join(saving_folder, \"\")\n",
    "\n",
    "            filename = os.path.basename(audio_path)\n",
    "            filename = filename.replace(\".mp3\", \".mp4\")        \n",
    "            saving_path = os.path.join(saving_folder, filename)\n",
    "\n",
    "\n",
    "            fontsize = calculate_appropriate_font_size(sentences, font_name, default_fontsize, \n",
    "                                                       max_width, screen_height // 2,decrease_font_increment)\n",
    "            print(f\"appropriate font size {filename}: {fontsize}\") \n",
    "\n",
    "            # Load the corresponding audio\n",
    "            audio_clip = AudioFileClip(audio_path)\n",
    "            bg_clip = ImageClip(background_image, duration=audio_clip.duration)\n",
    "\n",
    "            # Add a logo and website text to each video clip\n",
    "            logo_clip = ImageClip(logo_path, duration=audio_clip.duration).resize(width=200)\n",
    "            logo_clip = logo_clip.set_position((\"left\", \"bottom\"))\n",
    "\n",
    "            logo_clip2 = ImageClip(logo_path, duration=audio_clip.duration).resize(width=200)\n",
    "            logo_clip2 = logo_clip2.set_position((\"right\", \"bottom\"))\n",
    "\n",
    "            website_text_clip = TextClip(\"www.resulam.com\", fontsize=70, color=darkyellow, \n",
    "                                         font=font_path).set_duration(audio_clip.duration)\n",
    "    #         website_text_clip = website_text_clip.set_position((\"right\", \"bottom\"))\n",
    "\n",
    "            # Calculate position to place the website text just above the logo\n",
    "            website_text_clip = website_text_clip.set_position('center')\n",
    "\n",
    "            language_text_clip = TextClip(f\"{local_language_name}\", fontsize=30, color= darkyellow, \n",
    "                                          font=font_path).set_duration(audio_clip.duration)\n",
    "            language_text_clip = language_text_clip.set_position((\"left\", \"top\"))\n",
    "\n",
    "            support_text_clip = TextClip(f\"Please Support Resulam\", fontsize=30, color= darkyellow, \n",
    "                                          font=font_path).set_duration(audio_clip.duration)\n",
    "            support_text_clip = support_text_clip.set_position((\"right\", \"top\"))\n",
    "\n",
    "            # Create and add countdown clip\n",
    "    #         countdown_clip = create_countdown_clip(int(audio_clip.duration))\n",
    "            duration_of_audio = int(audio_clip.duration)  # Replace with actual duration\n",
    "    #         countdown_clip = create_countdown_clip(duration_of_audio,  color=darkyellow)\n",
    "            countdown_clip = create_countdown_clip(duration_of_audio, fontsize=70, pos=(\"right\", \"top\"), \n",
    "                                                   font_path=font_path,color=darkyellow)\n",
    "\n",
    "\n",
    "            resized_image_clip = resized_image_clip.set_duration(audio_clip.duration)\n",
    "\n",
    "\n",
    "\n",
    "\n",
    "            # Generate the composite video clip\n",
    "            composite_clip = fit_multi_lang_to_screen(multi_lingual_sentence=multi_lingual_sentence,\n",
    "                                                      sentences_duration = duration_of_audio+1,\n",
    "                                                      fontsize=fontsize,\n",
    "                                                      screen_width=1920, \n",
    "                                                      screen_height=1080,  \n",
    "                                                      txt_separator=\"|\", y_pos=y_start_position,\n",
    "                                                      color1=white, color2=darkyellow,\n",
    "                                                      screen_fraction=1/2,\n",
    "                                                      decrease_font_increment=2,\n",
    "                                                      flag_bilingual = flag_bilingual)\n",
    "\n",
    "#             composite_clip = composite_clip.set_duration(audio_clip.duration)\n",
    "            composite_clip = composite_clip.set_duration(duration_of_audio + 1)  # Adding a 1-second buffer\n",
    "\n",
    "            \n",
    "            # Add the resized image clip to your composite video\n",
    "            video_with_audio = CompositeVideoClip([bg_clip, logo_clip, logo_clip2, support_text_clip,\n",
    "                                                   website_text_clip, language_text_clip, \n",
    "                                                   composite_clip, resized_image_clip])  # Add 'resized_image_clip' here\n",
    "\n",
    "            video_with_audio = video_with_audio.set_audio(audio_clip)\n",
    "            video_with_audio.duration = audio_clip.duration\n",
    "\n",
    "            video_with_audio.write_videofile(saving_path, preset='ultrafast', fps=24, bitrate='4000k', codec='libx264')\n",
    "\n",
    "        \n",
    "for chap, phrase_audio_map in phrase_audio_map_per_chapters.items():\n",
    "       \n",
    "        build_videos_per_chapter(phrase_audio_map, background_image,resized_image_clip,\n",
    "                                 default_fontsize=90,\n",
    "                                 change_background_frequency = 5,\n",
    "                                 decrease_font_increment=10,\n",
    "                                 local_language_name=lln)\n",
    "        \n",
    "# appropriate font size no_english_nufi_phrasebook_2.mp4: 45; Decrement of 5\n",
    "# appropriate font size no_english_nufi_phrasebook_2.mp4: 40; Decrement of 10\n"
   ]
  },
  {
   "cell_type": "code",
   "execution_count": null,
   "id": "abc23532",
   "metadata": {
    "ExecuteTime": {
     "end_time": "2024-02-09T00:12:41.758173Z",
     "start_time": "2024-02-09T00:12:41.758173Z"
    },
    "execution": {
     "iopub.status.busy": "2024-03-11T00:28:16.732678Z",
     "iopub.status.idle": "2024-03-11T00:28:16.732678Z",
     "shell.execute_reply": "2024-03-11T00:28:16.732678Z",
     "shell.execute_reply.started": "2024-03-11T00:28:16.732678Z"
    }
   },
   "outputs": [],
   "source": [
    "\n",
    "s1 = \"931)  Chapter 10. Broken heart.| Orí kẹwàá. Ọkàn tó bàjẹ́.  |  Chapitre 10. Cœur brisé.\"\n",
    "\n",
    "s2 = \"932)  I am bewitched by love. This chapter will help the learner to express his feelings after a romantic disappointment. | Ìfẹ́ ti ru bò mí lójú. Ipele yìí yóò ran akẹkọọ lọ́wọ́ lati lè sọ èdùn ọkàn re lẹ́yìn tí ó ti ní ìjákulẹ̀ lórí ìbásepọ̀.  |  L’amour m’a envouté. Ce chapitre permettra à l'apprenant, d’exprimer ses sentiments après une déception amoureuse.\"\n",
    "\n",
    "print(s1.split(\"|\"),\"\\n\",len(s1.split(\"|\")))\n",
    "\n",
    "print(s2.split(\"|\"), len(s2.split(\"|\")))\n"
   ]
  },
  {
   "cell_type": "code",
   "execution_count": null,
   "id": "76e16087",
   "metadata": {},
   "outputs": [],
   "source": []
  },
  {
   "cell_type": "code",
   "execution_count": null,
   "id": "6f5de4d9",
   "metadata": {},
   "outputs": [],
   "source": []
  },
  {
   "cell_type": "code",
   "execution_count": null,
   "id": "4ccbbc22",
   "metadata": {
    "ExecuteTime": {
     "end_time": "2024-01-12T01:21:46.411791Z",
     "start_time": "2024-01-12T01:21:46.408181Z"
    }
   },
   "outputs": [],
   "source": []
  },
  {
   "cell_type": "code",
   "execution_count": null,
   "id": "2d3f114c",
   "metadata": {},
   "outputs": [],
   "source": []
  },
  {
   "cell_type": "code",
   "execution_count": null,
   "id": "c7a3ba4a",
   "metadata": {
    "ExecuteTime": {
     "end_time": "2024-02-09T00:12:41.761081Z",
     "start_time": "2024-02-09T00:12:41.761081Z"
    },
    "code_folding": [
     1
    ],
    "execution": {
     "iopub.status.busy": "2024-03-11T00:28:16.732678Z",
     "iopub.status.idle": "2024-03-11T00:28:16.732678Z",
     "shell.execute_reply": "2024-03-11T00:28:16.732678Z",
     "shell.execute_reply.started": "2024-03-11T00:28:16.732678Z"
    }
   },
   "outputs": [],
   "source": [
    "\n",
    "def process_single_video(multi_lingual_sentence,audio_path,resized_image_clip,background_image):\n",
    "\n",
    "#     if indx >= start_indx:\n",
    "\n",
    "    print(f\"Building Video {os.path.basename(audio_path)} ...\")\n",
    "\n",
    "\n",
    "    if \"no_english\" in os.path.basename(audio_path):\n",
    "        flag_bilingual = False\n",
    "        multi_lingual_sentence = multi_lingual_sentence.split(txt_separator)[0]\n",
    "        sentences = [sentence.strip() for sentence in multi_lingual_sentence.split(\".\") if sentence]\n",
    "\n",
    "    else:\n",
    "        flag_bilingual = True\n",
    "        sentences = [sentence.strip() for sentence in multi_lingual_sentence.split(txt_separator) if sentence]\n",
    "#         print(flag_bilingual)\n",
    "\n",
    "\n",
    "\n",
    "\n",
    "    chap_subfolder_name = os.path.basename(os.path.dirname(audio_path))\n",
    "    saving_folder = os.path.dirname(audio_path)\n",
    "    saving_folder = os.path.join(saving_folder, \"\")\n",
    "\n",
    "    filename = os.path.basename(audio_path)\n",
    "    filename = filename.replace(\".mp3\", \".mp4\")        \n",
    "    saving_path = os.path.join(saving_folder, filename)\n",
    "\n",
    "\n",
    "    fontsize = calculate_appropriate_font_size(sentences, font_name, default_fontsize, \n",
    "                                               max_width, screen_height // 2,decrease_font_increment)\n",
    "    print(f\"appropriate font size {filename}: {fontsize}\") \n",
    "\n",
    "    # Load the corresponding audio\n",
    "    audio_clip = AudioFileClip(audio_path)\n",
    "    bg_clip = ImageClip(background_image, duration=audio_clip.duration)\n",
    "\n",
    "    # Add a logo and website text to each video clip\n",
    "    logo_clip = ImageClip(logo_path, duration=audio_clip.duration).resize(width=200)\n",
    "    logo_clip = logo_clip.set_position((\"left\", \"bottom\"))\n",
    "\n",
    "    logo_clip2 = ImageClip(logo_path, duration=audio_clip.duration).resize(width=200)\n",
    "    logo_clip2 = logo_clip2.set_position((\"right\", \"bottom\"))\n",
    "\n",
    "    website_text_clip = TextClip(\"www.resulam.com\", fontsize=70, color=darkyellow, \n",
    "                                 font=font_path).set_duration(audio_clip.duration)\n",
    "#         website_text_clip = website_text_clip.set_position((\"right\", \"bottom\"))\n",
    "\n",
    "    # Calculate position to place the website text just above the logo\n",
    "    website_text_clip = website_text_clip.set_position('center')\n",
    "\n",
    "    language_text_clip = TextClip(f\"{local_language_name}\", fontsize=30, color= darkyellow, \n",
    "                                  font=font_path).set_duration(audio_clip.duration)\n",
    "    language_text_clip = language_text_clip.set_position((\"left\", \"top\"))\n",
    "\n",
    "    support_text_clip = TextClip(f\"Please Support Resulam\", fontsize=30, color= darkyellow, \n",
    "                                  font=font_path).set_duration(audio_clip.duration)\n",
    "    support_text_clip = support_text_clip.set_position((\"right\", \"top\"))\n",
    "\n",
    "    # Create and add countdown clip\n",
    "#         countdown_clip = create_countdown_clip(int(audio_clip.duration))\n",
    "    duration_of_audio = int(audio_clip.duration)  # Replace with actual duration\n",
    "#         countdown_clip = create_countdown_clip(duration_of_audio,  color=darkyellow)\n",
    "    countdown_clip = create_countdown_clip(duration_of_audio, fontsize=70, pos=(\"right\", \"top\"), \n",
    "                                           font_path=font_path,color=darkyellow)\n",
    "\n",
    "\n",
    "    resized_image_clip = resized_image_clip.set_duration(audio_clip.duration)\n",
    "\n",
    "\n",
    "\n",
    "\n",
    "    # Generate the composite video clip\n",
    "    composite_clip = fit_multi_lang_to_screen(multi_lingual_sentence=multi_lingual_sentence,\n",
    "                                              fontsize=fontsize,\n",
    "                                              screen_width=1920, \n",
    "                                              screen_height=1080,  \n",
    "                                              txt_separator=\"|\", y_pos=y_start_position,\n",
    "                                              color1=white, color2=darkyellow,\n",
    "                                              screen_fraction=1/2,\n",
    "                                              decrease_font_increment=2,\n",
    "                                              flag_bilingual = flag_bilingual)\n",
    "\n",
    "\n",
    "    # Add the resized image clip to your composite video\n",
    "    video_with_audio = CompositeVideoClip([bg_clip, logo_clip, logo_clip2, support_text_clip,\n",
    "                                           website_text_clip, language_text_clip, \n",
    "                                           composite_clip, resized_image_clip])  # Add 'resized_image_clip' here\n",
    "\n",
    "    video_with_audio = video_with_audio.set_audio(audio_clip)\n",
    "    video_with_audio.duration = audio_clip.duration\n",
    "\n",
    "    video_with_audio.write_videofile(saving_path, preset='ultrafast', fps=24, bitrate='4000k', codec='libx264')\n",
    "\n",
    "\n",
    "y_start_position = 25 \n",
    "ads_image_generator = resize_image_proportionally(\n",
    "                                ads_images=ads_images,\n",
    "                                priority_images=priority_ads_image,\n",
    "                                max_height=int(screen_height/2.5), \n",
    "                                screen_height=screen_height\n",
    "                            )\n",
    "\n",
    "multi_lingual_sentence = list(phrase_audio_map.keys())[2]\n",
    "audio_path = list(phrase_audio_map.values())[2]\n",
    "# SINGLE Sentence Audio builder\n",
    "# process_single_video(multi_lingual_sentence,audio_path)\n",
    "\n",
    "default_fontsize=90\n",
    "change_background_frequency = 5\n",
    "local_language_name=lln\n",
    "decrease_font_increment = 2 \n",
    "\n",
    "background_image = next(background_image_generator)\n",
    "resized_image_clip = next(ads_image_generator)\n",
    "        \n",
    "\n",
    "for idx, (chap, phrase_audio_map) in enumerate(phrase_audio_map_per_chapters.items()):\n",
    "    \n",
    "    if idx % change_background_frequency == 0:\n",
    "        background_image = next(background_image_generator)\n",
    "        print(os.path.basename(background_image_generator))\n",
    "        resized_image_clip = next(ads_image_generator)\n",
    "        #  background_image = background_image_queue.get()\n",
    "\n",
    "        #  resized_image_clip = ads_image_queue.get()\n",
    "\n",
    "    for multi_lingual_sentence, audio_path in phrase_audio_map.items():\n",
    "\n",
    "        process_single_video(multi_lingual_sentence,audio_path,resized_image_clip,background_image)   \n"
   ]
  },
  {
   "cell_type": "code",
   "execution_count": null,
   "id": "c2b7cf09",
   "metadata": {
    "ExecuteTime": {
     "end_time": "2024-01-12T01:34:56.252899Z",
     "start_time": "2024-01-12T01:34:56.248481Z"
    },
    "execution": {
     "iopub.status.busy": "2024-03-11T00:28:16.735687Z",
     "iopub.status.idle": "2024-03-11T00:28:16.735687Z",
     "shell.execute_reply": "2024-03-11T00:28:16.735687Z",
     "shell.execute_reply.started": "2024-03-11T00:28:16.735687Z"
    }
   },
   "outputs": [],
   "source": [
    "# os.path.basename()\n",
    "# background_image_generator\n"
   ]
  },
  {
   "cell_type": "code",
   "execution_count": null,
   "id": "d6c848b1",
   "metadata": {},
   "outputs": [],
   "source": []
  },
  {
   "cell_type": "code",
   "execution_count": null,
   "id": "599ba75b",
   "metadata": {},
   "outputs": [],
   "source": []
  },
  {
   "cell_type": "code",
   "execution_count": null,
   "id": "316a1d21",
   "metadata": {
    "ExecuteTime": {
     "end_time": "2024-01-12T01:37:48.011884Z",
     "start_time": "2024-01-12T01:37:48.005197Z"
    }
   },
   "outputs": [],
   "source": []
  },
  {
   "cell_type": "code",
   "execution_count": null,
   "id": "4a5069f4",
   "metadata": {
    "ExecuteTime": {
     "end_time": "2024-02-09T00:12:41.762509Z",
     "start_time": "2024-02-09T00:12:41.762509Z"
    },
    "execution": {
     "iopub.status.busy": "2024-03-11T00:28:16.736668Z",
     "iopub.status.idle": "2024-03-11T00:28:16.736668Z",
     "shell.execute_reply": "2024-03-11T00:28:16.736668Z",
     "shell.execute_reply.started": "2024-03-11T00:28:16.736668Z"
    }
   },
   "outputs": [],
   "source": [
    "# Dask Parallelism not working well as of today, January 9, 2024\n"
   ]
  },
  {
   "cell_type": "code",
   "execution_count": null,
   "id": "a7ec292c",
   "metadata": {},
   "outputs": [],
   "source": []
  },
  {
   "cell_type": "code",
   "execution_count": null,
   "id": "c50840b8",
   "metadata": {},
   "outputs": [],
   "source": []
  },
  {
   "cell_type": "markdown",
   "id": "25835d0e",
   "metadata": {},
   "source": [
    "# Dask"
   ]
  },
  {
   "cell_type": "code",
   "execution_count": null,
   "id": "ddec3c5a",
   "metadata": {},
   "outputs": [],
   "source": []
  },
  {
   "cell_type": "code",
   "execution_count": null,
   "id": "4b021242",
   "metadata": {
    "ExecuteTime": {
     "end_time": "2024-02-09T00:12:41.764696Z",
     "start_time": "2024-02-09T00:12:41.764696Z"
    },
    "execution": {
     "iopub.status.busy": "2024-03-11T00:28:16.736668Z",
     "iopub.status.idle": "2024-03-11T00:28:16.736668Z",
     "shell.execute_reply": "2024-03-11T00:28:16.736668Z",
     "shell.execute_reply.started": "2024-03-11T00:28:16.736668Z"
    }
   },
   "outputs": [],
   "source": [
    "from dask import delayed, compute\n",
    "from dask.distributed import Client\n",
    "\n",
    "# Initialize the Dask client\n",
    "client = Client(n_workers=10, threads_per_worker=8)\n",
    "\n",
    "# [Your process_single_video function definition]\n",
    "\n",
    "# Initialize background image and ads image\n",
    "background_image = next(background_image_generator)\n",
    "resized_image_clip = next(ads_image_generator)\n",
    "\n",
    "# Define the batch size\n",
    "batch_size = 10  # Adjust this number based on your requirements\n",
    "\n",
    "# Loop through your data and process in batches\n",
    "for idx, (chap, phrase_audio_map) in enumerate(phrase_audio_map_per_chapters.items()):\n",
    "    if idx % change_background_frequency == 0:\n",
    "        background_image = next(background_image_generator)\n",
    "        resized_image_clip = next(ads_image_generator)\n",
    "\n",
    "    # Initialize an empty list for the current batch\n",
    "    delayed_tasks = []\n",
    "\n",
    "    for i, (multi_lingual_sentence, audio_path) in enumerate(phrase_audio_map.items()):\n",
    "        task = process_single_video(multi_lingual_sentence, audio_path, resized_image_clip, background_image)\n",
    "        delayed_tasks.append(task)\n",
    "\n",
    "        # When batch size is reached, compute the tasks in the current batch\n",
    "        if (i + 1) % batch_size == 0 or (i + 1) == len(phrase_audio_map):\n",
    "            results = compute(*delayed_tasks)\n",
    "            delayed_tasks = []  # Reset the batch\n",
    "\n",
    "# Shutdown the client\n",
    "client.shutdown()\n"
   ]
  },
  {
   "cell_type": "code",
   "execution_count": null,
   "id": "4d2a12ac",
   "metadata": {
    "ExecuteTime": {
     "end_time": "2024-01-12T06:36:30.342638Z",
     "start_time": "2024-01-12T06:35:13.903338Z"
    },
    "code_folding": []
   },
   "outputs": [],
   "source": []
  },
  {
   "cell_type": "code",
   "execution_count": null,
   "id": "776768c8",
   "metadata": {},
   "outputs": [],
   "source": []
  },
  {
   "cell_type": "code",
   "execution_count": null,
   "id": "c456a0d9",
   "metadata": {
    "ExecuteTime": {
     "end_time": "2024-01-12T05:42:17.292448Z",
     "start_time": "2024-01-12T05:40:09.996634Z"
    },
    "code_folding": []
   },
   "outputs": [],
   "source": []
  },
  {
   "cell_type": "code",
   "execution_count": null,
   "id": "630ee3b4",
   "metadata": {},
   "outputs": [],
   "source": []
  },
  {
   "cell_type": "code",
   "execution_count": null,
   "id": "54f9670c",
   "metadata": {
    "ExecuteTime": {
     "end_time": "2024-02-09T00:12:41.765963Z",
     "start_time": "2024-02-09T00:12:41.765963Z"
    },
    "code_folding": [
     30
    ],
    "execution": {
     "iopub.status.busy": "2024-03-11T00:28:16.739672Z",
     "iopub.status.idle": "2024-03-11T00:28:16.739672Z",
     "shell.execute_reply": "2024-03-11T00:28:16.739672Z",
     "shell.execute_reply.started": "2024-03-11T00:28:16.739672Z"
    }
   },
   "outputs": [],
   "source": [
    "from dask import delayed, compute\n",
    "from moviepy.editor import AudioFileClip, ImageClip, TextClip, CompositeVideoClip\n",
    "import os\n",
    "from dask.distributed import Client, LocalCluster\n",
    "from dask.distributed import Client\n",
    "\n",
    "# # Your existing code for resize_image_proportionally, background_image_generator, etc.\n",
    "\n",
    "# Initialize Dask Client with 10 workers and 8 cores per worker\n",
    "client = Client(n_workers=10, threads_per_worker=8)\n",
    "\n",
    "########################################################################\n",
    "y_start_position = 25 \n",
    "\n",
    "\n",
    "start_build_num = 132\n",
    "start_indx = start_build_from(start_build_num,phrase_audio_map)\n",
    "\n",
    "# for indx, (multi_lingual_sentence, audio_path) in enumerate(phrase_audio_map_chap.items()):\n",
    "\n",
    "multi_lingual_sentence = list(phrase_audio_map.keys())[2]\n",
    "audio_path = list(phrase_audio_map.values())[2]\n",
    "\n",
    "default_fontsize=90\n",
    "change_background_frequency = 5\n",
    "local_language_name=lln\n",
    "decrease_font_increment = 2 \n",
    "background_image = next(background_image_generator)\n",
    "\n",
    "@delayed\n",
    "def process_single_video(multi_lingual_sentence,audio_path):\n",
    "\n",
    "#     if indx >= start_indx:\n",
    "\n",
    "    print(f\"Building Video {os.path.basename(audio_path)} ...\")\n",
    "\n",
    "\n",
    "    if \"no_english\" in os.path.basename(audio_path):\n",
    "        flag_bilingual = False\n",
    "        multi_lingual_sentence = multi_lingual_sentence.split(txt_separator)[0]\n",
    "        sentences = [sentence.strip() for sentence in multi_lingual_sentence.split(\".\") if sentence]\n",
    "\n",
    "    else:\n",
    "        flag_bilingual = True\n",
    "        sentences = [sentence.strip() for sentence in multi_lingual_sentence.split(txt_separator) if sentence]\n",
    "#         print(flag_bilingual)\n",
    "\n",
    "#         if indx % change_background_frequency == 0:\n",
    "#         background_image = next(background_image_generator)\n",
    "    background_image = background_image_queue.get()\n",
    "#         resized_image_clip = next(ads_image_generator)\n",
    "    resized_image_clip = ads_image_queue.get()\n",
    "\n",
    "\n",
    "\n",
    "    chap_subfolder_name = os.path.basename(os.path.dirname(audio_path))\n",
    "    saving_folder = os.path.dirname(audio_path)\n",
    "    saving_folder = os.path.join(saving_folder, \"\")\n",
    "\n",
    "    filename = os.path.basename(audio_path)\n",
    "    filename = filename.replace(\".mp3\", \".mp4\")        \n",
    "    saving_path = os.path.join(saving_folder, filename)\n",
    "\n",
    "\n",
    "    fontsize = calculate_appropriate_font_size(sentences, font_name, default_fontsize, \n",
    "                                               max_width, screen_height // 2,decrease_font_increment)\n",
    "    print(f\"appropriate font size {filename}: {fontsize}\") \n",
    "\n",
    "    # Load the corresponding audio\n",
    "    audio_clip = AudioFileClip(audio_path)\n",
    "    bg_clip = ImageClip(background_image, duration=audio_clip.duration)\n",
    "\n",
    "    # Add a logo and website text to each video clip\n",
    "    logo_clip = ImageClip(logo_path, duration=audio_clip.duration).resize(width=200)\n",
    "    logo_clip = logo_clip.set_position((\"left\", \"bottom\"))\n",
    "\n",
    "    logo_clip2 = ImageClip(logo_path, duration=audio_clip.duration).resize(width=200)\n",
    "    logo_clip2 = logo_clip2.set_position((\"right\", \"bottom\"))\n",
    "\n",
    "    website_text_clip = TextClip(\"www.resulam.com\", fontsize=70, color=darkyellow, \n",
    "                                 font=font_path).set_duration(audio_clip.duration)\n",
    "#         website_text_clip = website_text_clip.set_position((\"right\", \"bottom\"))\n",
    "\n",
    "    # Calculate position to place the website text just above the logo\n",
    "    website_text_clip = website_text_clip.set_position('center')\n",
    "\n",
    "    language_text_clip = TextClip(f\"{local_language_name}\", fontsize=30, color= darkyellow, \n",
    "                                  font=font_path).set_duration(audio_clip.duration)\n",
    "    language_text_clip = language_text_clip.set_position((\"left\", \"top\"))\n",
    "\n",
    "    support_text_clip = TextClip(f\"Please Support Resulam\", fontsize=30, color= darkyellow, \n",
    "                                  font=font_path).set_duration(audio_clip.duration)\n",
    "    support_text_clip = support_text_clip.set_position((\"right\", \"top\"))\n",
    "\n",
    "    # Create and add countdown clip\n",
    "#         countdown_clip = create_countdown_clip(int(audio_clip.duration))\n",
    "    duration_of_audio = int(audio_clip.duration)  # Replace with actual duration\n",
    "#         countdown_clip = create_countdown_clip(duration_of_audio,  color=darkyellow)\n",
    "    countdown_clip = create_countdown_clip(duration_of_audio, fontsize=70, pos=(\"right\", \"top\"), \n",
    "                                           font_path=font_path,color=darkyellow)\n",
    "\n",
    "\n",
    "    resized_image_clip = resized_image_clip.set_duration(audio_clip.duration)\n",
    "\n",
    "\n",
    "\n",
    "\n",
    "    # Generate the composite video clip\n",
    "    composite_clip = fit_multi_lang_to_screen(multi_lingual_sentence=multi_lingual_sentence,\n",
    "                                              fontsize=fontsize,\n",
    "                                              screen_width=1920, \n",
    "                                              screen_height=1080,  \n",
    "                                              txt_separator=\"|\", y_pos=y_start_position,\n",
    "                                              color1=white, color2=darkyellow,\n",
    "                                              screen_fraction=1/2,\n",
    "                                              decrease_font_increment=2,\n",
    "                                              flag_bilingual = flag_bilingual)\n",
    "\n",
    "\n",
    "    # Add the resized image clip to your composite video\n",
    "    video_with_audio = CompositeVideoClip([bg_clip, logo_clip, logo_clip2, support_text_clip,\n",
    "                                           website_text_clip, language_text_clip, \n",
    "                                           composite_clip, resized_image_clip])  # Add 'resized_image_clip' here\n",
    "\n",
    "    video_with_audio = video_with_audio.set_audio(audio_clip)\n",
    "    video_with_audio.duration = audio_clip.duration\n",
    "\n",
    "    video_with_audio.write_videofile(saving_path, preset='ultrafast', fps=24, bitrate='4000k', codec='libx264')\n",
    "\n",
    "        \n",
    "process_single_video(multi_lingual_sentence,audio_path)   \n",
    "\n",
    "# for chap, phrase_audio_map in phrase_audio_map_per_chapters.items():\n",
    "    \n",
    "# tasks = [process_single_video(sentence, path) for sentence, path in phrase_audio_map.items()]\n",
    "# results = compute(*tasks)\n",
    "\n",
    "# for chap, phrase_audio_map in phrase_audio_map_per_chapters.items():\n",
    "delayed_results = [process_single_video(sentence, path) for sentence, path in phrase_audio_map.items()]\n",
    "\n",
    "# Compute all results in parallel\n",
    "results = compute(*delayed_results)\n",
    "\n",
    "# Shut down the client after completing tasks\n",
    "client.shutdown()\n",
    "####################################################################################################\n"
   ]
  },
  {
   "cell_type": "code",
   "execution_count": null,
   "id": "8322b39d",
   "metadata": {
    "ExecuteTime": {
     "end_time": "2024-02-09T00:12:41.765963Z",
     "start_time": "2024-02-09T00:12:41.765963Z"
    },
    "execution": {
     "iopub.status.busy": "2024-03-11T00:28:16.740672Z",
     "iopub.status.idle": "2024-03-11T00:28:16.740672Z",
     "shell.execute_reply": "2024-03-11T00:28:16.740672Z",
     "shell.execute_reply.started": "2024-03-11T00:28:16.740672Z"
    }
   },
   "outputs": [],
   "source": [
    "# from concurrent.futures import ProcessPoolExecutor\n",
    "# import os\n",
    "\n",
    "# # def process_video(multi_lingual_sentence, audio_path):\n",
    "\n",
    "# if __name__ == \"__main__\":\n",
    "#     with ProcessPoolExecutor(max_workers=10) as executor:\n",
    "#         futures = [executor.submit(process_single_video, sentence, path) for sentence, path in phrase_audio_map.items()]\n",
    "#         results = [future.result() for future in futures]\n"
   ]
  },
  {
   "cell_type": "code",
   "execution_count": null,
   "id": "9ad435b3",
   "metadata": {
    "ExecuteTime": {
     "end_time": "2024-02-09T00:12:41.771305Z",
     "start_time": "2024-02-09T00:12:41.771305Z"
    },
    "code_folding": [],
    "execution": {
     "iopub.status.busy": "2024-03-11T00:28:16.740672Z",
     "iopub.status.idle": "2024-03-11T00:28:16.741673Z",
     "shell.execute_reply": "2024-03-11T00:28:16.740672Z",
     "shell.execute_reply.started": "2024-03-11T00:28:16.740672Z"
    }
   },
   "outputs": [],
   "source": [
    "# from joblib import Parallel, delayed\n",
    "# import os\n",
    "\n",
    "# # def process_video(multi_lingual_sentence, audio_path):\n",
    "\n",
    "# # phrase_audio_map = {...}  # your data\n",
    "# results = Parallel(n_jobs=10)(delayed(process_single_video)(sentence, path) for sentence, path in phrase_audio_map.items())\n"
   ]
  },
  {
   "cell_type": "code",
   "execution_count": null,
   "id": "916c0533",
   "metadata": {},
   "outputs": [],
   "source": []
  },
  {
   "cell_type": "code",
   "execution_count": null,
   "id": "923bc5a6",
   "metadata": {},
   "outputs": [],
   "source": []
  },
  {
   "cell_type": "markdown",
   "id": "bdc306b6",
   "metadata": {},
   "source": [
    "# Asyncrhronous"
   ]
  },
  {
   "cell_type": "code",
   "execution_count": null,
   "id": "3b06f1f0",
   "metadata": {
    "ExecuteTime": {
     "end_time": "2024-01-04T06:06:14.121640Z",
     "start_time": "2024-01-04T06:06:12.227070Z"
    },
    "code_folding": []
   },
   "outputs": [],
   "source": []
  },
  {
   "cell_type": "code",
   "execution_count": null,
   "id": "c5c321e2",
   "metadata": {
    "ExecuteTime": {
     "end_time": "2024-02-09T00:12:41.771305Z",
     "start_time": "2024-02-09T00:12:41.771305Z"
    },
    "code_folding": [
     19
    ],
    "execution": {
     "iopub.status.busy": "2024-03-11T00:28:16.742178Z",
     "iopub.status.idle": "2024-03-11T00:28:16.742178Z",
     "shell.execute_reply": "2024-03-11T00:28:16.742178Z",
     "shell.execute_reply.started": "2024-03-11T00:28:16.742178Z"
    }
   },
   "outputs": [],
   "source": [
    "import asyncio\n",
    "import concurrent.futures\n",
    "from moviepy.editor import VideoFileClip, AudioFileClip, ImageClip, TextClip, CompositeVideoClip\n",
    "\n",
    "# The synchronous part of saving the video\n",
    "def save_video_sync(video_clip, path):\n",
    "    video_clip.write_videofile(path, codec=\"libx264\", audio_codec='aac', temp_audiofile='temp-audio.m4a', remove_temp=True, fps=24)\n",
    "    print(f\"Video saved to {path}\")\n",
    "\n",
    "# The asynchronous wrapper that uses run_in_executor to run the synchronous function\n",
    "async def save_video(video_clip, path):\n",
    "    loop = asyncio.get_event_loop()\n",
    "    # Using a ThreadPoolExecutor to run save_video_sync in a separate thread\n",
    "    await loop.run_in_executor(None, save_video_sync, video_clip, path)\n",
    "\n",
    "# The rest of your synchronous video building function remains unchanged\n",
    "def build_videos_per_chapter(phrase_audio_map_chap, background_image, resized_image_clip,\n",
    "                             default_fontsize=90, \n",
    "                             change_background_frequency=5, \n",
    "                             local_language_name=\"Nùfī\",decrease_font_increment=3):\n",
    "    for indx, (multi_lingual_sentence, audio_path) in enumerate(phrase_audio_map_chap.items()):\n",
    "        \n",
    "        if \"no_english\" in os.path.basename(audio_path):\n",
    "            flag_bilingual = False\n",
    "            multi_lingual_sentence = multi_lingual_sentence.split(txt_separator)[0]\n",
    "            sentences = [sentence.strip() for sentence in multi_lingual_sentence.split(\".\") if sentence]\n",
    "            \n",
    "        else:\n",
    "            flag_bilingual = True\n",
    "            sentences = [sentence.strip() for sentence in multi_lingual_sentence.split(txt_separator) if sentence]\n",
    "\n",
    "        if indx % change_background_frequency == 0:\n",
    "            background_image = next(background_image_generator)\n",
    "            resized_image_clip = next(ads_image_generator)\n",
    "\n",
    "              \n",
    "\n",
    "        chap_subfolder_name = os.path.basename(os.path.dirname(audio_path))\n",
    "        saving_folder = os.path.dirname(audio_path)\n",
    "        saving_folder = os.path.join(saving_folder, \"\")\n",
    "        \n",
    "        filename = os.path.basename(audio_path)\n",
    "        filename = filename.replace(\".mp3\", \".mp4\")        \n",
    "        saving_path = os.path.join(saving_folder, filename)\n",
    "\n",
    "        \n",
    "        fontsize = calculate_appropriate_font_size(sentences, font_name, default_fontsize, \n",
    "                                                   max_width, screen_height // 2,decrease_font_increment)\n",
    "        print(f\"appropriate font size {filename}: {fontsize}\") \n",
    "\n",
    "        # Load the corresponding audio\n",
    "        audio_clip = AudioFileClip(audio_path)\n",
    "        bg_clip = ImageClip(background_image, duration=audio_clip.duration)\n",
    "\n",
    "        # Add a logo and website text to each video clip\n",
    "        logo_clip = ImageClip(logo_path, duration=audio_clip.duration).resize(width=200)\n",
    "        logo_clip = logo_clip.set_position((\"left\", \"bottom\"))\n",
    "        \n",
    "        logo_clip2 = ImageClip(logo_path, duration=audio_clip.duration).resize(width=200)\n",
    "        logo_clip2 = logo_clip2.set_position((\"right\", \"bottom\"))\n",
    "\n",
    "        website_text_clip = TextClip(\"www.resulam.com\", fontsize=70, color=darkyellow, \n",
    "                                     font=font_path).set_duration(audio_clip.duration)\n",
    "#         website_text_clip = website_text_clip.set_position((\"right\", \"bottom\"))\n",
    "        \n",
    "        # Calculate position to place the website text just above the logo\n",
    "        website_text_clip = website_text_clip.set_position('center')\n",
    "\n",
    "        language_text_clip = TextClip(f\"{local_language_name}\", fontsize=30, color= darkyellow, \n",
    "                                      font=font_path).set_duration(audio_clip.duration)\n",
    "        language_text_clip = language_text_clip.set_position((\"left\", \"top\"))\n",
    "        \n",
    "        support_text_clip = TextClip(f\"Please Support Resulam\", fontsize=30, color= darkyellow, \n",
    "                                      font=font_path).set_duration(audio_clip.duration)\n",
    "        support_text_clip = support_text_clip.set_position((\"right\", \"top\"))\n",
    "\n",
    "        # Create and add countdown clip\n",
    "#         countdown_clip = create_countdown_clip(int(audio_clip.duration))\n",
    "        duration_of_audio = int(audio_clip.duration)  # Replace with actual duration\n",
    "#         countdown_clip = create_countdown_clip(duration_of_audio,  color=darkyellow)\n",
    "        countdown_clip = create_countdown_clip(duration_of_audio, fontsize=70, pos=(\"right\", \"top\"), \n",
    "                                               font_path=font_path,color=darkyellow)\n",
    "\n",
    "        \n",
    "        resized_image_clip = resized_image_clip.set_duration(audio_clip.duration)\n",
    "\n",
    "\n",
    "        \n",
    "\n",
    "        # Generate the composite video clip\n",
    "        composite_clip = fit_multi_lang_to_screen(multi_lingual_sentence=multi_lingual_sentence,\n",
    "                                                  fontsize=fontsize,\n",
    "                                                  screen_width=1920, \n",
    "                                                  screen_height=1080,  \n",
    "                                                  txt_separator=\"|\", y_pos=y_start_position,\n",
    "                                                  color1=white, color2=darkyellow,\n",
    "                                                  screen_fraction=1/2,\n",
    "                                                  decrease_font_increment=2,\n",
    "                                                  flag_bilingual = flag_bilingual)\n",
    "\n",
    "        \n",
    "        # Add the resized image clip to your composite video\n",
    "        video_with_audio = CompositeVideoClip([bg_clip, logo_clip, logo_clip2, support_text_clip,\n",
    "                                               website_text_clip, language_text_clip, \n",
    "                                               composite_clip, resized_image_clip])  # Add 'resized_image_clip' here\n",
    "        \n",
    "        video_with_audio = video_with_audio.set_audio(audio_clip)\n",
    "        video_with_audio.duration = audio_clip.duration\n",
    "\n",
    "        video_with_audio.write_videofile(saving_path, preset='ultrafast', fps=24, bitrate='4000k', codec='libx264')\n",
    "\n",
    " \n",
    "\n",
    "    # At the end of the function, instead of writing the file directly,\n",
    "    # you would return the video_with_audio clip and the saving_path\n",
    "    return video_with_audio, saving_path\n",
    "\n",
    "# The async main function that awaits the completion of video saving\n",
    "async def main():\n",
    "    tasks = []\n",
    "    # Using a ThreadPoolExecutor to run CPU-bound tasks in parallel\n",
    "    with concurrent.futures.ThreadPoolExecutor() as executor:\n",
    "        loop = asyncio.get_event_loop()\n",
    "        for chap, phrase_audio_map in phrase_audio_map_per_chapters.items():\n",
    "            # Schedule build_videos_per_chapter_sync to run in the ThreadPoolExecutor\n",
    "            video_clip, saving_path = await loop.run_in_executor(\n",
    "                executor, \n",
    "                build_videos_per_chapter_sync, \n",
    "                phrase_audio_map, default_fontsize, change_background_frequency, local_language_name,\n",
    "                decrease_font_increment=3 \n",
    "            )\n",
    "            # Now schedule the save_video function as an asyncio task\n",
    "            task = save_video(video_clip, saving_path)\n",
    "            tasks.append(task)\n",
    "\n",
    "        # Await all save_video tasks\n",
    "        await asyncio.gather(*tasks)\n",
    "\n",
    "# Run the async event loop\n",
    "asyncio.run(await main())\n"
   ]
  },
  {
   "cell_type": "code",
   "execution_count": null,
   "id": "18e3c475",
   "metadata": {},
   "outputs": [],
   "source": []
  },
  {
   "cell_type": "code",
   "execution_count": null,
   "id": "d2a0d410",
   "metadata": {},
   "outputs": [],
   "source": []
  },
  {
   "cell_type": "markdown",
   "id": "b27d8535",
   "metadata": {},
   "source": [
    "## Build Videos in chunks"
   ]
  },
  {
   "cell_type": "code",
   "execution_count": null,
   "id": "5fbdf5ee",
   "metadata": {},
   "outputs": [],
   "source": []
  },
  {
   "cell_type": "code",
   "execution_count": null,
   "id": "63da701b",
   "metadata": {
    "ExecuteTime": {
     "end_time": "2023-12-30T05:09:54.005912Z",
     "start_time": "2023-12-30T05:09:00.651475Z"
    },
    "code_folding": []
   },
   "outputs": [],
   "source": []
  },
  {
   "cell_type": "code",
   "execution_count": null,
   "id": "c10475e9",
   "metadata": {},
   "outputs": [],
   "source": []
  },
  {
   "cell_type": "code",
   "execution_count": null,
   "id": "df6d84c7",
   "metadata": {},
   "outputs": [],
   "source": []
  },
  {
   "cell_type": "code",
   "execution_count": null,
   "id": "252e41ec",
   "metadata": {
    "ExecuteTime": {
     "end_time": "2023-12-30T02:41:57.119895Z",
     "start_time": "2023-12-30T02:41:23.172185Z"
    }
   },
   "outputs": [],
   "source": []
  },
  {
   "cell_type": "code",
   "execution_count": null,
   "id": "b108228f",
   "metadata": {},
   "outputs": [],
   "source": []
  },
  {
   "cell_type": "code",
   "execution_count": null,
   "id": "f8e40669",
   "metadata": {
    "ExecuteTime": {
     "end_time": "2024-02-09T00:12:41.771305Z",
     "start_time": "2024-02-09T00:12:41.771305Z"
    },
    "code_folding": [],
    "execution": {
     "iopub.status.busy": "2024-03-11T00:28:16.742178Z",
     "iopub.status.idle": "2024-03-11T00:28:16.742178Z",
     "shell.execute_reply": "2024-03-11T00:28:16.742178Z",
     "shell.execute_reply.started": "2024-03-11T00:28:16.742178Z"
    }
   },
   "outputs": [],
   "source": [
    "# for chap in chapters_subfolders:\n",
    "    \n",
    "#     print(f\"building Video for {chap} ...\")\n",
    "    \n",
    "#     chap_subfolder_dir = os.path.join(bilingual_audios_folder,chap,\"\")\n",
    "#     os.chdir(chap_subfolder_dir)\n",
    "    \n",
    "#     phrase_audio_map = map_audio_and_sentences(phrases,chap_subfolder_dir)\n",
    "#     phrase_audio_map_first_10 = dict(list(phrase_audio_map.items())[:544])\n",
    "\n",
    "\n",
    "    \n",
    "#     video_clips = []\n",
    "\n",
    "#     for text, audio_path in phrase_audio_map_first_10.items():\n",
    "\n",
    "#         chap_subfolder_name = os.path.basename(os.path.dirname(audio_path))\n",
    "        \n",
    "#         background_image = pick_background(background_images,chap_subfolder_name)\n",
    "\n",
    "\n",
    "#         parts = text.split('|')\n",
    "#         wrapped_parts = [textwrap.fill(part, width=50) for part in parts]\n",
    "\n",
    "#         base_y = calculate_text_position(len(parts), line_height, fontsize)\n",
    "#         base_y = -base_y\n",
    "\n",
    "#         text_clips = []\n",
    "#         for i, (part, color) in enumerate(zip(wrapped_parts, ['white', darkyellow, 'white'])):\n",
    "#             pos_y = base_y + i * (line_height + fontsize)\n",
    "#             text_clip = create_text_clip(part, color, fontsize=fontsize, pos=(\"center\", pos_y))\n",
    "#             text_clips.append(text_clip)\n",
    "\n",
    "#         audio_clip = AudioFileClip(audio_path)\n",
    "#         text_clips = [clip.set_duration(audio_clip.duration).set_audio(audio_clip) for clip in text_clips]\n",
    "\n",
    "#         bg_clip = ImageClip(background_image, duration=audio_clip.duration)\n",
    "\n",
    "#             # Add a logo and website text to each video clip\n",
    "#         logo_clip = ImageClip(logo_path, duration=audio_clip.duration).resize(width=200)  # Adjust width as necessary\n",
    "#         logo_clip = logo_clip.set_position((\"left\", \"bottom\"))\n",
    "\n",
    "#         website_text_clip = TextClip(\"www.resulam.com\", fontsize=30, color='white', \n",
    "#                                      font=font_path\n",
    "#                                      ).set_duration(audio_clip.duration)\n",
    "\n",
    "#         website_text_clip = website_text_clip.set_position((\"right\", \"bottom\"))\n",
    "\n",
    "\n",
    "\n",
    "\n",
    "\n",
    "#         # Create and add countdown clip\n",
    "#         countdown_clip = create_countdown_clip(int(audio_clip.duration))\n",
    "#         video1 = CompositeVideoClip([bg_clip]  + [logo_clip] + [website_text_clip] + text_clips + [countdown_clip])\n",
    "\n",
    "\n",
    "#         video_clips.append(video1)\n",
    "\n",
    "\n",
    "#     # Calculate total duration of all clips and convert it to an integer\n",
    "#     total_duration = int(sum(clip.duration for clip in video_clips))\n",
    "\n",
    "#     # Create an overall countdown clip with the total duration in seconds\n",
    "#     overall_countdown_clip = create_countdown_clip(total_duration)\n",
    "#     overall_countdown_x_pos = int(1920 / 2 - 50)\n",
    "#     overall_countdown_y_pos = - int(1080 / 2 - 100)\n",
    "\n",
    "#     overall_countdown_clip = overall_countdown_clip.set_position((overall_countdown_x_pos, overall_countdown_y_pos)) \n",
    "\n",
    "#     # Concatenate all video clips\n",
    "#     final_video = concatenate_videoclips(video_clips, method=\"compose\")\n",
    "\n",
    "#     # Overlay the overall countdown clip on the final video\n",
    "#     final_composite_video = CompositeVideoClip([final_video, overall_countdown_clip])\n",
    "\n",
    "#     # Write the final video with the countdown to a file\n",
    "#     final_composite_video.write_videofile(f\"{chap}_final_video.mp4\", \n",
    "#                                           preset='ultrafast', fps=24, \n",
    "#                                           bitrate='5000k', codec='libx264')\n"
   ]
  },
  {
   "cell_type": "code",
   "execution_count": null,
   "id": "91936b0e",
   "metadata": {},
   "outputs": [],
   "source": []
  },
  {
   "cell_type": "code",
   "execution_count": null,
   "id": "0a3fa949",
   "metadata": {},
   "outputs": [],
   "source": []
  },
  {
   "cell_type": "markdown",
   "id": "e5f04300",
   "metadata": {
    "ExecuteTime": {
     "end_time": "2024-01-01T16:48:58.404266Z",
     "start_time": "2024-01-01T16:48:58.404266Z"
    }
   },
   "source": [
    "# Build Video Ads"
   ]
  },
  {
   "cell_type": "code",
   "execution_count": null,
   "id": "2c1be212",
   "metadata": {
    "ExecuteTime": {
     "end_time": "2024-02-09T00:12:41.771305Z",
     "start_time": "2024-02-09T00:12:41.771305Z"
    },
    "execution": {
     "iopub.status.busy": "2024-03-11T00:28:16.743183Z",
     "iopub.status.idle": "2024-03-11T00:28:16.744183Z",
     "shell.execute_reply": "2024-03-11T00:28:16.744183Z",
     "shell.execute_reply.started": "2024-03-11T00:28:16.744183Z"
    }
   },
   "outputs": [],
   "source": [
    "font_name_short = \"CharisSIL-B.ttf\"\n",
    "logo_name = \"resulam_logo_resurrectionLangue.png\"\n",
    "# List containing the sentences\n",
    "phrases_filename = f\"{lln}_english_french_phrasebook_sentences_list.txt\"\n",
    "# Folder that will hold the mixed bilingual sentences\n",
    "bilingual_audios_folder = os.path.join(os.path.dirname(script_dir),\"Languages\",f\"{lln}Phrasebook\",f\"bilingual_sentences\",\"\")\n",
    "\n",
    "# Ads Folder\n",
    "ads_images_folder = os.path.join(os.path.dirname(script_dir),\"Languages\",f\"{lln}Phrasebook\",f\"Ads_Images_{lln}\",\"\")\n",
    "ads_audios_folder = os.path.join(os.path.dirname(script_dir),\"Languages\",f\"{lln}Phrasebook\",f\"Ads_Audios\",\"\")\n",
    "\n",
    "# Original Local Language Folder\n",
    "local_audios_folder = os.path.join(os.path.dirname(script_dir),\"Languages\",f\"{lln}Phrasebook\",f\"{lln}Only\",\"\")\n",
    "\n",
    "bilingual_phrases_path = os.path.join(os.path.dirname(script_dir), \"Languages\", f\"{lln}Phrasebook\", f\"{phrases_filename}\")\n",
    "\n",
    "backgrounds_folder = os.path.join(os.path.dirname(script_dir),\"Backgrounds\",\"\")\n"
   ]
  },
  {
   "cell_type": "code",
   "execution_count": null,
   "id": "44b17208",
   "metadata": {
    "ExecuteTime": {
     "end_time": "2024-01-01T17:21:34.709626Z",
     "start_time": "2024-01-01T17:18:31.778395Z"
    },
    "scrolled": true
   },
   "outputs": [],
   "source": []
  },
  {
   "cell_type": "code",
   "execution_count": null,
   "id": "1de8bae1",
   "metadata": {
    "ExecuteTime": {
     "end_time": "2024-01-01T20:03:41.913132Z",
     "start_time": "2024-01-01T20:03:41.901267Z"
    }
   },
   "outputs": [],
   "source": []
  },
  {
   "cell_type": "code",
   "execution_count": null,
   "id": "c6f00864",
   "metadata": {
    "ExecuteTime": {
     "end_time": "2024-01-01T20:43:20.092855Z",
     "start_time": "2024-01-01T20:39:51.829586Z"
    }
   },
   "outputs": [],
   "source": []
  },
  {
   "cell_type": "code",
   "execution_count": null,
   "id": "c0129d51",
   "metadata": {
    "ExecuteTime": {
     "end_time": "2024-02-09T00:12:41.771305Z",
     "start_time": "2024-02-09T00:12:41.771305Z"
    },
    "execution": {
     "iopub.status.busy": "2024-03-11T00:28:16.744183Z",
     "iopub.status.idle": "2024-03-11T00:28:16.745183Z",
     "shell.execute_reply": "2024-03-11T00:28:16.745183Z",
     "shell.execute_reply.started": "2024-03-11T00:28:16.745183Z"
    }
   },
   "outputs": [],
   "source": [
    "from moviepy.editor import ImageClip, AudioFileClip, concatenate_videoclips, TextClip, CompositeVideoClip\n",
    "from PIL import Image\n",
    "  \n",
    "import os\n",
    "from moviepy.editor import ImageClip, AudioFileClip, concatenate_videoclips\n",
    "import os\n",
    "\n",
    "font_name_short = \"CharisSIL-B.ttf\"\n",
    "logo_name = \"resulam_logo_resurrectionLangue.png\"\n",
    "# List containing the sentences\n",
    "phrases_filename = f\"{lln}_english_french_phrasebook_sentences_list.txt\"\n",
    "# Folder that will hold the mixed bilingual sentences\n",
    "bilingual_audios_folder = os.path.join(os.path.dirname(script_dir),\"Languages\",f\"{lln}Phrasebook\",f\"bilingual_sentences\",\"\")\n",
    "\n",
    "# Ads Folder\n",
    "ads_images_folder = os.path.join(os.path.dirname(script_dir),\"Languages\",f\"{lln}Phrasebook\",f\"Ads_Images\",\"\")\n",
    "ads_audios_folder = os.path.join(os.path.dirname(script_dir),\"Languages\",f\"{lln}Phrasebook\",f\"Ads_Audios\",\"\")\n",
    "\n",
    "\n",
    "# List of image and audio files\n",
    "# audio_files = [f for f in os.listdir(ads_audios_folder) if f.endswith(('.mp3', '.wav'))]\n",
    "audio_files = [os.path.join(ads_audios_folder, f) for f in os.listdir(ads_audios_folder) if f.endswith(('.mp3', '.wav'))]\n",
    "\n",
    "# image_files = [f for f in os.listdir(ads_images_folder) if f.endswith(('.jpg', '.png'))]\n",
    "image_files = [os.path.join(ads_images_folder, f) for f in os.listdir(ads_images_folder) if f.endswith(('.jpg', '.png'))]\n",
    "\n",
    "ads_background = [i for i in image_files if \"ads_background\" in i][0]\n",
    "ads_background\n",
    "\n",
    "Image.MAX_IMAGE_PIXELS = None  # This removes the limit on the number of pixels\n",
    "\n",
    "# List of image and audio files\n",
    "audio_files = [os.path.join(ads_audios_folder, f) for f in os.listdir(ads_audios_folder) if f.endswith(('.mp3', '.wav'))]\n",
    "\n",
    "image_files = [os.path.join(ads_images_folder, f) for f in os.listdir(ads_images_folder) if f.endswith(('.jpg', '.png'))]\n",
    "\n",
    "\n",
    "# Sort files to ensure they are aligned\n",
    "audio_files = natsorted(audio_files)\n",
    "image_files = natsorted(image_files)\n",
    "\n",
    "# Calculate total audio duration\n",
    "total_audio_duration = sum(AudioFileClip(audio).duration for audio in audio_files)\n",
    "\n",
    "# Calculate individual image display time\n",
    "image_display_time = total_audio_duration / len(image_files)\n",
    "\n",
    "# Create a list of audio clips\n",
    "audio_clips = [AudioFileClip(audio) for audio in audio_files]\n",
    "\n",
    "# Concatenate all audio clips into one\n",
    "final_audio_clip = concatenate_audioclips(audio_clips)\n",
    "\n",
    "# List to store all video clips\n",
    "clips = []\n",
    "\n",
    "\n",
    "# Create audio and image clips\n",
    "audio_clips = [AudioFileClip(audio) for audio in audio_files]\n",
    "final_audio_clip = concatenate_audioclips(audio_clips)\n",
    "image_display_time = total_audio_duration / len(image_files)\n",
    "\n",
    "for image_path in image_files:\n",
    "    # Create a white background clip\n",
    "    bg_clip = ColorClip(size=(1920, 1080), color=(255, 255, 255), duration=image_display_time)\n",
    "\n",
    "    # Image clip with the calculated display time\n",
    "    image_clip = ImageClip(image_path).set_duration(image_display_time).set_position('center').resize(height=1080)\n",
    "    \n",
    "    # Add logos and texts\n",
    "    logo_clip = ImageClip(logo_path).set_duration(image_display_time).resize(width=200).set_position((\"left\", \"bottom\"))\n",
    "    logo_clip2 = ImageClip(logo_path).set_duration(image_display_time).resize(width=200).set_position((\"right\", \"bottom\"))\n",
    "\n",
    "    website_text_clip = TextClip(\"www.resulam.com\", fontsize=70, color=darkyellow, font=font_path).set_duration(image_display_time).set_position('center')\n",
    "    language_text_clip = TextClip(f\"{local_language_name}\", fontsize=30, color=darkyellow, font=font_path).set_duration(image_display_time).set_position((\"left\", \"top\"))\n",
    "    support_text_clip = TextClip(f\"Please Support Resulam\", fontsize=30, color=darkyellow, font=font_path).set_duration(image_display_time).set_position((\"right\", \"top\"))\n",
    "\n",
    "    # Composite all elements with the white background\n",
    "    final_clip = CompositeVideoClip([bg_clip, image_clip, logo_clip, logo_clip2, website_text_clip, language_text_clip, support_text_clip], size=(1920, 1080))\n",
    "    \n",
    "    clips.append(final_clip)\n",
    "\n",
    "# Concatenate all image clips into one video\n",
    "final_video_clip = concatenate_videoclips(clips, method='compose')\n",
    "\n",
    "# Set the concatenated audio to the video\n",
    "final_video = final_video_clip.set_audio(final_audio_clip)\n",
    "\n",
    "# Write the result to a file\n",
    "final_video.write_videofile(\"ads_video_v4.mp4\", fps=24, codec='libx264', audio_codec='aac')\n"
   ]
  },
  {
   "cell_type": "code",
   "execution_count": null,
   "id": "09093243",
   "metadata": {
    "ExecuteTime": {
     "end_time": "2024-02-09T00:12:41.771305Z",
     "start_time": "2024-02-09T00:12:41.771305Z"
    },
    "execution": {
     "iopub.status.busy": "2024-03-11T00:28:16.745183Z",
     "iopub.status.idle": "2024-03-11T00:28:16.746689Z",
     "shell.execute_reply": "2024-03-11T00:28:16.745183Z",
     "shell.execute_reply.started": "2024-03-11T00:28:16.745183Z"
    }
   },
   "outputs": [],
   "source": [
    "[os.path.basename(i) for i in image_files]"
   ]
  },
  {
   "cell_type": "code",
   "execution_count": null,
   "id": "c20b0eef",
   "metadata": {},
   "outputs": [],
   "source": []
  },
  {
   "cell_type": "code",
   "execution_count": null,
   "id": "eca6c9e5",
   "metadata": {
    "ExecuteTime": {
     "end_time": "2023-12-29T16:18:12.621959Z",
     "start_time": "2023-12-29T16:18:12.616443Z"
    }
   },
   "outputs": [],
   "source": []
  },
  {
   "cell_type": "code",
   "execution_count": null,
   "id": "013979a5",
   "metadata": {},
   "outputs": [],
   "source": []
  },
  {
   "cell_type": "code",
   "execution_count": null,
   "id": "97d4f964",
   "metadata": {
    "ExecuteTime": {
     "end_time": "2024-02-09T00:12:41.785208Z",
     "start_time": "2024-02-09T00:12:41.785208Z"
    },
    "execution": {
     "iopub.status.busy": "2024-03-11T00:28:16.747087Z",
     "iopub.status.idle": "2024-03-11T00:28:16.747695Z",
     "shell.execute_reply": "2024-03-11T00:28:16.747695Z",
     "shell.execute_reply.started": "2024-03-11T00:28:16.747695Z"
    }
   },
   "outputs": [],
   "source": [
    "# https://www.youtube.com/watch?v=BBFub0zErFA"
   ]
  },
  {
   "cell_type": "code",
   "execution_count": null,
   "id": "e0aa2180",
   "metadata": {
    "ExecuteTime": {
     "end_time": "2023-12-28T04:09:31.016231Z",
     "start_time": "2023-12-28T04:09:31.012173Z"
    }
   },
   "outputs": [],
   "source": []
  },
  {
   "cell_type": "code",
   "execution_count": null,
   "id": "04c0253a",
   "metadata": {},
   "outputs": [],
   "source": []
  }
 ],
 "metadata": {
  "hide_input": false,
  "kernelspec": {
   "display_name": "venv_phrasebook",
   "language": "python",
   "name": "venv_phrasebook"
  },
  "language_info": {
   "codemirror_mode": {
    "name": "ipython",
    "version": 3
   },
   "file_extension": ".py",
   "mimetype": "text/x-python",
   "name": "python",
   "nbconvert_exporter": "python",
   "pygments_lexer": "ipython3",
   "version": "3.11.5"
  },
  "toc": {
   "base_numbering": 1,
   "nav_menu": {
    "height": "192.4px",
    "width": "267.4px"
   },
   "number_sections": true,
   "sideBar": true,
   "skip_h1_title": false,
   "title_cell": "Table of Contents",
   "title_sidebar": "Contents",
   "toc_cell": false,
   "toc_position": {},
   "toc_section_display": true,
   "toc_window_display": false
  },
  "varInspector": {
   "cols": {
    "lenName": 16,
    "lenType": 16,
    "lenVar": 40
   },
   "kernels_config": {
    "python": {
     "delete_cmd_postfix": "",
     "delete_cmd_prefix": "del ",
     "library": "var_list.py",
     "varRefreshCmd": "print(var_dic_list())"
    },
    "r": {
     "delete_cmd_postfix": ") ",
     "delete_cmd_prefix": "rm(",
     "library": "var_list.r",
     "varRefreshCmd": "cat(var_dic_list()) "
    }
   },
   "types_to_exclude": [
    "module",
    "function",
    "builtin_function_or_method",
    "instance",
    "_Feature"
   ],
   "window_display": false
  }
 },
 "nbformat": 4,
 "nbformat_minor": 5
}

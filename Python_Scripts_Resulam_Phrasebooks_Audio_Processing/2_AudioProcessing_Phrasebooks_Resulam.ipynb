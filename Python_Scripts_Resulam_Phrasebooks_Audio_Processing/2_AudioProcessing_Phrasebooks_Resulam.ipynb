{
 "cells": [
  {
   "cell_type": "markdown",
   "id": "deda1cbe",
   "metadata": {},
   "source": [
    "# Libraries Installation"
   ]
  },
  {
   "cell_type": "code",
   "execution_count": 1,
   "id": "51c2b361",
   "metadata": {
    "ExecuteTime": {
     "end_time": "2024-02-01T05:16:00.086180Z",
     "start_time": "2024-02-01T05:16:00.082379Z"
    },
    "execution": {
     "iopub.execute_input": "2024-03-10T23:48:33.871900Z",
     "iopub.status.busy": "2024-03-10T23:48:33.871900Z",
     "iopub.status.idle": "2024-03-10T23:48:33.875995Z",
     "shell.execute_reply": "2024-03-10T23:48:33.874989Z",
     "shell.execute_reply.started": "2024-03-10T23:48:33.871900Z"
    }
   },
   "outputs": [],
   "source": [
    "# pip install natsort\n"
   ]
  },
  {
   "cell_type": "code",
   "execution_count": null,
   "id": "ce449ceb",
   "metadata": {},
   "outputs": [],
   "source": []
  },
  {
   "cell_type": "code",
   "execution_count": null,
   "id": "2f12b12e",
   "metadata": {},
   "outputs": [],
   "source": []
  },
  {
   "cell_type": "code",
   "execution_count": 2,
   "id": "f225a262",
   "metadata": {
    "ExecuteTime": {
     "end_time": "2024-02-01T05:16:00.670789Z",
     "start_time": "2024-02-01T05:16:00.665566Z"
    },
    "execution": {
     "iopub.execute_input": "2024-03-10T23:48:33.877501Z",
     "iopub.status.busy": "2024-03-10T23:48:33.876996Z",
     "iopub.status.idle": "2024-03-10T23:48:33.891398Z",
     "shell.execute_reply": "2024-03-10T23:48:33.891398Z",
     "shell.execute_reply.started": "2024-03-10T23:48:33.877501Z"
    }
   },
   "outputs": [],
   "source": [
    "# pip install pydub"
   ]
  },
  {
   "cell_type": "code",
   "execution_count": null,
   "id": "5d1d7c3c",
   "metadata": {},
   "outputs": [],
   "source": []
  },
  {
   "cell_type": "markdown",
   "id": "4eb976d1",
   "metadata": {},
   "source": [
    "# Parameter setup"
   ]
  },
  {
   "cell_type": "code",
   "execution_count": 3,
   "id": "92abbce7",
   "metadata": {
    "ExecuteTime": {
     "end_time": "2024-02-01T05:16:01.212194Z",
     "start_time": "2024-02-01T05:16:01.205682Z"
    },
    "execution": {
     "iopub.execute_input": "2024-03-10T23:48:33.893404Z",
     "iopub.status.busy": "2024-03-10T23:48:33.892404Z",
     "iopub.status.idle": "2024-03-10T23:48:33.899494Z",
     "shell.execute_reply": "2024-03-10T23:48:33.899494Z",
     "shell.execute_reply.started": "2024-03-10T23:48:33.893404Z"
    }
   },
   "outputs": [],
   "source": [
    "local_language_name = \"\"\n",
    "# Local LanguagePath\n",
    "silence_threshold = \"\" # if the silence between two audio chuncks is less than this value, then all the chuncks are considered a big/large chunk\n",
    "silence_padding_duration = \"\" # duration, in seconds of a chunk\n",
    "repeat_local_audio= \"\" # If the local language is already read twice, set reapeat = 1; if the local language is read only once, set repeat =2\n",
    "audio_path = \"\"\n",
    "audio_path_eng = \"\"\n",
    "flag_pad = \"\"\n",
    "current_dir = \"\""
   ]
  },
  {
   "cell_type": "code",
   "execution_count": null,
   "id": "9e11692f",
   "metadata": {},
   "outputs": [],
   "source": []
  },
  {
   "cell_type": "code",
   "execution_count": null,
   "id": "97521d52",
   "metadata": {},
   "outputs": [],
   "source": []
  },
  {
   "cell_type": "code",
   "execution_count": 4,
   "id": "bfb4d74c",
   "metadata": {
    "ExecuteTime": {
     "end_time": "2024-02-01T05:16:02.377779Z",
     "start_time": "2024-02-01T05:16:02.372390Z"
    },
    "execution": {
     "iopub.execute_input": "2024-03-10T23:48:33.900499Z",
     "iopub.status.busy": "2024-03-10T23:48:33.900499Z",
     "iopub.status.idle": "2024-03-10T23:48:33.903064Z",
     "shell.execute_reply": "2024-03-10T23:48:33.903064Z",
     "shell.execute_reply.started": "2024-03-10T23:48:33.900499Z"
    }
   },
   "outputs": [],
   "source": [
    "import os\n",
    "\n",
    "# Add FFmpeg to PATH\n",
    "os.environ[\"PATH\"] += os.pathsep + r\"C:\\Program Files\\ffmpeg\"\n",
    "\n",
    "# print(\"FFmpeg path in Jupyter:\", os.getenv('PATH'))\n"
   ]
  },
  {
   "cell_type": "code",
   "execution_count": null,
   "id": "ab2661bd-30d9-45ae-8322-389f107834a8",
   "metadata": {},
   "outputs": [],
   "source": []
  },
  {
   "cell_type": "code",
   "execution_count": 5,
   "id": "80eb875a",
   "metadata": {
    "ExecuteTime": {
     "end_time": "2024-02-01T05:16:03.338955Z",
     "start_time": "2024-02-01T05:16:03.316768Z"
    },
    "execution": {
     "iopub.execute_input": "2024-03-10T23:48:33.905069Z",
     "iopub.status.busy": "2024-03-10T23:48:33.904068Z",
     "iopub.status.idle": "2024-03-10T23:48:33.909103Z",
     "shell.execute_reply": "2024-03-10T23:48:33.909103Z",
     "shell.execute_reply.started": "2024-03-10T23:48:33.905069Z"
    }
   },
   "outputs": [
    {
     "data": {
      "text/plain": [
       "'Yoruba'"
      ]
     },
     "execution_count": 5,
     "metadata": {},
     "output_type": "execute_result"
    }
   ],
   "source": [
    "import os, time\n",
    "\n",
    "local_language_name='nufi'\n",
    "local_language_name='igbo'\n",
    "local_language_name='lingala'\n",
    "\n",
    "local_language_name='yoruba'\n",
    "\n",
    "# \"bilingual_audio_path=C:\\Users\\tcham\\Downloads\\PhrasebookNufi\\NufiOnly - Copy\\bilingual_sentences\"\n",
    "# \"bilingual_phrases_path=C:\\Users\\tcham\\Downloads\\nufi_english_french_phrasebook_sentences_list.txt\"\n",
    "# silence_threshold=1.5 # When two chuncks are separated by this silence duration, they are considered two different chuncks\n",
    "silence_threshold=1.5 # When two chuncks are separated by this silence duration, they are considered two different chuncks\n",
    "\n",
    "silence_padding_duration=3\n",
    "repeat_local_audio=1  # Repeat the local audio if not yet repeated. If already repeated, set repeat_local_audio=1\n",
    "flag_pad = True # True Means extend the silence between two chunks to  silence_padding_duration\n",
    "\n",
    "lln = local_language_name.title()\n",
    "\n",
    "lln "
   ]
  },
  {
   "cell_type": "code",
   "execution_count": 6,
   "id": "6605271a",
   "metadata": {
    "ExecuteTime": {
     "end_time": "2024-02-01T05:16:03.780249Z",
     "start_time": "2024-02-01T05:16:03.775867Z"
    },
    "execution": {
     "iopub.execute_input": "2024-03-10T23:48:33.911109Z",
     "iopub.status.busy": "2024-03-10T23:48:33.910109Z",
     "iopub.status.idle": "2024-03-10T23:48:33.912879Z",
     "shell.execute_reply": "2024-03-10T23:48:33.912879Z",
     "shell.execute_reply.started": "2024-03-10T23:48:33.910109Z"
    }
   },
   "outputs": [],
   "source": [
    "# 17, 366"
   ]
  },
  {
   "cell_type": "code",
   "execution_count": 7,
   "id": "a081e27b",
   "metadata": {
    "ExecuteTime": {
     "end_time": "2024-02-01T05:16:04.152570Z",
     "start_time": "2024-02-01T05:16:04.147789Z"
    },
    "execution": {
     "iopub.execute_input": "2024-03-10T23:48:33.913883Z",
     "iopub.status.busy": "2024-03-10T23:48:33.913883Z",
     "iopub.status.idle": "2024-03-10T23:48:33.916338Z",
     "shell.execute_reply": "2024-03-10T23:48:33.916338Z",
     "shell.execute_reply.started": "2024-03-10T23:48:33.913883Z"
    }
   },
   "outputs": [],
   "source": [
    "\n",
    "\n",
    "# def move_files_from_sub_directories(base_dir, igbo_dir, english_dir):\n",
    "#     # Create the target directories if they don't exist\n",
    "#     if not os.path.exists(igbo_dir):\n",
    "#         os.makedirs(igbo_dir)\n",
    "#     if not os.path.exists(english_dir):\n",
    "#         os.makedirs(english_dir)\n",
    "\n",
    "#     # Walk through all directories and files in base directory\n",
    "#     for root, dirs, files in os.walk(base_dir):\n",
    "#         for file in files:\n",
    "#             if file.endswith('.mp3'):\n",
    "#                 # Construct the full file path\n",
    "#                 file_path = os.path.join(root, file)\n",
    "\n",
    "#                 # Move file based on naming convention\n",
    "#                 if '-ig' in file:\n",
    "#                     shutil.move(file_path, os.path.join(igbo_dir, file))\n",
    "#                 else:\n",
    "#                     shutil.move(file_path, os.path.join(english_dir, file))\n",
    "\n",
    "# # Define the directories\n",
    "# base_directory = 'IgboPhrasebookAudio'\n",
    "# igbo_directory = 'IgboOnly'\n",
    "# english_directory = 'EnglishOnly'\n",
    "\n",
    "# # Call the function\n",
    "# move_files_from_sub_directories(base_directory, igbo_directory, english_directory)\n"
   ]
  },
  {
   "cell_type": "code",
   "execution_count": null,
   "id": "5659b511",
   "metadata": {},
   "outputs": [],
   "source": []
  },
  {
   "cell_type": "code",
   "execution_count": 8,
   "id": "2758b464",
   "metadata": {
    "ExecuteTime": {
     "end_time": "2024-02-01T05:16:04.577494Z",
     "start_time": "2024-02-01T05:16:04.562199Z"
    },
    "code_folding": [
     0
    ],
    "execution": {
     "iopub.execute_input": "2024-03-10T23:48:33.917343Z",
     "iopub.status.busy": "2024-03-10T23:48:33.917343Z",
     "iopub.status.idle": "2024-03-10T23:48:33.922107Z",
     "shell.execute_reply": "2024-03-10T23:48:33.922107Z",
     "shell.execute_reply.started": "2024-03-10T23:48:33.917343Z"
    }
   },
   "outputs": [
    {
     "name": "stdout",
     "output_type": "stream",
     "text": [
      "1 173\n",
      "174 240\n",
      "241 258\n",
      "259 407\n",
      "408 543\n",
      "544 568\n",
      "569 703\n",
      "704 788\n",
      "789 930\n",
      "931 991\n",
      "992 1011\n",
      "1012 1036\n",
      "1037 1074\n",
      "1075 1104\n",
      "1105 1125\n",
      "1126 1152\n",
      "1153 1195\n",
      "1196 1218\n",
      "1219 1248\n",
      "1249 1279\n",
      "1280 1303\n",
      "1304 1366\n",
      "1367 1407\n",
      "1408 1471\n",
      "1472 1500\n",
      "1501 1569\n",
      "1570 1650\n",
      "1651 1717\n",
      "1718 1947\n",
      "1948 1964\n",
      "1965 1999\n",
      "2000 2044\n"
     ]
    }
   ],
   "source": [
    "chapter_ranges = {\n",
    "    \"1-173\": \"Chap1\",\n",
    "    \"174-240\": \"Chap2\",\n",
    "    \"241-258\": \"Chap3\",\n",
    "    \"259-407\": \"Chap4\",\n",
    "    \"408-543\": \"Chap5\",\n",
    "    \"544-568\": \"Chap6\",\n",
    "    \"569-703\": \"Chap7\",\n",
    "    \"704-788\": \"Chap8\",\n",
    "    \"789-930\": \"Chap9\",\n",
    "    \"931-991\": \"Chap10\",\n",
    "    \"992-1011\": \"Chap11\",\n",
    "    \"1012-1036\": \"Chap12\",\n",
    "    \"1037-1074\": \"Chap13\",\n",
    "    \"1075-1104\": \"Chap14\",\n",
    "    \"1105-1125\": \"Chap15\",\n",
    "    \"1126-1152\": \"Chap16\",\n",
    "    \"1153-1195\": \"Chap17\",\n",
    "    \"1196-1218\": \"Chap18\",\n",
    "    \"1219-1248\": \"Chap19\",\n",
    "    \"1249-1279\": \"Chap20\",\n",
    "    \"1280-1303\": \"Chap21\",\n",
    "    \"1304-1366\": \"Chap22\",\n",
    "    \"1367-1407\": \"Chap23\",\n",
    "    \"1408-1471\": \"Chap24\",\n",
    "    \"1472-1500\": \"Chap25\",\n",
    "    \"1501-1569\": \"Chap26\",\n",
    "    \"1570-1650\": \"Chap27\",\n",
    "    \"1651-1717\": \"Chap28\",\n",
    "    \"1718-1947\": \"Chap29\",\n",
    "    \"1948-1964\": \"Chap30\",\n",
    "    \"1965-1999\": \"Chap31\",\n",
    "    \"2000-2044\": \"Chap32\"\n",
    "}\n",
    "\n",
    "# english_nufi_phrasebook_1108.mp3\n",
    "Chapters_begining = []\n",
    "Chapters_ending = []\n",
    "\n",
    "for i in chapter_ranges:\n",
    "  beg = int(i.split(\"-\")[0])\n",
    "  end = int(i.split(\"-\")[1])\n",
    "  Chapters_begining.append(beg)\n",
    "  Chapters_ending.append(end)\n",
    "\n",
    "  print(beg,end)\n",
    "\n",
    "Chapters_begining_extended = sorted(Chapters_begining + [i+1 for i in Chapters_begining])"
   ]
  },
  {
   "cell_type": "code",
   "execution_count": null,
   "id": "ffcb68c1",
   "metadata": {},
   "outputs": [],
   "source": []
  },
  {
   "cell_type": "code",
   "execution_count": null,
   "id": "ddd2bd15",
   "metadata": {
    "ExecuteTime": {
     "end_time": "2024-01-18T06:17:39.003220Z",
     "start_time": "2024-01-18T06:17:38.994972Z"
    }
   },
   "outputs": [],
   "source": []
  },
  {
   "cell_type": "markdown",
   "id": "ccff11a1",
   "metadata": {},
   "source": [
    "# Directories Setup"
   ]
  },
  {
   "cell_type": "code",
   "execution_count": 9,
   "id": "238d4ceb",
   "metadata": {
    "ExecuteTime": {
     "end_time": "2024-02-01T05:16:05.633064Z",
     "start_time": "2024-02-01T05:16:05.628337Z"
    },
    "execution": {
     "iopub.execute_input": "2024-03-10T23:48:33.923113Z",
     "iopub.status.busy": "2024-03-10T23:48:33.923113Z",
     "iopub.status.idle": "2024-03-10T23:48:33.926628Z",
     "shell.execute_reply": "2024-03-10T23:48:33.925621Z",
     "shell.execute_reply.started": "2024-03-10T23:48:33.923113Z"
    }
   },
   "outputs": [],
   "source": [
    "def get_nth_parent_directory(main_dir, n):\n",
    "    \"\"\"\n",
    "    Returns the directory path N levels up from the given directory.\n",
    "\n",
    "    :param main_dir: The starting directory path.\n",
    "    :param n: The number of levels to move up in the directory hierarchy.\n",
    "    :return: Directory path N levels up.\n",
    "    \"\"\"\n",
    "    parent_dir = main_dir\n",
    "    for _ in range(n):\n",
    "        parent_dir = os.path.dirname(parent_dir)\n",
    "    \n",
    "    return parent_dir\n",
    "\n"
   ]
  },
  {
   "cell_type": "code",
   "execution_count": 10,
   "id": "255496dc",
   "metadata": {
    "ExecuteTime": {
     "end_time": "2024-02-01T05:16:05.810280Z",
     "start_time": "2024-02-01T05:16:05.805233Z"
    },
    "execution": {
     "iopub.execute_input": "2024-03-10T23:48:33.927626Z",
     "iopub.status.busy": "2024-03-10T23:48:33.926628Z",
     "iopub.status.idle": "2024-03-10T23:48:33.929909Z",
     "shell.execute_reply": "2024-03-10T23:48:33.929909Z",
     "shell.execute_reply.started": "2024-03-10T23:48:33.927626Z"
    }
   },
   "outputs": [
    {
     "name": "stdout",
     "output_type": "stream",
     "text": [
      "G:\\My Drive\\Data_Science\\Resulam\\Phrasebook_Audio_Video_Processing_production_Backup\\Python_Scripts_Resulam_Phrasebooks_Audio_Processing\n"
     ]
    }
   ],
   "source": [
    "print(os.getcwd())"
   ]
  },
  {
   "cell_type": "code",
   "execution_count": 11,
   "id": "dad2aac4",
   "metadata": {
    "ExecuteTime": {
     "end_time": "2024-02-01T05:16:06.576417Z",
     "start_time": "2024-02-01T05:16:06.572890Z"
    },
    "execution": {
     "iopub.execute_input": "2024-03-10T23:48:33.930913Z",
     "iopub.status.busy": "2024-03-10T23:48:33.930913Z",
     "iopub.status.idle": "2024-03-10T23:48:33.933642Z",
     "shell.execute_reply": "2024-03-10T23:48:33.933642Z",
     "shell.execute_reply.started": "2024-03-10T23:48:33.930913Z"
    }
   },
   "outputs": [],
   "source": [
    "curr_dir0 = os.getcwd()\n"
   ]
  },
  {
   "cell_type": "code",
   "execution_count": 12,
   "id": "ac685fcb",
   "metadata": {
    "ExecuteTime": {
     "end_time": "2024-02-01T05:16:06.829052Z",
     "start_time": "2024-02-01T05:16:06.816076Z"
    },
    "execution": {
     "iopub.execute_input": "2024-03-10T23:48:33.934647Z",
     "iopub.status.busy": "2024-03-10T23:48:33.934647Z",
     "iopub.status.idle": "2024-03-10T23:48:33.939664Z",
     "shell.execute_reply": "2024-03-10T23:48:33.939664Z",
     "shell.execute_reply.started": "2024-03-10T23:48:33.934647Z"
    }
   },
   "outputs": [
    {
     "name": "stdout",
     "output_type": "stream",
     "text": [
      "starting ...\n"
     ]
    },
    {
     "data": {
      "text/plain": [
       "'G:\\\\My Drive\\\\Data_Science\\\\Resulam\\\\Phrasebook_Audio_Video_Processing_production_Backup\\\\Languages\\\\YorubaPhrasebook\\\\YorubaOnly\\\\'"
      ]
     },
     "execution_count": 12,
     "metadata": {},
     "output_type": "execute_result"
    }
   ],
   "source": [
    "current_dir = curr_dir0\n",
    "\n",
    "script_dir = current_dir\n",
    "\n",
    "local_language_dir = os.path.join(os.path.dirname(script_dir),\"Languages\",f\"{lln}Phrasebook\",f\"{lln}Only\",\"\")\n",
    "\n",
    "local_language_main_dir = get_nth_parent_directory(local_language_dir,1)\n",
    "\n",
    "audio_path = local_language_dir\n",
    "\n",
    "main_dir = get_nth_parent_directory(script_dir,1)\n",
    "\n",
    "\n",
    "\n",
    "audio_path_eng = os.path.join(main_dir,\"EnglishOnly\",\"\")\n",
    "\n",
    "\n",
    "# current_dir = audio_path\n",
    "current_dir = os.path.join(audio_path,\"\")\n",
    "\n",
    "\n",
    "\n",
    "# os.chdir(current_dir)\n",
    "print(\"starting ...\")\n",
    "# time.sleep(10)\n",
    "\n",
    "audio_path "
   ]
  },
  {
   "cell_type": "code",
   "execution_count": null,
   "id": "5619ae72",
   "metadata": {},
   "outputs": [],
   "source": []
  },
  {
   "cell_type": "code",
   "execution_count": null,
   "id": "23823024",
   "metadata": {
    "ExecuteTime": {
     "end_time": "2023-12-31T06:35:53.448477Z",
     "start_time": "2023-12-31T06:35:53.442123Z"
    }
   },
   "outputs": [],
   "source": []
  },
  {
   "cell_type": "code",
   "execution_count": null,
   "id": "20a5ce35",
   "metadata": {
    "ExecuteTime": {
     "end_time": "2023-12-25T05:47:58.388344Z",
     "start_time": "2023-12-25T05:47:58.375202Z"
    }
   },
   "outputs": [],
   "source": []
  },
  {
   "cell_type": "code",
   "execution_count": null,
   "id": "82de8626",
   "metadata": {},
   "outputs": [],
   "source": []
  },
  {
   "cell_type": "code",
   "execution_count": 13,
   "id": "23cf21bb",
   "metadata": {
    "ExecuteTime": {
     "end_time": "2024-02-01T05:16:08.569254Z",
     "start_time": "2024-02-01T05:16:08.564241Z"
    },
    "execution": {
     "iopub.execute_input": "2024-03-10T23:48:33.940671Z",
     "iopub.status.busy": "2024-03-10T23:48:33.940671Z",
     "iopub.status.idle": "2024-03-10T23:48:33.944635Z",
     "shell.execute_reply": "2024-03-10T23:48:33.944635Z",
     "shell.execute_reply.started": "2024-03-10T23:48:33.940671Z"
    }
   },
   "outputs": [],
   "source": [
    "# language = \"Kinyarwanda\"\n",
    "# # Local LanguagePath\n",
    "# audio_path = r\"C:\\Users\\tcham\\Downloads\\Kiyarwanda Audio File-cut\"\n",
    "# # English Language Path\n",
    "# audio_path_eng = r\"C:\\Users\\tcham\\Downloads\\PhrasebookNufi\\EnglishOnly/\"\n",
    "\n",
    "#######################################################################\n",
    "#########################################################################\n",
    "# language = \"nufi\"\n",
    "# # Local LanguagePath\n",
    "# audio_path = r\"C:\\Users\\tcham\\Downloads\\PhrasebookNufi\\NufiOnly - Copy\"\n",
    "# # English Language Path\n",
    "# audio_path_eng = r\"C:\\Users\\tcham\\Downloads\\PhrasebookNufi\\EnglishOnly/\"\n",
    "\n",
    "\n",
    "# silence_threshold = 1.5 # if the silence between two audio chuncks is less than this value, then all the chuncks are considered a big/large chunk\n",
    "# silence_padding_duration = 25 # duration, in seconds of a chunk\n",
    "\n",
    "\n",
    "# \n",
    "\n"
   ]
  },
  {
   "cell_type": "code",
   "execution_count": 14,
   "id": "501a7797",
   "metadata": {
    "ExecuteTime": {
     "end_time": "2024-02-01T05:16:08.780570Z",
     "start_time": "2024-02-01T05:16:08.763655Z"
    },
    "execution": {
     "iopub.execute_input": "2024-03-10T23:48:33.946642Z",
     "iopub.status.busy": "2024-03-10T23:48:33.945640Z",
     "iopub.status.idle": "2024-03-10T23:48:33.949656Z",
     "shell.execute_reply": "2024-03-10T23:48:33.949145Z",
     "shell.execute_reply.started": "2024-03-10T23:48:33.946642Z"
    }
   },
   "outputs": [],
   "source": [
    "extracted_audio_directory = \"extracted_audios\"\n"
   ]
  },
  {
   "cell_type": "code",
   "execution_count": 15,
   "id": "64af3d2a",
   "metadata": {
    "ExecuteTime": {
     "end_time": "2024-02-01T05:16:10.658066Z",
     "start_time": "2024-02-01T05:16:09.175606Z"
    },
    "execution": {
     "iopub.execute_input": "2024-03-10T23:48:33.950660Z",
     "iopub.status.busy": "2024-03-10T23:48:33.949656Z",
     "iopub.status.idle": "2024-03-10T23:48:33.970681Z",
     "shell.execute_reply": "2024-03-10T23:48:33.970681Z",
     "shell.execute_reply.started": "2024-03-10T23:48:33.950660Z"
    },
    "scrolled": true
   },
   "outputs": [
    {
     "name": "stdout",
     "output_type": "stream",
     "text": [
      "No subdirectories found in the current directory.\n"
     ]
    },
    {
     "data": {
      "text/plain": [
       "False"
      ]
     },
     "execution_count": 15,
     "metadata": {},
     "output_type": "execute_result"
    }
   ],
   "source": [
    "import os\n",
    "\n",
    "def check_subdirectories():\n",
    "    current_directory = audio_path\n",
    "    subdirectories = [d for d in os.listdir(current_directory) if os.path.isdir(os.path.join(current_directory, d))]\n",
    "\n",
    "    if subdirectories:\n",
    "        flag_subdirectories = True\n",
    "        print(\"Subdirectories found in the current directory:\")\n",
    "#         for subdir in subdirectories:\n",
    "#             print(subdir)\n",
    "    else:\n",
    "        flag_subdirectories = False\n",
    "        print(\"No subdirectories found in the current directory.\")\n",
    "    return flag_subdirectories\n",
    "\n",
    "# Call the function\n",
    "check_subdirectories()\n"
   ]
  },
  {
   "cell_type": "code",
   "execution_count": 16,
   "id": "c00ae0f9-eb55-43ef-a104-a136e61e2658",
   "metadata": {
    "execution": {
     "iopub.execute_input": "2024-03-10T23:48:33.971688Z",
     "iopub.status.busy": "2024-03-10T23:48:33.971688Z",
     "iopub.status.idle": "2024-03-10T23:48:33.974040Z",
     "shell.execute_reply": "2024-03-10T23:48:33.974040Z",
     "shell.execute_reply.started": "2024-03-10T23:48:33.971688Z"
    }
   },
   "outputs": [],
   "source": [
    "# pip install natsort "
   ]
  },
  {
   "cell_type": "code",
   "execution_count": null,
   "id": "059cee62-6b46-48f4-9e96-ee52bbd515ba",
   "metadata": {},
   "outputs": [],
   "source": []
  },
  {
   "cell_type": "code",
   "execution_count": 17,
   "id": "f4d024e8",
   "metadata": {
    "ExecuteTime": {
     "end_time": "2024-02-01T05:16:10.665658Z",
     "start_time": "2024-02-01T05:16:10.662082Z"
    },
    "execution": {
     "iopub.execute_input": "2024-03-10T23:48:33.979045Z",
     "iopub.status.busy": "2024-03-10T23:48:33.978046Z",
     "iopub.status.idle": "2024-03-10T23:48:33.981472Z",
     "shell.execute_reply": "2024-03-10T23:48:33.981472Z",
     "shell.execute_reply.started": "2024-03-10T23:48:33.979045Z"
    }
   },
   "outputs": [],
   "source": [
    "os.chdir(audio_path)\n"
   ]
  },
  {
   "cell_type": "code",
   "execution_count": 18,
   "id": "0e088c3d",
   "metadata": {
    "ExecuteTime": {
     "end_time": "2024-02-01T05:16:14.148312Z",
     "start_time": "2024-02-01T05:16:14.044176Z"
    },
    "execution": {
     "iopub.execute_input": "2024-03-10T23:48:33.982478Z",
     "iopub.status.busy": "2024-03-10T23:48:33.982478Z",
     "iopub.status.idle": "2024-03-10T23:48:34.004653Z",
     "shell.execute_reply": "2024-03-10T23:48:34.004653Z",
     "shell.execute_reply.started": "2024-03-10T23:48:33.982478Z"
    }
   },
   "outputs": [],
   "source": [
    "import os\n",
    "import shutil\n",
    "from natsort import natsorted\n",
    "\n",
    "def extract_audios(audio_path, ext=None, results_path='results'):\n",
    "    os.makedirs(results_path, exist_ok=True)\n",
    "    audio_files = [os.path.join(root, f) for root, _, files in os.walk(audio_path) for f in files if not ext or f.endswith(ext)]\n",
    "    for file in audio_files:\n",
    "        dest = results_path\n",
    "        os.makedirs(os.path.dirname(dest), exist_ok=True)\n",
    "        shutil.copy(file, dest)\n",
    "    return natsorted(audio_files,reverse=False)\n"
   ]
  },
  {
   "cell_type": "code",
   "execution_count": 19,
   "id": "cca1a071",
   "metadata": {
    "ExecuteTime": {
     "end_time": "2024-02-01T05:16:15.561137Z",
     "start_time": "2024-02-01T05:16:14.299743Z"
    },
    "execution": {
     "iopub.execute_input": "2024-03-10T23:48:34.005658Z",
     "iopub.status.busy": "2024-03-10T23:48:34.005658Z",
     "iopub.status.idle": "2024-03-10T23:48:34.015502Z",
     "shell.execute_reply": "2024-03-10T23:48:34.015502Z",
     "shell.execute_reply.started": "2024-03-10T23:48:34.005658Z"
    }
   },
   "outputs": [
    {
     "name": "stdout",
     "output_type": "stream",
     "text": [
      "No subdirectories found in the current directory.\n"
     ]
    }
   ],
   "source": [
    "\n",
    "\n",
    "# directory = os.path.join(directory,\"ttt\")\n",
    "# Create the directory, no error if it already exists\n",
    "\n",
    "if check_subdirectories():\n",
    "\n",
    "\n",
    "    audio_folder = os.path.join(audio_path,extracted_audio_directory,\"\")\n",
    "\n",
    "    try:\n",
    "        audio_files = extract_audios(audio_path, ext=\"mp3\", results_path=audio_folder)\n",
    "    except:\n",
    "        audio_files = []\n",
    "        pass\n",
    "\n",
    "else:\n",
    "    audio_folder = audio_path\n",
    "    \n",
    "os.chdir(audio_folder)\n",
    "\n"
   ]
  },
  {
   "cell_type": "code",
   "execution_count": 20,
   "id": "41aeb558",
   "metadata": {
    "execution": {
     "iopub.execute_input": "2024-03-10T23:48:34.016507Z",
     "iopub.status.busy": "2024-03-10T23:48:34.016507Z",
     "iopub.status.idle": "2024-03-10T23:48:34.019588Z",
     "shell.execute_reply": "2024-03-10T23:48:34.019588Z",
     "shell.execute_reply.started": "2024-03-10T23:48:34.016507Z"
    }
   },
   "outputs": [
    {
     "data": {
      "text/plain": [
       "'G:\\\\My Drive\\\\Data_Science\\\\Resulam\\\\Phrasebook_Audio_Video_Processing_production_Backup\\\\Languages\\\\YorubaPhrasebook\\\\YorubaOnly\\\\'"
      ]
     },
     "execution_count": 20,
     "metadata": {},
     "output_type": "execute_result"
    }
   ],
   "source": [
    "audio_folder"
   ]
  },
  {
   "cell_type": "code",
   "execution_count": null,
   "id": "45428d70",
   "metadata": {},
   "outputs": [],
   "source": []
  },
  {
   "cell_type": "code",
   "execution_count": null,
   "id": "ad446226",
   "metadata": {
    "ExecuteTime": {
     "end_time": "2023-12-17T20:31:49.259970Z",
     "start_time": "2023-12-17T20:31:49.253303Z"
    }
   },
   "outputs": [],
   "source": []
  },
  {
   "cell_type": "code",
   "execution_count": null,
   "id": "f34cee57",
   "metadata": {},
   "outputs": [],
   "source": []
  },
  {
   "cell_type": "markdown",
   "id": "d3f7ca38",
   "metadata": {},
   "source": [
    "# Rename files if necesary"
   ]
  },
  {
   "cell_type": "code",
   "execution_count": 21,
   "id": "30fe6389",
   "metadata": {
    "ExecuteTime": {
     "end_time": "2024-02-01T05:16:15.565194Z",
     "start_time": "2024-02-01T05:16:15.562144Z"
    },
    "execution": {
     "iopub.execute_input": "2024-03-10T23:48:34.020593Z",
     "iopub.status.busy": "2024-03-10T23:48:34.020593Z",
     "iopub.status.idle": "2024-03-10T23:48:34.022854Z",
     "shell.execute_reply": "2024-03-10T23:48:34.022854Z",
     "shell.execute_reply.started": "2024-03-10T23:48:34.020593Z"
    }
   },
   "outputs": [
    {
     "name": "stdout",
     "output_type": "stream",
     "text": [
      "Renaming files if necessary...\n"
     ]
    }
   ],
   "source": [
    "print(\"Renaming files if necessary...\")\n"
   ]
  },
  {
   "cell_type": "code",
   "execution_count": 22,
   "id": "fb8c6884",
   "metadata": {
    "ExecuteTime": {
     "end_time": "2024-02-01T05:16:15.582668Z",
     "start_time": "2024-02-01T05:16:15.566201Z"
    },
    "code_folding": [],
    "execution": {
     "iopub.execute_input": "2024-03-10T23:48:34.023858Z",
     "iopub.status.busy": "2024-03-10T23:48:34.023858Z",
     "iopub.status.idle": "2024-03-10T23:48:34.029615Z",
     "shell.execute_reply": "2024-03-10T23:48:34.029615Z",
     "shell.execute_reply.started": "2024-03-10T23:48:34.023858Z"
    }
   },
   "outputs": [],
   "source": [
    "import os\n",
    "\n",
    "def files_rename(directory, prefix=\"\", suffix=\"\", replace=\"\", by=\"\", \n",
    "                 remove_first=0, remove_last=0,\n",
    "                 lower_all=False, upper_all=True,\n",
    "                 extensions=(\".mp3\", \".wav\")):\n",
    "    \"\"\"\n",
    "    Rename files in a specified directory.\n",
    "\n",
    "    Parameters:\n",
    "    directory (str): The path to the directory containing files to be renamed.\n",
    "    prefix (str): The prefix to add to the file names.\n",
    "    suffix (str): The suffix to add to the file names.\n",
    "    replace (str): Substring in the file names to be replaced.\n",
    "    by (str): Replacement string for 'replace'.\n",
    "    remove_first (int): Number of characters to remove from the start of the file names.\n",
    "    remove_last (int): Number of characters to remove from the end of the file names.\n",
    "    lower_all (bool): Convert all file names to lowercase before renaming.\n",
    "    upper_all (bool): Convert all file names to uppercase before renaming.\n",
    "    extensions (tuple or str): File extensions to consider for renaming. If None or an empty string, all files are renamed.\n",
    "    \"\"\"\n",
    "\n",
    "    # Convert extensions from string to tuple if necessary\n",
    "    if isinstance(extensions, str):\n",
    "        extensions = tuple(ext.strip() for ext in extensions.split(','))\n",
    "\n",
    "    # Decide which case conversion to apply\n",
    "    if lower_all and upper_all:\n",
    "        print(\"Both lower_all and upper_all are set to True. Defaulting to lowercase.\")\n",
    "        upper_all = False\n",
    "\n",
    "    # Iterate over all files in the given directory\n",
    "    for filename in os.listdir(directory):\n",
    "        if not filename.startswith(local_language_name):\n",
    "\n",
    "            original_filename = filename  # Keep the original filename for debugging\n",
    "\n",
    "            # Apply case conversion\n",
    "            if lower_all:\n",
    "                filename = filename.lower()\n",
    "            elif upper_all:\n",
    "                filename = filename.upper()\n",
    "\n",
    "            # Process the filename for renaming\n",
    "            new_name = filename.replace(replace, by)\n",
    "            new_name = new_name[remove_first:]\n",
    "            new_name = new_name[:len(new_name)-remove_last]\n",
    "            new_name = prefix + new_name + suffix\n",
    "\n",
    "            # Check if the file matches the specified extensions (if provided)\n",
    "            if extensions is None or (isinstance(extensions, tuple) and original_filename.lower().endswith(extensions)):\n",
    "                # Define the old and new file paths\n",
    "                old_file = os.path.join(directory, original_filename)\n",
    "                new_file = os.path.join(directory, new_name)\n",
    "\n",
    "                # Rename the file and print the result\n",
    "                os.rename(old_file, new_file)\n",
    "                print(f\"Renamed '{original_filename}' to '{new_name}'\")\n",
    "            else:\n",
    "                print(f\"Skipped '{original_filename}': Does not match specified extensions\")\n",
    "\n"
   ]
  },
  {
   "cell_type": "code",
   "execution_count": 23,
   "id": "815fb334",
   "metadata": {
    "ExecuteTime": {
     "end_time": "2024-02-01T05:16:51.099509Z",
     "start_time": "2024-02-01T05:16:51.095784Z"
    },
    "execution": {
     "iopub.execute_input": "2024-03-10T23:48:34.030620Z",
     "iopub.status.busy": "2024-03-10T23:48:34.030620Z",
     "iopub.status.idle": "2024-03-10T23:48:34.033166Z",
     "shell.execute_reply": "2024-03-10T23:48:34.033166Z",
     "shell.execute_reply.started": "2024-03-10T23:48:34.030620Z"
    }
   },
   "outputs": [],
   "source": [
    "\n",
    "# path = r\"G:\\My Drive\\Data_Science\\Resulam\\Phrasebook_Audio_Video_Processing_production\\Ads_Images\"\n",
    "\n",
    "# # files_rename(audio_path_local_lang, \n",
    "# #              prefix=f\"{language}_\", suffix=\"\", replace=\"\", by=\"\", \n",
    "# #                  remove_first=0, remove_last=0, \n",
    "# #                  extensions=(\".mp3\", \".wav\"))\n",
    "\n",
    "# files_rename(path, \n",
    "#              prefix=f\"\", suffix=\"\", \n",
    "#              replace=\"-\", by=\"_\", \n",
    "#              remove_first=0, remove_last=0, \n",
    "#              lower_all = True, upper_all = False,\n",
    "#              extensions=(\".png\", \".wav\"))\n"
   ]
  },
  {
   "cell_type": "code",
   "execution_count": null,
   "id": "45c5c963",
   "metadata": {},
   "outputs": [],
   "source": []
  },
  {
   "cell_type": "code",
   "execution_count": 24,
   "id": "2f49c862",
   "metadata": {
    "ExecuteTime": {
     "end_time": "2024-02-01T05:16:51.677844Z",
     "start_time": "2024-02-01T05:16:51.602204Z"
    },
    "execution": {
     "iopub.execute_input": "2024-03-10T23:48:34.034171Z",
     "iopub.status.busy": "2024-03-10T23:48:34.034171Z",
     "iopub.status.idle": "2024-03-10T23:48:34.037316Z",
     "shell.execute_reply": "2024-03-10T23:48:34.037316Z",
     "shell.execute_reply.started": "2024-03-10T23:48:34.034171Z"
    }
   },
   "outputs": [],
   "source": [
    "\n",
    "audio_folder = os.path.join(audio_folder,\"\")\n",
    "\n",
    "# files_rename(audio_path_local_lang, \n",
    "#              prefix=f\"{language}_\", suffix=\"\", replace=\"\", by=\"\", \n",
    "#                  remove_first=0, remove_last=0, \n",
    "#                  extensions=(\".mp3\", \".wav\"))\n",
    "\n",
    "files_rename(audio_folder, \n",
    "             prefix=f\"{local_language_name}_\", suffix=\"\", \n",
    "             replace=\"-\", by=\"_\", \n",
    "             remove_first=0, remove_last=0, \n",
    "             lower_all = True, upper_all = False,\n",
    "             extensions=(\".mp3\", \".wav\"))\n"
   ]
  },
  {
   "cell_type": "markdown",
   "id": "32ee7ccf",
   "metadata": {},
   "source": [
    "# Get Audio File names"
   ]
  },
  {
   "cell_type": "code",
   "execution_count": 25,
   "id": "0e82c186",
   "metadata": {
    "ExecuteTime": {
     "end_time": "2024-02-01T05:16:51.994657Z",
     "start_time": "2024-02-01T05:16:51.985060Z"
    },
    "execution": {
     "iopub.execute_input": "2024-03-10T23:48:34.038321Z",
     "iopub.status.busy": "2024-03-10T23:48:34.038321Z",
     "iopub.status.idle": "2024-03-10T23:48:34.041152Z",
     "shell.execute_reply": "2024-03-10T23:48:34.041152Z",
     "shell.execute_reply.started": "2024-03-10T23:48:34.038321Z"
    }
   },
   "outputs": [
    {
     "name": "stdout",
     "output_type": "stream",
     "text": [
      "Get Audio files Names... \n",
      "\n",
      "\n"
     ]
    }
   ],
   "source": [
    "print(\"Get Audio files Names... \\n\\n\")\n"
   ]
  },
  {
   "cell_type": "code",
   "execution_count": 26,
   "id": "cb43582a",
   "metadata": {
    "ExecuteTime": {
     "end_time": "2024-02-01T05:16:52.218469Z",
     "start_time": "2024-02-01T05:16:52.210538Z"
    },
    "code_folding": [],
    "execution": {
     "iopub.execute_input": "2024-03-10T23:48:34.043423Z",
     "iopub.status.busy": "2024-03-10T23:48:34.043423Z",
     "iopub.status.idle": "2024-03-10T23:48:34.047823Z",
     "shell.execute_reply": "2024-03-10T23:48:34.047823Z",
     "shell.execute_reply.started": "2024-03-10T23:48:34.043423Z"
    }
   },
   "outputs": [],
   "source": [
    "\n",
    "def get_audio(audio_path, ext = [\"*.mp3\", \"*.wav\", \"*.ogg\", \"*.flac\"],check_subfolders=False):\n",
    "\n",
    "    \"\"\"\n",
    "    The code defines a function named get_audio that takes in three parameters:\n",
    "    audio_path, ext and check_subfolders. It imports the necessary modules such as os and glob.\n",
    "    The function searches for audio files in a directory specified by the audio_path parameter and returns two lists;\n",
    "    the first list containing the absolute path of the audio files and the second list containing the relative path of the audio files.\n",
    "    The function has an optional parameter ext that takes a list of audio file extensions   to be searched for, and check_subfolders\n",
    "    is another optional parameter that specifies whether to search for audio files recursively in subfolders or not.\n",
    "    \"\"\"\n",
    "\n",
    "    import os\n",
    "    import glob\n",
    "\n",
    "    # List of audio file extensions to search for\n",
    "    # AUDIO_EXTENSIONS = ext\n",
    "\n",
    "    # Directory to search for audio files\n",
    "    directory = audio_path  # Replace with the path to your directory\n",
    "\n",
    "    if check_subfolders == False:\n",
    "      # Search for audio files using glob\n",
    "      audio_files = []\n",
    "      for extension in ext:\n",
    "          audio_files.extend(glob.glob(directory + \"*\" + extension, recursive=check_subfolders))\n",
    "    else:\n",
    "\n",
    "      # Search for audio files using glob\n",
    "      audio_files = []\n",
    "      for extension in ext:\n",
    "          audio_files.extend(glob.glob(directory + \"/**/\" + extension, recursive=check_subfolders))\n",
    "\n",
    "    audio_base_names = [os.path.basename(i) for i in audio_files]\n",
    "\n",
    "    return audio_files, audio_base_names\n",
    "\n",
    "\n",
    "\n"
   ]
  },
  {
   "cell_type": "code",
   "execution_count": null,
   "id": "e055d795",
   "metadata": {},
   "outputs": [],
   "source": []
  },
  {
   "cell_type": "code",
   "execution_count": 27,
   "id": "9593bbb5",
   "metadata": {
    "ExecuteTime": {
     "end_time": "2024-02-01T05:16:53.200862Z",
     "start_time": "2024-02-01T05:16:52.994974Z"
    },
    "execution": {
     "iopub.execute_input": "2024-03-10T23:48:34.048828Z",
     "iopub.status.busy": "2024-03-10T23:48:34.048828Z",
     "iopub.status.idle": "2024-03-10T23:48:34.056498Z",
     "shell.execute_reply": "2024-03-10T23:48:34.056498Z",
     "shell.execute_reply.started": "2024-03-10T23:48:34.048828Z"
    },
    "scrolled": true
   },
   "outputs": [
    {
     "data": {
      "text/plain": [
       "['G:\\\\My Drive\\\\Data_Science\\\\Resulam\\\\Phrasebook_Audio_Video_Processing_production_Backup\\\\Languages\\\\YorubaPhrasebook\\\\YorubaOnly\\\\yoruba_phrasebook_1.mp3',\n",
       " 'G:\\\\My Drive\\\\Data_Science\\\\Resulam\\\\Phrasebook_Audio_Video_Processing_production_Backup\\\\Languages\\\\YorubaPhrasebook\\\\YorubaOnly\\\\yoruba_phrasebook_2.mp3',\n",
       " 'G:\\\\My Drive\\\\Data_Science\\\\Resulam\\\\Phrasebook_Audio_Video_Processing_production_Backup\\\\Languages\\\\YorubaPhrasebook\\\\YorubaOnly\\\\yoruba_phrasebook_3.mp3',\n",
       " 'G:\\\\My Drive\\\\Data_Science\\\\Resulam\\\\Phrasebook_Audio_Video_Processing_production_Backup\\\\Languages\\\\YorubaPhrasebook\\\\YorubaOnly\\\\yoruba_phrasebook_4.mp3',\n",
       " 'G:\\\\My Drive\\\\Data_Science\\\\Resulam\\\\Phrasebook_Audio_Video_Processing_production_Backup\\\\Languages\\\\YorubaPhrasebook\\\\YorubaOnly\\\\yoruba_phrasebook_5.mp3',\n",
       " 'G:\\\\My Drive\\\\Data_Science\\\\Resulam\\\\Phrasebook_Audio_Video_Processing_production_Backup\\\\Languages\\\\YorubaPhrasebook\\\\YorubaOnly\\\\yoruba_phrasebook_6.mp3',\n",
       " 'G:\\\\My Drive\\\\Data_Science\\\\Resulam\\\\Phrasebook_Audio_Video_Processing_production_Backup\\\\Languages\\\\YorubaPhrasebook\\\\YorubaOnly\\\\yoruba_phrasebook_7.mp3',\n",
       " 'G:\\\\My Drive\\\\Data_Science\\\\Resulam\\\\Phrasebook_Audio_Video_Processing_production_Backup\\\\Languages\\\\YorubaPhrasebook\\\\YorubaOnly\\\\yoruba_phrasebook_8.mp3',\n",
       " 'G:\\\\My Drive\\\\Data_Science\\\\Resulam\\\\Phrasebook_Audio_Video_Processing_production_Backup\\\\Languages\\\\YorubaPhrasebook\\\\YorubaOnly\\\\yoruba_phrasebook_9.mp3',\n",
       " 'G:\\\\My Drive\\\\Data_Science\\\\Resulam\\\\Phrasebook_Audio_Video_Processing_production_Backup\\\\Languages\\\\YorubaPhrasebook\\\\YorubaOnly\\\\yoruba_phrasebook_10.mp3']"
      ]
     },
     "execution_count": 27,
     "metadata": {},
     "output_type": "execute_result"
    }
   ],
   "source": [
    "\n",
    "audio_files_plus_ext, audio_files = get_audio(audio_folder, ext = [\"*.mp3\", \"*.wav\", \"*.ogg\", \"*.flac\"],check_subfolders=False)\n",
    "\n",
    "\n",
    "\n",
    "# Sort the file names alphabtically\n",
    "audio_files = natsorted(audio_files, key=lambda x: x.lower())\n",
    "\n",
    "audio_files_plus_ext = natsorted(audio_files_plus_ext, key=lambda x: x.lower())\n",
    "\n",
    "audio_files_plus_ext"
   ]
  },
  {
   "cell_type": "code",
   "execution_count": null,
   "id": "5ffa7ecd",
   "metadata": {},
   "outputs": [],
   "source": []
  },
  {
   "cell_type": "code",
   "execution_count": 28,
   "id": "d6a0c4fc",
   "metadata": {
    "execution": {
     "iopub.execute_input": "2024-03-10T23:48:34.058011Z",
     "iopub.status.busy": "2024-03-10T23:48:34.058011Z",
     "iopub.status.idle": "2024-03-10T23:48:34.060620Z",
     "shell.execute_reply": "2024-03-10T23:48:34.060620Z",
     "shell.execute_reply.started": "2024-03-10T23:48:34.058011Z"
    }
   },
   "outputs": [],
   "source": [
    "# pip install pydub "
   ]
  },
  {
   "cell_type": "markdown",
   "id": "7cc61e73",
   "metadata": {},
   "source": []
  },
  {
   "cell_type": "markdown",
   "id": "6f87ee12",
   "metadata": {},
   "source": [
    "# Audio Padding"
   ]
  },
  {
   "cell_type": "code",
   "execution_count": 29,
   "id": "aa685afe",
   "metadata": {
    "ExecuteTime": {
     "end_time": "2024-02-01T05:16:54.565484Z",
     "start_time": "2024-02-01T05:16:54.560044Z"
    },
    "execution": {
     "iopub.execute_input": "2024-03-10T23:48:34.061626Z",
     "iopub.status.busy": "2024-03-10T23:48:34.061626Z",
     "iopub.status.idle": "2024-03-10T23:48:34.064392Z",
     "shell.execute_reply": "2024-03-10T23:48:34.064392Z",
     "shell.execute_reply.started": "2024-03-10T23:48:34.061626Z"
    }
   },
   "outputs": [
    {
     "name": "stdout",
     "output_type": "stream",
     "text": [
      " Audio Paddings... \n",
      "\n",
      "\n"
     ]
    }
   ],
   "source": [
    "print(\" Audio Paddings... \\n\\n\")\n"
   ]
  },
  {
   "cell_type": "code",
   "execution_count": 30,
   "id": "fef842fc",
   "metadata": {
    "ExecuteTime": {
     "end_time": "2024-02-01T05:16:54.745840Z",
     "start_time": "2024-02-01T05:16:54.717248Z"
    },
    "execution": {
     "iopub.execute_input": "2024-03-10T23:48:34.065397Z",
     "iopub.status.busy": "2024-03-10T23:48:34.065397Z",
     "iopub.status.idle": "2024-03-10T23:48:34.081679Z",
     "shell.execute_reply": "2024-03-10T23:48:34.081679Z",
     "shell.execute_reply.started": "2024-03-10T23:48:34.065397Z"
    }
   },
   "outputs": [],
   "source": [
    "from pydub import AudioSegment\n",
    "from pydub.silence import detect_nonsilent\n",
    "\n",
    "def remove_trailing_silence(audio_segment, silence_thresh=-50, chunk_size=10):\n",
    "    \"\"\"\n",
    "    Remove silence from the beginning and end of an audio segment.\n",
    "\n",
    "    Parameters:\n",
    "    audio_segment (AudioSegment): The audio segment to process.\n",
    "    silence_thresh (int): The threshold (in dBFS) below which sound is considered silence.\n",
    "    chunk_size (int): The size of each chunk to analyze (in milliseconds).\n",
    "\n",
    "    Returns:\n",
    "    AudioSegment: The processed audio segment without leading and trailing silence.\n",
    "    \"\"\"\n",
    "\n",
    "    nonsilent_chunks = detect_nonsilent(\n",
    "        audio_segment,\n",
    "        min_silence_len=chunk_size,\n",
    "        silence_thresh=silence_thresh\n",
    "    )\n",
    "\n",
    "    # If non-silent chunks are found, trim the audio to these chunks\n",
    "    if nonsilent_chunks:\n",
    "        start_time = nonsilent_chunks[0][0]  # Start time of the first non-silent chunk\n",
    "        end_time = nonsilent_chunks[-1][1]   # End time of the last non-silent chunk\n",
    "        return audio_segment[start_time:end_time]\n",
    "    else:\n",
    "        # If the entire audio is silent, return an empty segment\n",
    "        return AudioSegment.silent(duration=0)\n",
    "\n"
   ]
  },
  {
   "cell_type": "code",
   "execution_count": null,
   "id": "b6757983",
   "metadata": {},
   "outputs": [],
   "source": []
  },
  {
   "cell_type": "code",
   "execution_count": 31,
   "id": "d4bfd10e",
   "metadata": {
    "ExecuteTime": {
     "end_time": "2024-02-01T05:16:55.106431Z",
     "start_time": "2024-02-01T05:16:55.103940Z"
    },
    "code_folding": [],
    "execution": {
     "iopub.execute_input": "2024-03-10T23:48:34.082684Z",
     "iopub.status.busy": "2024-03-10T23:48:34.082684Z",
     "iopub.status.idle": "2024-03-10T23:48:34.085459Z",
     "shell.execute_reply": "2024-03-10T23:48:34.085459Z",
     "shell.execute_reply.started": "2024-03-10T23:48:34.082684Z"
    }
   },
   "outputs": [],
   "source": [
    "# chunks = [\"a\",\"b\",'c']\n",
    "# silence_chunk = \"_\"\n",
    "# repeat = 2 \n",
    "# audio_chunk = \"\"\n",
    "\n",
    "# audio_chunk\n",
    "\n",
    "# audio_chunk = \"\"\n",
    "# for chunk in chunks:\n",
    "#     audio_chunk+= chunk+silence_chunk\n",
    "#     repeated_chunk = audio_chunk*repeat \n",
    "# audio_chunk, repeated_chunk"
   ]
  },
  {
   "cell_type": "code",
   "execution_count": 32,
   "id": "4019509d",
   "metadata": {
    "ExecuteTime": {
     "end_time": "2024-02-01T05:16:55.302743Z",
     "start_time": "2024-02-01T05:16:55.284298Z"
    },
    "execution": {
     "iopub.execute_input": "2024-03-10T23:48:34.087465Z",
     "iopub.status.busy": "2024-03-10T23:48:34.086466Z",
     "iopub.status.idle": "2024-03-10T23:48:34.090063Z",
     "shell.execute_reply": "2024-03-10T23:48:34.090063Z",
     "shell.execute_reply.started": "2024-03-10T23:48:34.087465Z"
    }
   },
   "outputs": [],
   "source": [
    "import re \n",
    "def get_digits_numbers_from_string(s):\n",
    "    number = int(re.search(r'\\d+', s).group())\n",
    "    return number\n",
    "\n",
    "\n"
   ]
  },
  {
   "cell_type": "code",
   "execution_count": null,
   "id": "0ae5e272",
   "metadata": {},
   "outputs": [],
   "source": []
  },
  {
   "cell_type": "code",
   "execution_count": 33,
   "id": "56d9bc57",
   "metadata": {
    "ExecuteTime": {
     "end_time": "2024-02-01T05:16:55.687195Z",
     "start_time": "2024-02-01T05:16:55.669710Z"
    },
    "code_folding": [
     1
    ],
    "execution": {
     "iopub.execute_input": "2024-03-10T23:48:34.091068Z",
     "iopub.status.busy": "2024-03-10T23:48:34.091068Z",
     "iopub.status.idle": "2024-03-10T23:48:34.098733Z",
     "shell.execute_reply": "2024-03-10T23:48:34.098733Z",
     "shell.execute_reply.started": "2024-03-10T23:48:34.091068Z"
    }
   },
   "outputs": [],
   "source": [
    "# Define a function to normalize a chunk to a target amplitude.\n",
    "def match_target_amplitude(aChunk, target_dBFS):\n",
    "    ''' Normalize given audio chunk\n",
    "    The code normalizes an audio chunk to a target amplitude level given as `target_dBFS`.\n",
    "    It calculates the change in decibels (dBFS) required to achieve the target amplitude level and applies it to the input audio chunk.'''\n",
    "    change_in_dBFS = target_dBFS - aChunk.dBFS\n",
    "    return aChunk.apply_gain(change_in_dBFS)\n",
    "\n",
    "\n",
    "\n",
    "def padded_audio_func(song, min_cut_silence_len=1.5, silence_padding_duration=2.5, repeat=1):\n",
    "    \n",
    "    from pydub import AudioSegment\n",
    "    from pydub.silence import split_on_silence\n",
    "    \n",
    "    \"\"\"\n",
    "    The function takes an audio file and an optional silence duration as input and plays the audio with various spaces between each chunk.\n",
    "    The pydub library is used to split the audio file into chunks where there is silence for a specified duration determined by min_cut_silence_len\n",
    "    and then each chunk is padded with silence of duration silence_padding_duration.\n",
    "    For example, if min_cut_silence_len = 1.5, silence_padding_duration = 2.5\n",
    "    The function then normalizes each chunk and exports them as separate audio files in the mp3 format.\n",
    "    Finally, the function returns the entire audio file with the various spaces between each chunk as an AudioSegment object.\n",
    "\n",
    "    Returns:\n",
    "    Tuple: Combined audio segment and the number of chunks.\n",
    "    \"\"\"\n",
    "    \n",
    "    # Split track where the silence is at least min_cut_silence_len seconds long.\n",
    "    chunks = split_on_silence(\n",
    "        song,\n",
    "        min_silence_len=int(min_cut_silence_len * 1000),\n",
    "        silence_thresh=-50\n",
    "    )\n",
    "\n",
    "    if flag_pad and len(chunks) <= 5:\n",
    "\n",
    "        \n",
    "\n",
    "        silence_duration = int(silence_padding_duration * 1000)\n",
    "        silence_chunk = AudioSegment.silent(duration=silence_duration)\n",
    "\n",
    "        # Process and combine each chunk\n",
    "        audio_chunk = AudioSegment.silent(duration=10)\n",
    "        trailing_silence = AudioSegment.silent(duration=1000)\n",
    "#         for i, chunk in enumerate(chunks):\n",
    "            \n",
    "#             audio_chunk += (chunk+silence_chunk)\n",
    "#             repeated_chunk = audio_chunk*repeat   # Repeat the chunk if repeat>1 \n",
    "            \n",
    "# #             repeated_chunk = (chunk + silence_chunk)*repeat   # Repeat the chunk if repeat>1 \n",
    "# #             audio_chunk += repeated_chunk + silence_chunk if i < len(chunks) - 1 else repeated_chunk\n",
    "\n",
    "#         audio_chunk = audio_pad(audio_chunk,chunks,silence_chunk)\n",
    "    \n",
    "        for i, chunk in enumerate(chunks):\n",
    "            \n",
    "            audio_chunk += chunk+silence_chunk\n",
    "        \n",
    "        \n",
    "        repeated_chunk = audio_chunk*repeat   # Repeat the chunk if repeat>1 \n",
    "        repeated_chunk = remove_trailing_silence(repeated_chunk)\n",
    "        repeated_chunk = trailing_silence + repeated_chunk + trailing_silence   # Repeat the chunk if repeat>1 \n",
    "             \n",
    "        normalized_chunk = match_target_amplitude(repeated_chunk, -20.0)\n",
    "        \n",
    "    else:\n",
    "        normalized_chunk = match_target_amplitude(song, -20.0)\n",
    "        \n",
    "    return normalized_chunk, len(chunks)\n",
    "\n",
    "\n",
    "\n",
    "def export_padded_single_audio(audio_path, silence_threshold, silence_padding_duration,repeat = 1):\n",
    "  \n",
    "    from pydub import AudioSegment    \n",
    "    song = AudioSegment.from_mp3(audio_path)\n",
    "    song_name = os.path.basename(audio_path)\n",
    "    padded_audio, len_chunks = padded_audio_func(song, min_cut_silence_len = silence_threshold, \n",
    "                                                 silence_padding_duration = silence_padding_duration, repeat = repeat)\n",
    "\n",
    "    print(\"number of chunks:\", len_chunks)\n",
    "    padded_audio.export(\n",
    "                # \".//chunk{0}.mp3\".format(i),\n",
    "                song_name + f\"_padded_{silence_padding_duration}_s.mp3\",\n",
    "                bitrate = \"192k\",\n",
    "                format = \"mp3\"\n",
    "            );\n",
    "    return padded_audio\n",
    "\n",
    "def export_padded_audios(audio_folder, silence_threshold, silence_padding_duration, resulting_audio_folder,repeat=1):\n",
    "  \n",
    "    from pydub import AudioSegment\n",
    "    from natsort import natsorted\n",
    "\n",
    "    f1, f2 = get_audio(audio_folder)\n",
    "\n",
    "    f1 = natsorted(f1, key=lambda x: x.lower())\n",
    "    \n",
    "    Bad_audios = []\n",
    "    for i in f1:\n",
    "        \n",
    "        try:\n",
    "\n",
    "\n",
    "            song_i = AudioSegment.from_mp3(i)\n",
    "            song_name = os.path.basename(i)\n",
    "            \n",
    "            num = get_digits_numbers_from_string(os.path.basename(i))\n",
    "            \n",
    "#             print(num)\n",
    "\n",
    "            if num not in Chapters_begining_extended:\n",
    "\n",
    "                padded_audio, len_chunks = padded_audio_func(song_i, min_cut_silence_len = silence_threshold, \n",
    "                                                      silence_padding_duration = silence_padding_duration, \n",
    "                                                         repeat = repeat_local_audio)\n",
    "            else:\n",
    "\n",
    "                padded_audio = song_i\n",
    "            \n",
    "\n",
    "#             padded_audio, len_chunks = padded_audio_func(song_i, min_cut_silence_len = silence_threshold, \n",
    "#                                                       silence_padding_duration = silence_padding_duration, \n",
    "#                                                          repeat = repeat_local_audio)\n",
    "\n",
    "\n",
    "            padded_audio.export(\n",
    "                        # \".//chunk{0}.mp3\".format(i),\n",
    "#                         resulting_audio_folder + song_name[:-4] + f\"_padded_{silence_padding_duration}s.mp3\",\n",
    "                resulting_audio_folder + song_name[:-4] + f\"_padded.mp3\",\n",
    "                        bitrate = \"192k\",\n",
    "                        format = \"mp3\"\n",
    "                    );\n",
    "        except Exception as e:\n",
    "#             print(i,e)\n",
    "            Bad_audios.append(os.path.basename(i))\n",
    "            with open(\"Bad_audios.txt\", \"a\") as f:\n",
    "                f.write(f\"{os.path.basename(i)}\\n\")  # Writing each item on a new line\n",
    "\n",
    "\n",
    "\n"
   ]
  },
  {
   "cell_type": "code",
   "execution_count": null,
   "id": "77d0f8df",
   "metadata": {
    "ExecuteTime": {
     "end_time": "2024-01-19T00:41:05.255496Z",
     "start_time": "2024-01-19T00:41:05.248661Z"
    },
    "code_folding": [
     0
    ]
   },
   "outputs": [],
   "source": []
  },
  {
   "cell_type": "code",
   "execution_count": null,
   "id": "228102ad",
   "metadata": {},
   "outputs": [],
   "source": []
  },
  {
   "cell_type": "code",
   "execution_count": 34,
   "id": "51f2404f",
   "metadata": {
    "ExecuteTime": {
     "end_time": "2024-02-01T05:16:56.233793Z",
     "start_time": "2024-02-01T05:16:56.230167Z"
    },
    "execution": {
     "iopub.execute_input": "2024-03-10T23:48:34.099738Z",
     "iopub.status.busy": "2024-03-10T23:48:34.099738Z",
     "iopub.status.idle": "2024-03-10T23:48:34.102057Z",
     "shell.execute_reply": "2024-03-10T23:48:34.102057Z",
     "shell.execute_reply.started": "2024-03-10T23:48:34.099738Z"
    }
   },
   "outputs": [],
   "source": [
    "# audio_path = audio_files_plus_ext[0]\n",
    "\n",
    "\n",
    "# export_padded_single_audio(audio_path, silence_threshold , silence_padding_duration, repeat=1)"
   ]
  },
  {
   "cell_type": "code",
   "execution_count": 35,
   "id": "bc485caf",
   "metadata": {
    "ExecuteTime": {
     "end_time": "2024-02-01T05:47:09.412873Z",
     "start_time": "2024-02-01T05:16:56.427207Z"
    },
    "execution": {
     "iopub.execute_input": "2024-03-10T23:48:34.103063Z",
     "iopub.status.busy": "2024-03-10T23:48:34.102057Z",
     "iopub.status.idle": "2024-03-10T23:48:41.658430Z",
     "shell.execute_reply": "2024-03-10T23:48:41.658430Z",
     "shell.execute_reply.started": "2024-03-10T23:48:34.103063Z"
    }
   },
   "outputs": [
    {
     "name": "stdout",
     "output_type": "stream",
     "text": [
      "Padding... Find the padded files here: G:\\My Drive\\Data_Science\\Resulam\\Phrasebook_Audio_Video_Processing_production_Backup\\Languages\\YorubaPhrasebook\\YorubaOnly\\padded_audio_dir\\\n"
     ]
    }
   ],
   "source": [
    "padded_local_audio_folder = \"padded_audio_dir\"\n",
    "padded_local_audio_folder = os.path.join(os.getcwd(),padded_local_audio_folder,\"\")\n",
    "\n",
    "\n",
    "if flag_pad:\n",
    "    os.makedirs(padded_local_audio_folder, exist_ok=True)\n",
    "    \n",
    "    print(f\"Padding... Find the padded files here: {padded_local_audio_folder}\")\n",
    "\n",
    "    export_padded_audios(audio_folder, silence_threshold, \n",
    "                     silence_padding_duration, padded_local_audio_folder, repeat=repeat_local_audio)"
   ]
  },
  {
   "cell_type": "code",
   "execution_count": 36,
   "id": "be85b73a",
   "metadata": {
    "ExecuteTime": {
     "end_time": "2024-02-01T05:47:09.417450Z",
     "start_time": "2024-02-01T05:47:09.414461Z"
    },
    "execution": {
     "iopub.execute_input": "2024-03-10T23:48:41.659432Z",
     "iopub.status.busy": "2024-03-10T23:48:41.659432Z",
     "iopub.status.idle": "2024-03-10T23:48:41.664939Z",
     "shell.execute_reply": "2024-03-10T23:48:41.663935Z",
     "shell.execute_reply.started": "2024-03-10T23:48:41.659432Z"
    }
   },
   "outputs": [],
   "source": [
    "# from pydub import AudioSegment\n",
    "# from natsort import natsorted\n",
    "\n",
    "# f1, f2 = get_audio(audio_folder)\n",
    "\n",
    "# f1 = natsorted(f1, key=lambda x: x.lower())\n",
    "\n",
    "# Bad_audios = []\n",
    "# i = f1[2] \n",
    "# song_i = AudioSegment.from_mp3(i)\n",
    "# song_name = os.path.basename(i)\n",
    "\n",
    "\n",
    "\n",
    "# # Chapters_begining_extended\n",
    "\n",
    "\n",
    "# dd = os.path.basename(f1[4]).split(\"_\")[-1]\n",
    "\n",
    "# num = get_digits_numbers_from_string(os.path.basename(f1[2]))\n",
    "\n",
    "# if num not in Chapters_begining_extended:\n",
    "    \n",
    "#     print(num,)\n",
    "    \n",
    "#     padded_audio, len_chunks = padded_audio_func(song_i, min_cut_silence_len = silence_threshold, \n",
    "#                                           silence_padding_duration = silence_padding_duration, \n",
    "#                                              repeat = repeat_local_audio)\n",
    "# else:\n",
    "    \n",
    "#     padded_audio = song_i\n",
    "\n",
    "# padded_audio.export(\n",
    "#             # \".//chunk{0}.mp3\".format(i),\n",
    "# #                         resulting_audio_folder + song_name[:-4] + f\"_padded_{silence_padding_duration}s.mp3\",\n",
    "#     padded_local_audio_folder + song_name[:-4] + f\"_padded.mp3\",\n",
    "#             bitrate = \"192k\",\n",
    "#             format = \"mp3\"\n",
    "#         );\n",
    "    "
   ]
  },
  {
   "cell_type": "code",
   "execution_count": 37,
   "id": "77b112fd",
   "metadata": {
    "ExecuteTime": {
     "end_time": "2024-02-01T05:47:09.422013Z",
     "start_time": "2024-02-01T05:47:09.418456Z"
    },
    "execution": {
     "iopub.execute_input": "2024-03-10T23:48:41.665940Z",
     "iopub.status.busy": "2024-03-10T23:48:41.665940Z",
     "iopub.status.idle": "2024-03-10T23:48:41.670474Z",
     "shell.execute_reply": "2024-03-10T23:48:41.670474Z",
     "shell.execute_reply.started": "2024-03-10T23:48:41.665940Z"
    }
   },
   "outputs": [
    {
     "data": {
      "text/plain": [
       "[1,\n",
       " 2,\n",
       " 174,\n",
       " 175,\n",
       " 241,\n",
       " 242,\n",
       " 259,\n",
       " 260,\n",
       " 408,\n",
       " 409,\n",
       " 544,\n",
       " 545,\n",
       " 569,\n",
       " 570,\n",
       " 704,\n",
       " 705,\n",
       " 789,\n",
       " 790,\n",
       " 931,\n",
       " 932,\n",
       " 992,\n",
       " 993,\n",
       " 1012,\n",
       " 1013,\n",
       " 1037,\n",
       " 1038,\n",
       " 1075,\n",
       " 1076,\n",
       " 1105,\n",
       " 1106,\n",
       " 1126,\n",
       " 1127,\n",
       " 1153,\n",
       " 1154,\n",
       " 1196,\n",
       " 1197,\n",
       " 1219,\n",
       " 1220,\n",
       " 1249,\n",
       " 1250,\n",
       " 1280,\n",
       " 1281,\n",
       " 1304,\n",
       " 1305,\n",
       " 1367,\n",
       " 1368,\n",
       " 1408,\n",
       " 1409,\n",
       " 1472,\n",
       " 1473,\n",
       " 1501,\n",
       " 1502,\n",
       " 1570,\n",
       " 1571,\n",
       " 1651,\n",
       " 1652,\n",
       " 1718,\n",
       " 1719,\n",
       " 1948,\n",
       " 1949,\n",
       " 1965,\n",
       " 1966,\n",
       " 2000,\n",
       " 2001]"
      ]
     },
     "execution_count": 37,
     "metadata": {},
     "output_type": "execute_result"
    }
   ],
   "source": [
    "Chapters_begining_extended"
   ]
  },
  {
   "cell_type": "code",
   "execution_count": null,
   "id": "5b5e5a9f",
   "metadata": {},
   "outputs": [],
   "source": []
  },
  {
   "cell_type": "code",
   "execution_count": null,
   "id": "3a2e1de0",
   "metadata": {
    "ExecuteTime": {
     "end_time": "2023-12-31T06:53:38.465884Z",
     "start_time": "2023-12-31T06:53:38.465884Z"
    }
   },
   "outputs": [],
   "source": []
  },
  {
   "cell_type": "markdown",
   "id": "67df5358",
   "metadata": {},
   "source": [
    "# Combine Bilingual"
   ]
  },
  {
   "cell_type": "code",
   "execution_count": 38,
   "id": "fbdf5365",
   "metadata": {
    "ExecuteTime": {
     "end_time": "2024-02-01T05:47:09.425778Z",
     "start_time": "2024-02-01T05:47:09.423019Z"
    },
    "execution": {
     "iopub.execute_input": "2024-03-10T23:48:41.671479Z",
     "iopub.status.busy": "2024-03-10T23:48:41.671479Z",
     "iopub.status.idle": "2024-03-10T23:48:41.674478Z",
     "shell.execute_reply": "2024-03-10T23:48:41.674478Z",
     "shell.execute_reply.started": "2024-03-10T23:48:41.671479Z"
    }
   },
   "outputs": [
    {
     "name": "stdout",
     "output_type": "stream",
     "text": [
      "Bilingual sentences building... \n",
      "\n",
      "\n"
     ]
    }
   ],
   "source": [
    "print(\"Bilingual sentences building... \\n\\n\")\n"
   ]
  },
  {
   "cell_type": "code",
   "execution_count": null,
   "id": "7583ce31",
   "metadata": {
    "ExecuteTime": {
     "end_time": "2023-12-22T18:16:59.656281Z",
     "start_time": "2023-12-22T18:16:59.651281Z"
    }
   },
   "outputs": [],
   "source": []
  },
  {
   "cell_type": "code",
   "execution_count": null,
   "id": "43d472a4",
   "metadata": {
    "ExecuteTime": {
     "end_time": "2023-12-31T07:24:43.518194Z",
     "start_time": "2023-12-31T07:24:43.494854Z"
    }
   },
   "outputs": [],
   "source": []
  },
  {
   "cell_type": "code",
   "execution_count": 39,
   "id": "d008d65c",
   "metadata": {
    "ExecuteTime": {
     "end_time": "2024-02-01T05:47:09.448974Z",
     "start_time": "2024-02-01T05:47:09.426784Z"
    },
    "execution": {
     "iopub.execute_input": "2024-03-10T23:48:41.675708Z",
     "iopub.status.busy": "2024-03-10T23:48:41.675708Z",
     "iopub.status.idle": "2024-03-10T23:48:41.692243Z",
     "shell.execute_reply": "2024-03-10T23:48:41.692243Z",
     "shell.execute_reply.started": "2024-03-10T23:48:41.675708Z"
    }
   },
   "outputs": [],
   "source": [
    "bilingual_audio_folder = \"bilingual_sentences\"\n",
    "bilingual_audio_folder = os.path.join(os.path.dirname (local_language_main_dir),bilingual_audio_folder,\"\")\n",
    "os.makedirs(bilingual_audio_folder, exist_ok=True)\n",
    "os.chdir(bilingual_audio_folder)"
   ]
  },
  {
   "cell_type": "code",
   "execution_count": null,
   "id": "bb363659",
   "metadata": {},
   "outputs": [],
   "source": []
  },
  {
   "cell_type": "code",
   "execution_count": 40,
   "id": "0994d50d",
   "metadata": {
    "ExecuteTime": {
     "end_time": "2024-02-01T05:47:09.974340Z",
     "start_time": "2024-02-01T05:47:09.448974Z"
    },
    "execution": {
     "iopub.execute_input": "2024-03-10T23:48:41.694248Z",
     "iopub.status.busy": "2024-03-10T23:48:41.694248Z",
     "iopub.status.idle": "2024-03-10T23:48:41.723069Z",
     "shell.execute_reply": "2024-03-10T23:48:41.723069Z",
     "shell.execute_reply.started": "2024-03-10T23:48:41.694248Z"
    }
   },
   "outputs": [],
   "source": [
    "audio_path1 = audio_path_eng\n",
    "if flag_pad:\n",
    "    audio_path2 = padded_local_audio_folder\n",
    "else:\n",
    "    audio_path2 = audio_folder\n",
    "\n",
    "english_audio_files_plus_ext, english_audio_files = get_audio(audio_path1, ext = [\"*.mp3\", \"*.wav\", \"*.ogg\", \"*.flac\"],check_subfolders=False)\n",
    "local_audio_files_plus_ext, local_audio_files = get_audio(audio_path2, ext = [\"*.mp3\", \"*.wav\", \"*.ogg\", \"*.flac\"],check_subfolders=False)\n",
    "\n",
    "\n",
    "# Sort the file names alphabtically\n",
    "sorted_english_audio_files_plus_ext = natsorted(english_audio_files_plus_ext, key=lambda x: x.lower())\n",
    "sorted_local_audio_files_plus_ext = natsorted(local_audio_files_plus_ext, key=lambda x: x.lower())\n",
    "\n",
    "sorted_english_audio_files = natsorted(english_audio_files, key=lambda x: x.lower())\n",
    "sorted_local_audio_files = natsorted(local_audio_files, key=lambda x: x.lower())\n",
    "##########################################################################################\n",
    "sorted_audio_file_names_ext1 = sorted_english_audio_files_plus_ext\n",
    "sorted_audio_file_names_ext2 = sorted_local_audio_files_plus_ext\n",
    "\n",
    "sorted_audio_file_names1 = sorted_english_audio_files\n",
    "sorted_audio_file_names2 = sorted_local_audio_files\n"
   ]
  },
  {
   "cell_type": "code",
   "execution_count": null,
   "id": "1f256af2",
   "metadata": {
    "ExecuteTime": {
     "end_time": "2023-12-18T05:36:28.220214Z",
     "start_time": "2023-12-18T05:36:28.200915Z"
    }
   },
   "outputs": [],
   "source": []
  },
  {
   "cell_type": "code",
   "execution_count": 41,
   "id": "8ec6939d",
   "metadata": {
    "ExecuteTime": {
     "end_time": "2024-02-01T05:47:09.980009Z",
     "start_time": "2024-02-01T05:47:09.975562Z"
    },
    "execution": {
     "iopub.execute_input": "2024-03-10T23:48:41.725074Z",
     "iopub.status.busy": "2024-03-10T23:48:41.724074Z",
     "iopub.status.idle": "2024-03-10T23:48:41.730023Z",
     "shell.execute_reply": "2024-03-10T23:48:41.729017Z",
     "shell.execute_reply.started": "2024-03-10T23:48:41.724074Z"
    }
   },
   "outputs": [],
   "source": [
    "import re \n",
    "def get_sent_numbers_from_string(s):\n",
    "    sentence_number = int(re.search(r'\\d+', s).group())\n",
    "\n",
    "    return sentence_number\n",
    "def get_audio_numbers_from_string(s):\n",
    "    audio_number = int(re.search(r'_\\d+', s).group()[1:])\n",
    "    return audio_number "
   ]
  },
  {
   "cell_type": "code",
   "execution_count": null,
   "id": "c2a3fcee",
   "metadata": {
    "ExecuteTime": {
     "end_time": "2023-12-22T18:47:27.040600Z",
     "start_time": "2023-12-22T18:47:26.987000Z"
    }
   },
   "outputs": [],
   "source": []
  },
  {
   "cell_type": "code",
   "execution_count": 42,
   "id": "6ee90aab",
   "metadata": {
    "ExecuteTime": {
     "end_time": "2024-02-01T05:47:10.036404Z",
     "start_time": "2024-02-01T05:47:09.981164Z"
    },
    "execution": {
     "iopub.execute_input": "2024-03-10T23:48:41.731023Z",
     "iopub.status.busy": "2024-03-10T23:48:41.730023Z",
     "iopub.status.idle": "2024-03-10T23:48:41.741232Z",
     "shell.execute_reply": "2024-03-10T23:48:41.740228Z",
     "shell.execute_reply.started": "2024-03-10T23:48:41.731023Z"
    }
   },
   "outputs": [
    {
     "data": {
      "text/plain": [
       "{'yoruba_phrasebook_1_padded.mp3': 'english_1.mp3',\n",
       " 'yoruba_phrasebook_2_padded.mp3': None,\n",
       " 'yoruba_phrasebook_3_padded.mp3': 'english_3.mp3',\n",
       " 'yoruba_phrasebook_4_padded.mp3': 'english_4.mp3',\n",
       " 'yoruba_phrasebook_5_padded.mp3': 'english_5.mp3',\n",
       " 'yoruba_phrasebook_6_padded.mp3': 'english_6.mp3',\n",
       " 'yoruba_phrasebook_7_padded.mp3': 'english_7.mp3',\n",
       " 'yoruba_phrasebook_8_padded.mp3': 'english_8.mp3',\n",
       " 'yoruba_phrasebook_9_padded.mp3': 'english_9.mp3',\n",
       " 'yoruba_phrasebook_10_padded.mp3': 'english_10.mp3'}"
      ]
     },
     "execution_count": 42,
     "metadata": {},
     "output_type": "execute_result"
    }
   ],
   "source": [
    "import re\n",
    "from natsort import natsorted\n",
    "\n",
    "def create_audio_map(sorted_audio_file_names):\n",
    "    audio_map = {}\n",
    "    for file in sorted_audio_file_names:\n",
    "        match = re.search(r'_\\d+', file)\n",
    "        if match:\n",
    "            key = int(match.group()[1:])\n",
    "            audio_map[key] = file\n",
    "        else:\n",
    "            print(f\"Pattern not found in file: {file}\")\n",
    "    return {k: audio_map[k] for k in natsorted(audio_map)}\n",
    "\n",
    "# Process the audio file names\n",
    "audio_map_1 = create_audio_map(sorted_audio_file_names1)\n",
    "audio_map_2 = create_audio_map(sorted_audio_file_names2)\n",
    "\n",
    "# Create a combined map of the first 10 entries\n",
    "audio1_audio2_map = {audio_map_2[key]: audio_map_1[key] for key in audio_map_1 if key in audio_map_2}\n",
    "\n",
    "for k, v in audio_map_2.items():\n",
    "    if v not in audio1_audio2_map:\n",
    "        audio1_audio2_map.update({v:None})\n",
    "audio1_audio2_map\n",
    "audio1_audio2_map = {key: audio1_audio2_map[key] for key in natsorted(audio1_audio2_map.keys())}\n",
    "\n",
    "audio_path1_ = [audio_path1 + i if i is not None else None for i in audio1_audio2_map.values()]\n",
    "\n",
    "audio_path2_ = [audio_path2+i for i in audio1_audio2_map.keys()]\n",
    "phrase_audio_map_first_10 = dict(list(natsorted(audio1_audio2_map.items()))[:10])\n",
    "\n",
    "# Display the first 10 mappings\n",
    "phrase_audio_map_first_10\n"
   ]
  },
  {
   "cell_type": "code",
   "execution_count": null,
   "id": "c7607ba3",
   "metadata": {
    "ExecuteTime": {
     "end_time": "2023-12-31T22:51:24.299127Z",
     "start_time": "2023-12-31T22:51:24.243559Z"
    }
   },
   "outputs": [],
   "source": []
  },
  {
   "cell_type": "code",
   "execution_count": null,
   "id": "8f2b20d6",
   "metadata": {},
   "outputs": [],
   "source": []
  },
  {
   "cell_type": "code",
   "execution_count": null,
   "id": "b747cf48",
   "metadata": {
    "ExecuteTime": {
     "end_time": "2023-12-23T04:19:26.006503Z",
     "start_time": "2023-12-23T04:19:25.994481Z"
    }
   },
   "outputs": [],
   "source": []
  },
  {
   "cell_type": "code",
   "execution_count": null,
   "id": "e846690e",
   "metadata": {
    "ExecuteTime": {
     "end_time": "2023-12-22T18:05:23.790480Z",
     "start_time": "2023-12-22T18:05:23.759510Z"
    }
   },
   "outputs": [],
   "source": []
  },
  {
   "cell_type": "code",
   "execution_count": null,
   "id": "44147439",
   "metadata": {
    "ExecuteTime": {
     "end_time": "2024-01-18T23:23:25.394141Z",
     "start_time": "2024-01-18T23:23:25.394141Z"
    },
    "code_folding": []
   },
   "outputs": [],
   "source": []
  },
  {
   "cell_type": "code",
   "execution_count": 43,
   "id": "057f3385",
   "metadata": {
    "ExecuteTime": {
     "end_time": "2024-02-01T05:47:10.039794Z",
     "start_time": "2024-02-01T05:47:10.036404Z"
    },
    "execution": {
     "iopub.execute_input": "2024-03-10T23:48:41.742230Z",
     "iopub.status.busy": "2024-03-10T23:48:41.742230Z",
     "iopub.status.idle": "2024-03-10T23:48:41.745014Z",
     "shell.execute_reply": "2024-03-10T23:48:41.745014Z",
     "shell.execute_reply.started": "2024-03-10T23:48:41.742230Z"
    }
   },
   "outputs": [],
   "source": [
    "# Chapters_begining_extended"
   ]
  },
  {
   "cell_type": "code",
   "execution_count": 44,
   "id": "84d17419",
   "metadata": {
    "ExecuteTime": {
     "end_time": "2024-02-01T06:08:36.007080Z",
     "start_time": "2024-02-01T05:47:10.042367Z"
    },
    "execution": {
     "iopub.execute_input": "2024-03-10T23:48:41.746017Z",
     "iopub.status.busy": "2024-03-10T23:48:41.746017Z",
     "iopub.status.idle": "2024-03-10T23:48:48.256155Z",
     "shell.execute_reply": "2024-03-10T23:48:48.256155Z",
     "shell.execute_reply.started": "2024-03-10T23:48:41.746017Z"
    }
   },
   "outputs": [
    {
     "name": "stdout",
     "output_type": "stream",
     "text": [
      "english_yoruba_phrasebook_1_padded.mp3\n",
      "no_english_yoruba_phrasebook_2_padded.mp3\n",
      "english_yoruba_phrasebook_3_padded.mp3\n",
      "english_yoruba_phrasebook_4_padded.mp3\n",
      "english_yoruba_phrasebook_5_padded.mp3\n",
      "english_yoruba_phrasebook_6_padded.mp3\n",
      "english_yoruba_phrasebook_7_padded.mp3\n",
      "english_yoruba_phrasebook_8_padded.mp3\n",
      "english_yoruba_phrasebook_9_padded.mp3\n",
      "english_yoruba_phrasebook_10_padded.mp3\n"
     ]
    },
    {
     "name": "stdout",
     "output_type": "stream",
     "text": [
      "english_yoruba_phrasebook_1009_padded.mp3\n",
      "english_yoruba_phrasebook_1010_padded.mp3\n",
      "english_yoruba_phrasebook_1011_padded.mp3\n",
      "english_yoruba_phrasebook_1012_padded.mp3\n",
      "no_english_yoruba_phrasebook_1013_padded.mp3\n",
      "english_yoruba_phrasebook_1014_padded.mp3\n",
      "english_yoruba_phrasebook_1015_padded.mp3\n",
      "english_yoruba_phrasebook_1016_padded.mp3\n",
      "english_yoruba_phrasebook_1017_padded.mp3\n",
      "english_yoruba_phrasebook_1018_padded.mp3\n",
      "english_yoruba_phrasebook_1019_padded.mp3\n",
      "english_yoruba_phrasebook_1020_padded.mp3\n",
      "english_yoruba_phrasebook_1021_padded.mp3\n",
      "english_yoruba_phrasebook_1022_padded.mp3\n",
      "english_yoruba_phrasebook_1023_padded.mp3\n",
      "english_yoruba_phrasebook_1024_padded.mp3\n",
      "english_yoruba_phrasebook_1025_padded.mp3\n",
      "english_yoruba_phrasebook_1026_padded.mp3\n",
      "english_yoruba_phrasebook_1027_padded.mp3\n",
      "english_yoruba_phrasebook_1028_padded.mp3\n",
      "english_yoruba_phrasebook_1029_padded.mp3\n",
      "english_yoruba_phrasebook_1030_padded.mp3\n",
      "english_yoruba_phrasebook_1031_padded.mp3\n",
      "english_yoruba_phrasebook_1032_padded.mp3\n",
      "english_yoruba_phrasebook_1033_padded.mp3\n",
      "english_yoruba_phrasebook_1034_padded.mp3\n",
      "english_yoruba_phrasebook_1035_padded.mp3\n",
      "english_yoruba_phrasebook_1036_padded.mp3\n",
      "english_yoruba_phrasebook_1037_padded.mp3\n",
      "no_english_yoruba_phrasebook_1038_padded.mp3\n",
      "english_yoruba_phrasebook_1039_padded.mp3\n",
      "english_yoruba_phrasebook_1040_padded.mp3\n",
      "english_yoruba_phrasebook_1041_padded.mp3\n",
      "english_yoruba_phrasebook_1042_padded.mp3\n",
      "english_yoruba_phrasebook_1043_padded.mp3\n",
      "english_yoruba_phrasebook_1044_padded.mp3\n",
      "english_yoruba_phrasebook_1045_padded.mp3\n",
      "english_yoruba_phrasebook_1046_padded.mp3\n",
      "english_yoruba_phrasebook_1047_padded.mp3\n",
      "english_yoruba_phrasebook_1048_padded.mp3\n",
      "english_yoruba_phrasebook_1049_padded.mp3\n",
      "english_yoruba_phrasebook_1050_padded.mp3\n",
      "english_yoruba_phrasebook_1051_padded.mp3\n",
      "english_yoruba_phrasebook_1052_padded.mp3\n",
      "english_yoruba_phrasebook_1053_padded.mp3\n",
      "english_yoruba_phrasebook_1054_padded.mp3\n",
      "english_yoruba_phrasebook_1055_padded.mp3\n",
      "english_yoruba_phrasebook_1056_padded.mp3\n",
      "english_yoruba_phrasebook_1057_padded.mp3\n",
      "english_yoruba_phrasebook_1058_padded.mp3\n",
      "english_yoruba_phrasebook_1059_padded.mp3\n",
      "english_yoruba_phrasebook_1060_padded.mp3\n",
      "english_yoruba_phrasebook_1061_padded.mp3\n",
      "english_yoruba_phrasebook_1062_padded.mp3\n",
      "english_yoruba_phrasebook_1063_padded.mp3\n",
      "english_yoruba_phrasebook_1064_padded.mp3\n",
      "english_yoruba_phrasebook_1065_padded.mp3\n",
      "english_yoruba_phrasebook_1066_padded.mp3\n",
      "english_yoruba_phrasebook_1067_padded.mp3\n",
      "english_yoruba_phrasebook_1068_padded.mp3\n",
      "english_yoruba_phrasebook_1069_padded.mp3\n",
      "english_yoruba_phrasebook_1070_padded.mp3\n",
      "english_yoruba_phrasebook_1071_padded.mp3\n",
      "english_yoruba_phrasebook_1072_padded.mp3\n",
      "english_yoruba_phrasebook_1073_padded.mp3\n",
      "english_yoruba_phrasebook_1074_padded.mp3\n",
      "english_yoruba_phrasebook_1075_padded.mp3\n",
      "no_english_yoruba_phrasebook_1076_padded.mp3\n",
      "english_yoruba_phrasebook_1077_padded.mp3\n",
      "english_yoruba_phrasebook_1078_padded.mp3\n",
      "english_yoruba_phrasebook_1079_padded.mp3\n",
      "english_yoruba_phrasebook_1080_padded.mp3\n",
      "english_yoruba_phrasebook_1081_padded.mp3\n",
      "english_yoruba_phrasebook_1082_padded.mp3\n",
      "english_yoruba_phrasebook_1083_padded.mp3\n",
      "english_yoruba_phrasebook_1084_padded.mp3\n",
      "english_yoruba_phrasebook_1085_padded.mp3\n",
      "english_yoruba_phrasebook_1086_padded.mp3\n",
      "english_yoruba_phrasebook_1087_padded.mp3\n",
      "english_yoruba_phrasebook_1088_padded.mp3\n",
      "english_yoruba_phrasebook_1089_padded.mp3\n",
      "english_yoruba_phrasebook_1090_padded.mp3\n",
      "english_yoruba_phrasebook_1091_padded.mp3\n",
      "english_yoruba_phrasebook_1092_padded.mp3\n",
      "english_yoruba_phrasebook_1093_padded.mp3\n",
      "english_yoruba_phrasebook_1094_padded.mp3\n",
      "english_yoruba_phrasebook_1095_padded.mp3\n",
      "english_yoruba_phrasebook_1096_padded.mp3\n",
      "english_yoruba_phrasebook_1097_padded.mp3\n",
      "english_yoruba_phrasebook_1098_padded.mp3\n",
      "english_yoruba_phrasebook_1099_padded.mp3\n",
      "english_yoruba_phrasebook_1100_padded.mp3\n",
      "english_yoruba_phrasebook_1101_padded.mp3\n",
      "english_yoruba_phrasebook_1102_padded.mp3\n",
      "english_yoruba_phrasebook_1103_padded.mp3\n",
      "english_yoruba_phrasebook_1104_padded.mp3\n",
      "english_yoruba_phrasebook_1105_padded.mp3\n",
      "no_english_yoruba_phrasebook_1106_padded.mp3\n",
      "english_yoruba_phrasebook_1107_padded.mp3\n",
      "english_yoruba_phrasebook_1108_padded.mp3\n",
      "english_yoruba_phrasebook_1109_padded.mp3\n",
      "english_yoruba_phrasebook_1110_padded.mp3\n",
      "english_yoruba_phrasebook_1111_padded.mp3\n",
      "english_yoruba_phrasebook_1112_padded.mp3\n",
      "english_yoruba_phrasebook_1113_padded.mp3\n",
      "english_yoruba_phrasebook_1114_padded.mp3\n",
      "english_yoruba_phrasebook_1115_padded.mp3\n",
      "english_yoruba_phrasebook_1116_padded.mp3\n",
      "english_yoruba_phrasebook_1117_padded.mp3\n",
      "english_yoruba_phrasebook_1118_padded.mp3\n",
      "english_yoruba_phrasebook_1119_padded.mp3\n",
      "english_yoruba_phrasebook_1120_padded.mp3\n",
      "english_yoruba_phrasebook_1121_padded.mp3\n",
      "english_yoruba_phrasebook_1122_padded.mp3\n",
      "english_yoruba_phrasebook_1123_padded.mp3\n",
      "english_yoruba_phrasebook_1124_padded.mp3\n",
      "english_yoruba_phrasebook_1125_padded.mp3\n",
      "english_yoruba_phrasebook_1126_padded.mp3\n",
      "no_english_yoruba_phrasebook_1127_padded.mp3\n",
      "english_yoruba_phrasebook_1128_padded.mp3\n",
      "english_yoruba_phrasebook_1129_padded.mp3\n",
      "english_yoruba_phrasebook_1130_padded.mp3\n",
      "english_yoruba_phrasebook_1131_padded.mp3\n",
      "english_yoruba_phrasebook_1132_padded.mp3\n",
      "english_yoruba_phrasebook_1133_padded.mp3\n",
      "english_yoruba_phrasebook_1134_padded.mp3\n",
      "english_yoruba_phrasebook_1135_padded.mp3\n",
      "english_yoruba_phrasebook_1136_padded.mp3\n",
      "english_yoruba_phrasebook_1137_padded.mp3\n",
      "english_yoruba_phrasebook_1138_padded.mp3\n",
      "english_yoruba_phrasebook_1139_padded.mp3\n",
      "english_yoruba_phrasebook_1140_padded.mp3\n",
      "english_yoruba_phrasebook_1141_padded.mp3\n",
      "english_yoruba_phrasebook_1142_padded.mp3\n",
      "english_yoruba_phrasebook_1143_padded.mp3\n",
      "english_yoruba_phrasebook_1144_padded.mp3\n",
      "english_yoruba_phrasebook_1145_padded.mp3\n",
      "english_yoruba_phrasebook_1146_padded.mp3\n",
      "english_yoruba_phrasebook_1147_padded.mp3\n",
      "english_yoruba_phrasebook_1148_padded.mp3\n",
      "english_yoruba_phrasebook_1149_padded.mp3\n",
      "english_yoruba_phrasebook_1150_padded.mp3\n",
      "english_yoruba_phrasebook_1151_padded.mp3\n",
      "english_yoruba_phrasebook_1152_padded.mp3\n",
      "english_yoruba_phrasebook_1153_padded.mp3\n",
      "no_english_yoruba_phrasebook_1154_padded.mp3\n",
      "english_yoruba_phrasebook_1155_padded.mp3\n",
      "english_yoruba_phrasebook_1156_padded.mp3\n",
      "english_yoruba_phrasebook_1157_padded.mp3\n",
      "english_yoruba_phrasebook_1158_padded.mp3\n",
      "english_yoruba_phrasebook_1159_padded.mp3\n",
      "english_yoruba_phrasebook_1160_padded.mp3\n",
      "english_yoruba_phrasebook_1161_padded.mp3\n",
      "english_yoruba_phrasebook_1162_padded.mp3\n",
      "english_yoruba_phrasebook_1163_padded.mp3\n",
      "english_yoruba_phrasebook_1164_padded.mp3\n",
      "english_yoruba_phrasebook_1165_padded.mp3\n",
      "english_yoruba_phrasebook_1166_padded.mp3\n",
      "english_yoruba_phrasebook_1167_padded.mp3\n",
      "english_yoruba_phrasebook_1168_padded.mp3\n",
      "english_yoruba_phrasebook_1169_padded.mp3\n",
      "english_yoruba_phrasebook_1170_padded.mp3\n",
      "english_yoruba_phrasebook_1171_padded.mp3\n",
      "english_yoruba_phrasebook_1172_padded.mp3\n",
      "english_yoruba_phrasebook_1173_padded.mp3\n",
      "english_yoruba_phrasebook_1174_padded.mp3\n",
      "english_yoruba_phrasebook_1175_padded.mp3\n",
      "english_yoruba_phrasebook_1176_padded.mp3\n",
      "english_yoruba_phrasebook_1177_padded.mp3\n",
      "english_yoruba_phrasebook_1178_padded.mp3\n",
      "english_yoruba_phrasebook_1179_padded.mp3\n",
      "english_yoruba_phrasebook_1180_padded.mp3\n",
      "english_yoruba_phrasebook_1181_padded.mp3\n",
      "english_yoruba_phrasebook_1182_padded.mp3\n",
      "english_yoruba_phrasebook_1183_padded.mp3\n",
      "english_yoruba_phrasebook_1184_padded.mp3\n",
      "english_yoruba_phrasebook_1185_padded.mp3\n",
      "english_yoruba_phrasebook_1186_padded.mp3\n",
      "english_yoruba_phrasebook_1187_padded.mp3\n",
      "english_yoruba_phrasebook_1188_padded.mp3\n",
      "english_yoruba_phrasebook_1189_padded.mp3\n",
      "english_yoruba_phrasebook_1190_padded.mp3\n",
      "english_yoruba_phrasebook_1191_padded.mp3\n",
      "english_yoruba_phrasebook_1192_padded.mp3\n",
      "english_yoruba_phrasebook_1193_padded.mp3\n",
      "english_yoruba_phrasebook_1194_padded.mp3\n",
      "english_yoruba_phrasebook_1195_padded.mp3\n",
      "english_yoruba_phrasebook_1196_padded.mp3\n",
      "no_english_yoruba_phrasebook_1197_padded.mp3\n",
      "english_yoruba_phrasebook_1198_padded.mp3\n",
      "english_yoruba_phrasebook_1199_padded.mp3\n",
      "english_yoruba_phrasebook_1200_padded.mp3\n",
      "english_yoruba_phrasebook_1201_padded.mp3\n",
      "english_yoruba_phrasebook_1202_padded.mp3\n",
      "english_yoruba_phrasebook_1203_padded.mp3\n"
     ]
    },
    {
     "name": "stdout",
     "output_type": "stream",
     "text": [
      "english_yoruba_phrasebook_1204_padded.mp3\n",
      "english_yoruba_phrasebook_1205_padded.mp3\n",
      "english_yoruba_phrasebook_1206_padded.mp3\n",
      "english_yoruba_phrasebook_1207_padded.mp3\n",
      "english_yoruba_phrasebook_1208_padded.mp3\n",
      "english_yoruba_phrasebook_1209_padded.mp3\n",
      "english_yoruba_phrasebook_1210_padded.mp3\n",
      "english_yoruba_phrasebook_1211_padded.mp3\n",
      "english_yoruba_phrasebook_1212_padded.mp3\n",
      "english_yoruba_phrasebook_1213_padded.mp3\n",
      "english_yoruba_phrasebook_1214_padded.mp3\n",
      "english_yoruba_phrasebook_1215_padded.mp3\n",
      "english_yoruba_phrasebook_1216_padded.mp3\n",
      "english_yoruba_phrasebook_1217_padded.mp3\n",
      "english_yoruba_phrasebook_1218_padded.mp3\n",
      "english_yoruba_phrasebook_1219_padded.mp3\n",
      "no_english_yoruba_phrasebook_1220_padded.mp3\n",
      "english_yoruba_phrasebook_1221_padded.mp3\n",
      "english_yoruba_phrasebook_1222_padded.mp3\n",
      "english_yoruba_phrasebook_1223_padded.mp3\n",
      "english_yoruba_phrasebook_1224_padded.mp3\n",
      "english_yoruba_phrasebook_1225_padded.mp3\n",
      "english_yoruba_phrasebook_1226_padded.mp3\n",
      "english_yoruba_phrasebook_1227_padded.mp3\n",
      "english_yoruba_phrasebook_1228_padded.mp3\n",
      "english_yoruba_phrasebook_1229_padded.mp3\n",
      "english_yoruba_phrasebook_1230_padded.mp3\n",
      "english_yoruba_phrasebook_1231_padded.mp3\n",
      "english_yoruba_phrasebook_1232_padded.mp3\n",
      "english_yoruba_phrasebook_1233_padded.mp3\n",
      "english_yoruba_phrasebook_1234_padded.mp3\n",
      "english_yoruba_phrasebook_1235_padded.mp3\n",
      "english_yoruba_phrasebook_1236_padded.mp3\n",
      "english_yoruba_phrasebook_1237_padded.mp3\n",
      "english_yoruba_phrasebook_1238_padded.mp3\n",
      "english_yoruba_phrasebook_1239_padded.mp3\n",
      "english_yoruba_phrasebook_1240_padded.mp3\n",
      "english_yoruba_phrasebook_1241_padded.mp3\n",
      "english_yoruba_phrasebook_1242_padded.mp3\n",
      "english_yoruba_phrasebook_1243_padded.mp3\n",
      "english_yoruba_phrasebook_1244_padded.mp3\n",
      "english_yoruba_phrasebook_1245_padded.mp3\n",
      "english_yoruba_phrasebook_1246_padded.mp3\n",
      "english_yoruba_phrasebook_1247_padded.mp3\n",
      "english_yoruba_phrasebook_1248_padded.mp3\n",
      "english_yoruba_phrasebook_1249_padded.mp3\n",
      "no_english_yoruba_phrasebook_1250_padded.mp3\n",
      "english_yoruba_phrasebook_1251_padded.mp3\n",
      "english_yoruba_phrasebook_1252_padded.mp3\n",
      "english_yoruba_phrasebook_1253_padded.mp3\n",
      "english_yoruba_phrasebook_1254_padded.mp3\n",
      "english_yoruba_phrasebook_1255_padded.mp3\n",
      "english_yoruba_phrasebook_1256_padded.mp3\n",
      "english_yoruba_phrasebook_1257_padded.mp3\n",
      "english_yoruba_phrasebook_1258_padded.mp3\n",
      "english_yoruba_phrasebook_1259_padded.mp3\n",
      "english_yoruba_phrasebook_1260_padded.mp3\n",
      "english_yoruba_phrasebook_1261_padded.mp3\n",
      "english_yoruba_phrasebook_1262_padded.mp3\n",
      "english_yoruba_phrasebook_1263_padded.mp3\n",
      "english_yoruba_phrasebook_1264_padded.mp3\n",
      "english_yoruba_phrasebook_1265_padded.mp3\n",
      "english_yoruba_phrasebook_1266_padded.mp3\n",
      "english_yoruba_phrasebook_1267_padded.mp3\n",
      "english_yoruba_phrasebook_1268_padded.mp3\n",
      "english_yoruba_phrasebook_1269_padded.mp3\n",
      "english_yoruba_phrasebook_1270_padded.mp3\n",
      "english_yoruba_phrasebook_1271_padded.mp3\n",
      "english_yoruba_phrasebook_1272_padded.mp3\n",
      "english_yoruba_phrasebook_1273_padded.mp3\n",
      "english_yoruba_phrasebook_1274_padded.mp3\n",
      "english_yoruba_phrasebook_1275_padded.mp3\n",
      "english_yoruba_phrasebook_1276_padded.mp3\n",
      "english_yoruba_phrasebook_1277_padded.mp3\n",
      "english_yoruba_phrasebook_1278_padded.mp3\n",
      "english_yoruba_phrasebook_1279_padded.mp3\n",
      "english_yoruba_phrasebook_1280_padded.mp3\n",
      "no_english_yoruba_phrasebook_1281_padded.mp3\n",
      "english_yoruba_phrasebook_1282_padded.mp3\n",
      "english_yoruba_phrasebook_1283_padded.mp3\n",
      "english_yoruba_phrasebook_1284_padded.mp3\n",
      "english_yoruba_phrasebook_1285_padded.mp3\n",
      "english_yoruba_phrasebook_1286_padded.mp3\n",
      "english_yoruba_phrasebook_1287_padded.mp3\n",
      "english_yoruba_phrasebook_1288_padded.mp3\n",
      "english_yoruba_phrasebook_1289_padded.mp3\n",
      "english_yoruba_phrasebook_1290_padded.mp3\n",
      "english_yoruba_phrasebook_1291_padded.mp3\n",
      "english_yoruba_phrasebook_1292_padded.mp3\n",
      "english_yoruba_phrasebook_1293_padded.mp3\n",
      "english_yoruba_phrasebook_1295_padded.mp3\n",
      "english_yoruba_phrasebook_1296_padded.mp3\n",
      "english_yoruba_phrasebook_1297_padded.mp3\n",
      "english_yoruba_phrasebook_1298_padded.mp3\n",
      "english_yoruba_phrasebook_1299_padded.mp3\n",
      "english_yoruba_phrasebook_1300_padded.mp3\n",
      "english_yoruba_phrasebook_1301_padded.mp3\n",
      "english_yoruba_phrasebook_1302_padded.mp3\n",
      "english_yoruba_phrasebook_1303_padded.mp3\n",
      "english_yoruba_phrasebook_1304_padded.mp3\n",
      "no_english_yoruba_phrasebook_1305_padded.mp3\n",
      "english_yoruba_phrasebook_1306_padded.mp3\n",
      "english_yoruba_phrasebook_1307_padded.mp3\n",
      "english_yoruba_phrasebook_1308_padded.mp3\n",
      "english_yoruba_phrasebook_1309_padded.mp3\n",
      "english_yoruba_phrasebook_1310_padded.mp3\n",
      "english_yoruba_phrasebook_1311_padded.mp3\n",
      "english_yoruba_phrasebook_1312_padded.mp3\n",
      "english_yoruba_phrasebook_1313_padded.mp3\n",
      "english_yoruba_phrasebook_1314_padded.mp3\n",
      "english_yoruba_phrasebook_1315_padded.mp3\n",
      "english_yoruba_phrasebook_1316_padded.mp3\n",
      "english_yoruba_phrasebook_1317_padded.mp3\n",
      "english_yoruba_phrasebook_1318_padded.mp3\n",
      "english_yoruba_phrasebook_1319_padded.mp3\n",
      "english_yoruba_phrasebook_1320_padded.mp3\n",
      "english_yoruba_phrasebook_1321_padded.mp3\n",
      "english_yoruba_phrasebook_1322_padded.mp3\n",
      "english_yoruba_phrasebook_1323_padded.mp3\n",
      "english_yoruba_phrasebook_1324_padded.mp3\n",
      "english_yoruba_phrasebook_1325_padded.mp3\n",
      "english_yoruba_phrasebook_1326_padded.mp3\n",
      "english_yoruba_phrasebook_1327_padded.mp3\n",
      "english_yoruba_phrasebook_1328_padded.mp3\n",
      "english_yoruba_phrasebook_1329_padded.mp3\n",
      "english_yoruba_phrasebook_1330_padded.mp3\n",
      "english_yoruba_phrasebook_1331_padded.mp3\n",
      "english_yoruba_phrasebook_1332_padded.mp3\n",
      "english_yoruba_phrasebook_1333_padded.mp3\n",
      "english_yoruba_phrasebook_1334_padded.mp3\n",
      "english_yoruba_phrasebook_1335_padded.mp3\n",
      "english_yoruba_phrasebook_1336_padded.mp3\n",
      "english_yoruba_phrasebook_1337_padded.mp3\n",
      "english_yoruba_phrasebook_1338_padded.mp3\n",
      "english_yoruba_phrasebook_1339_padded.mp3\n",
      "english_yoruba_phrasebook_1340_padded.mp3\n",
      "english_yoruba_phrasebook_1341_padded.mp3\n",
      "english_yoruba_phrasebook_1342_padded.mp3\n",
      "english_yoruba_phrasebook_1343_padded.mp3\n",
      "english_yoruba_phrasebook_1344_padded.mp3\n",
      "english_yoruba_phrasebook_1345_padded.mp3\n",
      "english_yoruba_phrasebook_1346_padded.mp3\n",
      "english_yoruba_phrasebook_1347_padded.mp3\n",
      "english_yoruba_phrasebook_1348_padded.mp3\n",
      "english_yoruba_phrasebook_1349_padded.mp3\n",
      "english_yoruba_phrasebook_1350_padded.mp3\n",
      "english_yoruba_phrasebook_1351_padded.mp3\n",
      "english_yoruba_phrasebook_1352_padded.mp3\n",
      "english_yoruba_phrasebook_1353_padded.mp3\n",
      "english_yoruba_phrasebook_1354_padded.mp3\n",
      "english_yoruba_phrasebook_1355_padded.mp3\n",
      "english_yoruba_phrasebook_1356_padded.mp3\n",
      "english_yoruba_phrasebook_1357_padded.mp3\n",
      "english_yoruba_phrasebook_1358_padded.mp3\n",
      "english_yoruba_phrasebook_1359_padded.mp3\n",
      "english_yoruba_phrasebook_1360_padded.mp3\n",
      "english_yoruba_phrasebook_1361_padded.mp3\n",
      "english_yoruba_phrasebook_1362_padded.mp3\n",
      "english_yoruba_phrasebook_1363_padded.mp3\n",
      "english_yoruba_phrasebook_1364_padded.mp3\n",
      "english_yoruba_phrasebook_1365_padded.mp3\n",
      "english_yoruba_phrasebook_1366_padded.mp3\n",
      "english_yoruba_phrasebook_1367_padded.mp3\n",
      "english_yoruba_phrasebook_1369_padded.mp3\n",
      "english_yoruba_phrasebook_1370_padded.mp3\n",
      "english_yoruba_phrasebook_1371_padded.mp3\n",
      "english_yoruba_phrasebook_1372_padded.mp3\n",
      "english_yoruba_phrasebook_1373_padded.mp3\n",
      "english_yoruba_phrasebook_1374_padded.mp3\n",
      "english_yoruba_phrasebook_1375_padded.mp3\n",
      "english_yoruba_phrasebook_1376_padded.mp3\n",
      "english_yoruba_phrasebook_1377_padded.mp3\n",
      "english_yoruba_phrasebook_1378_padded.mp3\n",
      "english_yoruba_phrasebook_1379_padded.mp3\n",
      "english_yoruba_phrasebook_1380_padded.mp3\n",
      "english_yoruba_phrasebook_1381_padded.mp3\n",
      "english_yoruba_phrasebook_1382_padded.mp3\n",
      "english_yoruba_phrasebook_1383_padded.mp3\n",
      "english_yoruba_phrasebook_1384_padded.mp3\n",
      "english_yoruba_phrasebook_1385_padded.mp3\n",
      "english_yoruba_phrasebook_1386_padded.mp3\n",
      "english_yoruba_phrasebook_1387_padded.mp3\n",
      "english_yoruba_phrasebook_1388_padded.mp3\n",
      "english_yoruba_phrasebook_1389_padded.mp3\n",
      "english_yoruba_phrasebook_1390_padded.mp3\n",
      "english_yoruba_phrasebook_1391_padded.mp3\n",
      "english_yoruba_phrasebook_1392_padded.mp3\n",
      "english_yoruba_phrasebook_1393_padded.mp3\n",
      "english_yoruba_phrasebook_1394_padded.mp3\n",
      "english_yoruba_phrasebook_1395_padded.mp3\n",
      "english_yoruba_phrasebook_1396_padded.mp3\n",
      "english_yoruba_phrasebook_1397_padded.mp3\n",
      "english_yoruba_phrasebook_1398_padded.mp3\n",
      "english_yoruba_phrasebook_1399_padded.mp3\n",
      "english_yoruba_phrasebook_1400_padded.mp3\n"
     ]
    },
    {
     "name": "stdout",
     "output_type": "stream",
     "text": [
      "english_yoruba_phrasebook_1401_padded.mp3\n",
      "english_yoruba_phrasebook_1402_padded.mp3\n",
      "english_yoruba_phrasebook_1403_padded.mp3\n",
      "english_yoruba_phrasebook_1404_padded.mp3\n",
      "english_yoruba_phrasebook_1405_padded.mp3\n",
      "english_yoruba_phrasebook_1406_padded.mp3\n",
      "english_yoruba_phrasebook_1407_padded.mp3\n",
      "english_yoruba_phrasebook_1408_padded.mp3\n",
      "no_english_yoruba_phrasebook_1409_padded.mp3\n",
      "english_yoruba_phrasebook_1410_padded.mp3\n",
      "english_yoruba_phrasebook_1411_padded.mp3\n",
      "english_yoruba_phrasebook_1412_padded.mp3\n",
      "english_yoruba_phrasebook_1413_padded.mp3\n",
      "english_yoruba_phrasebook_1414_padded.mp3\n",
      "english_yoruba_phrasebook_1415_padded.mp3\n",
      "english_yoruba_phrasebook_1416_padded.mp3\n",
      "english_yoruba_phrasebook_1417_padded.mp3\n",
      "english_yoruba_phrasebook_1418_padded.mp3\n",
      "english_yoruba_phrasebook_1419_padded.mp3\n",
      "english_yoruba_phrasebook_1420_padded.mp3\n",
      "english_yoruba_phrasebook_1421_padded.mp3\n",
      "english_yoruba_phrasebook_1422_padded.mp3\n",
      "english_yoruba_phrasebook_1423_padded.mp3\n",
      "english_yoruba_phrasebook_1424_padded.mp3\n",
      "english_yoruba_phrasebook_1425_padded.mp3\n",
      "english_yoruba_phrasebook_1426_padded.mp3\n",
      "english_yoruba_phrasebook_1427_padded.mp3\n",
      "english_yoruba_phrasebook_1428_padded.mp3\n",
      "english_yoruba_phrasebook_1429_padded.mp3\n",
      "english_yoruba_phrasebook_1430_padded.mp3\n",
      "english_yoruba_phrasebook_1431_padded.mp3\n",
      "english_yoruba_phrasebook_1432_padded.mp3\n",
      "english_yoruba_phrasebook_1433_padded.mp3\n",
      "english_yoruba_phrasebook_1434_padded.mp3\n",
      "english_yoruba_phrasebook_1435_padded.mp3\n",
      "english_yoruba_phrasebook_1436_padded.mp3\n",
      "english_yoruba_phrasebook_1437_padded.mp3\n",
      "english_yoruba_phrasebook_1438_padded.mp3\n",
      "english_yoruba_phrasebook_1439_padded.mp3\n",
      "english_yoruba_phrasebook_1440_padded.mp3\n",
      "english_yoruba_phrasebook_1441_padded.mp3\n",
      "english_yoruba_phrasebook_1442_padded.mp3\n",
      "english_yoruba_phrasebook_1443_padded.mp3\n",
      "english_yoruba_phrasebook_1444_padded.mp3\n",
      "english_yoruba_phrasebook_1445_padded.mp3\n",
      "english_yoruba_phrasebook_1446_padded.mp3\n",
      "english_yoruba_phrasebook_1447_padded.mp3\n",
      "english_yoruba_phrasebook_1448_padded.mp3\n",
      "english_yoruba_phrasebook_1449_padded.mp3\n",
      "english_yoruba_phrasebook_1450_padded.mp3\n",
      "english_yoruba_phrasebook_1451_padded.mp3\n",
      "english_yoruba_phrasebook_1452_padded.mp3\n",
      "english_yoruba_phrasebook_1453_padded.mp3\n",
      "english_yoruba_phrasebook_1454_padded.mp3\n",
      "english_yoruba_phrasebook_1455_padded.mp3\n",
      "english_yoruba_phrasebook_1456_padded.mp3\n",
      "english_yoruba_phrasebook_1457_padded.mp3\n",
      "english_yoruba_phrasebook_1458_padded.mp3\n",
      "english_yoruba_phrasebook_1459_padded.mp3\n",
      "english_yoruba_phrasebook_1460_padded.mp3\n",
      "english_yoruba_phrasebook_1461_padded.mp3\n",
      "english_yoruba_phrasebook_1462_padded.mp3\n",
      "english_yoruba_phrasebook_1463_padded.mp3\n",
      "english_yoruba_phrasebook_1464_padded.mp3\n",
      "english_yoruba_phrasebook_1465_padded.mp3\n",
      "english_yoruba_phrasebook_1466_padded.mp3\n",
      "english_yoruba_phrasebook_1467_padded.mp3\n",
      "english_yoruba_phrasebook_1469_padded.mp3\n",
      "english_yoruba_phrasebook_1470_padded.mp3\n",
      "english_yoruba_phrasebook_1471_padded.mp3\n",
      "english_yoruba_phrasebook_1472_padded.mp3\n",
      "no_english_yoruba_phrasebook_1473_padded.mp3\n",
      "english_yoruba_phrasebook_1474_padded.mp3\n",
      "english_yoruba_phrasebook_1475_padded.mp3\n",
      "english_yoruba_phrasebook_1476_padded.mp3\n",
      "english_yoruba_phrasebook_1477_padded.mp3\n",
      "english_yoruba_phrasebook_1478_padded.mp3\n",
      "english_yoruba_phrasebook_1479_padded.mp3\n",
      "english_yoruba_phrasebook_1480_padded.mp3\n",
      "english_yoruba_phrasebook_1481_padded.mp3\n",
      "english_yoruba_phrasebook_1482_padded.mp3\n",
      "english_yoruba_phrasebook_1484_padded.mp3\n",
      "english_yoruba_phrasebook_1485_padded.mp3\n",
      "english_yoruba_phrasebook_1486_padded.mp3\n",
      "english_yoruba_phrasebook_1487_padded.mp3\n",
      "english_yoruba_phrasebook_1488_padded.mp3\n",
      "english_yoruba_phrasebook_1489_padded.mp3\n",
      "english_yoruba_phrasebook_1490_padded.mp3\n",
      "english_yoruba_phrasebook_1491_padded.mp3\n",
      "english_yoruba_phrasebook_1492_padded.mp3\n",
      "english_yoruba_phrasebook_1493_padded.mp3\n",
      "english_yoruba_phrasebook_1494_padded.mp3\n",
      "english_yoruba_phrasebook_1495_padded.mp3\n",
      "english_yoruba_phrasebook_1496_padded.mp3\n",
      "english_yoruba_phrasebook_1497_padded.mp3\n",
      "english_yoruba_phrasebook_1498_padded.mp3\n",
      "english_yoruba_phrasebook_1499_padded.mp3\n",
      "english_yoruba_phrasebook_1500_padded.mp3\n",
      "english_yoruba_phrasebook_1501_padded.mp3\n",
      "no_english_yoruba_phrasebook_1502_padded.mp3\n",
      "english_yoruba_phrasebook_1503_padded.mp3\n",
      "english_yoruba_phrasebook_1504_padded.mp3\n",
      "english_yoruba_phrasebook_1505_padded.mp3\n",
      "english_yoruba_phrasebook_1506_padded.mp3\n",
      "english_yoruba_phrasebook_1507_padded.mp3\n",
      "english_yoruba_phrasebook_1508_padded.mp3\n",
      "english_yoruba_phrasebook_1509_padded.mp3\n",
      "english_yoruba_phrasebook_1510_padded.mp3\n",
      "english_yoruba_phrasebook_1511_padded.mp3\n",
      "english_yoruba_phrasebook_1512_padded.mp3\n",
      "english_yoruba_phrasebook_1513_padded.mp3\n",
      "english_yoruba_phrasebook_1514_padded.mp3\n",
      "english_yoruba_phrasebook_1515_padded.mp3\n",
      "english_yoruba_phrasebook_1516_padded.mp3\n",
      "english_yoruba_phrasebook_1517_padded.mp3\n",
      "english_yoruba_phrasebook_1518_padded.mp3\n",
      "english_yoruba_phrasebook_1519_padded.mp3\n",
      "english_yoruba_phrasebook_1520_padded.mp3\n",
      "english_yoruba_phrasebook_1521_padded.mp3\n",
      "english_yoruba_phrasebook_1522_padded.mp3\n",
      "english_yoruba_phrasebook_1523_padded.mp3\n",
      "english_yoruba_phrasebook_1524_padded.mp3\n",
      "english_yoruba_phrasebook_1525_padded.mp3\n",
      "english_yoruba_phrasebook_1526_padded.mp3\n",
      "english_yoruba_phrasebook_1527_padded.mp3\n",
      "english_yoruba_phrasebook_1528_padded.mp3\n",
      "english_yoruba_phrasebook_1529_padded.mp3\n",
      "english_yoruba_phrasebook_1530_padded.mp3\n",
      "english_yoruba_phrasebook_1531_padded.mp3\n",
      "english_yoruba_phrasebook_1532_padded.mp3\n",
      "english_yoruba_phrasebook_1533_padded.mp3\n",
      "english_yoruba_phrasebook_1534_padded.mp3\n",
      "english_yoruba_phrasebook_1535_padded.mp3\n",
      "english_yoruba_phrasebook_1536_padded.mp3\n",
      "english_yoruba_phrasebook_1537_padded.mp3\n",
      "english_yoruba_phrasebook_1538_padded.mp3\n",
      "english_yoruba_phrasebook_1539_padded.mp3\n",
      "english_yoruba_phrasebook_1540_padded.mp3\n",
      "english_yoruba_phrasebook_1541_padded.mp3\n",
      "english_yoruba_phrasebook_1542_padded.mp3\n",
      "english_yoruba_phrasebook_1543_padded.mp3\n",
      "english_yoruba_phrasebook_1544_padded.mp3\n",
      "english_yoruba_phrasebook_1545_padded.mp3\n",
      "english_yoruba_phrasebook_1546_padded.mp3\n",
      "english_yoruba_phrasebook_1547_padded.mp3\n",
      "english_yoruba_phrasebook_1548_padded.mp3\n",
      "english_yoruba_phrasebook_1549_padded.mp3\n",
      "english_yoruba_phrasebook_1550_padded.mp3\n",
      "english_yoruba_phrasebook_1551_padded.mp3\n",
      "english_yoruba_phrasebook_1552_padded.mp3\n",
      "english_yoruba_phrasebook_1553_padded.mp3\n",
      "english_yoruba_phrasebook_1554_padded.mp3\n",
      "english_yoruba_phrasebook_1555_padded.mp3\n",
      "english_yoruba_phrasebook_1556_padded.mp3\n",
      "english_yoruba_phrasebook_1557_padded.mp3\n",
      "english_yoruba_phrasebook_1558_padded.mp3\n",
      "english_yoruba_phrasebook_1559_padded.mp3\n",
      "english_yoruba_phrasebook_1560_padded.mp3\n",
      "english_yoruba_phrasebook_1561_padded.mp3\n",
      "english_yoruba_phrasebook_1562_padded.mp3\n",
      "english_yoruba_phrasebook_1563_padded.mp3\n",
      "english_yoruba_phrasebook_1564_padded.mp3\n",
      "english_yoruba_phrasebook_1565_padded.mp3\n",
      "english_yoruba_phrasebook_1566_padded.mp3\n",
      "english_yoruba_phrasebook_1567_padded.mp3\n",
      "english_yoruba_phrasebook_1568_padded.mp3\n",
      "english_yoruba_phrasebook_1569_padded.mp3\n",
      "english_yoruba_phrasebook_1570_padded.mp3\n",
      "no_english_yoruba_phrasebook_1571_padded.mp3\n",
      "english_yoruba_phrasebook_1572_padded.mp3\n",
      "english_yoruba_phrasebook_1573_padded.mp3\n",
      "english_yoruba_phrasebook_1574_padded.mp3\n",
      "english_yoruba_phrasebook_1575_padded.mp3\n",
      "english_yoruba_phrasebook_1576_padded.mp3\n",
      "english_yoruba_phrasebook_1577_padded.mp3\n",
      "english_yoruba_phrasebook_1578_padded.mp3\n",
      "english_yoruba_phrasebook_1579_padded.mp3\n",
      "english_yoruba_phrasebook_1580_padded.mp3\n",
      "english_yoruba_phrasebook_1581_padded.mp3\n",
      "english_yoruba_phrasebook_1582_padded.mp3\n",
      "english_yoruba_phrasebook_1583_padded.mp3\n",
      "english_yoruba_phrasebook_1584_padded.mp3\n",
      "english_yoruba_phrasebook_1585_padded.mp3\n",
      "english_yoruba_phrasebook_1586_padded.mp3\n",
      "english_yoruba_phrasebook_1587_padded.mp3\n",
      "english_yoruba_phrasebook_1588_padded.mp3\n",
      "english_yoruba_phrasebook_1589_padded.mp3\n",
      "english_yoruba_phrasebook_1590_padded.mp3\n",
      "english_yoruba_phrasebook_1591_padded.mp3\n",
      "english_yoruba_phrasebook_1592_padded.mp3\n",
      "english_yoruba_phrasebook_1593_padded.mp3\n",
      "english_yoruba_phrasebook_1594_padded.mp3\n",
      "english_yoruba_phrasebook_1595_padded.mp3\n",
      "english_yoruba_phrasebook_1596_padded.mp3\n",
      "english_yoruba_phrasebook_1597_padded.mp3\n"
     ]
    },
    {
     "name": "stdout",
     "output_type": "stream",
     "text": [
      "english_yoruba_phrasebook_1598_padded.mp3\n",
      "english_yoruba_phrasebook_1599_padded.mp3\n",
      "english_yoruba_phrasebook_1600_padded.mp3\n",
      "english_yoruba_phrasebook_1601_padded.mp3\n",
      "english_yoruba_phrasebook_1602_padded.mp3\n",
      "english_yoruba_phrasebook_1603_padded.mp3\n",
      "english_yoruba_phrasebook_1604_padded.mp3\n",
      "english_yoruba_phrasebook_1605_padded.mp3\n",
      "english_yoruba_phrasebook_1606_padded.mp3\n",
      "english_yoruba_phrasebook_1607_padded.mp3\n",
      "english_yoruba_phrasebook_1608_padded.mp3\n",
      "english_yoruba_phrasebook_1609_padded.mp3\n",
      "english_yoruba_phrasebook_1610_padded.mp3\n",
      "english_yoruba_phrasebook_1611_padded.mp3\n",
      "english_yoruba_phrasebook_1612_padded.mp3\n",
      "english_yoruba_phrasebook_1613_padded.mp3\n",
      "english_yoruba_phrasebook_1614_padded.mp3\n",
      "english_yoruba_phrasebook_1615_padded.mp3\n",
      "english_yoruba_phrasebook_1616_padded.mp3\n",
      "english_yoruba_phrasebook_1617_padded.mp3\n",
      "english_yoruba_phrasebook_1618_padded.mp3\n",
      "english_yoruba_phrasebook_1619_padded.mp3\n",
      "english_yoruba_phrasebook_1620_padded.mp3\n",
      "english_yoruba_phrasebook_1621_padded.mp3\n",
      "english_yoruba_phrasebook_1622_padded.mp3\n",
      "english_yoruba_phrasebook_1623_padded.mp3\n",
      "english_yoruba_phrasebook_1624_padded.mp3\n",
      "english_yoruba_phrasebook_1625_padded.mp3\n",
      "english_yoruba_phrasebook_1626_padded.mp3\n",
      "english_yoruba_phrasebook_1627_padded.mp3\n",
      "english_yoruba_phrasebook_1628_padded.mp3\n",
      "english_yoruba_phrasebook_1629_padded.mp3\n",
      "english_yoruba_phrasebook_1630_padded.mp3\n",
      "english_yoruba_phrasebook_1631_padded.mp3\n",
      "english_yoruba_phrasebook_1632_padded.mp3\n",
      "english_yoruba_phrasebook_1633_padded.mp3\n",
      "english_yoruba_phrasebook_1634_padded.mp3\n",
      "english_yoruba_phrasebook_1635_padded.mp3\n",
      "english_yoruba_phrasebook_1636_padded.mp3\n",
      "english_yoruba_phrasebook_1637_padded.mp3\n",
      "english_yoruba_phrasebook_1638_padded.mp3\n",
      "english_yoruba_phrasebook_1639_padded.mp3\n",
      "english_yoruba_phrasebook_1640_padded.mp3\n",
      "english_yoruba_phrasebook_1641_padded.mp3\n",
      "english_yoruba_phrasebook_1642_padded.mp3\n",
      "english_yoruba_phrasebook_1643_padded.mp3\n",
      "english_yoruba_phrasebook_1644_padded.mp3\n",
      "english_yoruba_phrasebook_1645_padded.mp3\n",
      "english_yoruba_phrasebook_1647_padded.mp3\n",
      "english_yoruba_phrasebook_1648_padded.mp3\n",
      "english_yoruba_phrasebook_1649_padded.mp3\n",
      "english_yoruba_phrasebook_1650_padded.mp3\n",
      "english_yoruba_phrasebook_1651_padded.mp3\n",
      "no_english_yoruba_phrasebook_1652_padded.mp3\n",
      "english_yoruba_phrasebook_1653_padded.mp3\n",
      "english_yoruba_phrasebook_1654_padded.mp3\n",
      "english_yoruba_phrasebook_1655_padded.mp3\n",
      "english_yoruba_phrasebook_1656_padded.mp3\n",
      "english_yoruba_phrasebook_1657_padded.mp3\n",
      "english_yoruba_phrasebook_1658_padded.mp3\n",
      "english_yoruba_phrasebook_1659_padded.mp3\n",
      "english_yoruba_phrasebook_1660_padded.mp3\n",
      "english_yoruba_phrasebook_1661_padded.mp3\n",
      "english_yoruba_phrasebook_1662_padded.mp3\n",
      "english_yoruba_phrasebook_1663_padded.mp3\n",
      "english_yoruba_phrasebook_1664_padded.mp3\n",
      "english_yoruba_phrasebook_1665_padded.mp3\n",
      "english_yoruba_phrasebook_1666_padded.mp3\n",
      "english_yoruba_phrasebook_1667_padded.mp3\n",
      "english_yoruba_phrasebook_1668_padded.mp3\n",
      "english_yoruba_phrasebook_1669_padded.mp3\n",
      "english_yoruba_phrasebook_1670_padded.mp3\n",
      "english_yoruba_phrasebook_1671_padded.mp3\n",
      "english_yoruba_phrasebook_1672_padded.mp3\n",
      "english_yoruba_phrasebook_1673_padded.mp3\n",
      "english_yoruba_phrasebook_1674_padded.mp3\n",
      "english_yoruba_phrasebook_1675_padded.mp3\n",
      "english_yoruba_phrasebook_1676_padded.mp3\n",
      "english_yoruba_phrasebook_1677_padded.mp3\n",
      "english_yoruba_phrasebook_1678_padded.mp3\n",
      "english_yoruba_phrasebook_1679_padded.mp3\n",
      "english_yoruba_phrasebook_1680_padded.mp3\n",
      "english_yoruba_phrasebook_1681_padded.mp3\n",
      "english_yoruba_phrasebook_1682_padded.mp3\n",
      "english_yoruba_phrasebook_1683_padded.mp3\n",
      "english_yoruba_phrasebook_1684_padded.mp3\n",
      "english_yoruba_phrasebook_1685_padded.mp3\n",
      "english_yoruba_phrasebook_1686_padded.mp3\n",
      "english_yoruba_phrasebook_1687_padded.mp3\n",
      "english_yoruba_phrasebook_1688_padded.mp3\n",
      "english_yoruba_phrasebook_1689_padded.mp3\n",
      "english_yoruba_phrasebook_1690_padded.mp3\n",
      "english_yoruba_phrasebook_1691_padded.mp3\n",
      "english_yoruba_phrasebook_1692_padded.mp3\n",
      "english_yoruba_phrasebook_1693_padded.mp3\n",
      "english_yoruba_phrasebook_1694_padded.mp3\n",
      "english_yoruba_phrasebook_1695_padded.mp3\n",
      "english_yoruba_phrasebook_1696_padded.mp3\n",
      "english_yoruba_phrasebook_1697_padded.mp3\n",
      "english_yoruba_phrasebook_1698_padded.mp3\n",
      "english_yoruba_phrasebook_1699_padded.mp3\n",
      "english_yoruba_phrasebook_1700_padded.mp3\n",
      "english_yoruba_phrasebook_1701_padded.mp3\n",
      "english_yoruba_phrasebook_1702_padded.mp3\n",
      "english_yoruba_phrasebook_1703_padded.mp3\n",
      "english_yoruba_phrasebook_1704_padded.mp3\n",
      "english_yoruba_phrasebook_1705_padded.mp3\n",
      "english_yoruba_phrasebook_1706_padded.mp3\n",
      "english_yoruba_phrasebook_1707_padded.mp3\n",
      "english_yoruba_phrasebook_1708_padded.mp3\n",
      "english_yoruba_phrasebook_1709_padded.mp3\n",
      "english_yoruba_phrasebook_1710_padded.mp3\n",
      "english_yoruba_phrasebook_1711_padded.mp3\n",
      "english_yoruba_phrasebook_1712_padded.mp3\n",
      "english_yoruba_phrasebook_1713_padded.mp3\n",
      "english_yoruba_phrasebook_1714_padded.mp3\n",
      "english_yoruba_phrasebook_1715_padded.mp3\n",
      "english_yoruba_phrasebook_1716_padded.mp3\n",
      "english_yoruba_phrasebook_1717_padded.mp3\n",
      "no_english_yoruba_phrasebook_1719_padded.mp3\n",
      "english_yoruba_phrasebook_1720_padded.mp3\n",
      "english_yoruba_phrasebook_1721_padded.mp3\n",
      "english_yoruba_phrasebook_1722_padded.mp3\n",
      "english_yoruba_phrasebook_1723_padded.mp3\n",
      "english_yoruba_phrasebook_1724_padded.mp3\n",
      "english_yoruba_phrasebook_1725_padded.mp3\n",
      "english_yoruba_phrasebook_1726_padded.mp3\n",
      "english_yoruba_phrasebook_1727_padded.mp3\n",
      "english_yoruba_phrasebook_1728_padded.mp3\n",
      "english_yoruba_phrasebook_1729_padded.mp3\n",
      "english_yoruba_phrasebook_1730_padded.mp3\n",
      "english_yoruba_phrasebook_1731_padded.mp3\n",
      "english_yoruba_phrasebook_1732_padded.mp3\n",
      "english_yoruba_phrasebook_1733_padded.mp3\n",
      "english_yoruba_phrasebook_1734_padded.mp3\n",
      "english_yoruba_phrasebook_1735_padded.mp3\n",
      "english_yoruba_phrasebook_1736_padded.mp3\n",
      "english_yoruba_phrasebook_1737_padded.mp3\n",
      "english_yoruba_phrasebook_1738_padded.mp3\n",
      "english_yoruba_phrasebook_1739_padded.mp3\n",
      "english_yoruba_phrasebook_1740_padded.mp3\n",
      "english_yoruba_phrasebook_1741_padded.mp3\n",
      "english_yoruba_phrasebook_1742_padded.mp3\n",
      "english_yoruba_phrasebook_1743_padded.mp3\n",
      "english_yoruba_phrasebook_1744_padded.mp3\n",
      "english_yoruba_phrasebook_1745_padded.mp3\n",
      "english_yoruba_phrasebook_1746_padded.mp3\n",
      "english_yoruba_phrasebook_1747_padded.mp3\n",
      "english_yoruba_phrasebook_1748_padded.mp3\n",
      "english_yoruba_phrasebook_1749_padded.mp3\n",
      "english_yoruba_phrasebook_1750_padded.mp3\n",
      "english_yoruba_phrasebook_1751_padded.mp3\n",
      "english_yoruba_phrasebook_1752_padded.mp3\n",
      "english_yoruba_phrasebook_1753_padded.mp3\n",
      "english_yoruba_phrasebook_1754_padded.mp3\n",
      "english_yoruba_phrasebook_1755_padded.mp3\n",
      "english_yoruba_phrasebook_1756_padded.mp3\n",
      "english_yoruba_phrasebook_1757_padded.mp3\n",
      "english_yoruba_phrasebook_1758_padded.mp3\n",
      "english_yoruba_phrasebook_1759_padded.mp3\n",
      "english_yoruba_phrasebook_1760_padded.mp3\n",
      "english_yoruba_phrasebook_1761_padded.mp3\n",
      "english_yoruba_phrasebook_1762_padded.mp3\n",
      "english_yoruba_phrasebook_1763_padded.mp3\n",
      "english_yoruba_phrasebook_1764_padded.mp3\n",
      "english_yoruba_phrasebook_1765_padded.mp3\n",
      "english_yoruba_phrasebook_1766_padded.mp3\n",
      "english_yoruba_phrasebook_1767_padded.mp3\n",
      "english_yoruba_phrasebook_1768_padded.mp3\n",
      "english_yoruba_phrasebook_1769_padded.mp3\n",
      "english_yoruba_phrasebook_1770_padded.mp3\n",
      "english_yoruba_phrasebook_1771_padded.mp3\n",
      "english_yoruba_phrasebook_1772_padded.mp3\n",
      "english_yoruba_phrasebook_1773_padded.mp3\n",
      "english_yoruba_phrasebook_1774_padded.mp3\n",
      "english_yoruba_phrasebook_1775_padded.mp3\n",
      "english_yoruba_phrasebook_1776_padded.mp3\n",
      "english_yoruba_phrasebook_1777_padded.mp3\n",
      "english_yoruba_phrasebook_1778_padded.mp3\n",
      "english_yoruba_phrasebook_1779_padded.mp3\n",
      "english_yoruba_phrasebook_1780_padded.mp3\n",
      "english_yoruba_phrasebook_1781_padded.mp3\n",
      "english_yoruba_phrasebook_1782_padded.mp3\n",
      "english_yoruba_phrasebook_1783_padded.mp3\n",
      "english_yoruba_phrasebook_1784_padded.mp3\n",
      "english_yoruba_phrasebook_1785_padded.mp3\n",
      "english_yoruba_phrasebook_1786_padded.mp3\n",
      "english_yoruba_phrasebook_1787_padded.mp3\n",
      "english_yoruba_phrasebook_1788_padded.mp3\n",
      "english_yoruba_phrasebook_1789_padded.mp3\n",
      "english_yoruba_phrasebook_1790_padded.mp3\n",
      "english_yoruba_phrasebook_1791_padded.mp3\n",
      "english_yoruba_phrasebook_1792_padded.mp3\n",
      "english_yoruba_phrasebook_1793_padded.mp3\n",
      "english_yoruba_phrasebook_1794_padded.mp3\n"
     ]
    },
    {
     "name": "stdout",
     "output_type": "stream",
     "text": [
      "english_yoruba_phrasebook_1795_padded.mp3\n",
      "english_yoruba_phrasebook_1796_padded.mp3\n",
      "english_yoruba_phrasebook_1797_padded.mp3\n",
      "english_yoruba_phrasebook_1798_padded.mp3\n",
      "english_yoruba_phrasebook_1799_padded.mp3\n",
      "english_yoruba_phrasebook_1800_padded.mp3\n",
      "english_yoruba_phrasebook_1801_padded.mp3\n",
      "english_yoruba_phrasebook_1802_padded.mp3\n",
      "english_yoruba_phrasebook_1803_padded.mp3\n",
      "english_yoruba_phrasebook_1804_padded.mp3\n",
      "english_yoruba_phrasebook_1805_padded.mp3\n",
      "english_yoruba_phrasebook_1806_padded.mp3\n",
      "english_yoruba_phrasebook_1807_padded.mp3\n",
      "english_yoruba_phrasebook_1808_padded.mp3\n",
      "english_yoruba_phrasebook_1809_padded.mp3\n",
      "english_yoruba_phrasebook_1810_padded.mp3\n",
      "english_yoruba_phrasebook_1811_padded.mp3\n",
      "english_yoruba_phrasebook_1812_padded.mp3\n",
      "english_yoruba_phrasebook_1813_padded.mp3\n",
      "english_yoruba_phrasebook_1814_padded.mp3\n",
      "english_yoruba_phrasebook_1815_padded.mp3\n",
      "english_yoruba_phrasebook_1816_padded.mp3\n",
      "english_yoruba_phrasebook_1817_padded.mp3\n",
      "english_yoruba_phrasebook_1818_padded.mp3\n",
      "english_yoruba_phrasebook_1819_padded.mp3\n",
      "english_yoruba_phrasebook_1820_padded.mp3\n",
      "english_yoruba_phrasebook_1821_padded.mp3\n",
      "english_yoruba_phrasebook_1822_padded.mp3\n",
      "english_yoruba_phrasebook_1823_padded.mp3\n",
      "english_yoruba_phrasebook_1824_padded.mp3\n",
      "no_english_yoruba_phrasebook_1825_padded.mp3\n",
      "english_yoruba_phrasebook_1826_padded.mp3\n",
      "english_yoruba_phrasebook_1827_padded.mp3\n",
      "english_yoruba_phrasebook_1828_padded.mp3\n",
      "english_yoruba_phrasebook_1829_padded.mp3\n",
      "english_yoruba_phrasebook_1830_padded.mp3\n",
      "english_yoruba_phrasebook_1831_padded.mp3\n",
      "english_yoruba_phrasebook_1832_padded.mp3\n",
      "english_yoruba_phrasebook_1833_padded.mp3\n",
      "english_yoruba_phrasebook_1834_padded.mp3\n",
      "english_yoruba_phrasebook_1835_padded.mp3\n",
      "english_yoruba_phrasebook_1836_padded.mp3\n",
      "english_yoruba_phrasebook_1837_padded.mp3\n",
      "english_yoruba_phrasebook_1838_padded.mp3\n",
      "english_yoruba_phrasebook_1839_padded.mp3\n",
      "english_yoruba_phrasebook_1840_padded.mp3\n",
      "english_yoruba_phrasebook_1841_padded.mp3\n",
      "english_yoruba_phrasebook_1842_padded.mp3\n",
      "english_yoruba_phrasebook_1843_padded.mp3\n",
      "english_yoruba_phrasebook_1844_padded.mp3\n",
      "english_yoruba_phrasebook_1845_padded.mp3\n",
      "english_yoruba_phrasebook_1846_padded.mp3\n",
      "english_yoruba_phrasebook_1847_padded.mp3\n",
      "english_yoruba_phrasebook_1848_padded.mp3\n",
      "english_yoruba_phrasebook_1849_padded.mp3\n",
      "english_yoruba_phrasebook_1850_padded.mp3\n",
      "english_yoruba_phrasebook_1851_padded.mp3\n",
      "english_yoruba_phrasebook_1852_padded.mp3\n",
      "english_yoruba_phrasebook_1853_padded.mp3\n",
      "english_yoruba_phrasebook_1854_padded.mp3\n",
      "english_yoruba_phrasebook_1855_padded.mp3\n",
      "english_yoruba_phrasebook_1856_padded.mp3\n",
      "english_yoruba_phrasebook_1857_padded.mp3\n",
      "english_yoruba_phrasebook_1858_padded.mp3\n",
      "english_yoruba_phrasebook_1859_padded.mp3\n",
      "english_yoruba_phrasebook_1860_padded.mp3\n",
      "english_yoruba_phrasebook_1861_padded.mp3\n",
      "english_yoruba_phrasebook_1862_padded.mp3\n",
      "english_yoruba_phrasebook_1863_padded.mp3\n",
      "english_yoruba_phrasebook_1864_padded.mp3\n",
      "english_yoruba_phrasebook_1865_padded.mp3\n",
      "english_yoruba_phrasebook_1866_padded.mp3\n",
      "english_yoruba_phrasebook_1867_padded.mp3\n",
      "english_yoruba_phrasebook_1868_padded.mp3\n",
      "english_yoruba_phrasebook_1869_padded.mp3\n",
      "english_yoruba_phrasebook_1870_padded.mp3\n",
      "english_yoruba_phrasebook_1871_padded.mp3\n",
      "english_yoruba_phrasebook_1872_padded.mp3\n",
      "english_yoruba_phrasebook_1873_padded.mp3\n",
      "english_yoruba_phrasebook_1874_padded.mp3\n",
      "english_yoruba_phrasebook_1875_padded.mp3\n",
      "english_yoruba_phrasebook_1876_padded.mp3\n",
      "english_yoruba_phrasebook_1877_padded.mp3\n",
      "english_yoruba_phrasebook_1878_padded.mp3\n",
      "english_yoruba_phrasebook_1879_padded.mp3\n",
      "english_yoruba_phrasebook_1880_padded.mp3\n",
      "english_yoruba_phrasebook_1881_padded.mp3\n",
      "english_yoruba_phrasebook_1882_padded.mp3\n",
      "english_yoruba_phrasebook_1883_padded.mp3\n",
      "english_yoruba_phrasebook_1884_padded.mp3\n",
      "english_yoruba_phrasebook_1885_padded.mp3\n",
      "english_yoruba_phrasebook_1886_padded.mp3\n",
      "english_yoruba_phrasebook_1887_padded.mp3\n",
      "english_yoruba_phrasebook_1888_padded.mp3\n",
      "english_yoruba_phrasebook_1889_padded.mp3\n",
      "english_yoruba_phrasebook_1890_padded.mp3\n",
      "english_yoruba_phrasebook_1891_padded.mp3\n",
      "english_yoruba_phrasebook_1892_padded.mp3\n",
      "english_yoruba_phrasebook_1893_padded.mp3\n",
      "english_yoruba_phrasebook_1894_padded.mp3\n",
      "english_yoruba_phrasebook_1895_padded.mp3\n",
      "english_yoruba_phrasebook_1896_padded.mp3\n",
      "english_yoruba_phrasebook_1897_padded.mp3\n",
      "english_yoruba_phrasebook_1898_padded.mp3\n",
      "english_yoruba_phrasebook_1899_padded.mp3\n",
      "english_yoruba_phrasebook_1900_padded.mp3\n",
      "english_yoruba_phrasebook_1901_padded.mp3\n",
      "english_yoruba_phrasebook_1902_padded.mp3\n",
      "english_yoruba_phrasebook_1903_padded.mp3\n",
      "english_yoruba_phrasebook_1904_padded.mp3\n",
      "english_yoruba_phrasebook_1905_padded.mp3\n",
      "english_yoruba_phrasebook_1906_padded.mp3\n",
      "english_yoruba_phrasebook_1907_padded.mp3\n",
      "english_yoruba_phrasebook_1908_padded.mp3\n",
      "english_yoruba_phrasebook_1909_padded.mp3\n",
      "english_yoruba_phrasebook_1910_padded.mp3\n",
      "english_yoruba_phrasebook_1911_padded.mp3\n",
      "english_yoruba_phrasebook_1912_padded.mp3\n",
      "english_yoruba_phrasebook_1913_padded.mp3\n",
      "english_yoruba_phrasebook_1914_padded.mp3\n",
      "english_yoruba_phrasebook_1915_padded.mp3\n",
      "english_yoruba_phrasebook_1916_padded.mp3\n",
      "english_yoruba_phrasebook_1917_padded.mp3\n",
      "english_yoruba_phrasebook_1918_padded.mp3\n",
      "english_yoruba_phrasebook_1919_padded.mp3\n",
      "english_yoruba_phrasebook_1920_padded.mp3\n",
      "english_yoruba_phrasebook_1921_padded.mp3\n",
      "english_yoruba_phrasebook_1922_padded.mp3\n",
      "english_yoruba_phrasebook_1923_padded.mp3\n",
      "english_yoruba_phrasebook_1924_padded.mp3\n",
      "english_yoruba_phrasebook_1925_padded.mp3\n",
      "english_yoruba_phrasebook_1926_padded.mp3\n",
      "english_yoruba_phrasebook_1927_padded.mp3\n",
      "english_yoruba_phrasebook_1928_padded.mp3\n",
      "english_yoruba_phrasebook_1929_padded.mp3\n",
      "english_yoruba_phrasebook_1930_padded.mp3\n",
      "english_yoruba_phrasebook_1931_padded.mp3\n",
      "english_yoruba_phrasebook_1932_padded.mp3\n",
      "english_yoruba_phrasebook_1933_padded.mp3\n",
      "english_yoruba_phrasebook_1934_padded.mp3\n",
      "english_yoruba_phrasebook_1935_padded.mp3\n",
      "english_yoruba_phrasebook_1936_padded.mp3\n",
      "english_yoruba_phrasebook_1937_padded.mp3\n",
      "english_yoruba_phrasebook_1938_padded.mp3\n",
      "english_yoruba_phrasebook_1939_padded.mp3\n",
      "english_yoruba_phrasebook_1940_padded.mp3\n",
      "english_yoruba_phrasebook_1941_padded.mp3\n",
      "english_yoruba_phrasebook_1942_padded.mp3\n",
      "english_yoruba_phrasebook_1943_padded.mp3\n",
      "english_yoruba_phrasebook_1944_padded.mp3\n",
      "english_yoruba_phrasebook_1945_padded.mp3\n",
      "english_yoruba_phrasebook_1946_padded.mp3\n",
      "english_yoruba_phrasebook_1947_padded.mp3\n",
      "english_yoruba_phrasebook_1948_padded.mp3\n",
      "no_english_yoruba_phrasebook_1949_padded.mp3\n",
      "english_yoruba_phrasebook_1950_padded.mp3\n",
      "english_yoruba_phrasebook_1951_padded.mp3\n",
      "english_yoruba_phrasebook_1952_padded.mp3\n",
      "english_yoruba_phrasebook_1953_padded.mp3\n",
      "english_yoruba_phrasebook_1954_padded.mp3\n",
      "english_yoruba_phrasebook_1955_padded.mp3\n",
      "english_yoruba_phrasebook_1956_padded.mp3\n",
      "english_yoruba_phrasebook_1957_padded.mp3\n",
      "english_yoruba_phrasebook_1958_padded.mp3\n",
      "english_yoruba_phrasebook_1959_padded.mp3\n",
      "english_yoruba_phrasebook_1960_padded.mp3\n",
      "english_yoruba_phrasebook_1961_padded.mp3\n",
      "english_yoruba_phrasebook_1962_padded.mp3\n",
      "english_yoruba_phrasebook_1964_padded.mp3\n",
      "english_yoruba_phrasebook_1965_padded.mp3\n",
      "no_english_yoruba_phrasebook_1966_padded.mp3\n",
      "english_yoruba_phrasebook_1967_padded.mp3\n",
      "english_yoruba_phrasebook_1968_padded.mp3\n",
      "english_yoruba_phrasebook_1969_padded.mp3\n",
      "english_yoruba_phrasebook_1970_padded.mp3\n",
      "english_yoruba_phrasebook_1971_padded.mp3\n",
      "english_yoruba_phrasebook_1972_padded.mp3\n",
      "english_yoruba_phrasebook_1973_padded.mp3\n",
      "english_yoruba_phrasebook_1974_padded.mp3\n",
      "english_yoruba_phrasebook_1975_padded.mp3\n",
      "english_yoruba_phrasebook_1976_padded.mp3\n",
      "english_yoruba_phrasebook_1977_padded.mp3\n",
      "english_yoruba_phrasebook_1978_padded.mp3\n",
      "english_yoruba_phrasebook_1979_padded.mp3\n",
      "english_yoruba_phrasebook_1980_padded.mp3\n",
      "english_yoruba_phrasebook_1981_padded.mp3\n",
      "english_yoruba_phrasebook_1982_padded.mp3\n",
      "english_yoruba_phrasebook_1983_padded.mp3\n",
      "english_yoruba_phrasebook_1984_padded.mp3\n",
      "english_yoruba_phrasebook_1985_padded.mp3\n",
      "english_yoruba_phrasebook_1986_padded.mp3\n",
      "english_yoruba_phrasebook_1987_padded.mp3\n",
      "english_yoruba_phrasebook_1988_padded.mp3\n",
      "english_yoruba_phrasebook_1989_padded.mp3\n",
      "english_yoruba_phrasebook_1990_padded.mp3\n"
     ]
    },
    {
     "name": "stdout",
     "output_type": "stream",
     "text": [
      "english_yoruba_phrasebook_1991_padded.mp3\n",
      "english_yoruba_phrasebook_1992_padded.mp3\n",
      "english_yoruba_phrasebook_1993_padded.mp3\n",
      "english_yoruba_phrasebook_1994_padded.mp3\n",
      "english_yoruba_phrasebook_1995_padded.mp3\n",
      "english_yoruba_phrasebook_1996_padded.mp3\n",
      "english_yoruba_phrasebook_1997_padded.mp3\n",
      "english_yoruba_phrasebook_1998_padded.mp3\n",
      "english_yoruba_phrasebook_1999_padded.mp3\n",
      "english_yoruba_phrasebook_2000_padded.mp3\n",
      "no_english_yoruba_phrasebook_2001_padded.mp3\n",
      "english_yoruba_phrasebook_2002_padded.mp3\n",
      "english_yoruba_phrasebook_2003_padded.mp3\n",
      "english_yoruba_phrasebook_2004_padded.mp3\n",
      "english_yoruba_phrasebook_2005_padded.mp3\n",
      "english_yoruba_phrasebook_2006_padded.mp3\n",
      "english_yoruba_phrasebook_2007_padded.mp3\n",
      "english_yoruba_phrasebook_2008_padded.mp3\n",
      "english_yoruba_phrasebook_2009_padded.mp3\n",
      "english_yoruba_phrasebook_2012_padded.mp3\n",
      "english_yoruba_phrasebook_2013_padded.mp3\n",
      "english_yoruba_phrasebook_2014_padded.mp3\n",
      "english_yoruba_phrasebook_2015_padded.mp3\n",
      "english_yoruba_phrasebook_2016_padded.mp3\n",
      "english_yoruba_phrasebook_2017_padded.mp3\n",
      "english_yoruba_phrasebook_2018_padded.mp3\n",
      "english_yoruba_phrasebook_2021_padded.mp3\n",
      "english_yoruba_phrasebook_2022_padded.mp3\n",
      "english_yoruba_phrasebook_2024_padded.mp3\n",
      "english_yoruba_phrasebook_2026_padded.mp3\n",
      "english_yoruba_phrasebook_2027_padded.mp3\n",
      "no_english_yoruba_phrasebook_2028_padded.mp3\n",
      "english_yoruba_phrasebook_2031_padded.mp3\n",
      "english_yoruba_phrasebook_2032_padded.mp3\n",
      "english_yoruba_phrasebook_2033_padded.mp3\n",
      "english_yoruba_phrasebook_2034_padded.mp3\n",
      "english_yoruba_phrasebook_2035_padded.mp3\n",
      "english_yoruba_phrasebook_2036_padded.mp3\n",
      "english_yoruba_phrasebook_2037_padded.mp3\n",
      "english_yoruba_phrasebook_2038_padded.mp3\n",
      "english_yoruba_phrasebook_2039_padded.mp3\n",
      "english_yoruba_phrasebook_2040_padded.mp3\n",
      "english_yoruba_phrasebook_2041_padded.mp3\n",
      "english_yoruba_phrasebook_2042_padded.mp3\n",
      "english_yoruba_phrasebook_2043_padded.mp3\n",
      "english_yoruba_phrasebook_2044_padded.mp3\n"
     ]
    }
   ],
   "source": [
    "import os\n",
    "from pydub import AudioSegment\n",
    "from natsort import natsorted\n",
    "from os.path import basename\n",
    "\n",
    "silent_end = AudioSegment.silent(duration=1000)\n",
    "silent_begin = AudioSegment.silent(duration=2000)\n",
    "\n",
    "\n",
    "# silent_2s = AudioSegment.silent(duration=2000)\n",
    "Trailing_silent = AudioSegment.silent(duration=int(1*1000))\n",
    "Inside_silent = AudioSegment.silent(duration=int(silence_padding_duration*1000))\n",
    "\n",
    "# song = silent_duration\n",
    "\n",
    "# padding_duration = 10\n",
    "\n",
    "for i in range (0,len(audio_path2_)):\n",
    "    # i = 1\n",
    "    \n",
    "\n",
    "    if audio_path1_[i]:\n",
    "        \n",
    "        song_name = os.path.basename(audio_path1_[i]).split(\"_\")[0] + \"_\" + os.path.basename(audio_path2_[i])\n",
    "        song_1 = AudioSegment.from_mp3(audio_path1_[i])\n",
    "        \n",
    "        trimmed_song_1 = remove_trailing_silence(song_1)\n",
    "\n",
    "        \n",
    "        print(song_name)\n",
    "    else:\n",
    "        song_name = \"no_english_\" + os.path.basename(audio_path2_[i])\n",
    "        print(song_name)\n",
    "\n",
    "    \n",
    "    song_2 = AudioSegment.from_mp3(audio_path2_[i])\n",
    "    song_out2 = song_2\n",
    "    trimmed_song_2 = remove_trailing_silence(song_2)\n",
    "    \n",
    "#     song_out2, number_of_chunks = padded_audio_func(song_2, min_cut_silence_len=1.5, \n",
    "#                                                     silence_padding_duration=silence_padding_duration, repeat=1)\n",
    "\n",
    "\n",
    "#     print(\"number_of_chunks:\",number_of_chunks)\n",
    "    \n",
    "\n",
    "    if audio_path1_[i]:\n",
    "        songi = Trailing_silent + trimmed_song_1 + Inside_silent + trimmed_song_2 + Trailing_silent\n",
    "    else:\n",
    "        songi = song_out2\n",
    "        \n",
    "\n",
    "    songi.export(\n",
    "          # \".//chunk{0}.mp3\".format(i),\n",
    "          bilingual_audio_folder+\"/\"+song_name,\n",
    "          bitrate = \"192k\",\n",
    "          format = \"mp3\"\n",
    "      );"
   ]
  },
  {
   "cell_type": "code",
   "execution_count": null,
   "id": "c97c9660",
   "metadata": {
    "ExecuteTime": {
     "end_time": "2023-12-31T08:42:10.132325Z",
     "start_time": "2023-12-31T08:42:10.126817Z"
    }
   },
   "outputs": [],
   "source": []
  },
  {
   "cell_type": "code",
   "execution_count": null,
   "id": "688302db",
   "metadata": {},
   "outputs": [],
   "source": []
  },
  {
   "cell_type": "code",
   "execution_count": 45,
   "id": "39ccb779",
   "metadata": {
    "ExecuteTime": {
     "end_time": "2024-02-01T06:08:36.011780Z",
     "start_time": "2024-02-01T06:08:36.008115Z"
    },
    "execution": {
     "iopub.execute_input": "2024-03-10T23:48:48.256155Z",
     "iopub.status.busy": "2024-03-10T23:48:48.256155Z",
     "iopub.status.idle": "2024-03-10T23:48:48.259708Z",
     "shell.execute_reply": "2024-03-10T23:48:48.259708Z",
     "shell.execute_reply.started": "2024-03-10T23:48:48.256155Z"
    }
   },
   "outputs": [
    {
     "data": {
      "text/plain": [
       "'G:\\\\My Drive\\\\Data_Science\\\\Resulam\\\\Phrasebook_Audio_Video_Processing_production_Backup\\\\Languages\\\\YorubaPhrasebook\\\\bilingual_sentences\\\\'"
      ]
     },
     "execution_count": 45,
     "metadata": {},
     "output_type": "execute_result"
    }
   ],
   "source": [
    "bilingual_audio_folder"
   ]
  },
  {
   "cell_type": "code",
   "execution_count": null,
   "id": "3d0ca255",
   "metadata": {},
   "outputs": [],
   "source": []
  },
  {
   "cell_type": "code",
   "execution_count": null,
   "id": "b31dfc31",
   "metadata": {
    "ExecuteTime": {
     "end_time": "2023-12-18T00:01:33.320356Z",
     "start_time": "2023-12-18T00:01:33.282210Z"
    },
    "code_folding": []
   },
   "outputs": [],
   "source": []
  },
  {
   "cell_type": "code",
   "execution_count": null,
   "id": "2d1beaec",
   "metadata": {
    "ExecuteTime": {
     "end_time": "2023-12-22T19:35:38.258454Z",
     "start_time": "2023-12-22T19:35:38.227758Z"
    },
    "code_folding": []
   },
   "outputs": [],
   "source": []
  },
  {
   "cell_type": "code",
   "execution_count": null,
   "id": "025f86f2",
   "metadata": {
    "ExecuteTime": {
     "end_time": "2023-12-18T00:06:08.439731Z",
     "start_time": "2023-12-18T00:06:08.431935Z"
    },
    "code_folding": []
   },
   "outputs": [],
   "source": []
  },
  {
   "cell_type": "markdown",
   "id": "e4d2cdc5",
   "metadata": {
    "ExecuteTime": {
     "end_time": "2023-12-18T00:06:08.873299Z",
     "start_time": "2023-12-18T00:06:08.824873Z"
    }
   },
   "source": [
    "# Combine Sentences in Chapters"
   ]
  },
  {
   "cell_type": "code",
   "execution_count": 46,
   "id": "052e28fe",
   "metadata": {
    "ExecuteTime": {
     "end_time": "2024-02-01T06:08:36.017326Z",
     "start_time": "2024-02-01T06:08:36.013790Z"
    },
    "execution": {
     "iopub.execute_input": "2024-03-10T23:48:48.260711Z",
     "iopub.status.busy": "2024-03-10T23:48:48.260711Z",
     "iopub.status.idle": "2024-03-10T23:48:48.266535Z",
     "shell.execute_reply": "2024-03-10T23:48:48.266535Z",
     "shell.execute_reply.started": "2024-03-10T23:48:48.260711Z"
    }
   },
   "outputs": [
    {
     "name": "stdout",
     "output_type": "stream",
     "text": [
      "Chapters building... \n",
      "\n",
      "\n"
     ]
    }
   ],
   "source": [
    "print(\"Chapters building... \\n\\n\")\n"
   ]
  },
  {
   "cell_type": "code",
   "execution_count": 47,
   "id": "91598934",
   "metadata": {
    "ExecuteTime": {
     "end_time": "2024-02-01T06:08:36.029345Z",
     "start_time": "2024-02-01T06:08:36.018331Z"
    },
    "execution": {
     "iopub.execute_input": "2024-03-10T23:48:48.268042Z",
     "iopub.status.busy": "2024-03-10T23:48:48.266535Z",
     "iopub.status.idle": "2024-03-10T23:48:48.287187Z",
     "shell.execute_reply": "2024-03-10T23:48:48.287187Z",
     "shell.execute_reply.started": "2024-03-10T23:48:48.268042Z"
    }
   },
   "outputs": [],
   "source": [
    "combined_chapters_audio_folder = \"bilingual_sentences_chapters\"\n",
    "combined_chapters_audio_folder = os.path.join(os.getcwd(),combined_chapters_audio_folder,\"\")\n",
    "os.makedirs(combined_chapters_audio_folder, exist_ok=True)\n"
   ]
  },
  {
   "cell_type": "code",
   "execution_count": null,
   "id": "568762c8",
   "metadata": {},
   "outputs": [],
   "source": []
  },
  {
   "cell_type": "code",
   "execution_count": 48,
   "id": "0847cc06",
   "metadata": {
    "ExecuteTime": {
     "end_time": "2024-02-01T06:08:36.375793Z",
     "start_time": "2024-02-01T06:08:36.034610Z"
    },
    "execution": {
     "iopub.execute_input": "2024-03-10T23:48:48.287187Z",
     "iopub.status.busy": "2024-03-10T23:48:48.287187Z",
     "iopub.status.idle": "2024-03-10T23:48:48.295035Z",
     "shell.execute_reply": "2024-03-10T23:48:48.295035Z",
     "shell.execute_reply.started": "2024-03-10T23:48:48.287187Z"
    }
   },
   "outputs": [],
   "source": [
    "audio_files_plus_ext, audio_files = get_audio(bilingual_audio_folder, \n",
    "                                              ext = [\"*.mp3\", \"*.wav\", \"*.ogg\", \"*.flac\"],check_subfolders=False)\n",
    "\n",
    "# Sort the file names alphabtically\n",
    "audio_files = natsorted(audio_files, key=lambda x: x.lower())\n",
    "\n",
    "audio_files_plus_ext = natsorted(audio_files_plus_ext, key=lambda x: x.lower())\n"
   ]
  },
  {
   "cell_type": "code",
   "execution_count": 49,
   "id": "436bfad6",
   "metadata": {
    "ExecuteTime": {
     "end_time": "2024-02-01T06:08:36.386000Z",
     "start_time": "2024-02-01T06:08:36.376917Z"
    },
    "execution": {
     "iopub.execute_input": "2024-03-10T23:48:48.296037Z",
     "iopub.status.busy": "2024-03-10T23:48:48.296037Z",
     "iopub.status.idle": "2024-03-10T23:48:48.300041Z",
     "shell.execute_reply": "2024-03-10T23:48:48.300041Z",
     "shell.execute_reply.started": "2024-03-10T23:48:48.296037Z"
    }
   },
   "outputs": [
    {
     "data": {
      "text/plain": [
       "['G:\\\\My Drive\\\\Data_Science\\\\Resulam\\\\Phrasebook_Audio_Video_Processing_production_Backup\\\\Languages\\\\YorubaPhrasebook\\\\bilingual_sentences\\\\english_yoruba_phrasebook_1_padded.mp3',\n",
       " 'G:\\\\My Drive\\\\Data_Science\\\\Resulam\\\\Phrasebook_Audio_Video_Processing_production_Backup\\\\Languages\\\\YorubaPhrasebook\\\\bilingual_sentences\\\\english_yoruba_phrasebook_3_padded.mp3',\n",
       " 'G:\\\\My Drive\\\\Data_Science\\\\Resulam\\\\Phrasebook_Audio_Video_Processing_production_Backup\\\\Languages\\\\YorubaPhrasebook\\\\bilingual_sentences\\\\english_yoruba_phrasebook_4_padded.mp3',\n",
       " 'G:\\\\My Drive\\\\Data_Science\\\\Resulam\\\\Phrasebook_Audio_Video_Processing_production_Backup\\\\Languages\\\\YorubaPhrasebook\\\\bilingual_sentences\\\\english_yoruba_phrasebook_5_padded.mp3',\n",
       " 'G:\\\\My Drive\\\\Data_Science\\\\Resulam\\\\Phrasebook_Audio_Video_Processing_production_Backup\\\\Languages\\\\YorubaPhrasebook\\\\bilingual_sentences\\\\english_yoruba_phrasebook_6_padded.mp3',\n",
       " 'G:\\\\My Drive\\\\Data_Science\\\\Resulam\\\\Phrasebook_Audio_Video_Processing_production_Backup\\\\Languages\\\\YorubaPhrasebook\\\\bilingual_sentences\\\\english_yoruba_phrasebook_7_padded.mp3',\n",
       " 'G:\\\\My Drive\\\\Data_Science\\\\Resulam\\\\Phrasebook_Audio_Video_Processing_production_Backup\\\\Languages\\\\YorubaPhrasebook\\\\bilingual_sentences\\\\english_yoruba_phrasebook_8_padded.mp3',\n",
       " 'G:\\\\My Drive\\\\Data_Science\\\\Resulam\\\\Phrasebook_Audio_Video_Processing_production_Backup\\\\Languages\\\\YorubaPhrasebook\\\\bilingual_sentences\\\\english_yoruba_phrasebook_9_padded.mp3',\n",
       " 'G:\\\\My Drive\\\\Data_Science\\\\Resulam\\\\Phrasebook_Audio_Video_Processing_production_Backup\\\\Languages\\\\YorubaPhrasebook\\\\bilingual_sentences\\\\english_yoruba_phrasebook_10_padded.mp3',\n",
       " 'G:\\\\My Drive\\\\Data_Science\\\\Resulam\\\\Phrasebook_Audio_Video_Processing_production_Backup\\\\Languages\\\\YorubaPhrasebook\\\\bilingual_sentences\\\\no_english_yoruba_phrasebook_2_padded.mp3']"
      ]
     },
     "execution_count": 49,
     "metadata": {},
     "output_type": "execute_result"
    }
   ],
   "source": [
    "audio_files_plus_ext"
   ]
  },
  {
   "cell_type": "code",
   "execution_count": 50,
   "id": "e1ca2d6f",
   "metadata": {
    "ExecuteTime": {
     "end_time": "2024-02-01T06:08:36.395163Z",
     "start_time": "2024-02-01T06:08:36.387004Z"
    },
    "execution": {
     "iopub.execute_input": "2024-03-10T23:48:48.302044Z",
     "iopub.status.busy": "2024-03-10T23:48:48.301044Z",
     "iopub.status.idle": "2024-03-10T23:48:48.303836Z",
     "shell.execute_reply": "2024-03-10T23:48:48.303836Z",
     "shell.execute_reply.started": "2024-03-10T23:48:48.302044Z"
    }
   },
   "outputs": [],
   "source": [
    "# AUDIO_PROC.get_audio"
   ]
  },
  {
   "cell_type": "code",
   "execution_count": 51,
   "id": "e1e6179d",
   "metadata": {
    "ExecuteTime": {
     "end_time": "2024-02-01T06:08:36.402371Z",
     "start_time": "2024-02-01T06:08:36.396176Z"
    },
    "execution": {
     "iopub.execute_input": "2024-03-10T23:48:48.304838Z",
     "iopub.status.busy": "2024-03-10T23:48:48.304838Z",
     "iopub.status.idle": "2024-03-10T23:48:48.307000Z",
     "shell.execute_reply": "2024-03-10T23:48:48.307000Z",
     "shell.execute_reply.started": "2024-03-10T23:48:48.304838Z"
    }
   },
   "outputs": [],
   "source": [
    "# audio_path_eng = \"/content/drive/MyDrive/Resulam/Mbú'ŋwɑ̀'nì/Livres Yoruba/Audio/Yoruba_Nigeria Phrasebook/reworked2/YorubaCut2/renamed2/EnglishOnly/\"\n",
    "# audio_path_nufi = \"/content/drive/MyDrive/Resulam/Mbú'ŋwɑ̀'nì/Livres Nufi/audio/PhraseBookNufi/\"\n",
    "# audio_path_result = \"/content/drive/MyDrive/Resulam/Mbú'ŋwɑ̀'nì/Livres Nufi/audio/PhraseBookNufi/Result_padded/\"\n",
    "\n"
   ]
  },
  {
   "cell_type": "code",
   "execution_count": null,
   "id": "9815632e",
   "metadata": {
    "ExecuteTime": {
     "end_time": "2023-12-19T04:22:16.359886Z",
     "start_time": "2023-12-19T04:22:16.359886Z"
    },
    "code_folding": [
     0
    ]
   },
   "outputs": [],
   "source": []
  },
  {
   "cell_type": "code",
   "execution_count": null,
   "id": "0beb5df5",
   "metadata": {},
   "outputs": [],
   "source": []
  },
  {
   "cell_type": "code",
   "execution_count": null,
   "id": "70077d80",
   "metadata": {
    "ExecuteTime": {
     "end_time": "2023-12-17T20:17:46.072120Z",
     "start_time": "2023-12-17T20:17:46.068612Z"
    }
   },
   "outputs": [],
   "source": []
  },
  {
   "cell_type": "code",
   "execution_count": null,
   "id": "77ba164c",
   "metadata": {
    "ExecuteTime": {
     "end_time": "2023-12-17T20:26:04.012807Z",
     "start_time": "2023-12-17T20:26:04.003996Z"
    }
   },
   "outputs": [],
   "source": []
  },
  {
   "cell_type": "code",
   "execution_count": 52,
   "id": "11c61ab6",
   "metadata": {
    "ExecuteTime": {
     "end_time": "2024-02-01T06:08:36.405846Z",
     "start_time": "2024-02-01T06:08:36.403386Z"
    },
    "code_folding": [],
    "execution": {
     "iopub.execute_input": "2024-03-10T23:48:48.308002Z",
     "iopub.status.busy": "2024-03-10T23:48:48.308002Z",
     "iopub.status.idle": "2024-03-10T23:48:48.310942Z",
     "shell.execute_reply": "2024-03-10T23:48:48.310942Z",
     "shell.execute_reply.started": "2024-03-10T23:48:48.308002Z"
    }
   },
   "outputs": [],
   "source": [
    "def get_chapter(chapter_ranges, page_number):\n",
    "    for range_str, chapter in chapter_ranges.items():\n",
    "        start, end = map(int, range_str.split('-'))\n",
    "        if start <= page_number <= end:\n",
    "            return chapter\n",
    "    return None"
   ]
  },
  {
   "cell_type": "code",
   "execution_count": 53,
   "id": "53ed2b56",
   "metadata": {
    "ExecuteTime": {
     "end_time": "2024-02-01T06:08:36.408702Z",
     "start_time": "2024-02-01T06:08:36.406851Z"
    },
    "execution": {
     "iopub.execute_input": "2024-03-10T23:48:48.315945Z",
     "iopub.status.busy": "2024-03-10T23:48:48.314945Z",
     "iopub.status.idle": "2024-03-10T23:48:48.319953Z",
     "shell.execute_reply": "2024-03-10T23:48:48.319447Z",
     "shell.execute_reply.started": "2024-03-10T23:48:48.315945Z"
    }
   },
   "outputs": [],
   "source": [
    "def get_digits_numbers_from_string(s):\n",
    "    number = int(re.search(r'\\d+', s).group())\n",
    "    return number\n",
    "\n"
   ]
  },
  {
   "cell_type": "code",
   "execution_count": null,
   "id": "6daa55ea",
   "metadata": {},
   "outputs": [],
   "source": []
  },
  {
   "cell_type": "code",
   "execution_count": 54,
   "id": "f3eca151",
   "metadata": {
    "ExecuteTime": {
     "end_time": "2024-02-01T12:25:28.267955Z",
     "start_time": "2024-02-01T12:25:09.008262Z"
    },
    "code_folding": [],
    "execution": {
     "iopub.execute_input": "2024-03-10T23:48:48.320955Z",
     "iopub.status.busy": "2024-03-10T23:48:48.319953Z",
     "iopub.status.idle": "2024-03-10T23:48:50.995036Z",
     "shell.execute_reply": "2024-03-10T23:48:50.995036Z",
     "shell.execute_reply.started": "2024-03-10T23:48:48.320955Z"
    }
   },
   "outputs": [
    {
     "name": "stdout",
     "output_type": "stream",
     "text": [
      "Building phrasebook_yoruba_Chap1.mp3 ... 1\n",
      "Building phrasebook_yoruba_Chap1.mp3 ... 3\n",
      "Building phrasebook_yoruba_Chap1.mp3 ... 4\n",
      "Building phrasebook_yoruba_Chap1.mp3 ... 5\n",
      "Building phrasebook_yoruba_Chap1.mp3 ... 6\n",
      "Building phrasebook_yoruba_Chap1.mp3 ... 7\n",
      "Building phrasebook_yoruba_Chap1.mp3 ... 8\n",
      "Building phrasebook_yoruba_Chap1.mp3 ... 9\n",
      "Building phrasebook_yoruba_Chap1.mp3 ... 10\n",
      "Building phrasebook_yoruba_Chap1.mp3 ... 2\n"
     ]
    },
    {
     "data": {
      "text/plain": [
       "<_io.BufferedRandom name='G:\\\\My Drive\\\\Data_Science\\\\Resulam\\\\Phrasebook_Audio_Video_Processing_production_Backup\\\\Languages\\\\YorubaPhrasebook\\\\bilingual_sentences\\\\bilingual_sentences_chapters\\\\phrasebook_yoruba_Chap1.mp3'>"
      ]
     },
     "execution_count": 54,
     "metadata": {},
     "output_type": "execute_result"
    }
   ],
   "source": [
    "# player = AGLC(audio_path_eng)\n",
    "\n",
    "silent_end = AudioSegment.silent(duration=1000)\n",
    "silent_begin = AudioSegment.silent(duration=2000)\n",
    "\n",
    "\n",
    "# audio_files_plus_ext, audio_files = player.get_audio(audio_path_result, ext = [\"*.mp3\", \"*.wav\", \"*.ogg\", \"*.flac\"],check_subfolders=False)\n",
    "\n",
    "# audio_files_plus_ext[1927:]\n",
    "\n",
    "previous_chapter = \"Chap1\"\n",
    "\n",
    "# song = silent_begin\n",
    "\n",
    "song = AudioSegment.empty()  # Initializing an empty AudioSegment\n",
    "\n",
    "for audio in audio_files_plus_ext:\n",
    "    \n",
    "    \n",
    "\n",
    "    base_audio = os.path.basename(audio)\n",
    "#     print(base_audio)\n",
    "        \n",
    "    if \"mistake\" not in audio and (not base_audio[0].isdigit()):\n",
    "        \n",
    "        audio_num = get_digits_numbers_from_string(base_audio)\n",
    "\n",
    "        chapter_num = get_chapter(chapter_ranges, audio_num)\n",
    "        song_name = f\"phrasebook_{local_language_name}_{chapter_num}.mp3\"\n",
    "\n",
    "        print(f\"Building {song_name} ...\", audio_num)\n",
    "\n",
    "        song_i = AudioSegment.from_mp3(audio)\n",
    "        if chapter_num == previous_chapter:\n",
    "          song += song_i\n",
    "\n",
    "        if chapter_num != previous_chapter and chapter_num is not None and previous_chapter is not None:\n",
    "            print(f\"Different values: {chapter_num}\")\n",
    "\n",
    "            # song.export(\n",
    "            #     os.path.join(combined_chapters_audio_folder, previous_chapter),\n",
    "            #     bitrate=\"192k\",\n",
    "            #     format=\"mp3\"\n",
    "            # )\n",
    "            # song = AudioSegment.empty()  # Resetting song to an empty AudioSegment\n",
    "\n",
    "            song.export(\n",
    "             # \".//chunk{0}.mp3\".format(i),\n",
    "            combined_chapters_audio_folder + f\"phrasebook_{local_language_name}_{previous_chapter}.mp3\",\n",
    "            bitrate = \"192k\",\n",
    "            format = \"mp3\"\n",
    "                        )\n",
    "            song = AudioSegment.from_mp3(audio)\n",
    "\n",
    "            previous_chapter = chapter_num  # Update the previous chapter number\n",
    "\n",
    "# Save the last chhapter\n",
    "song.export(\n",
    "         # \".//chunk{0}.mp3\".format(i),\n",
    "        combined_chapters_audio_folder + f\"phrasebook_{local_language_name}_{previous_chapter}.mp3\",\n",
    "        bitrate = \"192k\",\n",
    "        format = \"mp3\"\n",
    "                    )"
   ]
  },
  {
   "cell_type": "code",
   "execution_count": null,
   "id": "e3ca2cfb",
   "metadata": {
    "ExecuteTime": {
     "end_time": "2023-12-13T22:13:40.911440Z",
     "start_time": "2023-12-13T22:13:40.897460Z"
    }
   },
   "outputs": [],
   "source": []
  },
  {
   "cell_type": "code",
   "execution_count": null,
   "id": "51ec20af",
   "metadata": {
    "ExecuteTime": {
     "end_time": "2023-12-13T22:11:05.738988Z",
     "start_time": "2023-12-13T22:11:05.725474Z"
    }
   },
   "outputs": [],
   "source": [
    "\n"
   ]
  },
  {
   "cell_type": "code",
   "execution_count": null,
   "id": "6de98cf5",
   "metadata": {},
   "outputs": [],
   "source": []
  },
  {
   "cell_type": "code",
   "execution_count": null,
   "id": "c6afd3de",
   "metadata": {},
   "outputs": [],
   "source": []
  },
  {
   "cell_type": "markdown",
   "id": "f43ba605",
   "metadata": {},
   "source": [
    "# Combine All Sentences"
   ]
  },
  {
   "cell_type": "code",
   "execution_count": 55,
   "id": "c01e1439",
   "metadata": {
    "ExecuteTime": {
     "end_time": "2024-02-01T06:17:20.507793Z",
     "start_time": "2024-02-01T06:17:20.505203Z"
    },
    "execution": {
     "iopub.execute_input": "2024-03-10T23:48:50.996039Z",
     "iopub.status.busy": "2024-03-10T23:48:50.996039Z",
     "iopub.status.idle": "2024-03-10T23:48:50.999048Z",
     "shell.execute_reply": "2024-03-10T23:48:50.998541Z",
     "shell.execute_reply.started": "2024-03-10T23:48:50.996039Z"
    }
   },
   "outputs": [
    {
     "name": "stdout",
     "output_type": "stream",
     "text": [
      "Combine all chapters ... \n",
      "\n",
      "\n"
     ]
    }
   ],
   "source": [
    "print(\"Combine all chapters ... \\n\\n\")\n"
   ]
  },
  {
   "cell_type": "code",
   "execution_count": null,
   "id": "68928112",
   "metadata": {},
   "outputs": [],
   "source": []
  },
  {
   "cell_type": "code",
   "execution_count": 56,
   "id": "5c2b34ac",
   "metadata": {
    "ExecuteTime": {
     "end_time": "2024-02-01T06:17:20.513403Z",
     "start_time": "2024-02-01T06:17:20.508903Z"
    },
    "execution": {
     "iopub.execute_input": "2024-03-10T23:48:51.000051Z",
     "iopub.status.busy": "2024-03-10T23:48:50.999048Z",
     "iopub.status.idle": "2024-03-10T23:48:51.004553Z",
     "shell.execute_reply": "2024-03-10T23:48:51.004553Z",
     "shell.execute_reply.started": "2024-03-10T23:48:51.000051Z"
    }
   },
   "outputs": [],
   "source": [
    "os.chdir(combined_chapters_audio_folder)"
   ]
  },
  {
   "cell_type": "code",
   "execution_count": null,
   "id": "56b6719b",
   "metadata": {},
   "outputs": [],
   "source": []
  },
  {
   "cell_type": "code",
   "execution_count": null,
   "id": "8eb44c31",
   "metadata": {},
   "outputs": [],
   "source": []
  },
  {
   "cell_type": "code",
   "execution_count": 57,
   "id": "2af3c47a",
   "metadata": {
    "ExecuteTime": {
     "end_time": "2024-02-01T12:23:25.677016Z",
     "start_time": "2024-02-01T12:23:02.671683Z"
    },
    "execution": {
     "iopub.execute_input": "2024-03-10T23:48:51.005556Z",
     "iopub.status.busy": "2024-03-10T23:48:51.005556Z",
     "iopub.status.idle": "2024-03-10T23:48:52.023040Z",
     "shell.execute_reply": "2024-03-10T23:48:52.023040Z",
     "shell.execute_reply.started": "2024-03-10T23:48:51.005556Z"
    },
    "scrolled": true
   },
   "outputs": [
    {
     "name": "stdout",
     "output_type": "stream",
     "text": [
      "phrasebook_yoruba_Chap1.mp3\n"
     ]
    }
   ],
   "source": [
    "audio_files_plus_ext, audio_files = get_audio(combined_chapters_audio_folder, \n",
    "                                              ext = [\"*.mp3\", \"*.wav\", \"*.ogg\", \"*.flac\"],check_subfolders=False)\n",
    "\n",
    "# Sort the file names alphabtically\n",
    "audio_files = natsorted(audio_files, key=lambda x: x.lower())\n",
    "\n",
    "audio_files_plus_ext = natsorted(audio_files_plus_ext, key=lambda x: x.lower())\n",
    "\n",
    "\n",
    "song = silent_begin\n",
    "\n",
    "\n",
    "\n",
    "for i in range (0,len(audio_files_plus_ext)):\n",
    "  # i = 1\n",
    "  song_name = os.path.basename(audio_files_plus_ext[i])\n",
    "  print(song_name)\n",
    "  # song_name = f\"{audio_path}reworked/pp_\"+song_name\n",
    "\n",
    "  song_i = AudioSegment.from_mp3(audio_files_plus_ext[i])\n",
    "\n",
    "  # song += song_i+silent_end+flip_page_sound+silent_begin\n",
    "\n",
    "  song += song_i\n",
    "\n",
    "  song_name = f\"{combined_chapters_audio_folder}1_CombineAudio.mp3\"\n",
    "\n",
    "  song.export(\n",
    "          # \".//chunk{0}.mp3\".format(i),\n",
    "          song_name,\n",
    "          bitrate = \"192k\",\n",
    "          format = \"mp3\"\n",
    "      );"
   ]
  },
  {
   "cell_type": "code",
   "execution_count": 58,
   "id": "c4dd9a30",
   "metadata": {
    "ExecuteTime": {
     "end_time": "2024-02-01T06:18:44.265202Z",
     "start_time": "2024-02-01T06:18:44.260829Z"
    },
    "execution": {
     "iopub.execute_input": "2024-03-10T23:48:52.023961Z",
     "iopub.status.busy": "2024-03-10T23:48:52.023961Z",
     "iopub.status.idle": "2024-03-10T23:48:52.029204Z",
     "shell.execute_reply": "2024-03-10T23:48:52.029204Z",
     "shell.execute_reply.started": "2024-03-10T23:48:52.023961Z"
    }
   },
   "outputs": [],
   "source": [
    "os.chdir(bilingual_audio_folder)\n"
   ]
  },
  {
   "cell_type": "code",
   "execution_count": null,
   "id": "b923b202",
   "metadata": {},
   "outputs": [],
   "source": []
  },
  {
   "cell_type": "code",
   "execution_count": null,
   "id": "1bae2cb0",
   "metadata": {},
   "outputs": [],
   "source": []
  }
 ],
 "metadata": {
  "hide_input": false,
  "kernelspec": {
   "display_name": "Python 3 (ipykernel)",
   "language": "python",
   "name": "python3"
  },
  "language_info": {
   "codemirror_mode": {
    "name": "ipython",
    "version": 3
   },
   "file_extension": ".py",
   "mimetype": "text/x-python",
   "name": "python",
   "nbconvert_exporter": "python",
   "pygments_lexer": "ipython3",
   "version": "3.12.1"
  },
  "toc": {
   "base_numbering": 1,
   "nav_menu": {
    "height": "268px",
    "width": "266px"
   },
   "number_sections": true,
   "sideBar": true,
   "skip_h1_title": false,
   "title_cell": "Table of Contents",
   "title_sidebar": "Contents",
   "toc_cell": false,
   "toc_position": {},
   "toc_section_display": true,
   "toc_window_display": false
  },
  "varInspector": {
   "cols": {
    "lenName": 16,
    "lenType": 16,
    "lenVar": 40
   },
   "kernels_config": {
    "python": {
     "delete_cmd_postfix": "",
     "delete_cmd_prefix": "del ",
     "library": "var_list.py",
     "varRefreshCmd": "print(var_dic_list())"
    },
    "r": {
     "delete_cmd_postfix": ") ",
     "delete_cmd_prefix": "rm(",
     "library": "var_list.r",
     "varRefreshCmd": "cat(var_dic_list()) "
    }
   },
   "types_to_exclude": [
    "module",
    "function",
    "builtin_function_or_method",
    "instance",
    "_Feature"
   ],
   "window_display": false
  }
 },
 "nbformat": 4,
 "nbformat_minor": 5
}

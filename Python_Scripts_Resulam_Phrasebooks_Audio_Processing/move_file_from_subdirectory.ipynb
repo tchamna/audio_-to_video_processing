{
 "cells": [
  {
   "cell_type": "code",
   "execution_count": 1,
   "id": "4329d8e9",
   "metadata": {
    "ExecuteTime": {
     "end_time": "2024-06-02T00:35:31.188644Z",
     "start_time": "2024-06-02T00:35:31.175709Z"
    }
   },
   "outputs": [],
   "source": [
    "# pip install torch torchvision torchaudio\n"
   ]
  },
  {
   "cell_type": "code",
   "execution_count": 1,
   "id": "0a8637fe",
   "metadata": {
    "ExecuteTime": {
     "end_time": "2024-07-06T20:28:20.439375Z",
     "start_time": "2024-07-06T20:28:20.433540Z"
    }
   },
   "outputs": [],
   "source": [
    "# import os\n",
    "# import shutil\n",
    "# maindir = r\"G:\\My Drive\\Mbú'ŋwɑ̀'nì\\Livres Nufi\\audio\\Phrasebook_Kinyarwanda\\Kinyarwanda_Phrasebook_Audio\"\n",
    "# os.chdir(maindir)"
   ]
  },
  {
   "cell_type": "code",
   "execution_count": null,
   "id": "c952e5e1",
   "metadata": {},
   "outputs": [],
   "source": []
  },
  {
   "cell_type": "code",
   "execution_count": null,
   "id": "bffde5bb",
   "metadata": {},
   "outputs": [],
   "source": []
  },
  {
   "cell_type": "code",
   "execution_count": 2,
   "id": "b56a72db",
   "metadata": {
    "ExecuteTime": {
     "end_time": "2024-07-06T20:28:21.063668Z",
     "start_time": "2024-07-06T20:28:21.044788Z"
    }
   },
   "outputs": [],
   "source": [
    "\n",
    "\n",
    "import os\n",
    "import shutil\n",
    "\n",
    "def add_prefix_and_move_files(base_dir, new_dir, pref, substring = \"\", mode='copy'):\n",
    "    \"\"\"\n",
    "    Rename and either move or copy .mp3 files from base_dir to new_dir with a prefix added to the filename.\n",
    "    Checks if the prefix is already present to avoid duplication.\n",
    "\n",
    "    Parameters:\n",
    "        base_dir (str): The directory to search for .mp3 files.\n",
    "        new_dir (str): The directory to move or copy the renamed files to.\n",
    "        pref (str): The prefix to add to each .mp3 file's name.\n",
    "        mode (str): 'move' to move files, 'copy' to copy files. Defaults to 'move'.\n",
    "        substring(str): 'subsrting of interest': leave it empty if you want to get all files\n",
    "    \"\"\"\n",
    "    # Create the target directory if it doesn't exist\n",
    "    if not os.path.exists(new_dir):\n",
    "        os.makedirs(new_dir)\n",
    "\n",
    "    # Walk through all directories and files in the base directory\n",
    "    for root, dirs, files in os.walk(base_dir):\n",
    "        for file in files:\n",
    "            if file.endswith('.mp3') and substring in file:\n",
    "                # Check if the prefix is already in the file name\n",
    "                if not file.startswith(pref):\n",
    "                    new_file_name = pref + file\n",
    "                else:\n",
    "                    new_file_name = file\n",
    "\n",
    "                # Construct the full file path\n",
    "                file_path = os.path.join(root, file)\n",
    "                new_file_path = os.path.join(new_dir, new_file_name)\n",
    "\n",
    "                # Move or copy the file to the new directory based on the mode\n",
    "                if mode == 'copy':\n",
    "                    shutil.copy(file_path, new_file_path)\n",
    "                elif mode == 'move':\n",
    "                    shutil.move(file_path, new_file_path)\n",
    "         \n",
    "\n",
    "        \n"
   ]
  },
  {
   "cell_type": "code",
   "execution_count": 5,
   "id": "8dcddbef",
   "metadata": {
    "ExecuteTime": {
     "end_time": "2024-07-06T20:34:34.311172Z",
     "start_time": "2024-07-06T20:33:08.235097Z"
    }
   },
   "outputs": [],
   "source": [
    "# Define the directories\n",
    "base_dir = r\"C:\\Users\\tcham\\Downloads\\Fulfulde-20240706T201450Z-001\\Fulfulde\"\n",
    "new_dir = r\"G:\\My Drive\\Data_Science\\Resulam\\Phrasebook_Audio_Video_Processing_production\\Languages\\FulfuldePhrasebook\\FulfuldeOnly\"\n",
    "# pref = \"chichewa_\"\n",
    "pref = \"fulfulde_\"\n",
    "substring = \"en\"\n",
    "substring = \"\"\n",
    "\n",
    "# Call the function\n",
    "add_prefix_and_move_files(base_dir, new_dir, pref, substring = substring, mode='copy')"
   ]
  },
  {
   "cell_type": "code",
   "execution_count": null,
   "id": "4b6d19d3",
   "metadata": {},
   "outputs": [],
   "source": []
  },
  {
   "cell_type": "code",
   "execution_count": null,
   "id": "9867f1e8",
   "metadata": {},
   "outputs": [],
   "source": []
  },
  {
   "cell_type": "code",
   "execution_count": null,
   "id": "db778775",
   "metadata": {},
   "outputs": [],
   "source": []
  },
  {
   "cell_type": "code",
   "execution_count": 4,
   "id": "76b59752",
   "metadata": {
    "ExecuteTime": {
     "end_time": "2024-07-06T20:29:29.563257Z",
     "start_time": "2024-07-06T20:29:06.194766Z"
    }
   },
   "outputs": [],
   "source": [
    "def rename_files_by_replacing_substring(base_dir, old_substr, new_substr, file_extension='.mp3'):\n",
    "    \"\"\"\n",
    "    Rename files by replacing a specified substring with another in a specified directory.\n",
    "    Operates only on files with a specific file extension.\n",
    "\n",
    "    Parameters:\n",
    "        base_dir (str): The directory to search for files.\n",
    "        old_substr (str): The substring to be replaced.\n",
    "        new_substr (str): The substring to replace with.\n",
    "        file_extension (str): The file extension to filter files. Defaults to '.mp3'.\n",
    "    \"\"\"\n",
    "    # Walk through all directories and files in the base directory\n",
    "    for root, dirs, files in os.walk(base_dir):\n",
    "        for file in files:\n",
    "            if file.endswith(file_extension) and old_substr in file:\n",
    "                new_file_name = file.replace(old_substr, new_substr)\n",
    "                file_path = os.path.join(root, file)\n",
    "                new_file_path = os.path.join(root, new_file_name)\n",
    "                os.rename(file_path, new_file_path)\n",
    "\n",
    "# Example usage\n",
    "folder = r\"G:\\My Drive\\Mbú'ŋwɑ̀'nì\\Livres Chichewa\\Chichewa_Phrasebook_audio\\ChichewaOnly\"\n",
    "\n",
    "rename_files_by_replacing_substring(folder, 'chichewa', 'chichewa_')\n"
   ]
  },
  {
   "cell_type": "code",
   "execution_count": null,
   "id": "d265f076",
   "metadata": {},
   "outputs": [],
   "source": []
  },
  {
   "cell_type": "code",
   "execution_count": null,
   "id": "a3f000e5",
   "metadata": {},
   "outputs": [],
   "source": []
  },
  {
   "cell_type": "code",
   "execution_count": null,
   "id": "d186df41",
   "metadata": {},
   "outputs": [],
   "source": []
  },
  {
   "cell_type": "code",
   "execution_count": 7,
   "id": "2595b3c9",
   "metadata": {
    "ExecuteTime": {
     "end_time": "2024-01-19T05:05:16.081998Z",
     "start_time": "2024-01-19T05:05:15.453034Z"
    }
   },
   "outputs": [],
   "source": []
  },
  {
   "cell_type": "code",
   "execution_count": null,
   "id": "681518e8",
   "metadata": {},
   "outputs": [],
   "source": [
    "a"
   ]
  }
 ],
 "metadata": {
  "kernelspec": {
   "display_name": "Python 3 (ipykernel)",
   "language": "python",
   "name": "python3"
  },
  "language_info": {
   "codemirror_mode": {
    "name": "ipython",
    "version": 3
   },
   "file_extension": ".py",
   "mimetype": "text/x-python",
   "name": "python",
   "nbconvert_exporter": "python",
   "pygments_lexer": "ipython3",
   "version": "3.11.5"
  },
  "toc": {
   "base_numbering": 1,
   "nav_menu": {},
   "number_sections": true,
   "sideBar": true,
   "skip_h1_title": false,
   "title_cell": "Table of Contents",
   "title_sidebar": "Contents",
   "toc_cell": false,
   "toc_position": {},
   "toc_section_display": true,
   "toc_window_display": false
  }
 },
 "nbformat": 4,
 "nbformat_minor": 5
}

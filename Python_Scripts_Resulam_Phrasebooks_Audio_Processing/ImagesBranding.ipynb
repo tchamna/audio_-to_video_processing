{
 "cells": [
  {
   "cell_type": "code",
   "execution_count": 1,
   "id": "8e4d7400",
   "metadata": {
    "ExecuteTime": {
     "end_time": "2024-01-02T06:00:52.331477Z",
     "start_time": "2024-01-02T06:00:51.553179Z"
    }
   },
   "outputs": [
    {
     "data": {
      "text/plain": [
       "'G:\\\\My Drive\\\\Data_Science\\\\Resulam\\\\Phrasebook_Audio_Video_Processing_production\\\\Python_Scripts_Resulam_Phrasebooks_Audio_Processing'"
      ]
     },
     "execution_count": 1,
     "metadata": {},
     "output_type": "execute_result"
    }
   ],
   "source": [
    "from moviepy.editor import ImageClip, AudioFileClip, concatenate_videoclips, TextClip, CompositeVideoClip, ColorClip\n",
    "import os\n",
    "from natsort import natsorted\n",
    "\n",
    "# Define your paths and names\n",
    "\n",
    "script_dir = os.getcwd()\n",
    "script_dir"
   ]
  },
  {
   "cell_type": "code",
   "execution_count": 2,
   "id": "85c75c94",
   "metadata": {
    "ExecuteTime": {
     "end_time": "2024-01-02T06:00:52.335815Z",
     "start_time": "2024-01-02T06:00:52.332551Z"
    }
   },
   "outputs": [],
   "source": [
    "local_language_name='nufi'\n",
    "local_language_name='yoruba'\n",
    "\n",
    "\n",
    "\n",
    "lln = local_language_name.title()\n",
    "\n",
    "# audio_path = fr\"C:\\Users\\tcham\\Downloads\\Phrasebook{lln}\\{lln}Only - Copy\"\n",
    "# audio_path_eng = fr\"C:\\Users\\tcham\\Downloads\\Phrasebook{lln}\\EnglishOnly\"\n",
    "\n",
    "# audio_path = fr\"C:\\Users\\tcham\\Downloads\\Phrasebook{lln}\\{lln}Only_test\"\n",
    "# audio_path_eng = fr\"C:\\Users\\tcham\\Downloads\\Phrasebook{lln}\\EnglishOnly_test\"\n",
    "\n",
    "# current_dir = audio_path\n",
    "# current_dir = os.path.join(audio_path,\"\")\n",
    "\n",
    "# font_name_short = \"CharisSIL-B.ttf\"\n",
    "logo_name = \"resulam_logo_resurrectionLangue.png\"\n",
    "# List containing the sentences\n",
    "phrases_filename = f\"{lln}_english_french_phrasebook_sentences_list.txt\"\n",
    "# Folder that will hold the mixed bilingual sentences\n",
    "\n",
    "logo_path = os.path.join(os.path.dirname(script_dir),logo_name)\n",
    "\n",
    "\n",
    "# # Define the folders\n",
    "# ads_images_folder = os.path.join(os.path.dirname(script_dir), \"Languages\", f\"{lln}Phrasebook\", \"Ads_Images_Yoruba\")\n",
    "# ads_audios_folder = os.path.join(os.path.dirname(script_dir), \"Languages\", f\"{lln}Phrasebook\", \"Ads_Audios\")\n",
    "\n",
    "ads_images_folder = r\"G:\\My Drive\\Data_Science\\Resulam\\Phrasebook_Audio_Video_Processing_production\\Languages\\YorubaPhrasebook\\Ads_Images\""
   ]
  },
  {
   "cell_type": "code",
   "execution_count": 3,
   "id": "48466512",
   "metadata": {
    "ExecuteTime": {
     "end_time": "2024-01-02T06:00:52.352241Z",
     "start_time": "2024-01-02T06:00:52.336195Z"
    }
   },
   "outputs": [],
   "source": [
    "from PIL import Image\n",
    "import os\n",
    "\n",
    "# Replace 'your_images_folder' with the path to the folder containing your images\n",
    "image_folder = ads_images_folder\n",
    "\n"
   ]
  },
  {
   "cell_type": "code",
   "execution_count": 4,
   "id": "e2c98659",
   "metadata": {
    "ExecuteTime": {
     "end_time": "2024-01-02T06:00:52.359751Z",
     "start_time": "2024-01-02T06:00:52.352241Z"
    }
   },
   "outputs": [],
   "source": [
    "# from PIL import Image\n",
    "# import os\n",
    "\n",
    "# # Define the folder and the logo path\n",
    "# image_folder = ads_images_folder  # Make sure this is correctly defined\n",
    "# image_files = [os.path.join(image_folder, f) for f in os.listdir(image_folder) if f.endswith(('.jpg', '.png'))]\n",
    "\n",
    "# # Load the Amazon logo\n",
    "# amazon_logo = [i for i in image_files if  \"amazon_logo.png\" in i][0]\n",
    "\n",
    "# logo_path = amazon_logo\n",
    "\n",
    "# # Load the Amazon logo\n",
    "# logo = Image.open(logo_path)\n",
    "\n",
    "\n",
    "# logo_width, logo_height = logo.size\n",
    "\n",
    "\n",
    "# # Loop over all images in the folder\n",
    "# for image_name in os.listdir(image_folder):\n",
    "#     if image_name.endswith(('.jpg', '.jpeg', '.png')):\n",
    "#         # Open the image\n",
    "#         image_path = os.path.join(image_folder, image_name)\n",
    "#         image = Image.open(image_path)\n",
    "\n",
    "#         # Calculate the position for the logo at the bottom center\n",
    "#         image_width, image_height = image.size\n",
    "#         x = (image_width - logo_width) // 2\n",
    "#         y = image_height - logo_height\n",
    "\n",
    "#         # If the logo has transparency, we use it as a mask for pasting\n",
    "#         if logo.mode == 'RGBA':\n",
    "#             mask = logo.split()[3]  # Use the alpha channel as the mask\n",
    "#         else:\n",
    "#             mask = None\n",
    "        \n",
    "#         # Paste the logo onto the image using the mask for transparency\n",
    "#         image.paste(logo, (x, y), mask)\n",
    "\n",
    "#         # Save the result\n",
    "#         output_path = os.path.join(image_folder, f\"branded_{image_name}\")\n",
    "#         image.save(output_path)\n",
    "\n",
    "# print(\"Branding complete.\")\n"
   ]
  },
  {
   "cell_type": "code",
   "execution_count": 6,
   "id": "e1f255e9",
   "metadata": {
    "ExecuteTime": {
     "end_time": "2024-01-02T06:12:12.394137Z",
     "start_time": "2024-01-02T06:09:24.461975Z"
    }
   },
   "outputs": [
    {
     "name": "stdout",
     "output_type": "stream",
     "text": [
      "Branding complete.\n"
     ]
    }
   ],
   "source": [
    "from PIL import Image\n",
    "Image.MAX_IMAGE_PIXELS = None  # This removes the limit on the number of pixels\n",
    "\n",
    "import os\n",
    "\n",
    "# Define the folder and the logo path\n",
    "image_folder = ads_images_folder  # Make sure this is correctly defined\n",
    "image_files = [os.path.join(image_folder, f) for f in os.listdir(image_folder) if f.endswith(('.jpg', '.png'))]\n",
    "\n",
    "# Load the Amazon logo\n",
    "amazon_logo = [i for i in image_files if  \"amazon_logo.png\" in i][0]\n",
    "\n",
    "logo_path = amazon_logo\n",
    "\n",
    "print(\"working hard... be patient\")\n",
    "# Load the Amazon logo\n",
    "logo = Image.open(logo_path)\n",
    "# Load the Amazon logo\n",
    "logo = Image.open(logo_path)\n",
    "\n",
    "# Loop over all images in the folder\n",
    "for image_path in image_files:\n",
    "    # Open the image\n",
    "    image = Image.open(image_path)\n",
    "\n",
    "    \n",
    "    # Calculate the maximum height for the logo (1/5 of the image height)\n",
    "    max_logo_height = image.size[1] // 6  # Use integer division\n",
    "    logo_ratio = logo.width / logo.height\n",
    "    new_logo_height = int(min(logo.height, max_logo_height))\n",
    "    new_logo_width = int(logo_ratio * new_logo_height)\n",
    "\n",
    "    # Resize the logo while maintaining the aspect ratio\n",
    "    resized_logo = logo.resize((new_logo_width, new_logo_height), Image.ANTIALIAS)\n",
    "\n",
    "\n",
    "    # Resize the logo while maintaining the aspect ratio\n",
    "    resized_logo = logo.resize((new_logo_width, new_logo_height), Image.ANTIALIAS)\n",
    "\n",
    "    # Calculate the position for the logo at the bottom center\n",
    "    image_width, image_height = image.size\n",
    "    x = (image_width - new_logo_width) // 2\n",
    "    y = image_height - new_logo_height\n",
    "\n",
    "    # If the logo has transparency, we use it as a mask for pasting\n",
    "    if resized_logo.mode == 'RGBA':\n",
    "        mask = resized_logo.split()[3]  # Use the alpha channel as the mask\n",
    "    else:\n",
    "        mask = None\n",
    "    \n",
    "    # Paste the resized logo onto the image using the mask for transparency\n",
    "    image.paste(resized_logo, (x, y), mask)\n",
    "\n",
    "    # Save the result\n",
    "    ourtput_dir = os.path.join(image_folder, \"Branded_Images\")\n",
    "    os.makedirs(ourtput_dir,exist_ok=True) \n",
    "    output_path = os.path.join(ourtput_dir, f\"branded_{os.path.basename(image_path)}\")\n",
    "    image.save(output_path)\n",
    "\n",
    "print(\"Branding complete.\")\n"
   ]
  },
  {
   "cell_type": "code",
   "execution_count": null,
   "id": "e4b7dacb",
   "metadata": {
    "ExecuteTime": {
     "end_time": "2024-01-02T06:02:35.553864Z",
     "start_time": "2024-01-02T06:02:35.553864Z"
    }
   },
   "outputs": [],
   "source": [
    "ourtput_dir = os.path.join(image_folder, \"Processed_Images\")\n",
    "ourtput_dir"
   ]
  },
  {
   "cell_type": "code",
   "execution_count": null,
   "id": "50ee9aa6",
   "metadata": {
    "ExecuteTime": {
     "end_time": "2024-01-02T06:02:35.554869Z",
     "start_time": "2024-01-02T06:02:35.554869Z"
    }
   },
   "outputs": [],
   "source": [
    "os.path.join(output_path, \"Processed_Images\")"
   ]
  },
  {
   "cell_type": "code",
   "execution_count": null,
   "id": "f42d27aa",
   "metadata": {},
   "outputs": [],
   "source": []
  }
 ],
 "metadata": {
  "kernelspec": {
   "display_name": "Python 3 (ipykernel)",
   "language": "python",
   "name": "python3"
  },
  "language_info": {
   "codemirror_mode": {
    "name": "ipython",
    "version": 3
   },
   "file_extension": ".py",
   "mimetype": "text/x-python",
   "name": "python",
   "nbconvert_exporter": "python",
   "pygments_lexer": "ipython3",
   "version": "3.11.5"
  },
  "toc": {
   "base_numbering": 1,
   "nav_menu": {},
   "number_sections": true,
   "sideBar": true,
   "skip_h1_title": false,
   "title_cell": "Table of Contents",
   "title_sidebar": "Contents",
   "toc_cell": false,
   "toc_position": {},
   "toc_section_display": true,
   "toc_window_display": false
  }
 },
 "nbformat": 4,
 "nbformat_minor": 5
}

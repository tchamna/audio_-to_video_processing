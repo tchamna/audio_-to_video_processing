{
 "cells": [
  {
   "cell_type": "code",
   "execution_count": null,
   "id": "335edfbe",
   "metadata": {},
   "outputs": [],
   "source": []
  },
  {
   "cell_type": "code",
   "execution_count": 1,
   "id": "de7e996b",
   "metadata": {
    "ExecuteTime": {
     "end_time": "2024-08-26T03:08:38.122552Z",
     "start_time": "2024-08-26T03:08:38.119721Z"
    }
   },
   "outputs": [],
   "source": [
    "\n",
    "# Assuming you have already defined NufiVideoAds_dir from your script\n",
    "\n",
    "\n",
    "\n",
    "# Rest of your script continues...\n"
   ]
  },
  {
   "cell_type": "code",
   "execution_count": 2,
   "id": "dc202491",
   "metadata": {
    "ExecuteTime": {
     "end_time": "2024-08-26T03:08:38.130051Z",
     "start_time": "2024-08-26T03:08:38.123557Z"
    }
   },
   "outputs": [
    {
     "data": {
      "text/plain": [
       "'Yoruba'"
      ]
     },
     "execution_count": 2,
     "metadata": {},
     "output_type": "execute_result"
    }
   ],
   "source": [
    "local_language_name='nufi'\n",
    "local_language_name='lingala'\n",
    "\n",
    "local_language_name='yoruba'\n",
    "\n",
    "# local_language_name='swahili'\n",
    "\n",
    "# local_language_name='igbo'\n",
    "\n",
    "\n",
    "lln = local_language_name.title()\n",
    "lln "
   ]
  },
  {
   "cell_type": "code",
   "execution_count": 3,
   "id": "6e056a50",
   "metadata": {
    "ExecuteTime": {
     "end_time": "2024-08-26T09:01:17.642109Z",
     "start_time": "2024-08-26T03:08:38.131057Z"
    },
    "scrolled": true
   },
   "outputs": [
    {
     "name": "stdout",
     "output_type": "stream",
     "text": [
      "Moviepy - Building video G:\\My Drive\\Data_Science\\Resulam\\Phrasebook_Audio_Video_Processing_production\\Languages\\YorubaPhrasebook\\Final_videos\\Yoruba_final_Chap1_chunk_1.mp4.\n",
      "MoviePy - Writing audio in Yoruba_final_Chap1_chunk_1TEMP_MPY_wvf_snd.mp3\n"
     ]
    },
    {
     "name": "stderr",
     "output_type": "stream",
     "text": [
      "                                                                                                                       \r"
     ]
    },
    {
     "name": "stdout",
     "output_type": "stream",
     "text": [
      "MoviePy - Done.\n",
      "Moviepy - Writing video G:\\My Drive\\Data_Science\\Resulam\\Phrasebook_Audio_Video_Processing_production\\Languages\\YorubaPhrasebook\\Final_videos\\Yoruba_final_Chap1_chunk_1.mp4\n",
      "\n"
     ]
    },
    {
     "name": "stderr",
     "output_type": "stream",
     "text": [
      "                                                                                                                       \r"
     ]
    },
    {
     "name": "stdout",
     "output_type": "stream",
     "text": [
      "Moviepy - Done !\n",
      "Moviepy - video ready G:\\My Drive\\Data_Science\\Resulam\\Phrasebook_Audio_Video_Processing_production\\Languages\\YorubaPhrasebook\\Final_videos\\Yoruba_final_Chap1_chunk_1.mp4\n",
      "Moviepy - Building video G:\\My Drive\\Data_Science\\Resulam\\Phrasebook_Audio_Video_Processing_production\\Languages\\YorubaPhrasebook\\Final_videos\\Yoruba_final_Chap1_chunk_2.mp4.\n",
      "MoviePy - Writing audio in Yoruba_final_Chap1_chunk_2TEMP_MPY_wvf_snd.mp3\n"
     ]
    },
    {
     "name": "stderr",
     "output_type": "stream",
     "text": [
      "                                                                                                                       \r"
     ]
    },
    {
     "name": "stdout",
     "output_type": "stream",
     "text": [
      "MoviePy - Done.\n",
      "Moviepy - Writing video G:\\My Drive\\Data_Science\\Resulam\\Phrasebook_Audio_Video_Processing_production\\Languages\\YorubaPhrasebook\\Final_videos\\Yoruba_final_Chap1_chunk_2.mp4\n",
      "\n"
     ]
    },
    {
     "name": "stderr",
     "output_type": "stream",
     "text": [
      "                                                                                                                       \r"
     ]
    },
    {
     "name": "stdout",
     "output_type": "stream",
     "text": [
      "Moviepy - Done !\n",
      "Moviepy - video ready G:\\My Drive\\Data_Science\\Resulam\\Phrasebook_Audio_Video_Processing_production\\Languages\\YorubaPhrasebook\\Final_videos\\Yoruba_final_Chap1_chunk_2.mp4\n",
      "Moviepy - Building video G:\\My Drive\\Data_Science\\Resulam\\Phrasebook_Audio_Video_Processing_production\\Languages\\YorubaPhrasebook\\Final_videos\\Yoruba_final_Chap1_chunk_3.mp4.\n",
      "MoviePy - Writing audio in Yoruba_final_Chap1_chunk_3TEMP_MPY_wvf_snd.mp3\n"
     ]
    },
    {
     "name": "stderr",
     "output_type": "stream",
     "text": [
      "                                                                                                                       \r"
     ]
    },
    {
     "name": "stdout",
     "output_type": "stream",
     "text": [
      "MoviePy - Done.\n",
      "Moviepy - Writing video G:\\My Drive\\Data_Science\\Resulam\\Phrasebook_Audio_Video_Processing_production\\Languages\\YorubaPhrasebook\\Final_videos\\Yoruba_final_Chap1_chunk_3.mp4\n",
      "\n"
     ]
    },
    {
     "name": "stderr",
     "output_type": "stream",
     "text": [
      "                                                                                                                       \r"
     ]
    },
    {
     "name": "stdout",
     "output_type": "stream",
     "text": [
      "Moviepy - Done !\n",
      "Moviepy - video ready G:\\My Drive\\Data_Science\\Resulam\\Phrasebook_Audio_Video_Processing_production\\Languages\\YorubaPhrasebook\\Final_videos\\Yoruba_final_Chap1_chunk_3.mp4\n",
      "Moviepy - Building video G:\\My Drive\\Data_Science\\Resulam\\Phrasebook_Audio_Video_Processing_production\\Languages\\YorubaPhrasebook\\Final_videos\\Yoruba_final_Chap1_chunk_4.mp4.\n",
      "MoviePy - Writing audio in Yoruba_final_Chap1_chunk_4TEMP_MPY_wvf_snd.mp3\n"
     ]
    },
    {
     "name": "stderr",
     "output_type": "stream",
     "text": [
      "                                                                                                                       \r"
     ]
    },
    {
     "name": "stdout",
     "output_type": "stream",
     "text": [
      "MoviePy - Done.\n",
      "Moviepy - Writing video G:\\My Drive\\Data_Science\\Resulam\\Phrasebook_Audio_Video_Processing_production\\Languages\\YorubaPhrasebook\\Final_videos\\Yoruba_final_Chap1_chunk_4.mp4\n",
      "\n"
     ]
    },
    {
     "name": "stderr",
     "output_type": "stream",
     "text": [
      "                                                                                                                       \r"
     ]
    },
    {
     "name": "stdout",
     "output_type": "stream",
     "text": [
      "Moviepy - Done !\n",
      "Moviepy - video ready G:\\My Drive\\Data_Science\\Resulam\\Phrasebook_Audio_Video_Processing_production\\Languages\\YorubaPhrasebook\\Final_videos\\Yoruba_final_Chap1_chunk_4.mp4\n",
      "Moviepy - Building video G:\\My Drive\\Data_Science\\Resulam\\Phrasebook_Audio_Video_Processing_production\\Languages\\YorubaPhrasebook\\Final_videos\\Yoruba_final_Chap1_chunk_5.mp4.\n",
      "MoviePy - Writing audio in Yoruba_final_Chap1_chunk_5TEMP_MPY_wvf_snd.mp3\n"
     ]
    },
    {
     "name": "stderr",
     "output_type": "stream",
     "text": [
      "                                                                                                                       \r"
     ]
    },
    {
     "name": "stdout",
     "output_type": "stream",
     "text": [
      "MoviePy - Done.\n",
      "Moviepy - Writing video G:\\My Drive\\Data_Science\\Resulam\\Phrasebook_Audio_Video_Processing_production\\Languages\\YorubaPhrasebook\\Final_videos\\Yoruba_final_Chap1_chunk_5.mp4\n",
      "\n"
     ]
    },
    {
     "name": "stderr",
     "output_type": "stream",
     "text": [
      "                                                                                                                       \r"
     ]
    },
    {
     "name": "stdout",
     "output_type": "stream",
     "text": [
      "Moviepy - Done !\n",
      "Moviepy - video ready G:\\My Drive\\Data_Science\\Resulam\\Phrasebook_Audio_Video_Processing_production\\Languages\\YorubaPhrasebook\\Final_videos\\Yoruba_final_Chap1_chunk_5.mp4\n",
      "Moviepy - Building video G:\\My Drive\\Data_Science\\Resulam\\Phrasebook_Audio_Video_Processing_production\\Languages\\YorubaPhrasebook\\Final_videos\\Yoruba_final_Chap1_chunk_6.mp4.\n",
      "MoviePy - Writing audio in Yoruba_final_Chap1_chunk_6TEMP_MPY_wvf_snd.mp3\n"
     ]
    },
    {
     "name": "stderr",
     "output_type": "stream",
     "text": [
      "                                                                                                                       \r"
     ]
    },
    {
     "name": "stdout",
     "output_type": "stream",
     "text": [
      "MoviePy - Done.\n",
      "Moviepy - Writing video G:\\My Drive\\Data_Science\\Resulam\\Phrasebook_Audio_Video_Processing_production\\Languages\\YorubaPhrasebook\\Final_videos\\Yoruba_final_Chap1_chunk_6.mp4\n",
      "\n"
     ]
    },
    {
     "name": "stderr",
     "output_type": "stream",
     "text": [
      "                                                                                                                       \r"
     ]
    },
    {
     "name": "stdout",
     "output_type": "stream",
     "text": [
      "Moviepy - Done !\n",
      "Moviepy - video ready G:\\My Drive\\Data_Science\\Resulam\\Phrasebook_Audio_Video_Processing_production\\Languages\\YorubaPhrasebook\\Final_videos\\Yoruba_final_Chap1_chunk_6.mp4\n",
      "Moviepy - Building video G:\\My Drive\\Data_Science\\Resulam\\Phrasebook_Audio_Video_Processing_production\\Languages\\YorubaPhrasebook\\Final_videos\\Yoruba_final_Chap1_chunk_7.mp4.\n",
      "MoviePy - Writing audio in Yoruba_final_Chap1_chunk_7TEMP_MPY_wvf_snd.mp3\n"
     ]
    },
    {
     "name": "stderr",
     "output_type": "stream",
     "text": [
      "                                                                                                                       \r"
     ]
    },
    {
     "name": "stdout",
     "output_type": "stream",
     "text": [
      "MoviePy - Done.\n",
      "Moviepy - Writing video G:\\My Drive\\Data_Science\\Resulam\\Phrasebook_Audio_Video_Processing_production\\Languages\\YorubaPhrasebook\\Final_videos\\Yoruba_final_Chap1_chunk_7.mp4\n",
      "\n"
     ]
    },
    {
     "name": "stderr",
     "output_type": "stream",
     "text": [
      "                                                                                                                       \r"
     ]
    },
    {
     "name": "stdout",
     "output_type": "stream",
     "text": [
      "Moviepy - Done !\n",
      "Moviepy - video ready G:\\My Drive\\Data_Science\\Resulam\\Phrasebook_Audio_Video_Processing_production\\Languages\\YorubaPhrasebook\\Final_videos\\Yoruba_final_Chap1_chunk_7.mp4\n",
      "Moviepy - Building video G:\\My Drive\\Data_Science\\Resulam\\Phrasebook_Audio_Video_Processing_production\\Languages\\YorubaPhrasebook\\Final_videos\\Yoruba_final_Chap1_chunk_8.mp4.\n",
      "MoviePy - Writing audio in Yoruba_final_Chap1_chunk_8TEMP_MPY_wvf_snd.mp3\n"
     ]
    },
    {
     "name": "stderr",
     "output_type": "stream",
     "text": [
      "                                                                                                                       \r"
     ]
    },
    {
     "name": "stdout",
     "output_type": "stream",
     "text": [
      "MoviePy - Done.\n",
      "Moviepy - Writing video G:\\My Drive\\Data_Science\\Resulam\\Phrasebook_Audio_Video_Processing_production\\Languages\\YorubaPhrasebook\\Final_videos\\Yoruba_final_Chap1_chunk_8.mp4\n",
      "\n"
     ]
    },
    {
     "name": "stderr",
     "output_type": "stream",
     "text": [
      "                                                                                                                       \r"
     ]
    },
    {
     "name": "stdout",
     "output_type": "stream",
     "text": [
      "Moviepy - Done !\n",
      "Moviepy - video ready G:\\My Drive\\Data_Science\\Resulam\\Phrasebook_Audio_Video_Processing_production\\Languages\\YorubaPhrasebook\\Final_videos\\Yoruba_final_Chap1_chunk_8.mp4\n",
      "Moviepy - Building video G:\\My Drive\\Data_Science\\Resulam\\Phrasebook_Audio_Video_Processing_production\\Languages\\YorubaPhrasebook\\Final_videos\\Yoruba_final_Chap1_chunk_9.mp4.\n",
      "MoviePy - Writing audio in Yoruba_final_Chap1_chunk_9TEMP_MPY_wvf_snd.mp3\n"
     ]
    },
    {
     "name": "stderr",
     "output_type": "stream",
     "text": [
      "                                                                                                                       \r"
     ]
    },
    {
     "name": "stdout",
     "output_type": "stream",
     "text": [
      "MoviePy - Done.\n",
      "Moviepy - Writing video G:\\My Drive\\Data_Science\\Resulam\\Phrasebook_Audio_Video_Processing_production\\Languages\\YorubaPhrasebook\\Final_videos\\Yoruba_final_Chap1_chunk_9.mp4\n",
      "\n"
     ]
    },
    {
     "name": "stderr",
     "output_type": "stream",
     "text": [
      "                                                                                                                       \r"
     ]
    },
    {
     "name": "stdout",
     "output_type": "stream",
     "text": [
      "Moviepy - Done !\n",
      "Moviepy - video ready G:\\My Drive\\Data_Science\\Resulam\\Phrasebook_Audio_Video_Processing_production\\Languages\\YorubaPhrasebook\\Final_videos\\Yoruba_final_Chap1_chunk_9.mp4\n",
      "Moviepy - Building video G:\\My Drive\\Data_Science\\Resulam\\Phrasebook_Audio_Video_Processing_production\\Languages\\YorubaPhrasebook\\Final_videos\\Yoruba_final_Chap2_chunk_1.mp4.\n",
      "MoviePy - Writing audio in Yoruba_final_Chap2_chunk_1TEMP_MPY_wvf_snd.mp3\n"
     ]
    },
    {
     "name": "stderr",
     "output_type": "stream",
     "text": [
      "                                                                                                                       \r"
     ]
    },
    {
     "name": "stdout",
     "output_type": "stream",
     "text": [
      "MoviePy - Done.\n",
      "Moviepy - Writing video G:\\My Drive\\Data_Science\\Resulam\\Phrasebook_Audio_Video_Processing_production\\Languages\\YorubaPhrasebook\\Final_videos\\Yoruba_final_Chap2_chunk_1.mp4\n",
      "\n"
     ]
    },
    {
     "name": "stderr",
     "output_type": "stream",
     "text": [
      "                                                                                                                       \r"
     ]
    },
    {
     "name": "stdout",
     "output_type": "stream",
     "text": [
      "Moviepy - Done !\n",
      "Moviepy - video ready G:\\My Drive\\Data_Science\\Resulam\\Phrasebook_Audio_Video_Processing_production\\Languages\\YorubaPhrasebook\\Final_videos\\Yoruba_final_Chap2_chunk_1.mp4\n",
      "Moviepy - Building video G:\\My Drive\\Data_Science\\Resulam\\Phrasebook_Audio_Video_Processing_production\\Languages\\YorubaPhrasebook\\Final_videos\\Yoruba_final_Chap2_chunk_2.mp4.\n",
      "MoviePy - Writing audio in Yoruba_final_Chap2_chunk_2TEMP_MPY_wvf_snd.mp3\n"
     ]
    },
    {
     "name": "stderr",
     "output_type": "stream",
     "text": [
      "                                                                                                                       \r"
     ]
    },
    {
     "name": "stdout",
     "output_type": "stream",
     "text": [
      "MoviePy - Done.\n",
      "Moviepy - Writing video G:\\My Drive\\Data_Science\\Resulam\\Phrasebook_Audio_Video_Processing_production\\Languages\\YorubaPhrasebook\\Final_videos\\Yoruba_final_Chap2_chunk_2.mp4\n",
      "\n"
     ]
    },
    {
     "name": "stderr",
     "output_type": "stream",
     "text": [
      "                                                                                                                       \r"
     ]
    },
    {
     "name": "stdout",
     "output_type": "stream",
     "text": [
      "Moviepy - Done !\n",
      "Moviepy - video ready G:\\My Drive\\Data_Science\\Resulam\\Phrasebook_Audio_Video_Processing_production\\Languages\\YorubaPhrasebook\\Final_videos\\Yoruba_final_Chap2_chunk_2.mp4\n",
      "Moviepy - Building video G:\\My Drive\\Data_Science\\Resulam\\Phrasebook_Audio_Video_Processing_production\\Languages\\YorubaPhrasebook\\Final_videos\\Yoruba_final_Chap2_chunk_3.mp4.\n",
      "MoviePy - Writing audio in Yoruba_final_Chap2_chunk_3TEMP_MPY_wvf_snd.mp3\n"
     ]
    },
    {
     "name": "stderr",
     "output_type": "stream",
     "text": [
      "                                                                                                                       \r"
     ]
    },
    {
     "name": "stdout",
     "output_type": "stream",
     "text": [
      "MoviePy - Done.\n",
      "Moviepy - Writing video G:\\My Drive\\Data_Science\\Resulam\\Phrasebook_Audio_Video_Processing_production\\Languages\\YorubaPhrasebook\\Final_videos\\Yoruba_final_Chap2_chunk_3.mp4\n",
      "\n"
     ]
    },
    {
     "name": "stderr",
     "output_type": "stream",
     "text": [
      "                                                                                                                       \r"
     ]
    },
    {
     "name": "stdout",
     "output_type": "stream",
     "text": [
      "Moviepy - Done !\n",
      "Moviepy - video ready G:\\My Drive\\Data_Science\\Resulam\\Phrasebook_Audio_Video_Processing_production\\Languages\\YorubaPhrasebook\\Final_videos\\Yoruba_final_Chap2_chunk_3.mp4\n",
      "Moviepy - Building video G:\\My Drive\\Data_Science\\Resulam\\Phrasebook_Audio_Video_Processing_production\\Languages\\YorubaPhrasebook\\Final_videos\\Yoruba_final_Chap2_chunk_4.mp4.\n",
      "MoviePy - Writing audio in Yoruba_final_Chap2_chunk_4TEMP_MPY_wvf_snd.mp3\n"
     ]
    },
    {
     "name": "stderr",
     "output_type": "stream",
     "text": [
      "                                                                                                                       \r"
     ]
    },
    {
     "name": "stdout",
     "output_type": "stream",
     "text": [
      "MoviePy - Done.\n",
      "Moviepy - Writing video G:\\My Drive\\Data_Science\\Resulam\\Phrasebook_Audio_Video_Processing_production\\Languages\\YorubaPhrasebook\\Final_videos\\Yoruba_final_Chap2_chunk_4.mp4\n",
      "\n"
     ]
    },
    {
     "name": "stderr",
     "output_type": "stream",
     "text": [
      "                                                                                                                       \r"
     ]
    },
    {
     "name": "stdout",
     "output_type": "stream",
     "text": [
      "Moviepy - Done !\n",
      "Moviepy - video ready G:\\My Drive\\Data_Science\\Resulam\\Phrasebook_Audio_Video_Processing_production\\Languages\\YorubaPhrasebook\\Final_videos\\Yoruba_final_Chap2_chunk_4.mp4\n",
      "Moviepy - Building video G:\\My Drive\\Data_Science\\Resulam\\Phrasebook_Audio_Video_Processing_production\\Languages\\YorubaPhrasebook\\Final_videos\\Yoruba_final_Chap3_chunk_1.mp4.\n",
      "MoviePy - Writing audio in Yoruba_final_Chap3_chunk_1TEMP_MPY_wvf_snd.mp3\n"
     ]
    },
    {
     "name": "stderr",
     "output_type": "stream",
     "text": [
      "                                                                                                                       \r"
     ]
    },
    {
     "name": "stdout",
     "output_type": "stream",
     "text": [
      "MoviePy - Done.\n",
      "Moviepy - Writing video G:\\My Drive\\Data_Science\\Resulam\\Phrasebook_Audio_Video_Processing_production\\Languages\\YorubaPhrasebook\\Final_videos\\Yoruba_final_Chap3_chunk_1.mp4\n",
      "\n"
     ]
    },
    {
     "name": "stderr",
     "output_type": "stream",
     "text": [
      "                                                                                                                       \r"
     ]
    },
    {
     "name": "stdout",
     "output_type": "stream",
     "text": [
      "Moviepy - Done !\n",
      "Moviepy - video ready G:\\My Drive\\Data_Science\\Resulam\\Phrasebook_Audio_Video_Processing_production\\Languages\\YorubaPhrasebook\\Final_videos\\Yoruba_final_Chap3_chunk_1.mp4\n",
      "Moviepy - Building video G:\\My Drive\\Data_Science\\Resulam\\Phrasebook_Audio_Video_Processing_production\\Languages\\YorubaPhrasebook\\Final_videos\\Yoruba_final_Chap4_chunk_1.mp4.\n",
      "MoviePy - Writing audio in Yoruba_final_Chap4_chunk_1TEMP_MPY_wvf_snd.mp3\n"
     ]
    },
    {
     "name": "stderr",
     "output_type": "stream",
     "text": [
      "                                                                                                                       \r"
     ]
    },
    {
     "name": "stdout",
     "output_type": "stream",
     "text": [
      "MoviePy - Done.\n",
      "Moviepy - Writing video G:\\My Drive\\Data_Science\\Resulam\\Phrasebook_Audio_Video_Processing_production\\Languages\\YorubaPhrasebook\\Final_videos\\Yoruba_final_Chap4_chunk_1.mp4\n",
      "\n"
     ]
    },
    {
     "name": "stderr",
     "output_type": "stream",
     "text": [
      "                                                                                                                       \r"
     ]
    },
    {
     "name": "stdout",
     "output_type": "stream",
     "text": [
      "Moviepy - Done !\n",
      "Moviepy - video ready G:\\My Drive\\Data_Science\\Resulam\\Phrasebook_Audio_Video_Processing_production\\Languages\\YorubaPhrasebook\\Final_videos\\Yoruba_final_Chap4_chunk_1.mp4\n",
      "Moviepy - Building video G:\\My Drive\\Data_Science\\Resulam\\Phrasebook_Audio_Video_Processing_production\\Languages\\YorubaPhrasebook\\Final_videos\\Yoruba_final_Chap4_chunk_2.mp4.\n",
      "MoviePy - Writing audio in Yoruba_final_Chap4_chunk_2TEMP_MPY_wvf_snd.mp3\n"
     ]
    },
    {
     "name": "stderr",
     "output_type": "stream",
     "text": [
      "                                                                                                                       \r"
     ]
    },
    {
     "name": "stdout",
     "output_type": "stream",
     "text": [
      "MoviePy - Done.\n",
      "Moviepy - Writing video G:\\My Drive\\Data_Science\\Resulam\\Phrasebook_Audio_Video_Processing_production\\Languages\\YorubaPhrasebook\\Final_videos\\Yoruba_final_Chap4_chunk_2.mp4\n",
      "\n"
     ]
    },
    {
     "name": "stderr",
     "output_type": "stream",
     "text": [
      "                                                                                                                       \r"
     ]
    },
    {
     "name": "stdout",
     "output_type": "stream",
     "text": [
      "Moviepy - Done !\n",
      "Moviepy - video ready G:\\My Drive\\Data_Science\\Resulam\\Phrasebook_Audio_Video_Processing_production\\Languages\\YorubaPhrasebook\\Final_videos\\Yoruba_final_Chap4_chunk_2.mp4\n",
      "Moviepy - Building video G:\\My Drive\\Data_Science\\Resulam\\Phrasebook_Audio_Video_Processing_production\\Languages\\YorubaPhrasebook\\Final_videos\\Yoruba_final_Chap4_chunk_3.mp4.\n",
      "MoviePy - Writing audio in Yoruba_final_Chap4_chunk_3TEMP_MPY_wvf_snd.mp3\n"
     ]
    },
    {
     "name": "stderr",
     "output_type": "stream",
     "text": [
      "                                                                                                                       \r"
     ]
    },
    {
     "name": "stdout",
     "output_type": "stream",
     "text": [
      "MoviePy - Done.\n",
      "Moviepy - Writing video G:\\My Drive\\Data_Science\\Resulam\\Phrasebook_Audio_Video_Processing_production\\Languages\\YorubaPhrasebook\\Final_videos\\Yoruba_final_Chap4_chunk_3.mp4\n",
      "\n"
     ]
    },
    {
     "name": "stderr",
     "output_type": "stream",
     "text": [
      "                                                                                                                       \r"
     ]
    },
    {
     "name": "stdout",
     "output_type": "stream",
     "text": [
      "Moviepy - Done !\n",
      "Moviepy - video ready G:\\My Drive\\Data_Science\\Resulam\\Phrasebook_Audio_Video_Processing_production\\Languages\\YorubaPhrasebook\\Final_videos\\Yoruba_final_Chap4_chunk_3.mp4\n",
      "Moviepy - Building video G:\\My Drive\\Data_Science\\Resulam\\Phrasebook_Audio_Video_Processing_production\\Languages\\YorubaPhrasebook\\Final_videos\\Yoruba_final_Chap4_chunk_4.mp4.\n",
      "MoviePy - Writing audio in Yoruba_final_Chap4_chunk_4TEMP_MPY_wvf_snd.mp3\n"
     ]
    },
    {
     "name": "stderr",
     "output_type": "stream",
     "text": [
      "                                                                                                                       \r"
     ]
    },
    {
     "name": "stdout",
     "output_type": "stream",
     "text": [
      "MoviePy - Done.\n",
      "Moviepy - Writing video G:\\My Drive\\Data_Science\\Resulam\\Phrasebook_Audio_Video_Processing_production\\Languages\\YorubaPhrasebook\\Final_videos\\Yoruba_final_Chap4_chunk_4.mp4\n",
      "\n"
     ]
    },
    {
     "name": "stderr",
     "output_type": "stream",
     "text": [
      "                                                                                                                       \r"
     ]
    },
    {
     "name": "stdout",
     "output_type": "stream",
     "text": [
      "Moviepy - Done !\n",
      "Moviepy - video ready G:\\My Drive\\Data_Science\\Resulam\\Phrasebook_Audio_Video_Processing_production\\Languages\\YorubaPhrasebook\\Final_videos\\Yoruba_final_Chap4_chunk_4.mp4\n",
      "Moviepy - Building video G:\\My Drive\\Data_Science\\Resulam\\Phrasebook_Audio_Video_Processing_production\\Languages\\YorubaPhrasebook\\Final_videos\\Yoruba_final_Chap4_chunk_5.mp4.\n",
      "MoviePy - Writing audio in Yoruba_final_Chap4_chunk_5TEMP_MPY_wvf_snd.mp3\n"
     ]
    },
    {
     "name": "stderr",
     "output_type": "stream",
     "text": [
      "                                                                                                                       \r"
     ]
    },
    {
     "name": "stdout",
     "output_type": "stream",
     "text": [
      "MoviePy - Done.\n",
      "Moviepy - Writing video G:\\My Drive\\Data_Science\\Resulam\\Phrasebook_Audio_Video_Processing_production\\Languages\\YorubaPhrasebook\\Final_videos\\Yoruba_final_Chap4_chunk_5.mp4\n",
      "\n"
     ]
    },
    {
     "name": "stderr",
     "output_type": "stream",
     "text": [
      "                                                                                                                       \r"
     ]
    },
    {
     "name": "stdout",
     "output_type": "stream",
     "text": [
      "Moviepy - Done !\n",
      "Moviepy - video ready G:\\My Drive\\Data_Science\\Resulam\\Phrasebook_Audio_Video_Processing_production\\Languages\\YorubaPhrasebook\\Final_videos\\Yoruba_final_Chap4_chunk_5.mp4\n",
      "Moviepy - Building video G:\\My Drive\\Data_Science\\Resulam\\Phrasebook_Audio_Video_Processing_production\\Languages\\YorubaPhrasebook\\Final_videos\\Yoruba_final_Chap4_chunk_6.mp4.\n",
      "MoviePy - Writing audio in Yoruba_final_Chap4_chunk_6TEMP_MPY_wvf_snd.mp3\n"
     ]
    },
    {
     "name": "stderr",
     "output_type": "stream",
     "text": [
      "                                                                                                                       \r"
     ]
    },
    {
     "name": "stdout",
     "output_type": "stream",
     "text": [
      "MoviePy - Done.\n",
      "Moviepy - Writing video G:\\My Drive\\Data_Science\\Resulam\\Phrasebook_Audio_Video_Processing_production\\Languages\\YorubaPhrasebook\\Final_videos\\Yoruba_final_Chap4_chunk_6.mp4\n",
      "\n"
     ]
    },
    {
     "name": "stderr",
     "output_type": "stream",
     "text": [
      "                                                                                                                       \r"
     ]
    },
    {
     "name": "stdout",
     "output_type": "stream",
     "text": [
      "Moviepy - Done !\n",
      "Moviepy - video ready G:\\My Drive\\Data_Science\\Resulam\\Phrasebook_Audio_Video_Processing_production\\Languages\\YorubaPhrasebook\\Final_videos\\Yoruba_final_Chap4_chunk_6.mp4\n",
      "Moviepy - Building video G:\\My Drive\\Data_Science\\Resulam\\Phrasebook_Audio_Video_Processing_production\\Languages\\YorubaPhrasebook\\Final_videos\\Yoruba_final_Chap4_chunk_7.mp4.\n",
      "MoviePy - Writing audio in Yoruba_final_Chap4_chunk_7TEMP_MPY_wvf_snd.mp3\n"
     ]
    },
    {
     "name": "stderr",
     "output_type": "stream",
     "text": [
      "                                                                                                                       \r"
     ]
    },
    {
     "name": "stdout",
     "output_type": "stream",
     "text": [
      "MoviePy - Done.\n",
      "Moviepy - Writing video G:\\My Drive\\Data_Science\\Resulam\\Phrasebook_Audio_Video_Processing_production\\Languages\\YorubaPhrasebook\\Final_videos\\Yoruba_final_Chap4_chunk_7.mp4\n",
      "\n"
     ]
    },
    {
     "name": "stderr",
     "output_type": "stream",
     "text": [
      "                                                                                                                       \r"
     ]
    },
    {
     "name": "stdout",
     "output_type": "stream",
     "text": [
      "Moviepy - Done !\n",
      "Moviepy - video ready G:\\My Drive\\Data_Science\\Resulam\\Phrasebook_Audio_Video_Processing_production\\Languages\\YorubaPhrasebook\\Final_videos\\Yoruba_final_Chap4_chunk_7.mp4\n",
      "Moviepy - Building video G:\\My Drive\\Data_Science\\Resulam\\Phrasebook_Audio_Video_Processing_production\\Languages\\YorubaPhrasebook\\Final_videos\\Yoruba_final_Chap4_chunk_8.mp4.\n",
      "MoviePy - Writing audio in Yoruba_final_Chap4_chunk_8TEMP_MPY_wvf_snd.mp3\n"
     ]
    },
    {
     "name": "stderr",
     "output_type": "stream",
     "text": [
      "                                                                                                                       \r"
     ]
    },
    {
     "name": "stdout",
     "output_type": "stream",
     "text": [
      "MoviePy - Done.\n",
      "Moviepy - Writing video G:\\My Drive\\Data_Science\\Resulam\\Phrasebook_Audio_Video_Processing_production\\Languages\\YorubaPhrasebook\\Final_videos\\Yoruba_final_Chap4_chunk_8.mp4\n",
      "\n"
     ]
    },
    {
     "name": "stderr",
     "output_type": "stream",
     "text": [
      "                                                                                                                       \r"
     ]
    },
    {
     "name": "stdout",
     "output_type": "stream",
     "text": [
      "Moviepy - Done !\n",
      "Moviepy - video ready G:\\My Drive\\Data_Science\\Resulam\\Phrasebook_Audio_Video_Processing_production\\Languages\\YorubaPhrasebook\\Final_videos\\Yoruba_final_Chap4_chunk_8.mp4\n",
      "Moviepy - Building video G:\\My Drive\\Data_Science\\Resulam\\Phrasebook_Audio_Video_Processing_production\\Languages\\YorubaPhrasebook\\Final_videos\\Yoruba_final_Chap5_chunk_1.mp4.\n",
      "MoviePy - Writing audio in Yoruba_final_Chap5_chunk_1TEMP_MPY_wvf_snd.mp3\n"
     ]
    },
    {
     "name": "stderr",
     "output_type": "stream",
     "text": [
      "                                                                                                                       \r"
     ]
    },
    {
     "name": "stdout",
     "output_type": "stream",
     "text": [
      "MoviePy - Done.\n",
      "Moviepy - Writing video G:\\My Drive\\Data_Science\\Resulam\\Phrasebook_Audio_Video_Processing_production\\Languages\\YorubaPhrasebook\\Final_videos\\Yoruba_final_Chap5_chunk_1.mp4\n",
      "\n"
     ]
    },
    {
     "name": "stderr",
     "output_type": "stream",
     "text": [
      "                                                                                                                       \r"
     ]
    },
    {
     "name": "stdout",
     "output_type": "stream",
     "text": [
      "Moviepy - Done !\n",
      "Moviepy - video ready G:\\My Drive\\Data_Science\\Resulam\\Phrasebook_Audio_Video_Processing_production\\Languages\\YorubaPhrasebook\\Final_videos\\Yoruba_final_Chap5_chunk_1.mp4\n",
      "Moviepy - Building video G:\\My Drive\\Data_Science\\Resulam\\Phrasebook_Audio_Video_Processing_production\\Languages\\YorubaPhrasebook\\Final_videos\\Yoruba_final_Chap5_chunk_2.mp4.\n",
      "MoviePy - Writing audio in Yoruba_final_Chap5_chunk_2TEMP_MPY_wvf_snd.mp3\n"
     ]
    },
    {
     "name": "stderr",
     "output_type": "stream",
     "text": [
      "                                                                                                                       \r"
     ]
    },
    {
     "name": "stdout",
     "output_type": "stream",
     "text": [
      "MoviePy - Done.\n",
      "Moviepy - Writing video G:\\My Drive\\Data_Science\\Resulam\\Phrasebook_Audio_Video_Processing_production\\Languages\\YorubaPhrasebook\\Final_videos\\Yoruba_final_Chap5_chunk_2.mp4\n",
      "\n"
     ]
    },
    {
     "name": "stderr",
     "output_type": "stream",
     "text": [
      "                                                                                                                       \r"
     ]
    },
    {
     "name": "stdout",
     "output_type": "stream",
     "text": [
      "Moviepy - Done !\n",
      "Moviepy - video ready G:\\My Drive\\Data_Science\\Resulam\\Phrasebook_Audio_Video_Processing_production\\Languages\\YorubaPhrasebook\\Final_videos\\Yoruba_final_Chap5_chunk_2.mp4\n",
      "Moviepy - Building video G:\\My Drive\\Data_Science\\Resulam\\Phrasebook_Audio_Video_Processing_production\\Languages\\YorubaPhrasebook\\Final_videos\\Yoruba_final_Chap5_chunk_3.mp4.\n",
      "MoviePy - Writing audio in Yoruba_final_Chap5_chunk_3TEMP_MPY_wvf_snd.mp3\n"
     ]
    },
    {
     "name": "stderr",
     "output_type": "stream",
     "text": [
      "                                                                                                                       \r"
     ]
    },
    {
     "name": "stdout",
     "output_type": "stream",
     "text": [
      "MoviePy - Done.\n",
      "Moviepy - Writing video G:\\My Drive\\Data_Science\\Resulam\\Phrasebook_Audio_Video_Processing_production\\Languages\\YorubaPhrasebook\\Final_videos\\Yoruba_final_Chap5_chunk_3.mp4\n",
      "\n"
     ]
    },
    {
     "name": "stderr",
     "output_type": "stream",
     "text": [
      "                                                                                                                       \r"
     ]
    },
    {
     "name": "stdout",
     "output_type": "stream",
     "text": [
      "Moviepy - Done !\n",
      "Moviepy - video ready G:\\My Drive\\Data_Science\\Resulam\\Phrasebook_Audio_Video_Processing_production\\Languages\\YorubaPhrasebook\\Final_videos\\Yoruba_final_Chap5_chunk_3.mp4\n",
      "Moviepy - Building video G:\\My Drive\\Data_Science\\Resulam\\Phrasebook_Audio_Video_Processing_production\\Languages\\YorubaPhrasebook\\Final_videos\\Yoruba_final_Chap5_chunk_4.mp4.\n",
      "MoviePy - Writing audio in Yoruba_final_Chap5_chunk_4TEMP_MPY_wvf_snd.mp3\n"
     ]
    },
    {
     "name": "stderr",
     "output_type": "stream",
     "text": [
      "                                                                                                                       \r"
     ]
    },
    {
     "name": "stdout",
     "output_type": "stream",
     "text": [
      "MoviePy - Done.\n",
      "Moviepy - Writing video G:\\My Drive\\Data_Science\\Resulam\\Phrasebook_Audio_Video_Processing_production\\Languages\\YorubaPhrasebook\\Final_videos\\Yoruba_final_Chap5_chunk_4.mp4\n",
      "\n"
     ]
    },
    {
     "name": "stderr",
     "output_type": "stream",
     "text": [
      "                                                                                                                       \r"
     ]
    },
    {
     "name": "stdout",
     "output_type": "stream",
     "text": [
      "Moviepy - Done !\n",
      "Moviepy - video ready G:\\My Drive\\Data_Science\\Resulam\\Phrasebook_Audio_Video_Processing_production\\Languages\\YorubaPhrasebook\\Final_videos\\Yoruba_final_Chap5_chunk_4.mp4\n",
      "Moviepy - Building video G:\\My Drive\\Data_Science\\Resulam\\Phrasebook_Audio_Video_Processing_production\\Languages\\YorubaPhrasebook\\Final_videos\\Yoruba_final_Chap5_chunk_5.mp4.\n",
      "MoviePy - Writing audio in Yoruba_final_Chap5_chunk_5TEMP_MPY_wvf_snd.mp3\n"
     ]
    },
    {
     "name": "stderr",
     "output_type": "stream",
     "text": [
      "                                                                                                                       \r"
     ]
    },
    {
     "name": "stdout",
     "output_type": "stream",
     "text": [
      "MoviePy - Done.\n",
      "Moviepy - Writing video G:\\My Drive\\Data_Science\\Resulam\\Phrasebook_Audio_Video_Processing_production\\Languages\\YorubaPhrasebook\\Final_videos\\Yoruba_final_Chap5_chunk_5.mp4\n",
      "\n"
     ]
    },
    {
     "name": "stderr",
     "output_type": "stream",
     "text": [
      "                                                                                                                       \r"
     ]
    },
    {
     "name": "stdout",
     "output_type": "stream",
     "text": [
      "Moviepy - Done !\n",
      "Moviepy - video ready G:\\My Drive\\Data_Science\\Resulam\\Phrasebook_Audio_Video_Processing_production\\Languages\\YorubaPhrasebook\\Final_videos\\Yoruba_final_Chap5_chunk_5.mp4\n",
      "Moviepy - Building video G:\\My Drive\\Data_Science\\Resulam\\Phrasebook_Audio_Video_Processing_production\\Languages\\YorubaPhrasebook\\Final_videos\\Yoruba_final_Chap5_chunk_6.mp4.\n",
      "MoviePy - Writing audio in Yoruba_final_Chap5_chunk_6TEMP_MPY_wvf_snd.mp3\n"
     ]
    },
    {
     "name": "stderr",
     "output_type": "stream",
     "text": [
      "                                                                                                                       \r"
     ]
    },
    {
     "name": "stdout",
     "output_type": "stream",
     "text": [
      "MoviePy - Done.\n",
      "Moviepy - Writing video G:\\My Drive\\Data_Science\\Resulam\\Phrasebook_Audio_Video_Processing_production\\Languages\\YorubaPhrasebook\\Final_videos\\Yoruba_final_Chap5_chunk_6.mp4\n",
      "\n"
     ]
    },
    {
     "name": "stderr",
     "output_type": "stream",
     "text": [
      "                                                                                                                       \r"
     ]
    },
    {
     "name": "stdout",
     "output_type": "stream",
     "text": [
      "Moviepy - Done !\n",
      "Moviepy - video ready G:\\My Drive\\Data_Science\\Resulam\\Phrasebook_Audio_Video_Processing_production\\Languages\\YorubaPhrasebook\\Final_videos\\Yoruba_final_Chap5_chunk_6.mp4\n",
      "Moviepy - Building video G:\\My Drive\\Data_Science\\Resulam\\Phrasebook_Audio_Video_Processing_production\\Languages\\YorubaPhrasebook\\Final_videos\\Yoruba_final_Chap5_chunk_7.mp4.\n",
      "MoviePy - Writing audio in Yoruba_final_Chap5_chunk_7TEMP_MPY_wvf_snd.mp3\n"
     ]
    },
    {
     "name": "stderr",
     "output_type": "stream",
     "text": [
      "                                                                                                                       \r"
     ]
    },
    {
     "name": "stdout",
     "output_type": "stream",
     "text": [
      "MoviePy - Done.\n",
      "Moviepy - Writing video G:\\My Drive\\Data_Science\\Resulam\\Phrasebook_Audio_Video_Processing_production\\Languages\\YorubaPhrasebook\\Final_videos\\Yoruba_final_Chap5_chunk_7.mp4\n",
      "\n"
     ]
    },
    {
     "name": "stderr",
     "output_type": "stream",
     "text": [
      "                                                                                                                       \r"
     ]
    },
    {
     "name": "stdout",
     "output_type": "stream",
     "text": [
      "Moviepy - Done !\n",
      "Moviepy - video ready G:\\My Drive\\Data_Science\\Resulam\\Phrasebook_Audio_Video_Processing_production\\Languages\\YorubaPhrasebook\\Final_videos\\Yoruba_final_Chap5_chunk_7.mp4\n",
      "Moviepy - Building video G:\\My Drive\\Data_Science\\Resulam\\Phrasebook_Audio_Video_Processing_production\\Languages\\YorubaPhrasebook\\Final_videos\\Yoruba_final_Chap6_chunk_1.mp4.\n",
      "MoviePy - Writing audio in Yoruba_final_Chap6_chunk_1TEMP_MPY_wvf_snd.mp3\n"
     ]
    },
    {
     "name": "stderr",
     "output_type": "stream",
     "text": [
      "                                                                                                                       \r"
     ]
    },
    {
     "name": "stdout",
     "output_type": "stream",
     "text": [
      "MoviePy - Done.\n",
      "Moviepy - Writing video G:\\My Drive\\Data_Science\\Resulam\\Phrasebook_Audio_Video_Processing_production\\Languages\\YorubaPhrasebook\\Final_videos\\Yoruba_final_Chap6_chunk_1.mp4\n",
      "\n"
     ]
    },
    {
     "name": "stderr",
     "output_type": "stream",
     "text": [
      "                                                                                                                       \r"
     ]
    },
    {
     "name": "stdout",
     "output_type": "stream",
     "text": [
      "Moviepy - Done !\n",
      "Moviepy - video ready G:\\My Drive\\Data_Science\\Resulam\\Phrasebook_Audio_Video_Processing_production\\Languages\\YorubaPhrasebook\\Final_videos\\Yoruba_final_Chap6_chunk_1.mp4\n",
      "Moviepy - Building video G:\\My Drive\\Data_Science\\Resulam\\Phrasebook_Audio_Video_Processing_production\\Languages\\YorubaPhrasebook\\Final_videos\\Yoruba_final_Chap6_chunk_2.mp4.\n",
      "MoviePy - Writing audio in Yoruba_final_Chap6_chunk_2TEMP_MPY_wvf_snd.mp3\n"
     ]
    },
    {
     "name": "stderr",
     "output_type": "stream",
     "text": [
      "                                                                                                                       \r"
     ]
    },
    {
     "name": "stdout",
     "output_type": "stream",
     "text": [
      "MoviePy - Done.\n",
      "Moviepy - Writing video G:\\My Drive\\Data_Science\\Resulam\\Phrasebook_Audio_Video_Processing_production\\Languages\\YorubaPhrasebook\\Final_videos\\Yoruba_final_Chap6_chunk_2.mp4\n",
      "\n"
     ]
    },
    {
     "name": "stderr",
     "output_type": "stream",
     "text": [
      "                                                                                                                       \r"
     ]
    },
    {
     "name": "stdout",
     "output_type": "stream",
     "text": [
      "Moviepy - Done !\n",
      "Moviepy - video ready G:\\My Drive\\Data_Science\\Resulam\\Phrasebook_Audio_Video_Processing_production\\Languages\\YorubaPhrasebook\\Final_videos\\Yoruba_final_Chap6_chunk_2.mp4\n",
      "Moviepy - Building video G:\\My Drive\\Data_Science\\Resulam\\Phrasebook_Audio_Video_Processing_production\\Languages\\YorubaPhrasebook\\Final_videos\\Yoruba_final_Chap7_chunk_1.mp4.\n",
      "MoviePy - Writing audio in Yoruba_final_Chap7_chunk_1TEMP_MPY_wvf_snd.mp3\n"
     ]
    },
    {
     "name": "stderr",
     "output_type": "stream",
     "text": [
      "                                                                                                                       \r"
     ]
    },
    {
     "name": "stdout",
     "output_type": "stream",
     "text": [
      "MoviePy - Done.\n",
      "Moviepy - Writing video G:\\My Drive\\Data_Science\\Resulam\\Phrasebook_Audio_Video_Processing_production\\Languages\\YorubaPhrasebook\\Final_videos\\Yoruba_final_Chap7_chunk_1.mp4\n",
      "\n"
     ]
    },
    {
     "name": "stderr",
     "output_type": "stream",
     "text": [
      "                                                                                                                       \r"
     ]
    },
    {
     "name": "stdout",
     "output_type": "stream",
     "text": [
      "Moviepy - Done !\n",
      "Moviepy - video ready G:\\My Drive\\Data_Science\\Resulam\\Phrasebook_Audio_Video_Processing_production\\Languages\\YorubaPhrasebook\\Final_videos\\Yoruba_final_Chap7_chunk_1.mp4\n",
      "Moviepy - Building video G:\\My Drive\\Data_Science\\Resulam\\Phrasebook_Audio_Video_Processing_production\\Languages\\YorubaPhrasebook\\Final_videos\\Yoruba_final_Chap7_chunk_2.mp4.\n",
      "MoviePy - Writing audio in Yoruba_final_Chap7_chunk_2TEMP_MPY_wvf_snd.mp3\n"
     ]
    },
    {
     "name": "stderr",
     "output_type": "stream",
     "text": [
      "                                                                                                                       \r"
     ]
    },
    {
     "name": "stdout",
     "output_type": "stream",
     "text": [
      "MoviePy - Done.\n",
      "Moviepy - Writing video G:\\My Drive\\Data_Science\\Resulam\\Phrasebook_Audio_Video_Processing_production\\Languages\\YorubaPhrasebook\\Final_videos\\Yoruba_final_Chap7_chunk_2.mp4\n",
      "\n"
     ]
    },
    {
     "name": "stderr",
     "output_type": "stream",
     "text": [
      "                                                                                                                       \r"
     ]
    },
    {
     "name": "stdout",
     "output_type": "stream",
     "text": [
      "Moviepy - Done !\n",
      "Moviepy - video ready G:\\My Drive\\Data_Science\\Resulam\\Phrasebook_Audio_Video_Processing_production\\Languages\\YorubaPhrasebook\\Final_videos\\Yoruba_final_Chap7_chunk_2.mp4\n",
      "Moviepy - Building video G:\\My Drive\\Data_Science\\Resulam\\Phrasebook_Audio_Video_Processing_production\\Languages\\YorubaPhrasebook\\Final_videos\\Yoruba_final_Chap7_chunk_3.mp4.\n",
      "MoviePy - Writing audio in Yoruba_final_Chap7_chunk_3TEMP_MPY_wvf_snd.mp3\n"
     ]
    },
    {
     "name": "stderr",
     "output_type": "stream",
     "text": [
      "                                                                                                                       \r"
     ]
    },
    {
     "name": "stdout",
     "output_type": "stream",
     "text": [
      "MoviePy - Done.\n",
      "Moviepy - Writing video G:\\My Drive\\Data_Science\\Resulam\\Phrasebook_Audio_Video_Processing_production\\Languages\\YorubaPhrasebook\\Final_videos\\Yoruba_final_Chap7_chunk_3.mp4\n",
      "\n"
     ]
    },
    {
     "name": "stderr",
     "output_type": "stream",
     "text": [
      "                                                                                                                       \r"
     ]
    },
    {
     "name": "stdout",
     "output_type": "stream",
     "text": [
      "Moviepy - Done !\n",
      "Moviepy - video ready G:\\My Drive\\Data_Science\\Resulam\\Phrasebook_Audio_Video_Processing_production\\Languages\\YorubaPhrasebook\\Final_videos\\Yoruba_final_Chap7_chunk_3.mp4\n",
      "Moviepy - Building video G:\\My Drive\\Data_Science\\Resulam\\Phrasebook_Audio_Video_Processing_production\\Languages\\YorubaPhrasebook\\Final_videos\\Yoruba_final_Chap7_chunk_4.mp4.\n",
      "MoviePy - Writing audio in Yoruba_final_Chap7_chunk_4TEMP_MPY_wvf_snd.mp3\n"
     ]
    },
    {
     "name": "stderr",
     "output_type": "stream",
     "text": [
      "                                                                                                                       \r"
     ]
    },
    {
     "name": "stdout",
     "output_type": "stream",
     "text": [
      "MoviePy - Done.\n",
      "Moviepy - Writing video G:\\My Drive\\Data_Science\\Resulam\\Phrasebook_Audio_Video_Processing_production\\Languages\\YorubaPhrasebook\\Final_videos\\Yoruba_final_Chap7_chunk_4.mp4\n",
      "\n"
     ]
    },
    {
     "name": "stderr",
     "output_type": "stream",
     "text": [
      "                                                                                                                       \r"
     ]
    },
    {
     "name": "stdout",
     "output_type": "stream",
     "text": [
      "Moviepy - Done !\n",
      "Moviepy - video ready G:\\My Drive\\Data_Science\\Resulam\\Phrasebook_Audio_Video_Processing_production\\Languages\\YorubaPhrasebook\\Final_videos\\Yoruba_final_Chap7_chunk_4.mp4\n",
      "Moviepy - Building video G:\\My Drive\\Data_Science\\Resulam\\Phrasebook_Audio_Video_Processing_production\\Languages\\YorubaPhrasebook\\Final_videos\\Yoruba_final_Chap7_chunk_5.mp4.\n",
      "MoviePy - Writing audio in Yoruba_final_Chap7_chunk_5TEMP_MPY_wvf_snd.mp3\n"
     ]
    },
    {
     "name": "stderr",
     "output_type": "stream",
     "text": [
      "                                                                                                                       \r"
     ]
    },
    {
     "name": "stdout",
     "output_type": "stream",
     "text": [
      "MoviePy - Done.\n",
      "Moviepy - Writing video G:\\My Drive\\Data_Science\\Resulam\\Phrasebook_Audio_Video_Processing_production\\Languages\\YorubaPhrasebook\\Final_videos\\Yoruba_final_Chap7_chunk_5.mp4\n",
      "\n"
     ]
    },
    {
     "name": "stderr",
     "output_type": "stream",
     "text": [
      "                                                                                                                       \r"
     ]
    },
    {
     "name": "stdout",
     "output_type": "stream",
     "text": [
      "Moviepy - Done !\n",
      "Moviepy - video ready G:\\My Drive\\Data_Science\\Resulam\\Phrasebook_Audio_Video_Processing_production\\Languages\\YorubaPhrasebook\\Final_videos\\Yoruba_final_Chap7_chunk_5.mp4\n",
      "Moviepy - Building video G:\\My Drive\\Data_Science\\Resulam\\Phrasebook_Audio_Video_Processing_production\\Languages\\YorubaPhrasebook\\Final_videos\\Yoruba_final_Chap7_chunk_6.mp4.\n",
      "MoviePy - Writing audio in Yoruba_final_Chap7_chunk_6TEMP_MPY_wvf_snd.mp3\n"
     ]
    },
    {
     "name": "stderr",
     "output_type": "stream",
     "text": [
      "                                                                                                                       \r"
     ]
    },
    {
     "name": "stdout",
     "output_type": "stream",
     "text": [
      "MoviePy - Done.\n",
      "Moviepy - Writing video G:\\My Drive\\Data_Science\\Resulam\\Phrasebook_Audio_Video_Processing_production\\Languages\\YorubaPhrasebook\\Final_videos\\Yoruba_final_Chap7_chunk_6.mp4\n",
      "\n"
     ]
    },
    {
     "name": "stderr",
     "output_type": "stream",
     "text": [
      "                                                                                                                       \r"
     ]
    },
    {
     "name": "stdout",
     "output_type": "stream",
     "text": [
      "Moviepy - Done !\n",
      "Moviepy - video ready G:\\My Drive\\Data_Science\\Resulam\\Phrasebook_Audio_Video_Processing_production\\Languages\\YorubaPhrasebook\\Final_videos\\Yoruba_final_Chap7_chunk_6.mp4\n",
      "Moviepy - Building video G:\\My Drive\\Data_Science\\Resulam\\Phrasebook_Audio_Video_Processing_production\\Languages\\YorubaPhrasebook\\Final_videos\\Yoruba_final_Chap7_chunk_7.mp4.\n",
      "MoviePy - Writing audio in Yoruba_final_Chap7_chunk_7TEMP_MPY_wvf_snd.mp3\n"
     ]
    },
    {
     "name": "stderr",
     "output_type": "stream",
     "text": [
      "                                                                                                                       \r"
     ]
    },
    {
     "name": "stdout",
     "output_type": "stream",
     "text": [
      "MoviePy - Done.\n",
      "Moviepy - Writing video G:\\My Drive\\Data_Science\\Resulam\\Phrasebook_Audio_Video_Processing_production\\Languages\\YorubaPhrasebook\\Final_videos\\Yoruba_final_Chap7_chunk_7.mp4\n",
      "\n"
     ]
    },
    {
     "name": "stderr",
     "output_type": "stream",
     "text": [
      "                                                                                                                       \r"
     ]
    },
    {
     "name": "stdout",
     "output_type": "stream",
     "text": [
      "Moviepy - Done !\n",
      "Moviepy - video ready G:\\My Drive\\Data_Science\\Resulam\\Phrasebook_Audio_Video_Processing_production\\Languages\\YorubaPhrasebook\\Final_videos\\Yoruba_final_Chap7_chunk_7.mp4\n",
      "Moviepy - Building video G:\\My Drive\\Data_Science\\Resulam\\Phrasebook_Audio_Video_Processing_production\\Languages\\YorubaPhrasebook\\Final_videos\\Yoruba_final_Chap8_chunk_1.mp4.\n",
      "MoviePy - Writing audio in Yoruba_final_Chap8_chunk_1TEMP_MPY_wvf_snd.mp3\n"
     ]
    },
    {
     "name": "stderr",
     "output_type": "stream",
     "text": [
      "                                                                                                                       \r"
     ]
    },
    {
     "name": "stdout",
     "output_type": "stream",
     "text": [
      "MoviePy - Done.\n",
      "Moviepy - Writing video G:\\My Drive\\Data_Science\\Resulam\\Phrasebook_Audio_Video_Processing_production\\Languages\\YorubaPhrasebook\\Final_videos\\Yoruba_final_Chap8_chunk_1.mp4\n",
      "\n"
     ]
    },
    {
     "name": "stderr",
     "output_type": "stream",
     "text": [
      "                                                                                                                       \r"
     ]
    },
    {
     "name": "stdout",
     "output_type": "stream",
     "text": [
      "Moviepy - Done !\n",
      "Moviepy - video ready G:\\My Drive\\Data_Science\\Resulam\\Phrasebook_Audio_Video_Processing_production\\Languages\\YorubaPhrasebook\\Final_videos\\Yoruba_final_Chap8_chunk_1.mp4\n",
      "Moviepy - Building video G:\\My Drive\\Data_Science\\Resulam\\Phrasebook_Audio_Video_Processing_production\\Languages\\YorubaPhrasebook\\Final_videos\\Yoruba_final_Chap8_chunk_2.mp4.\n",
      "MoviePy - Writing audio in Yoruba_final_Chap8_chunk_2TEMP_MPY_wvf_snd.mp3\n"
     ]
    },
    {
     "name": "stderr",
     "output_type": "stream",
     "text": [
      "                                                                                                                       \r"
     ]
    },
    {
     "name": "stdout",
     "output_type": "stream",
     "text": [
      "MoviePy - Done.\n",
      "Moviepy - Writing video G:\\My Drive\\Data_Science\\Resulam\\Phrasebook_Audio_Video_Processing_production\\Languages\\YorubaPhrasebook\\Final_videos\\Yoruba_final_Chap8_chunk_2.mp4\n",
      "\n"
     ]
    },
    {
     "name": "stderr",
     "output_type": "stream",
     "text": [
      "                                                                                                                       \r"
     ]
    },
    {
     "name": "stdout",
     "output_type": "stream",
     "text": [
      "Moviepy - Done !\n",
      "Moviepy - video ready G:\\My Drive\\Data_Science\\Resulam\\Phrasebook_Audio_Video_Processing_production\\Languages\\YorubaPhrasebook\\Final_videos\\Yoruba_final_Chap8_chunk_2.mp4\n",
      "Moviepy - Building video G:\\My Drive\\Data_Science\\Resulam\\Phrasebook_Audio_Video_Processing_production\\Languages\\YorubaPhrasebook\\Final_videos\\Yoruba_final_Chap8_chunk_3.mp4.\n",
      "MoviePy - Writing audio in Yoruba_final_Chap8_chunk_3TEMP_MPY_wvf_snd.mp3\n"
     ]
    },
    {
     "name": "stderr",
     "output_type": "stream",
     "text": [
      "                                                                                                                       \r"
     ]
    },
    {
     "name": "stdout",
     "output_type": "stream",
     "text": [
      "MoviePy - Done.\n",
      "Moviepy - Writing video G:\\My Drive\\Data_Science\\Resulam\\Phrasebook_Audio_Video_Processing_production\\Languages\\YorubaPhrasebook\\Final_videos\\Yoruba_final_Chap8_chunk_3.mp4\n",
      "\n"
     ]
    },
    {
     "name": "stderr",
     "output_type": "stream",
     "text": [
      "                                                                                                                       \r"
     ]
    },
    {
     "name": "stdout",
     "output_type": "stream",
     "text": [
      "Moviepy - Done !\n",
      "Moviepy - video ready G:\\My Drive\\Data_Science\\Resulam\\Phrasebook_Audio_Video_Processing_production\\Languages\\YorubaPhrasebook\\Final_videos\\Yoruba_final_Chap8_chunk_3.mp4\n",
      "Moviepy - Building video G:\\My Drive\\Data_Science\\Resulam\\Phrasebook_Audio_Video_Processing_production\\Languages\\YorubaPhrasebook\\Final_videos\\Yoruba_final_Chap8_chunk_4.mp4.\n",
      "MoviePy - Writing audio in Yoruba_final_Chap8_chunk_4TEMP_MPY_wvf_snd.mp3\n"
     ]
    },
    {
     "name": "stderr",
     "output_type": "stream",
     "text": [
      "                                                                                                                       \r"
     ]
    },
    {
     "name": "stdout",
     "output_type": "stream",
     "text": [
      "MoviePy - Done.\n",
      "Moviepy - Writing video G:\\My Drive\\Data_Science\\Resulam\\Phrasebook_Audio_Video_Processing_production\\Languages\\YorubaPhrasebook\\Final_videos\\Yoruba_final_Chap8_chunk_4.mp4\n",
      "\n"
     ]
    },
    {
     "name": "stderr",
     "output_type": "stream",
     "text": [
      "                                                                                                                       \r"
     ]
    },
    {
     "name": "stdout",
     "output_type": "stream",
     "text": [
      "Moviepy - Done !\n",
      "Moviepy - video ready G:\\My Drive\\Data_Science\\Resulam\\Phrasebook_Audio_Video_Processing_production\\Languages\\YorubaPhrasebook\\Final_videos\\Yoruba_final_Chap8_chunk_4.mp4\n",
      "Moviepy - Building video G:\\My Drive\\Data_Science\\Resulam\\Phrasebook_Audio_Video_Processing_production\\Languages\\YorubaPhrasebook\\Final_videos\\Yoruba_final_Chap8_chunk_5.mp4.\n",
      "MoviePy - Writing audio in Yoruba_final_Chap8_chunk_5TEMP_MPY_wvf_snd.mp3\n"
     ]
    },
    {
     "name": "stderr",
     "output_type": "stream",
     "text": [
      "                                                                                                                       \r"
     ]
    },
    {
     "name": "stdout",
     "output_type": "stream",
     "text": [
      "MoviePy - Done.\n",
      "Moviepy - Writing video G:\\My Drive\\Data_Science\\Resulam\\Phrasebook_Audio_Video_Processing_production\\Languages\\YorubaPhrasebook\\Final_videos\\Yoruba_final_Chap8_chunk_5.mp4\n",
      "\n"
     ]
    },
    {
     "name": "stderr",
     "output_type": "stream",
     "text": [
      "                                                                                                                       \r"
     ]
    },
    {
     "name": "stdout",
     "output_type": "stream",
     "text": [
      "Moviepy - Done !\n",
      "Moviepy - video ready G:\\My Drive\\Data_Science\\Resulam\\Phrasebook_Audio_Video_Processing_production\\Languages\\YorubaPhrasebook\\Final_videos\\Yoruba_final_Chap8_chunk_5.mp4\n",
      "Moviepy - Building video G:\\My Drive\\Data_Science\\Resulam\\Phrasebook_Audio_Video_Processing_production\\Languages\\YorubaPhrasebook\\Final_videos\\Yoruba_final_Chap9_chunk_1.mp4.\n",
      "MoviePy - Writing audio in Yoruba_final_Chap9_chunk_1TEMP_MPY_wvf_snd.mp3\n"
     ]
    },
    {
     "name": "stderr",
     "output_type": "stream",
     "text": [
      "                                                                                                                       \r"
     ]
    },
    {
     "name": "stdout",
     "output_type": "stream",
     "text": [
      "MoviePy - Done.\n",
      "Moviepy - Writing video G:\\My Drive\\Data_Science\\Resulam\\Phrasebook_Audio_Video_Processing_production\\Languages\\YorubaPhrasebook\\Final_videos\\Yoruba_final_Chap9_chunk_1.mp4\n",
      "\n"
     ]
    },
    {
     "name": "stderr",
     "output_type": "stream",
     "text": [
      "                                                                                                                       \r"
     ]
    },
    {
     "name": "stdout",
     "output_type": "stream",
     "text": [
      "Moviepy - Done !\n",
      "Moviepy - video ready G:\\My Drive\\Data_Science\\Resulam\\Phrasebook_Audio_Video_Processing_production\\Languages\\YorubaPhrasebook\\Final_videos\\Yoruba_final_Chap9_chunk_1.mp4\n",
      "Moviepy - Building video G:\\My Drive\\Data_Science\\Resulam\\Phrasebook_Audio_Video_Processing_production\\Languages\\YorubaPhrasebook\\Final_videos\\Yoruba_final_Chap9_chunk_2.mp4.\n",
      "MoviePy - Writing audio in Yoruba_final_Chap9_chunk_2TEMP_MPY_wvf_snd.mp3\n"
     ]
    },
    {
     "name": "stderr",
     "output_type": "stream",
     "text": [
      "                                                                                                                       \r"
     ]
    },
    {
     "name": "stdout",
     "output_type": "stream",
     "text": [
      "MoviePy - Done.\n",
      "Moviepy - Writing video G:\\My Drive\\Data_Science\\Resulam\\Phrasebook_Audio_Video_Processing_production\\Languages\\YorubaPhrasebook\\Final_videos\\Yoruba_final_Chap9_chunk_2.mp4\n",
      "\n"
     ]
    },
    {
     "name": "stderr",
     "output_type": "stream",
     "text": [
      "                                                                                                                       \r"
     ]
    },
    {
     "name": "stdout",
     "output_type": "stream",
     "text": [
      "Moviepy - Done !\n",
      "Moviepy - video ready G:\\My Drive\\Data_Science\\Resulam\\Phrasebook_Audio_Video_Processing_production\\Languages\\YorubaPhrasebook\\Final_videos\\Yoruba_final_Chap9_chunk_2.mp4\n",
      "Moviepy - Building video G:\\My Drive\\Data_Science\\Resulam\\Phrasebook_Audio_Video_Processing_production\\Languages\\YorubaPhrasebook\\Final_videos\\Yoruba_final_Chap9_chunk_3.mp4.\n",
      "MoviePy - Writing audio in Yoruba_final_Chap9_chunk_3TEMP_MPY_wvf_snd.mp3\n"
     ]
    },
    {
     "name": "stderr",
     "output_type": "stream",
     "text": [
      "                                                                                                                       \r"
     ]
    },
    {
     "name": "stdout",
     "output_type": "stream",
     "text": [
      "MoviePy - Done.\n",
      "Moviepy - Writing video G:\\My Drive\\Data_Science\\Resulam\\Phrasebook_Audio_Video_Processing_production\\Languages\\YorubaPhrasebook\\Final_videos\\Yoruba_final_Chap9_chunk_3.mp4\n",
      "\n"
     ]
    },
    {
     "name": "stderr",
     "output_type": "stream",
     "text": [
      "                                                                                                                       \r"
     ]
    },
    {
     "name": "stdout",
     "output_type": "stream",
     "text": [
      "Moviepy - Done !\n",
      "Moviepy - video ready G:\\My Drive\\Data_Science\\Resulam\\Phrasebook_Audio_Video_Processing_production\\Languages\\YorubaPhrasebook\\Final_videos\\Yoruba_final_Chap9_chunk_3.mp4\n",
      "Moviepy - Building video G:\\My Drive\\Data_Science\\Resulam\\Phrasebook_Audio_Video_Processing_production\\Languages\\YorubaPhrasebook\\Final_videos\\Yoruba_final_Chap9_chunk_4.mp4.\n",
      "MoviePy - Writing audio in Yoruba_final_Chap9_chunk_4TEMP_MPY_wvf_snd.mp3\n"
     ]
    },
    {
     "name": "stderr",
     "output_type": "stream",
     "text": [
      "                                                                                                                       \r"
     ]
    },
    {
     "name": "stdout",
     "output_type": "stream",
     "text": [
      "MoviePy - Done.\n",
      "Moviepy - Writing video G:\\My Drive\\Data_Science\\Resulam\\Phrasebook_Audio_Video_Processing_production\\Languages\\YorubaPhrasebook\\Final_videos\\Yoruba_final_Chap9_chunk_4.mp4\n",
      "\n"
     ]
    },
    {
     "name": "stderr",
     "output_type": "stream",
     "text": [
      "                                                                                                                       \r"
     ]
    },
    {
     "name": "stdout",
     "output_type": "stream",
     "text": [
      "Moviepy - Done !\n",
      "Moviepy - video ready G:\\My Drive\\Data_Science\\Resulam\\Phrasebook_Audio_Video_Processing_production\\Languages\\YorubaPhrasebook\\Final_videos\\Yoruba_final_Chap9_chunk_4.mp4\n",
      "Moviepy - Building video G:\\My Drive\\Data_Science\\Resulam\\Phrasebook_Audio_Video_Processing_production\\Languages\\YorubaPhrasebook\\Final_videos\\Yoruba_final_Chap9_chunk_5.mp4.\n",
      "MoviePy - Writing audio in Yoruba_final_Chap9_chunk_5TEMP_MPY_wvf_snd.mp3\n"
     ]
    },
    {
     "name": "stderr",
     "output_type": "stream",
     "text": [
      "                                                                                                                       \r"
     ]
    },
    {
     "name": "stdout",
     "output_type": "stream",
     "text": [
      "MoviePy - Done.\n",
      "Moviepy - Writing video G:\\My Drive\\Data_Science\\Resulam\\Phrasebook_Audio_Video_Processing_production\\Languages\\YorubaPhrasebook\\Final_videos\\Yoruba_final_Chap9_chunk_5.mp4\n",
      "\n"
     ]
    },
    {
     "name": "stderr",
     "output_type": "stream",
     "text": [
      "                                                                                                                       \r"
     ]
    },
    {
     "name": "stdout",
     "output_type": "stream",
     "text": [
      "Moviepy - Done !\n",
      "Moviepy - video ready G:\\My Drive\\Data_Science\\Resulam\\Phrasebook_Audio_Video_Processing_production\\Languages\\YorubaPhrasebook\\Final_videos\\Yoruba_final_Chap9_chunk_5.mp4\n",
      "Moviepy - Building video G:\\My Drive\\Data_Science\\Resulam\\Phrasebook_Audio_Video_Processing_production\\Languages\\YorubaPhrasebook\\Final_videos\\Yoruba_final_Chap9_chunk_6.mp4.\n",
      "MoviePy - Writing audio in Yoruba_final_Chap9_chunk_6TEMP_MPY_wvf_snd.mp3\n"
     ]
    },
    {
     "name": "stderr",
     "output_type": "stream",
     "text": [
      "                                                                                                                       \r"
     ]
    },
    {
     "name": "stdout",
     "output_type": "stream",
     "text": [
      "MoviePy - Done.\n",
      "Moviepy - Writing video G:\\My Drive\\Data_Science\\Resulam\\Phrasebook_Audio_Video_Processing_production\\Languages\\YorubaPhrasebook\\Final_videos\\Yoruba_final_Chap9_chunk_6.mp4\n",
      "\n"
     ]
    },
    {
     "name": "stderr",
     "output_type": "stream",
     "text": [
      "                                                                                                                       \r"
     ]
    },
    {
     "name": "stdout",
     "output_type": "stream",
     "text": [
      "Moviepy - Done !\n",
      "Moviepy - video ready G:\\My Drive\\Data_Science\\Resulam\\Phrasebook_Audio_Video_Processing_production\\Languages\\YorubaPhrasebook\\Final_videos\\Yoruba_final_Chap9_chunk_6.mp4\n",
      "Moviepy - Building video G:\\My Drive\\Data_Science\\Resulam\\Phrasebook_Audio_Video_Processing_production\\Languages\\YorubaPhrasebook\\Final_videos\\Yoruba_final_Chap9_chunk_7.mp4.\n",
      "MoviePy - Writing audio in Yoruba_final_Chap9_chunk_7TEMP_MPY_wvf_snd.mp3\n"
     ]
    },
    {
     "name": "stderr",
     "output_type": "stream",
     "text": [
      "                                                                                                                       \r"
     ]
    },
    {
     "name": "stdout",
     "output_type": "stream",
     "text": [
      "MoviePy - Done.\n",
      "Moviepy - Writing video G:\\My Drive\\Data_Science\\Resulam\\Phrasebook_Audio_Video_Processing_production\\Languages\\YorubaPhrasebook\\Final_videos\\Yoruba_final_Chap9_chunk_7.mp4\n",
      "\n"
     ]
    },
    {
     "name": "stderr",
     "output_type": "stream",
     "text": [
      "                                                                                                                       \r"
     ]
    },
    {
     "name": "stdout",
     "output_type": "stream",
     "text": [
      "Moviepy - Done !\n",
      "Moviepy - video ready G:\\My Drive\\Data_Science\\Resulam\\Phrasebook_Audio_Video_Processing_production\\Languages\\YorubaPhrasebook\\Final_videos\\Yoruba_final_Chap9_chunk_7.mp4\n",
      "Moviepy - Building video G:\\My Drive\\Data_Science\\Resulam\\Phrasebook_Audio_Video_Processing_production\\Languages\\YorubaPhrasebook\\Final_videos\\Yoruba_final_Chap10_chunk_1.mp4.\n",
      "MoviePy - Writing audio in Yoruba_final_Chap10_chunk_1TEMP_MPY_wvf_snd.mp3\n"
     ]
    },
    {
     "name": "stderr",
     "output_type": "stream",
     "text": [
      "                                                                                                                       \r"
     ]
    },
    {
     "name": "stdout",
     "output_type": "stream",
     "text": [
      "MoviePy - Done.\n",
      "Moviepy - Writing video G:\\My Drive\\Data_Science\\Resulam\\Phrasebook_Audio_Video_Processing_production\\Languages\\YorubaPhrasebook\\Final_videos\\Yoruba_final_Chap10_chunk_1.mp4\n",
      "\n"
     ]
    },
    {
     "name": "stderr",
     "output_type": "stream",
     "text": [
      "                                                                                                                       \r"
     ]
    },
    {
     "name": "stdout",
     "output_type": "stream",
     "text": [
      "Moviepy - Done !\n",
      "Moviepy - video ready G:\\My Drive\\Data_Science\\Resulam\\Phrasebook_Audio_Video_Processing_production\\Languages\\YorubaPhrasebook\\Final_videos\\Yoruba_final_Chap10_chunk_1.mp4\n",
      "Moviepy - Building video G:\\My Drive\\Data_Science\\Resulam\\Phrasebook_Audio_Video_Processing_production\\Languages\\YorubaPhrasebook\\Final_videos\\Yoruba_final_Chap10_chunk_2.mp4.\n",
      "MoviePy - Writing audio in Yoruba_final_Chap10_chunk_2TEMP_MPY_wvf_snd.mp3\n"
     ]
    },
    {
     "name": "stderr",
     "output_type": "stream",
     "text": [
      "                                                                                                                       \r"
     ]
    },
    {
     "name": "stdout",
     "output_type": "stream",
     "text": [
      "MoviePy - Done.\n",
      "Moviepy - Writing video G:\\My Drive\\Data_Science\\Resulam\\Phrasebook_Audio_Video_Processing_production\\Languages\\YorubaPhrasebook\\Final_videos\\Yoruba_final_Chap10_chunk_2.mp4\n",
      "\n"
     ]
    },
    {
     "name": "stderr",
     "output_type": "stream",
     "text": [
      "                                                                                                                       \r"
     ]
    },
    {
     "name": "stdout",
     "output_type": "stream",
     "text": [
      "Moviepy - Done !\n",
      "Moviepy - video ready G:\\My Drive\\Data_Science\\Resulam\\Phrasebook_Audio_Video_Processing_production\\Languages\\YorubaPhrasebook\\Final_videos\\Yoruba_final_Chap10_chunk_2.mp4\n",
      "Moviepy - Building video G:\\My Drive\\Data_Science\\Resulam\\Phrasebook_Audio_Video_Processing_production\\Languages\\YorubaPhrasebook\\Final_videos\\Yoruba_final_Chap10_chunk_3.mp4.\n",
      "MoviePy - Writing audio in Yoruba_final_Chap10_chunk_3TEMP_MPY_wvf_snd.mp3\n"
     ]
    },
    {
     "name": "stderr",
     "output_type": "stream",
     "text": [
      "                                                                                                                       \r"
     ]
    },
    {
     "name": "stdout",
     "output_type": "stream",
     "text": [
      "MoviePy - Done.\n",
      "Moviepy - Writing video G:\\My Drive\\Data_Science\\Resulam\\Phrasebook_Audio_Video_Processing_production\\Languages\\YorubaPhrasebook\\Final_videos\\Yoruba_final_Chap10_chunk_3.mp4\n",
      "\n"
     ]
    },
    {
     "name": "stderr",
     "output_type": "stream",
     "text": [
      "                                                                                                                       \r"
     ]
    },
    {
     "name": "stdout",
     "output_type": "stream",
     "text": [
      "Moviepy - Done !\n",
      "Moviepy - video ready G:\\My Drive\\Data_Science\\Resulam\\Phrasebook_Audio_Video_Processing_production\\Languages\\YorubaPhrasebook\\Final_videos\\Yoruba_final_Chap10_chunk_3.mp4\n",
      "Moviepy - Building video G:\\My Drive\\Data_Science\\Resulam\\Phrasebook_Audio_Video_Processing_production\\Languages\\YorubaPhrasebook\\Final_videos\\Yoruba_final_Chap11_chunk_1.mp4.\n",
      "MoviePy - Writing audio in Yoruba_final_Chap11_chunk_1TEMP_MPY_wvf_snd.mp3\n"
     ]
    },
    {
     "name": "stderr",
     "output_type": "stream",
     "text": [
      "                                                                                                                       \r"
     ]
    },
    {
     "name": "stdout",
     "output_type": "stream",
     "text": [
      "MoviePy - Done.\n",
      "Moviepy - Writing video G:\\My Drive\\Data_Science\\Resulam\\Phrasebook_Audio_Video_Processing_production\\Languages\\YorubaPhrasebook\\Final_videos\\Yoruba_final_Chap11_chunk_1.mp4\n",
      "\n"
     ]
    },
    {
     "name": "stderr",
     "output_type": "stream",
     "text": [
      "                                                                                                                       \r"
     ]
    },
    {
     "name": "stdout",
     "output_type": "stream",
     "text": [
      "Moviepy - Done !\n",
      "Moviepy - video ready G:\\My Drive\\Data_Science\\Resulam\\Phrasebook_Audio_Video_Processing_production\\Languages\\YorubaPhrasebook\\Final_videos\\Yoruba_final_Chap11_chunk_1.mp4\n",
      "Moviepy - Building video G:\\My Drive\\Data_Science\\Resulam\\Phrasebook_Audio_Video_Processing_production\\Languages\\YorubaPhrasebook\\Final_videos\\Yoruba_final_Chap12_chunk_1.mp4.\n",
      "MoviePy - Writing audio in Yoruba_final_Chap12_chunk_1TEMP_MPY_wvf_snd.mp3\n"
     ]
    },
    {
     "name": "stderr",
     "output_type": "stream",
     "text": [
      "                                                                                                                       \r"
     ]
    },
    {
     "name": "stdout",
     "output_type": "stream",
     "text": [
      "MoviePy - Done.\n",
      "Moviepy - Writing video G:\\My Drive\\Data_Science\\Resulam\\Phrasebook_Audio_Video_Processing_production\\Languages\\YorubaPhrasebook\\Final_videos\\Yoruba_final_Chap12_chunk_1.mp4\n",
      "\n"
     ]
    },
    {
     "name": "stderr",
     "output_type": "stream",
     "text": [
      "                                                                                                                       \r"
     ]
    },
    {
     "name": "stdout",
     "output_type": "stream",
     "text": [
      "Moviepy - Done !\n",
      "Moviepy - video ready G:\\My Drive\\Data_Science\\Resulam\\Phrasebook_Audio_Video_Processing_production\\Languages\\YorubaPhrasebook\\Final_videos\\Yoruba_final_Chap12_chunk_1.mp4\n",
      "Moviepy - Building video G:\\My Drive\\Data_Science\\Resulam\\Phrasebook_Audio_Video_Processing_production\\Languages\\YorubaPhrasebook\\Final_videos\\Yoruba_final_Chap12_chunk_2.mp4.\n",
      "MoviePy - Writing audio in Yoruba_final_Chap12_chunk_2TEMP_MPY_wvf_snd.mp3\n"
     ]
    },
    {
     "name": "stderr",
     "output_type": "stream",
     "text": [
      "                                                                                                                       \r"
     ]
    },
    {
     "name": "stdout",
     "output_type": "stream",
     "text": [
      "MoviePy - Done.\n",
      "Moviepy - Writing video G:\\My Drive\\Data_Science\\Resulam\\Phrasebook_Audio_Video_Processing_production\\Languages\\YorubaPhrasebook\\Final_videos\\Yoruba_final_Chap12_chunk_2.mp4\n",
      "\n"
     ]
    },
    {
     "name": "stderr",
     "output_type": "stream",
     "text": [
      "                                                                                                                       \r"
     ]
    },
    {
     "name": "stdout",
     "output_type": "stream",
     "text": [
      "Moviepy - Done !\n",
      "Moviepy - video ready G:\\My Drive\\Data_Science\\Resulam\\Phrasebook_Audio_Video_Processing_production\\Languages\\YorubaPhrasebook\\Final_videos\\Yoruba_final_Chap12_chunk_2.mp4\n",
      "Moviepy - Building video G:\\My Drive\\Data_Science\\Resulam\\Phrasebook_Audio_Video_Processing_production\\Languages\\YorubaPhrasebook\\Final_videos\\Yoruba_final_Chap13_chunk_1.mp4.\n",
      "MoviePy - Writing audio in Yoruba_final_Chap13_chunk_1TEMP_MPY_wvf_snd.mp3\n"
     ]
    },
    {
     "name": "stderr",
     "output_type": "stream",
     "text": [
      "                                                                                                                       \r"
     ]
    },
    {
     "name": "stdout",
     "output_type": "stream",
     "text": [
      "MoviePy - Done.\n",
      "Moviepy - Writing video G:\\My Drive\\Data_Science\\Resulam\\Phrasebook_Audio_Video_Processing_production\\Languages\\YorubaPhrasebook\\Final_videos\\Yoruba_final_Chap13_chunk_1.mp4\n",
      "\n"
     ]
    },
    {
     "name": "stderr",
     "output_type": "stream",
     "text": [
      "                                                                                                                       \r"
     ]
    },
    {
     "name": "stdout",
     "output_type": "stream",
     "text": [
      "Moviepy - Done !\n",
      "Moviepy - video ready G:\\My Drive\\Data_Science\\Resulam\\Phrasebook_Audio_Video_Processing_production\\Languages\\YorubaPhrasebook\\Final_videos\\Yoruba_final_Chap13_chunk_1.mp4\n",
      "Moviepy - Building video G:\\My Drive\\Data_Science\\Resulam\\Phrasebook_Audio_Video_Processing_production\\Languages\\YorubaPhrasebook\\Final_videos\\Yoruba_final_Chap13_chunk_2.mp4.\n",
      "MoviePy - Writing audio in Yoruba_final_Chap13_chunk_2TEMP_MPY_wvf_snd.mp3\n"
     ]
    },
    {
     "name": "stderr",
     "output_type": "stream",
     "text": [
      "                                                                                                                       \r"
     ]
    },
    {
     "name": "stdout",
     "output_type": "stream",
     "text": [
      "MoviePy - Done.\n",
      "Moviepy - Writing video G:\\My Drive\\Data_Science\\Resulam\\Phrasebook_Audio_Video_Processing_production\\Languages\\YorubaPhrasebook\\Final_videos\\Yoruba_final_Chap13_chunk_2.mp4\n",
      "\n"
     ]
    },
    {
     "name": "stderr",
     "output_type": "stream",
     "text": [
      "                                                                                                                       \r"
     ]
    },
    {
     "name": "stdout",
     "output_type": "stream",
     "text": [
      "Moviepy - Done !\n",
      "Moviepy - video ready G:\\My Drive\\Data_Science\\Resulam\\Phrasebook_Audio_Video_Processing_production\\Languages\\YorubaPhrasebook\\Final_videos\\Yoruba_final_Chap13_chunk_2.mp4\n",
      "Moviepy - Building video G:\\My Drive\\Data_Science\\Resulam\\Phrasebook_Audio_Video_Processing_production\\Languages\\YorubaPhrasebook\\Final_videos\\Yoruba_final_Chap14_chunk_1.mp4.\n",
      "MoviePy - Writing audio in Yoruba_final_Chap14_chunk_1TEMP_MPY_wvf_snd.mp3\n"
     ]
    },
    {
     "name": "stderr",
     "output_type": "stream",
     "text": [
      "                                                                                                                       \r"
     ]
    },
    {
     "name": "stdout",
     "output_type": "stream",
     "text": [
      "MoviePy - Done.\n",
      "Moviepy - Writing video G:\\My Drive\\Data_Science\\Resulam\\Phrasebook_Audio_Video_Processing_production\\Languages\\YorubaPhrasebook\\Final_videos\\Yoruba_final_Chap14_chunk_1.mp4\n",
      "\n"
     ]
    },
    {
     "name": "stderr",
     "output_type": "stream",
     "text": [
      "                                                                                                                       \r"
     ]
    },
    {
     "name": "stdout",
     "output_type": "stream",
     "text": [
      "Moviepy - Done !\n",
      "Moviepy - video ready G:\\My Drive\\Data_Science\\Resulam\\Phrasebook_Audio_Video_Processing_production\\Languages\\YorubaPhrasebook\\Final_videos\\Yoruba_final_Chap14_chunk_1.mp4\n",
      "Moviepy - Building video G:\\My Drive\\Data_Science\\Resulam\\Phrasebook_Audio_Video_Processing_production\\Languages\\YorubaPhrasebook\\Final_videos\\Yoruba_final_Chap14_chunk_2.mp4.\n",
      "MoviePy - Writing audio in Yoruba_final_Chap14_chunk_2TEMP_MPY_wvf_snd.mp3\n"
     ]
    },
    {
     "name": "stderr",
     "output_type": "stream",
     "text": [
      "                                                                                                                       \r"
     ]
    },
    {
     "name": "stdout",
     "output_type": "stream",
     "text": [
      "MoviePy - Done.\n",
      "Moviepy - Writing video G:\\My Drive\\Data_Science\\Resulam\\Phrasebook_Audio_Video_Processing_production\\Languages\\YorubaPhrasebook\\Final_videos\\Yoruba_final_Chap14_chunk_2.mp4\n",
      "\n"
     ]
    },
    {
     "name": "stderr",
     "output_type": "stream",
     "text": [
      "                                                                                                                       \r"
     ]
    },
    {
     "name": "stdout",
     "output_type": "stream",
     "text": [
      "Moviepy - Done !\n",
      "Moviepy - video ready G:\\My Drive\\Data_Science\\Resulam\\Phrasebook_Audio_Video_Processing_production\\Languages\\YorubaPhrasebook\\Final_videos\\Yoruba_final_Chap14_chunk_2.mp4\n",
      "Moviepy - Building video G:\\My Drive\\Data_Science\\Resulam\\Phrasebook_Audio_Video_Processing_production\\Languages\\YorubaPhrasebook\\Final_videos\\Yoruba_final_Chap15_chunk_1.mp4.\n",
      "MoviePy - Writing audio in Yoruba_final_Chap15_chunk_1TEMP_MPY_wvf_snd.mp3\n"
     ]
    },
    {
     "name": "stderr",
     "output_type": "stream",
     "text": [
      "                                                                                                                       \r"
     ]
    },
    {
     "name": "stdout",
     "output_type": "stream",
     "text": [
      "MoviePy - Done.\n",
      "Moviepy - Writing video G:\\My Drive\\Data_Science\\Resulam\\Phrasebook_Audio_Video_Processing_production\\Languages\\YorubaPhrasebook\\Final_videos\\Yoruba_final_Chap15_chunk_1.mp4\n",
      "\n"
     ]
    },
    {
     "name": "stderr",
     "output_type": "stream",
     "text": [
      "                                                                                                                       \r"
     ]
    },
    {
     "name": "stdout",
     "output_type": "stream",
     "text": [
      "Moviepy - Done !\n",
      "Moviepy - video ready G:\\My Drive\\Data_Science\\Resulam\\Phrasebook_Audio_Video_Processing_production\\Languages\\YorubaPhrasebook\\Final_videos\\Yoruba_final_Chap15_chunk_1.mp4\n",
      "Moviepy - Building video G:\\My Drive\\Data_Science\\Resulam\\Phrasebook_Audio_Video_Processing_production\\Languages\\YorubaPhrasebook\\Final_videos\\Yoruba_final_Chap16_chunk_1.mp4.\n",
      "MoviePy - Writing audio in Yoruba_final_Chap16_chunk_1TEMP_MPY_wvf_snd.mp3\n"
     ]
    },
    {
     "name": "stderr",
     "output_type": "stream",
     "text": [
      "                                                                                                                       \r"
     ]
    },
    {
     "name": "stdout",
     "output_type": "stream",
     "text": [
      "MoviePy - Done.\n",
      "Moviepy - Writing video G:\\My Drive\\Data_Science\\Resulam\\Phrasebook_Audio_Video_Processing_production\\Languages\\YorubaPhrasebook\\Final_videos\\Yoruba_final_Chap16_chunk_1.mp4\n",
      "\n"
     ]
    },
    {
     "name": "stderr",
     "output_type": "stream",
     "text": [
      "                                                                                                                       \r"
     ]
    },
    {
     "name": "stdout",
     "output_type": "stream",
     "text": [
      "Moviepy - Done !\n",
      "Moviepy - video ready G:\\My Drive\\Data_Science\\Resulam\\Phrasebook_Audio_Video_Processing_production\\Languages\\YorubaPhrasebook\\Final_videos\\Yoruba_final_Chap16_chunk_1.mp4\n",
      "Moviepy - Building video G:\\My Drive\\Data_Science\\Resulam\\Phrasebook_Audio_Video_Processing_production\\Languages\\YorubaPhrasebook\\Final_videos\\Yoruba_final_Chap16_chunk_2.mp4.\n",
      "MoviePy - Writing audio in Yoruba_final_Chap16_chunk_2TEMP_MPY_wvf_snd.mp3\n"
     ]
    },
    {
     "name": "stderr",
     "output_type": "stream",
     "text": [
      "                                                                                                                       \r"
     ]
    },
    {
     "name": "stdout",
     "output_type": "stream",
     "text": [
      "MoviePy - Done.\n",
      "Moviepy - Writing video G:\\My Drive\\Data_Science\\Resulam\\Phrasebook_Audio_Video_Processing_production\\Languages\\YorubaPhrasebook\\Final_videos\\Yoruba_final_Chap16_chunk_2.mp4\n",
      "\n"
     ]
    },
    {
     "name": "stderr",
     "output_type": "stream",
     "text": [
      "                                                                                                                       \r"
     ]
    },
    {
     "name": "stdout",
     "output_type": "stream",
     "text": [
      "Moviepy - Done !\n",
      "Moviepy - video ready G:\\My Drive\\Data_Science\\Resulam\\Phrasebook_Audio_Video_Processing_production\\Languages\\YorubaPhrasebook\\Final_videos\\Yoruba_final_Chap16_chunk_2.mp4\n",
      "Moviepy - Building video G:\\My Drive\\Data_Science\\Resulam\\Phrasebook_Audio_Video_Processing_production\\Languages\\YorubaPhrasebook\\Final_videos\\Yoruba_final_Chap17_chunk_1.mp4.\n",
      "MoviePy - Writing audio in Yoruba_final_Chap17_chunk_1TEMP_MPY_wvf_snd.mp3\n"
     ]
    },
    {
     "name": "stderr",
     "output_type": "stream",
     "text": [
      "                                                                                                                       \r"
     ]
    },
    {
     "name": "stdout",
     "output_type": "stream",
     "text": [
      "MoviePy - Done.\n",
      "Moviepy - Writing video G:\\My Drive\\Data_Science\\Resulam\\Phrasebook_Audio_Video_Processing_production\\Languages\\YorubaPhrasebook\\Final_videos\\Yoruba_final_Chap17_chunk_1.mp4\n",
      "\n"
     ]
    },
    {
     "name": "stderr",
     "output_type": "stream",
     "text": [
      "                                                                                                                       \r"
     ]
    },
    {
     "name": "stdout",
     "output_type": "stream",
     "text": [
      "Moviepy - Done !\n",
      "Moviepy - video ready G:\\My Drive\\Data_Science\\Resulam\\Phrasebook_Audio_Video_Processing_production\\Languages\\YorubaPhrasebook\\Final_videos\\Yoruba_final_Chap17_chunk_1.mp4\n",
      "Moviepy - Building video G:\\My Drive\\Data_Science\\Resulam\\Phrasebook_Audio_Video_Processing_production\\Languages\\YorubaPhrasebook\\Final_videos\\Yoruba_final_Chap17_chunk_2.mp4.\n",
      "MoviePy - Writing audio in Yoruba_final_Chap17_chunk_2TEMP_MPY_wvf_snd.mp3\n"
     ]
    },
    {
     "name": "stderr",
     "output_type": "stream",
     "text": [
      "                                                                                                                       \r"
     ]
    },
    {
     "name": "stdout",
     "output_type": "stream",
     "text": [
      "MoviePy - Done.\n",
      "Moviepy - Writing video G:\\My Drive\\Data_Science\\Resulam\\Phrasebook_Audio_Video_Processing_production\\Languages\\YorubaPhrasebook\\Final_videos\\Yoruba_final_Chap17_chunk_2.mp4\n",
      "\n"
     ]
    },
    {
     "name": "stderr",
     "output_type": "stream",
     "text": [
      "                                                                                                                       \r"
     ]
    },
    {
     "name": "stdout",
     "output_type": "stream",
     "text": [
      "Moviepy - Done !\n",
      "Moviepy - video ready G:\\My Drive\\Data_Science\\Resulam\\Phrasebook_Audio_Video_Processing_production\\Languages\\YorubaPhrasebook\\Final_videos\\Yoruba_final_Chap17_chunk_2.mp4\n",
      "Moviepy - Building video G:\\My Drive\\Data_Science\\Resulam\\Phrasebook_Audio_Video_Processing_production\\Languages\\YorubaPhrasebook\\Final_videos\\Yoruba_final_Chap17_chunk_3.mp4.\n",
      "MoviePy - Writing audio in Yoruba_final_Chap17_chunk_3TEMP_MPY_wvf_snd.mp3\n"
     ]
    },
    {
     "name": "stderr",
     "output_type": "stream",
     "text": [
      "                                                                                                                       \r"
     ]
    },
    {
     "name": "stdout",
     "output_type": "stream",
     "text": [
      "MoviePy - Done.\n",
      "Moviepy - Writing video G:\\My Drive\\Data_Science\\Resulam\\Phrasebook_Audio_Video_Processing_production\\Languages\\YorubaPhrasebook\\Final_videos\\Yoruba_final_Chap17_chunk_3.mp4\n",
      "\n"
     ]
    },
    {
     "name": "stderr",
     "output_type": "stream",
     "text": [
      "                                                                                                                       \r"
     ]
    },
    {
     "name": "stdout",
     "output_type": "stream",
     "text": [
      "Moviepy - Done !\n",
      "Moviepy - video ready G:\\My Drive\\Data_Science\\Resulam\\Phrasebook_Audio_Video_Processing_production\\Languages\\YorubaPhrasebook\\Final_videos\\Yoruba_final_Chap17_chunk_3.mp4\n",
      "Moviepy - Building video G:\\My Drive\\Data_Science\\Resulam\\Phrasebook_Audio_Video_Processing_production\\Languages\\YorubaPhrasebook\\Final_videos\\Yoruba_final_Chap18_chunk_1.mp4.\n",
      "MoviePy - Writing audio in Yoruba_final_Chap18_chunk_1TEMP_MPY_wvf_snd.mp3\n"
     ]
    },
    {
     "name": "stderr",
     "output_type": "stream",
     "text": [
      "                                                                                                                       \r"
     ]
    },
    {
     "name": "stdout",
     "output_type": "stream",
     "text": [
      "MoviePy - Done.\n",
      "Moviepy - Writing video G:\\My Drive\\Data_Science\\Resulam\\Phrasebook_Audio_Video_Processing_production\\Languages\\YorubaPhrasebook\\Final_videos\\Yoruba_final_Chap18_chunk_1.mp4\n",
      "\n"
     ]
    },
    {
     "name": "stderr",
     "output_type": "stream",
     "text": [
      "                                                                                                                       \r"
     ]
    },
    {
     "name": "stdout",
     "output_type": "stream",
     "text": [
      "Moviepy - Done !\n",
      "Moviepy - video ready G:\\My Drive\\Data_Science\\Resulam\\Phrasebook_Audio_Video_Processing_production\\Languages\\YorubaPhrasebook\\Final_videos\\Yoruba_final_Chap18_chunk_1.mp4\n",
      "Moviepy - Building video G:\\My Drive\\Data_Science\\Resulam\\Phrasebook_Audio_Video_Processing_production\\Languages\\YorubaPhrasebook\\Final_videos\\Yoruba_final_Chap18_chunk_2.mp4.\n",
      "MoviePy - Writing audio in Yoruba_final_Chap18_chunk_2TEMP_MPY_wvf_snd.mp3\n"
     ]
    },
    {
     "name": "stderr",
     "output_type": "stream",
     "text": [
      "                                                                                                                       \r"
     ]
    },
    {
     "name": "stdout",
     "output_type": "stream",
     "text": [
      "MoviePy - Done.\n",
      "Moviepy - Writing video G:\\My Drive\\Data_Science\\Resulam\\Phrasebook_Audio_Video_Processing_production\\Languages\\YorubaPhrasebook\\Final_videos\\Yoruba_final_Chap18_chunk_2.mp4\n",
      "\n"
     ]
    },
    {
     "name": "stderr",
     "output_type": "stream",
     "text": [
      "                                                                                                                       \r"
     ]
    },
    {
     "name": "stdout",
     "output_type": "stream",
     "text": [
      "Moviepy - Done !\n",
      "Moviepy - video ready G:\\My Drive\\Data_Science\\Resulam\\Phrasebook_Audio_Video_Processing_production\\Languages\\YorubaPhrasebook\\Final_videos\\Yoruba_final_Chap18_chunk_2.mp4\n",
      "Moviepy - Building video G:\\My Drive\\Data_Science\\Resulam\\Phrasebook_Audio_Video_Processing_production\\Languages\\YorubaPhrasebook\\Final_videos\\Yoruba_final_Chap19_chunk_1.mp4.\n",
      "MoviePy - Writing audio in Yoruba_final_Chap19_chunk_1TEMP_MPY_wvf_snd.mp3\n"
     ]
    },
    {
     "name": "stderr",
     "output_type": "stream",
     "text": [
      "                                                                                                                       \r"
     ]
    },
    {
     "name": "stdout",
     "output_type": "stream",
     "text": [
      "MoviePy - Done.\n",
      "Moviepy - Writing video G:\\My Drive\\Data_Science\\Resulam\\Phrasebook_Audio_Video_Processing_production\\Languages\\YorubaPhrasebook\\Final_videos\\Yoruba_final_Chap19_chunk_1.mp4\n",
      "\n"
     ]
    },
    {
     "name": "stderr",
     "output_type": "stream",
     "text": [
      "                                                                                                                       \r"
     ]
    },
    {
     "name": "stdout",
     "output_type": "stream",
     "text": [
      "Moviepy - Done !\n",
      "Moviepy - video ready G:\\My Drive\\Data_Science\\Resulam\\Phrasebook_Audio_Video_Processing_production\\Languages\\YorubaPhrasebook\\Final_videos\\Yoruba_final_Chap19_chunk_1.mp4\n",
      "Moviepy - Building video G:\\My Drive\\Data_Science\\Resulam\\Phrasebook_Audio_Video_Processing_production\\Languages\\YorubaPhrasebook\\Final_videos\\Yoruba_final_Chap19_chunk_2.mp4.\n",
      "MoviePy - Writing audio in Yoruba_final_Chap19_chunk_2TEMP_MPY_wvf_snd.mp3\n"
     ]
    },
    {
     "name": "stderr",
     "output_type": "stream",
     "text": [
      "                                                                                                                       \r"
     ]
    },
    {
     "name": "stdout",
     "output_type": "stream",
     "text": [
      "MoviePy - Done.\n",
      "Moviepy - Writing video G:\\My Drive\\Data_Science\\Resulam\\Phrasebook_Audio_Video_Processing_production\\Languages\\YorubaPhrasebook\\Final_videos\\Yoruba_final_Chap19_chunk_2.mp4\n",
      "\n"
     ]
    },
    {
     "name": "stderr",
     "output_type": "stream",
     "text": [
      "                                                                                                                       \r"
     ]
    },
    {
     "name": "stdout",
     "output_type": "stream",
     "text": [
      "Moviepy - Done !\n",
      "Moviepy - video ready G:\\My Drive\\Data_Science\\Resulam\\Phrasebook_Audio_Video_Processing_production\\Languages\\YorubaPhrasebook\\Final_videos\\Yoruba_final_Chap19_chunk_2.mp4\n",
      "Moviepy - Building video G:\\My Drive\\Data_Science\\Resulam\\Phrasebook_Audio_Video_Processing_production\\Languages\\YorubaPhrasebook\\Final_videos\\Yoruba_final_Chap20_chunk_1.mp4.\n",
      "MoviePy - Writing audio in Yoruba_final_Chap20_chunk_1TEMP_MPY_wvf_snd.mp3\n"
     ]
    },
    {
     "name": "stderr",
     "output_type": "stream",
     "text": [
      "                                                                                                                       \r"
     ]
    },
    {
     "name": "stdout",
     "output_type": "stream",
     "text": [
      "MoviePy - Done.\n",
      "Moviepy - Writing video G:\\My Drive\\Data_Science\\Resulam\\Phrasebook_Audio_Video_Processing_production\\Languages\\YorubaPhrasebook\\Final_videos\\Yoruba_final_Chap20_chunk_1.mp4\n",
      "\n"
     ]
    },
    {
     "name": "stderr",
     "output_type": "stream",
     "text": [
      "                                                                                                                       \r"
     ]
    },
    {
     "name": "stdout",
     "output_type": "stream",
     "text": [
      "Moviepy - Done !\n",
      "Moviepy - video ready G:\\My Drive\\Data_Science\\Resulam\\Phrasebook_Audio_Video_Processing_production\\Languages\\YorubaPhrasebook\\Final_videos\\Yoruba_final_Chap20_chunk_1.mp4\n",
      "Moviepy - Building video G:\\My Drive\\Data_Science\\Resulam\\Phrasebook_Audio_Video_Processing_production\\Languages\\YorubaPhrasebook\\Final_videos\\Yoruba_final_Chap20_chunk_2.mp4.\n",
      "MoviePy - Writing audio in Yoruba_final_Chap20_chunk_2TEMP_MPY_wvf_snd.mp3\n"
     ]
    },
    {
     "name": "stderr",
     "output_type": "stream",
     "text": [
      "                                                                                                                       \r"
     ]
    },
    {
     "name": "stdout",
     "output_type": "stream",
     "text": [
      "MoviePy - Done.\n",
      "Moviepy - Writing video G:\\My Drive\\Data_Science\\Resulam\\Phrasebook_Audio_Video_Processing_production\\Languages\\YorubaPhrasebook\\Final_videos\\Yoruba_final_Chap20_chunk_2.mp4\n",
      "\n"
     ]
    },
    {
     "name": "stderr",
     "output_type": "stream",
     "text": [
      "                                                                                                                       \r"
     ]
    },
    {
     "name": "stdout",
     "output_type": "stream",
     "text": [
      "Moviepy - Done !\n",
      "Moviepy - video ready G:\\My Drive\\Data_Science\\Resulam\\Phrasebook_Audio_Video_Processing_production\\Languages\\YorubaPhrasebook\\Final_videos\\Yoruba_final_Chap20_chunk_2.mp4\n",
      "Moviepy - Building video G:\\My Drive\\Data_Science\\Resulam\\Phrasebook_Audio_Video_Processing_production\\Languages\\YorubaPhrasebook\\Final_videos\\Yoruba_final_Chap21_chunk_1.mp4.\n",
      "MoviePy - Writing audio in Yoruba_final_Chap21_chunk_1TEMP_MPY_wvf_snd.mp3\n"
     ]
    },
    {
     "name": "stderr",
     "output_type": "stream",
     "text": [
      "                                                                                                                       \r"
     ]
    },
    {
     "name": "stdout",
     "output_type": "stream",
     "text": [
      "MoviePy - Done.\n",
      "Moviepy - Writing video G:\\My Drive\\Data_Science\\Resulam\\Phrasebook_Audio_Video_Processing_production\\Languages\\YorubaPhrasebook\\Final_videos\\Yoruba_final_Chap21_chunk_1.mp4\n",
      "\n"
     ]
    },
    {
     "name": "stderr",
     "output_type": "stream",
     "text": [
      "                                                                                                                       \r"
     ]
    },
    {
     "name": "stdout",
     "output_type": "stream",
     "text": [
      "Moviepy - Done !\n",
      "Moviepy - video ready G:\\My Drive\\Data_Science\\Resulam\\Phrasebook_Audio_Video_Processing_production\\Languages\\YorubaPhrasebook\\Final_videos\\Yoruba_final_Chap21_chunk_1.mp4\n",
      "Moviepy - Building video G:\\My Drive\\Data_Science\\Resulam\\Phrasebook_Audio_Video_Processing_production\\Languages\\YorubaPhrasebook\\Final_videos\\Yoruba_final_Chap21_chunk_2.mp4.\n",
      "MoviePy - Writing audio in Yoruba_final_Chap21_chunk_2TEMP_MPY_wvf_snd.mp3\n"
     ]
    },
    {
     "name": "stderr",
     "output_type": "stream",
     "text": [
      "                                                                                                                       \r"
     ]
    },
    {
     "name": "stdout",
     "output_type": "stream",
     "text": [
      "MoviePy - Done.\n",
      "Moviepy - Writing video G:\\My Drive\\Data_Science\\Resulam\\Phrasebook_Audio_Video_Processing_production\\Languages\\YorubaPhrasebook\\Final_videos\\Yoruba_final_Chap21_chunk_2.mp4\n",
      "\n"
     ]
    },
    {
     "name": "stderr",
     "output_type": "stream",
     "text": [
      "                                                                                                                       \r"
     ]
    },
    {
     "name": "stdout",
     "output_type": "stream",
     "text": [
      "Moviepy - Done !\n",
      "Moviepy - video ready G:\\My Drive\\Data_Science\\Resulam\\Phrasebook_Audio_Video_Processing_production\\Languages\\YorubaPhrasebook\\Final_videos\\Yoruba_final_Chap21_chunk_2.mp4\n",
      "Moviepy - Building video G:\\My Drive\\Data_Science\\Resulam\\Phrasebook_Audio_Video_Processing_production\\Languages\\YorubaPhrasebook\\Final_videos\\Yoruba_final_Chap22_chunk_1.mp4.\n",
      "MoviePy - Writing audio in Yoruba_final_Chap22_chunk_1TEMP_MPY_wvf_snd.mp3\n"
     ]
    },
    {
     "name": "stderr",
     "output_type": "stream",
     "text": [
      "                                                                                                                       \r"
     ]
    },
    {
     "name": "stdout",
     "output_type": "stream",
     "text": [
      "MoviePy - Done.\n",
      "Moviepy - Writing video G:\\My Drive\\Data_Science\\Resulam\\Phrasebook_Audio_Video_Processing_production\\Languages\\YorubaPhrasebook\\Final_videos\\Yoruba_final_Chap22_chunk_1.mp4\n",
      "\n"
     ]
    },
    {
     "name": "stderr",
     "output_type": "stream",
     "text": [
      "                                                                                                                       \r"
     ]
    },
    {
     "name": "stdout",
     "output_type": "stream",
     "text": [
      "Moviepy - Done !\n",
      "Moviepy - video ready G:\\My Drive\\Data_Science\\Resulam\\Phrasebook_Audio_Video_Processing_production\\Languages\\YorubaPhrasebook\\Final_videos\\Yoruba_final_Chap22_chunk_1.mp4\n",
      "Moviepy - Building video G:\\My Drive\\Data_Science\\Resulam\\Phrasebook_Audio_Video_Processing_production\\Languages\\YorubaPhrasebook\\Final_videos\\Yoruba_final_Chap22_chunk_2.mp4.\n",
      "MoviePy - Writing audio in Yoruba_final_Chap22_chunk_2TEMP_MPY_wvf_snd.mp3\n"
     ]
    },
    {
     "name": "stderr",
     "output_type": "stream",
     "text": [
      "                                                                                                                       \r"
     ]
    },
    {
     "name": "stdout",
     "output_type": "stream",
     "text": [
      "MoviePy - Done.\n",
      "Moviepy - Writing video G:\\My Drive\\Data_Science\\Resulam\\Phrasebook_Audio_Video_Processing_production\\Languages\\YorubaPhrasebook\\Final_videos\\Yoruba_final_Chap22_chunk_2.mp4\n",
      "\n"
     ]
    },
    {
     "name": "stderr",
     "output_type": "stream",
     "text": [
      "                                                                                                                       \r"
     ]
    },
    {
     "name": "stdout",
     "output_type": "stream",
     "text": [
      "Moviepy - Done !\n",
      "Moviepy - video ready G:\\My Drive\\Data_Science\\Resulam\\Phrasebook_Audio_Video_Processing_production\\Languages\\YorubaPhrasebook\\Final_videos\\Yoruba_final_Chap22_chunk_2.mp4\n",
      "Moviepy - Building video G:\\My Drive\\Data_Science\\Resulam\\Phrasebook_Audio_Video_Processing_production\\Languages\\YorubaPhrasebook\\Final_videos\\Yoruba_final_Chap22_chunk_3.mp4.\n",
      "MoviePy - Writing audio in Yoruba_final_Chap22_chunk_3TEMP_MPY_wvf_snd.mp3\n"
     ]
    },
    {
     "name": "stderr",
     "output_type": "stream",
     "text": [
      "                                                                                                                       \r"
     ]
    },
    {
     "name": "stdout",
     "output_type": "stream",
     "text": [
      "MoviePy - Done.\n",
      "Moviepy - Writing video G:\\My Drive\\Data_Science\\Resulam\\Phrasebook_Audio_Video_Processing_production\\Languages\\YorubaPhrasebook\\Final_videos\\Yoruba_final_Chap22_chunk_3.mp4\n",
      "\n"
     ]
    },
    {
     "name": "stderr",
     "output_type": "stream",
     "text": [
      "                                                                                                                       \r"
     ]
    },
    {
     "name": "stdout",
     "output_type": "stream",
     "text": [
      "Moviepy - Done !\n",
      "Moviepy - video ready G:\\My Drive\\Data_Science\\Resulam\\Phrasebook_Audio_Video_Processing_production\\Languages\\YorubaPhrasebook\\Final_videos\\Yoruba_final_Chap22_chunk_3.mp4\n",
      "Moviepy - Building video G:\\My Drive\\Data_Science\\Resulam\\Phrasebook_Audio_Video_Processing_production\\Languages\\YorubaPhrasebook\\Final_videos\\Yoruba_final_Chap22_chunk_4.mp4.\n",
      "MoviePy - Writing audio in Yoruba_final_Chap22_chunk_4TEMP_MPY_wvf_snd.mp3\n"
     ]
    },
    {
     "name": "stderr",
     "output_type": "stream",
     "text": [
      "                                                                                                                       \r"
     ]
    },
    {
     "name": "stdout",
     "output_type": "stream",
     "text": [
      "MoviePy - Done.\n",
      "Moviepy - Writing video G:\\My Drive\\Data_Science\\Resulam\\Phrasebook_Audio_Video_Processing_production\\Languages\\YorubaPhrasebook\\Final_videos\\Yoruba_final_Chap22_chunk_4.mp4\n",
      "\n"
     ]
    },
    {
     "name": "stderr",
     "output_type": "stream",
     "text": [
      "                                                                                                                       \r"
     ]
    },
    {
     "name": "stdout",
     "output_type": "stream",
     "text": [
      "Moviepy - Done !\n",
      "Moviepy - video ready G:\\My Drive\\Data_Science\\Resulam\\Phrasebook_Audio_Video_Processing_production\\Languages\\YorubaPhrasebook\\Final_videos\\Yoruba_final_Chap22_chunk_4.mp4\n",
      "Moviepy - Building video G:\\My Drive\\Data_Science\\Resulam\\Phrasebook_Audio_Video_Processing_production\\Languages\\YorubaPhrasebook\\Final_videos\\Yoruba_final_Chap23_chunk_1.mp4.\n",
      "MoviePy - Writing audio in Yoruba_final_Chap23_chunk_1TEMP_MPY_wvf_snd.mp3\n"
     ]
    },
    {
     "name": "stderr",
     "output_type": "stream",
     "text": [
      "                                                                                                                       \r"
     ]
    },
    {
     "name": "stdout",
     "output_type": "stream",
     "text": [
      "MoviePy - Done.\n",
      "Moviepy - Writing video G:\\My Drive\\Data_Science\\Resulam\\Phrasebook_Audio_Video_Processing_production\\Languages\\YorubaPhrasebook\\Final_videos\\Yoruba_final_Chap23_chunk_1.mp4\n",
      "\n"
     ]
    },
    {
     "name": "stderr",
     "output_type": "stream",
     "text": [
      "                                                                                                                       \r"
     ]
    },
    {
     "name": "stdout",
     "output_type": "stream",
     "text": [
      "Moviepy - Done !\n",
      "Moviepy - video ready G:\\My Drive\\Data_Science\\Resulam\\Phrasebook_Audio_Video_Processing_production\\Languages\\YorubaPhrasebook\\Final_videos\\Yoruba_final_Chap23_chunk_1.mp4\n",
      "Moviepy - Building video G:\\My Drive\\Data_Science\\Resulam\\Phrasebook_Audio_Video_Processing_production\\Languages\\YorubaPhrasebook\\Final_videos\\Yoruba_final_Chap23_chunk_2.mp4.\n",
      "MoviePy - Writing audio in Yoruba_final_Chap23_chunk_2TEMP_MPY_wvf_snd.mp3\n"
     ]
    },
    {
     "name": "stderr",
     "output_type": "stream",
     "text": [
      "                                                                                                                       \r"
     ]
    },
    {
     "name": "stdout",
     "output_type": "stream",
     "text": [
      "MoviePy - Done.\n",
      "Moviepy - Writing video G:\\My Drive\\Data_Science\\Resulam\\Phrasebook_Audio_Video_Processing_production\\Languages\\YorubaPhrasebook\\Final_videos\\Yoruba_final_Chap23_chunk_2.mp4\n",
      "\n"
     ]
    },
    {
     "name": "stderr",
     "output_type": "stream",
     "text": [
      "                                                                                                                       \r"
     ]
    },
    {
     "name": "stdout",
     "output_type": "stream",
     "text": [
      "Moviepy - Done !\n",
      "Moviepy - video ready G:\\My Drive\\Data_Science\\Resulam\\Phrasebook_Audio_Video_Processing_production\\Languages\\YorubaPhrasebook\\Final_videos\\Yoruba_final_Chap23_chunk_2.mp4\n",
      "Moviepy - Building video G:\\My Drive\\Data_Science\\Resulam\\Phrasebook_Audio_Video_Processing_production\\Languages\\YorubaPhrasebook\\Final_videos\\Yoruba_final_Chap24_chunk_1.mp4.\n",
      "MoviePy - Writing audio in Yoruba_final_Chap24_chunk_1TEMP_MPY_wvf_snd.mp3\n"
     ]
    },
    {
     "name": "stderr",
     "output_type": "stream",
     "text": [
      "                                                                                                                       \r"
     ]
    },
    {
     "name": "stdout",
     "output_type": "stream",
     "text": [
      "MoviePy - Done.\n",
      "Moviepy - Writing video G:\\My Drive\\Data_Science\\Resulam\\Phrasebook_Audio_Video_Processing_production\\Languages\\YorubaPhrasebook\\Final_videos\\Yoruba_final_Chap24_chunk_1.mp4\n",
      "\n"
     ]
    },
    {
     "name": "stderr",
     "output_type": "stream",
     "text": [
      "                                                                                                                       \r"
     ]
    },
    {
     "name": "stdout",
     "output_type": "stream",
     "text": [
      "Moviepy - Done !\n",
      "Moviepy - video ready G:\\My Drive\\Data_Science\\Resulam\\Phrasebook_Audio_Video_Processing_production\\Languages\\YorubaPhrasebook\\Final_videos\\Yoruba_final_Chap24_chunk_1.mp4\n",
      "Moviepy - Building video G:\\My Drive\\Data_Science\\Resulam\\Phrasebook_Audio_Video_Processing_production\\Languages\\YorubaPhrasebook\\Final_videos\\Yoruba_final_Chap24_chunk_2.mp4.\n",
      "MoviePy - Writing audio in Yoruba_final_Chap24_chunk_2TEMP_MPY_wvf_snd.mp3\n"
     ]
    },
    {
     "name": "stderr",
     "output_type": "stream",
     "text": [
      "                                                                                                                       \r"
     ]
    },
    {
     "name": "stdout",
     "output_type": "stream",
     "text": [
      "MoviePy - Done.\n",
      "Moviepy - Writing video G:\\My Drive\\Data_Science\\Resulam\\Phrasebook_Audio_Video_Processing_production\\Languages\\YorubaPhrasebook\\Final_videos\\Yoruba_final_Chap24_chunk_2.mp4\n",
      "\n"
     ]
    },
    {
     "name": "stderr",
     "output_type": "stream",
     "text": [
      "                                                                                                                       \r"
     ]
    },
    {
     "name": "stdout",
     "output_type": "stream",
     "text": [
      "Moviepy - Done !\n",
      "Moviepy - video ready G:\\My Drive\\Data_Science\\Resulam\\Phrasebook_Audio_Video_Processing_production\\Languages\\YorubaPhrasebook\\Final_videos\\Yoruba_final_Chap24_chunk_2.mp4\n",
      "Moviepy - Building video G:\\My Drive\\Data_Science\\Resulam\\Phrasebook_Audio_Video_Processing_production\\Languages\\YorubaPhrasebook\\Final_videos\\Yoruba_final_Chap24_chunk_3.mp4.\n",
      "MoviePy - Writing audio in Yoruba_final_Chap24_chunk_3TEMP_MPY_wvf_snd.mp3\n"
     ]
    },
    {
     "name": "stderr",
     "output_type": "stream",
     "text": [
      "                                                                                                                       \r"
     ]
    },
    {
     "name": "stdout",
     "output_type": "stream",
     "text": [
      "MoviePy - Done.\n",
      "Moviepy - Writing video G:\\My Drive\\Data_Science\\Resulam\\Phrasebook_Audio_Video_Processing_production\\Languages\\YorubaPhrasebook\\Final_videos\\Yoruba_final_Chap24_chunk_3.mp4\n",
      "\n"
     ]
    },
    {
     "name": "stderr",
     "output_type": "stream",
     "text": [
      "                                                                                                                       \r"
     ]
    },
    {
     "name": "stdout",
     "output_type": "stream",
     "text": [
      "Moviepy - Done !\n",
      "Moviepy - video ready G:\\My Drive\\Data_Science\\Resulam\\Phrasebook_Audio_Video_Processing_production\\Languages\\YorubaPhrasebook\\Final_videos\\Yoruba_final_Chap24_chunk_3.mp4\n",
      "Moviepy - Building video G:\\My Drive\\Data_Science\\Resulam\\Phrasebook_Audio_Video_Processing_production\\Languages\\YorubaPhrasebook\\Final_videos\\Yoruba_final_Chap24_chunk_4.mp4.\n",
      "MoviePy - Writing audio in Yoruba_final_Chap24_chunk_4TEMP_MPY_wvf_snd.mp3\n"
     ]
    },
    {
     "name": "stderr",
     "output_type": "stream",
     "text": [
      "                                                                                                                       \r"
     ]
    },
    {
     "name": "stdout",
     "output_type": "stream",
     "text": [
      "MoviePy - Done.\n",
      "Moviepy - Writing video G:\\My Drive\\Data_Science\\Resulam\\Phrasebook_Audio_Video_Processing_production\\Languages\\YorubaPhrasebook\\Final_videos\\Yoruba_final_Chap24_chunk_4.mp4\n",
      "\n"
     ]
    },
    {
     "name": "stderr",
     "output_type": "stream",
     "text": [
      "                                                                                                                       \r"
     ]
    },
    {
     "name": "stdout",
     "output_type": "stream",
     "text": [
      "Moviepy - Done !\n",
      "Moviepy - video ready G:\\My Drive\\Data_Science\\Resulam\\Phrasebook_Audio_Video_Processing_production\\Languages\\YorubaPhrasebook\\Final_videos\\Yoruba_final_Chap24_chunk_4.mp4\n",
      "Moviepy - Building video G:\\My Drive\\Data_Science\\Resulam\\Phrasebook_Audio_Video_Processing_production\\Languages\\YorubaPhrasebook\\Final_videos\\Yoruba_final_Chap25_chunk_1.mp4.\n",
      "MoviePy - Writing audio in Yoruba_final_Chap25_chunk_1TEMP_MPY_wvf_snd.mp3\n"
     ]
    },
    {
     "name": "stderr",
     "output_type": "stream",
     "text": [
      "                                                                                                                       \r"
     ]
    },
    {
     "name": "stdout",
     "output_type": "stream",
     "text": [
      "MoviePy - Done.\n",
      "Moviepy - Writing video G:\\My Drive\\Data_Science\\Resulam\\Phrasebook_Audio_Video_Processing_production\\Languages\\YorubaPhrasebook\\Final_videos\\Yoruba_final_Chap25_chunk_1.mp4\n",
      "\n"
     ]
    },
    {
     "name": "stderr",
     "output_type": "stream",
     "text": [
      "                                                                                                                       \r"
     ]
    },
    {
     "name": "stdout",
     "output_type": "stream",
     "text": [
      "Moviepy - Done !\n",
      "Moviepy - video ready G:\\My Drive\\Data_Science\\Resulam\\Phrasebook_Audio_Video_Processing_production\\Languages\\YorubaPhrasebook\\Final_videos\\Yoruba_final_Chap25_chunk_1.mp4\n",
      "Moviepy - Building video G:\\My Drive\\Data_Science\\Resulam\\Phrasebook_Audio_Video_Processing_production\\Languages\\YorubaPhrasebook\\Final_videos\\Yoruba_final_Chap25_chunk_2.mp4.\n",
      "MoviePy - Writing audio in Yoruba_final_Chap25_chunk_2TEMP_MPY_wvf_snd.mp3\n"
     ]
    },
    {
     "name": "stderr",
     "output_type": "stream",
     "text": [
      "                                                                                                                       \r"
     ]
    },
    {
     "name": "stdout",
     "output_type": "stream",
     "text": [
      "MoviePy - Done.\n",
      "Moviepy - Writing video G:\\My Drive\\Data_Science\\Resulam\\Phrasebook_Audio_Video_Processing_production\\Languages\\YorubaPhrasebook\\Final_videos\\Yoruba_final_Chap25_chunk_2.mp4\n",
      "\n"
     ]
    },
    {
     "name": "stderr",
     "output_type": "stream",
     "text": [
      "                                                                                                                       \r"
     ]
    },
    {
     "name": "stdout",
     "output_type": "stream",
     "text": [
      "Moviepy - Done !\n",
      "Moviepy - video ready G:\\My Drive\\Data_Science\\Resulam\\Phrasebook_Audio_Video_Processing_production\\Languages\\YorubaPhrasebook\\Final_videos\\Yoruba_final_Chap25_chunk_2.mp4\n",
      "Moviepy - Building video G:\\My Drive\\Data_Science\\Resulam\\Phrasebook_Audio_Video_Processing_production\\Languages\\YorubaPhrasebook\\Final_videos\\Yoruba_final_Chap26_chunk_1.mp4.\n",
      "MoviePy - Writing audio in Yoruba_final_Chap26_chunk_1TEMP_MPY_wvf_snd.mp3\n"
     ]
    },
    {
     "name": "stderr",
     "output_type": "stream",
     "text": [
      "                                                                                                                       \r"
     ]
    },
    {
     "name": "stdout",
     "output_type": "stream",
     "text": [
      "MoviePy - Done.\n",
      "Moviepy - Writing video G:\\My Drive\\Data_Science\\Resulam\\Phrasebook_Audio_Video_Processing_production\\Languages\\YorubaPhrasebook\\Final_videos\\Yoruba_final_Chap26_chunk_1.mp4\n",
      "\n"
     ]
    },
    {
     "name": "stderr",
     "output_type": "stream",
     "text": [
      "                                                                                                                       \r"
     ]
    },
    {
     "name": "stdout",
     "output_type": "stream",
     "text": [
      "Moviepy - Done !\n",
      "Moviepy - video ready G:\\My Drive\\Data_Science\\Resulam\\Phrasebook_Audio_Video_Processing_production\\Languages\\YorubaPhrasebook\\Final_videos\\Yoruba_final_Chap26_chunk_1.mp4\n",
      "Moviepy - Building video G:\\My Drive\\Data_Science\\Resulam\\Phrasebook_Audio_Video_Processing_production\\Languages\\YorubaPhrasebook\\Final_videos\\Yoruba_final_Chap26_chunk_2.mp4.\n",
      "MoviePy - Writing audio in Yoruba_final_Chap26_chunk_2TEMP_MPY_wvf_snd.mp3\n"
     ]
    },
    {
     "name": "stderr",
     "output_type": "stream",
     "text": [
      "                                                                                                                       \r"
     ]
    },
    {
     "name": "stdout",
     "output_type": "stream",
     "text": [
      "MoviePy - Done.\n",
      "Moviepy - Writing video G:\\My Drive\\Data_Science\\Resulam\\Phrasebook_Audio_Video_Processing_production\\Languages\\YorubaPhrasebook\\Final_videos\\Yoruba_final_Chap26_chunk_2.mp4\n",
      "\n"
     ]
    },
    {
     "name": "stderr",
     "output_type": "stream",
     "text": [
      "                                                                                                                       \r"
     ]
    },
    {
     "name": "stdout",
     "output_type": "stream",
     "text": [
      "Moviepy - Done !\n",
      "Moviepy - video ready G:\\My Drive\\Data_Science\\Resulam\\Phrasebook_Audio_Video_Processing_production\\Languages\\YorubaPhrasebook\\Final_videos\\Yoruba_final_Chap26_chunk_2.mp4\n",
      "Moviepy - Building video G:\\My Drive\\Data_Science\\Resulam\\Phrasebook_Audio_Video_Processing_production\\Languages\\YorubaPhrasebook\\Final_videos\\Yoruba_final_Chap26_chunk_3.mp4.\n",
      "MoviePy - Writing audio in Yoruba_final_Chap26_chunk_3TEMP_MPY_wvf_snd.mp3\n"
     ]
    },
    {
     "name": "stderr",
     "output_type": "stream",
     "text": [
      "                                                                                                                       \r"
     ]
    },
    {
     "name": "stdout",
     "output_type": "stream",
     "text": [
      "MoviePy - Done.\n",
      "Moviepy - Writing video G:\\My Drive\\Data_Science\\Resulam\\Phrasebook_Audio_Video_Processing_production\\Languages\\YorubaPhrasebook\\Final_videos\\Yoruba_final_Chap26_chunk_3.mp4\n",
      "\n"
     ]
    },
    {
     "name": "stderr",
     "output_type": "stream",
     "text": [
      "                                                                                                                       \r"
     ]
    },
    {
     "name": "stdout",
     "output_type": "stream",
     "text": [
      "Moviepy - Done !\n",
      "Moviepy - video ready G:\\My Drive\\Data_Science\\Resulam\\Phrasebook_Audio_Video_Processing_production\\Languages\\YorubaPhrasebook\\Final_videos\\Yoruba_final_Chap26_chunk_3.mp4\n",
      "Moviepy - Building video G:\\My Drive\\Data_Science\\Resulam\\Phrasebook_Audio_Video_Processing_production\\Languages\\YorubaPhrasebook\\Final_videos\\Yoruba_final_Chap26_chunk_4.mp4.\n",
      "MoviePy - Writing audio in Yoruba_final_Chap26_chunk_4TEMP_MPY_wvf_snd.mp3\n"
     ]
    },
    {
     "name": "stderr",
     "output_type": "stream",
     "text": [
      "                                                                                                                       \r"
     ]
    },
    {
     "name": "stdout",
     "output_type": "stream",
     "text": [
      "MoviePy - Done.\n",
      "Moviepy - Writing video G:\\My Drive\\Data_Science\\Resulam\\Phrasebook_Audio_Video_Processing_production\\Languages\\YorubaPhrasebook\\Final_videos\\Yoruba_final_Chap26_chunk_4.mp4\n",
      "\n"
     ]
    },
    {
     "name": "stderr",
     "output_type": "stream",
     "text": [
      "                                                                                                                       \r"
     ]
    },
    {
     "name": "stdout",
     "output_type": "stream",
     "text": [
      "Moviepy - Done !\n",
      "Moviepy - video ready G:\\My Drive\\Data_Science\\Resulam\\Phrasebook_Audio_Video_Processing_production\\Languages\\YorubaPhrasebook\\Final_videos\\Yoruba_final_Chap26_chunk_4.mp4\n",
      "Moviepy - Building video G:\\My Drive\\Data_Science\\Resulam\\Phrasebook_Audio_Video_Processing_production\\Languages\\YorubaPhrasebook\\Final_videos\\Yoruba_final_Chap27_chunk_1.mp4.\n",
      "MoviePy - Writing audio in Yoruba_final_Chap27_chunk_1TEMP_MPY_wvf_snd.mp3\n"
     ]
    },
    {
     "name": "stderr",
     "output_type": "stream",
     "text": [
      "                                                                                                                       \r"
     ]
    },
    {
     "name": "stdout",
     "output_type": "stream",
     "text": [
      "MoviePy - Done.\n",
      "Moviepy - Writing video G:\\My Drive\\Data_Science\\Resulam\\Phrasebook_Audio_Video_Processing_production\\Languages\\YorubaPhrasebook\\Final_videos\\Yoruba_final_Chap27_chunk_1.mp4\n",
      "\n"
     ]
    },
    {
     "name": "stderr",
     "output_type": "stream",
     "text": [
      "                                                                                                                       \r"
     ]
    },
    {
     "name": "stdout",
     "output_type": "stream",
     "text": [
      "Moviepy - Done !\n",
      "Moviepy - video ready G:\\My Drive\\Data_Science\\Resulam\\Phrasebook_Audio_Video_Processing_production\\Languages\\YorubaPhrasebook\\Final_videos\\Yoruba_final_Chap27_chunk_1.mp4\n",
      "Moviepy - Building video G:\\My Drive\\Data_Science\\Resulam\\Phrasebook_Audio_Video_Processing_production\\Languages\\YorubaPhrasebook\\Final_videos\\Yoruba_final_Chap27_chunk_2.mp4.\n",
      "MoviePy - Writing audio in Yoruba_final_Chap27_chunk_2TEMP_MPY_wvf_snd.mp3\n"
     ]
    },
    {
     "name": "stderr",
     "output_type": "stream",
     "text": [
      "                                                                                                                       \r"
     ]
    },
    {
     "name": "stdout",
     "output_type": "stream",
     "text": [
      "MoviePy - Done.\n",
      "Moviepy - Writing video G:\\My Drive\\Data_Science\\Resulam\\Phrasebook_Audio_Video_Processing_production\\Languages\\YorubaPhrasebook\\Final_videos\\Yoruba_final_Chap27_chunk_2.mp4\n",
      "\n"
     ]
    },
    {
     "name": "stderr",
     "output_type": "stream",
     "text": [
      "                                                                                                                       \r"
     ]
    },
    {
     "name": "stdout",
     "output_type": "stream",
     "text": [
      "Moviepy - Done !\n",
      "Moviepy - video ready G:\\My Drive\\Data_Science\\Resulam\\Phrasebook_Audio_Video_Processing_production\\Languages\\YorubaPhrasebook\\Final_videos\\Yoruba_final_Chap27_chunk_2.mp4\n",
      "Moviepy - Building video G:\\My Drive\\Data_Science\\Resulam\\Phrasebook_Audio_Video_Processing_production\\Languages\\YorubaPhrasebook\\Final_videos\\Yoruba_final_Chap27_chunk_3.mp4.\n",
      "MoviePy - Writing audio in Yoruba_final_Chap27_chunk_3TEMP_MPY_wvf_snd.mp3\n"
     ]
    },
    {
     "name": "stderr",
     "output_type": "stream",
     "text": [
      "                                                                                                                       \r"
     ]
    },
    {
     "name": "stdout",
     "output_type": "stream",
     "text": [
      "MoviePy - Done.\n",
      "Moviepy - Writing video G:\\My Drive\\Data_Science\\Resulam\\Phrasebook_Audio_Video_Processing_production\\Languages\\YorubaPhrasebook\\Final_videos\\Yoruba_final_Chap27_chunk_3.mp4\n",
      "\n"
     ]
    },
    {
     "name": "stderr",
     "output_type": "stream",
     "text": [
      "                                                                                                                       \r"
     ]
    },
    {
     "name": "stdout",
     "output_type": "stream",
     "text": [
      "Moviepy - Done !\n",
      "Moviepy - video ready G:\\My Drive\\Data_Science\\Resulam\\Phrasebook_Audio_Video_Processing_production\\Languages\\YorubaPhrasebook\\Final_videos\\Yoruba_final_Chap27_chunk_3.mp4\n",
      "Moviepy - Building video G:\\My Drive\\Data_Science\\Resulam\\Phrasebook_Audio_Video_Processing_production\\Languages\\YorubaPhrasebook\\Final_videos\\Yoruba_final_Chap27_chunk_4.mp4.\n",
      "MoviePy - Writing audio in Yoruba_final_Chap27_chunk_4TEMP_MPY_wvf_snd.mp3\n"
     ]
    },
    {
     "name": "stderr",
     "output_type": "stream",
     "text": [
      "                                                                                                                       \r"
     ]
    },
    {
     "name": "stdout",
     "output_type": "stream",
     "text": [
      "MoviePy - Done.\n",
      "Moviepy - Writing video G:\\My Drive\\Data_Science\\Resulam\\Phrasebook_Audio_Video_Processing_production\\Languages\\YorubaPhrasebook\\Final_videos\\Yoruba_final_Chap27_chunk_4.mp4\n",
      "\n"
     ]
    },
    {
     "name": "stderr",
     "output_type": "stream",
     "text": [
      "                                                                                                                       \r"
     ]
    },
    {
     "name": "stdout",
     "output_type": "stream",
     "text": [
      "Moviepy - Done !\n",
      "Moviepy - video ready G:\\My Drive\\Data_Science\\Resulam\\Phrasebook_Audio_Video_Processing_production\\Languages\\YorubaPhrasebook\\Final_videos\\Yoruba_final_Chap27_chunk_4.mp4\n",
      "Moviepy - Building video G:\\My Drive\\Data_Science\\Resulam\\Phrasebook_Audio_Video_Processing_production\\Languages\\YorubaPhrasebook\\Final_videos\\Yoruba_final_Chap28_chunk_1.mp4.\n",
      "MoviePy - Writing audio in Yoruba_final_Chap28_chunk_1TEMP_MPY_wvf_snd.mp3\n"
     ]
    },
    {
     "name": "stderr",
     "output_type": "stream",
     "text": [
      "                                                                                                                       \r"
     ]
    },
    {
     "name": "stdout",
     "output_type": "stream",
     "text": [
      "MoviePy - Done.\n",
      "Moviepy - Writing video G:\\My Drive\\Data_Science\\Resulam\\Phrasebook_Audio_Video_Processing_production\\Languages\\YorubaPhrasebook\\Final_videos\\Yoruba_final_Chap28_chunk_1.mp4\n",
      "\n"
     ]
    },
    {
     "name": "stderr",
     "output_type": "stream",
     "text": [
      "                                                                                                                       \r"
     ]
    },
    {
     "name": "stdout",
     "output_type": "stream",
     "text": [
      "Moviepy - Done !\n",
      "Moviepy - video ready G:\\My Drive\\Data_Science\\Resulam\\Phrasebook_Audio_Video_Processing_production\\Languages\\YorubaPhrasebook\\Final_videos\\Yoruba_final_Chap28_chunk_1.mp4\n",
      "Moviepy - Building video G:\\My Drive\\Data_Science\\Resulam\\Phrasebook_Audio_Video_Processing_production\\Languages\\YorubaPhrasebook\\Final_videos\\Yoruba_final_Chap28_chunk_2.mp4.\n",
      "MoviePy - Writing audio in Yoruba_final_Chap28_chunk_2TEMP_MPY_wvf_snd.mp3\n"
     ]
    },
    {
     "name": "stderr",
     "output_type": "stream",
     "text": [
      "                                                                                                                       \r"
     ]
    },
    {
     "name": "stdout",
     "output_type": "stream",
     "text": [
      "MoviePy - Done.\n",
      "Moviepy - Writing video G:\\My Drive\\Data_Science\\Resulam\\Phrasebook_Audio_Video_Processing_production\\Languages\\YorubaPhrasebook\\Final_videos\\Yoruba_final_Chap28_chunk_2.mp4\n",
      "\n"
     ]
    },
    {
     "name": "stderr",
     "output_type": "stream",
     "text": [
      "                                                                                                                       \r"
     ]
    },
    {
     "name": "stdout",
     "output_type": "stream",
     "text": [
      "Moviepy - Done !\n",
      "Moviepy - video ready G:\\My Drive\\Data_Science\\Resulam\\Phrasebook_Audio_Video_Processing_production\\Languages\\YorubaPhrasebook\\Final_videos\\Yoruba_final_Chap28_chunk_2.mp4\n",
      "Moviepy - Building video G:\\My Drive\\Data_Science\\Resulam\\Phrasebook_Audio_Video_Processing_production\\Languages\\YorubaPhrasebook\\Final_videos\\Yoruba_final_Chap28_chunk_3.mp4.\n",
      "MoviePy - Writing audio in Yoruba_final_Chap28_chunk_3TEMP_MPY_wvf_snd.mp3\n"
     ]
    },
    {
     "name": "stderr",
     "output_type": "stream",
     "text": [
      "                                                                                                                       \r"
     ]
    },
    {
     "name": "stdout",
     "output_type": "stream",
     "text": [
      "MoviePy - Done.\n",
      "Moviepy - Writing video G:\\My Drive\\Data_Science\\Resulam\\Phrasebook_Audio_Video_Processing_production\\Languages\\YorubaPhrasebook\\Final_videos\\Yoruba_final_Chap28_chunk_3.mp4\n",
      "\n"
     ]
    },
    {
     "name": "stderr",
     "output_type": "stream",
     "text": [
      "                                                                                                                       \r"
     ]
    },
    {
     "name": "stdout",
     "output_type": "stream",
     "text": [
      "Moviepy - Done !\n",
      "Moviepy - video ready G:\\My Drive\\Data_Science\\Resulam\\Phrasebook_Audio_Video_Processing_production\\Languages\\YorubaPhrasebook\\Final_videos\\Yoruba_final_Chap28_chunk_3.mp4\n",
      "Moviepy - Building video G:\\My Drive\\Data_Science\\Resulam\\Phrasebook_Audio_Video_Processing_production\\Languages\\YorubaPhrasebook\\Final_videos\\Yoruba_final_Chap28_chunk_4.mp4.\n",
      "MoviePy - Writing audio in Yoruba_final_Chap28_chunk_4TEMP_MPY_wvf_snd.mp3\n"
     ]
    },
    {
     "name": "stderr",
     "output_type": "stream",
     "text": [
      "                                                                                                                       \r"
     ]
    },
    {
     "name": "stdout",
     "output_type": "stream",
     "text": [
      "MoviePy - Done.\n",
      "Moviepy - Writing video G:\\My Drive\\Data_Science\\Resulam\\Phrasebook_Audio_Video_Processing_production\\Languages\\YorubaPhrasebook\\Final_videos\\Yoruba_final_Chap28_chunk_4.mp4\n",
      "\n"
     ]
    },
    {
     "name": "stderr",
     "output_type": "stream",
     "text": [
      "                                                                                                                       \r"
     ]
    },
    {
     "name": "stdout",
     "output_type": "stream",
     "text": [
      "Moviepy - Done !\n",
      "Moviepy - video ready G:\\My Drive\\Data_Science\\Resulam\\Phrasebook_Audio_Video_Processing_production\\Languages\\YorubaPhrasebook\\Final_videos\\Yoruba_final_Chap28_chunk_4.mp4\n",
      "Moviepy - Building video G:\\My Drive\\Data_Science\\Resulam\\Phrasebook_Audio_Video_Processing_production\\Languages\\YorubaPhrasebook\\Final_videos\\Yoruba_final_Chap29_chunk_1.mp4.\n",
      "MoviePy - Writing audio in Yoruba_final_Chap29_chunk_1TEMP_MPY_wvf_snd.mp3\n"
     ]
    },
    {
     "name": "stderr",
     "output_type": "stream",
     "text": [
      "                                                                                                                       \r"
     ]
    },
    {
     "name": "stdout",
     "output_type": "stream",
     "text": [
      "MoviePy - Done.\n",
      "Moviepy - Writing video G:\\My Drive\\Data_Science\\Resulam\\Phrasebook_Audio_Video_Processing_production\\Languages\\YorubaPhrasebook\\Final_videos\\Yoruba_final_Chap29_chunk_1.mp4\n",
      "\n"
     ]
    },
    {
     "name": "stderr",
     "output_type": "stream",
     "text": [
      "                                                                                                                       \r"
     ]
    },
    {
     "name": "stdout",
     "output_type": "stream",
     "text": [
      "Moviepy - Done !\n",
      "Moviepy - video ready G:\\My Drive\\Data_Science\\Resulam\\Phrasebook_Audio_Video_Processing_production\\Languages\\YorubaPhrasebook\\Final_videos\\Yoruba_final_Chap29_chunk_1.mp4\n",
      "Moviepy - Building video G:\\My Drive\\Data_Science\\Resulam\\Phrasebook_Audio_Video_Processing_production\\Languages\\YorubaPhrasebook\\Final_videos\\Yoruba_final_Chap29_chunk_2.mp4.\n",
      "MoviePy - Writing audio in Yoruba_final_Chap29_chunk_2TEMP_MPY_wvf_snd.mp3\n"
     ]
    },
    {
     "name": "stderr",
     "output_type": "stream",
     "text": [
      "                                                                                                                       \r"
     ]
    },
    {
     "name": "stdout",
     "output_type": "stream",
     "text": [
      "MoviePy - Done.\n",
      "Moviepy - Writing video G:\\My Drive\\Data_Science\\Resulam\\Phrasebook_Audio_Video_Processing_production\\Languages\\YorubaPhrasebook\\Final_videos\\Yoruba_final_Chap29_chunk_2.mp4\n",
      "\n"
     ]
    },
    {
     "name": "stderr",
     "output_type": "stream",
     "text": [
      "                                                                                                                       \r"
     ]
    },
    {
     "name": "stdout",
     "output_type": "stream",
     "text": [
      "Moviepy - Done !\n",
      "Moviepy - video ready G:\\My Drive\\Data_Science\\Resulam\\Phrasebook_Audio_Video_Processing_production\\Languages\\YorubaPhrasebook\\Final_videos\\Yoruba_final_Chap29_chunk_2.mp4\n",
      "Moviepy - Building video G:\\My Drive\\Data_Science\\Resulam\\Phrasebook_Audio_Video_Processing_production\\Languages\\YorubaPhrasebook\\Final_videos\\Yoruba_final_Chap29_chunk_3.mp4.\n",
      "MoviePy - Writing audio in Yoruba_final_Chap29_chunk_3TEMP_MPY_wvf_snd.mp3\n"
     ]
    },
    {
     "name": "stderr",
     "output_type": "stream",
     "text": [
      "                                                                                                                       \r"
     ]
    },
    {
     "name": "stdout",
     "output_type": "stream",
     "text": [
      "MoviePy - Done.\n",
      "Moviepy - Writing video G:\\My Drive\\Data_Science\\Resulam\\Phrasebook_Audio_Video_Processing_production\\Languages\\YorubaPhrasebook\\Final_videos\\Yoruba_final_Chap29_chunk_3.mp4\n",
      "\n"
     ]
    },
    {
     "name": "stderr",
     "output_type": "stream",
     "text": [
      "                                                                                                                       \r"
     ]
    },
    {
     "name": "stdout",
     "output_type": "stream",
     "text": [
      "Moviepy - Done !\n",
      "Moviepy - video ready G:\\My Drive\\Data_Science\\Resulam\\Phrasebook_Audio_Video_Processing_production\\Languages\\YorubaPhrasebook\\Final_videos\\Yoruba_final_Chap29_chunk_3.mp4\n",
      "Moviepy - Building video G:\\My Drive\\Data_Science\\Resulam\\Phrasebook_Audio_Video_Processing_production\\Languages\\YorubaPhrasebook\\Final_videos\\Yoruba_final_Chap29_chunk_4.mp4.\n",
      "MoviePy - Writing audio in Yoruba_final_Chap29_chunk_4TEMP_MPY_wvf_snd.mp3\n"
     ]
    },
    {
     "name": "stderr",
     "output_type": "stream",
     "text": [
      "                                                                                                                       \r"
     ]
    },
    {
     "name": "stdout",
     "output_type": "stream",
     "text": [
      "MoviePy - Done.\n",
      "Moviepy - Writing video G:\\My Drive\\Data_Science\\Resulam\\Phrasebook_Audio_Video_Processing_production\\Languages\\YorubaPhrasebook\\Final_videos\\Yoruba_final_Chap29_chunk_4.mp4\n",
      "\n"
     ]
    },
    {
     "name": "stderr",
     "output_type": "stream",
     "text": [
      "                                                                                                                       \r"
     ]
    },
    {
     "name": "stdout",
     "output_type": "stream",
     "text": [
      "Moviepy - Done !\n",
      "Moviepy - video ready G:\\My Drive\\Data_Science\\Resulam\\Phrasebook_Audio_Video_Processing_production\\Languages\\YorubaPhrasebook\\Final_videos\\Yoruba_final_Chap29_chunk_4.mp4\n",
      "Moviepy - Building video G:\\My Drive\\Data_Science\\Resulam\\Phrasebook_Audio_Video_Processing_production\\Languages\\YorubaPhrasebook\\Final_videos\\Yoruba_final_Chap29_chunk_5.mp4.\n",
      "MoviePy - Writing audio in Yoruba_final_Chap29_chunk_5TEMP_MPY_wvf_snd.mp3\n"
     ]
    },
    {
     "name": "stderr",
     "output_type": "stream",
     "text": [
      "                                                                                                                       \r"
     ]
    },
    {
     "name": "stdout",
     "output_type": "stream",
     "text": [
      "MoviePy - Done.\n",
      "Moviepy - Writing video G:\\My Drive\\Data_Science\\Resulam\\Phrasebook_Audio_Video_Processing_production\\Languages\\YorubaPhrasebook\\Final_videos\\Yoruba_final_Chap29_chunk_5.mp4\n",
      "\n"
     ]
    },
    {
     "name": "stderr",
     "output_type": "stream",
     "text": [
      "                                                                                                                       \r"
     ]
    },
    {
     "name": "stdout",
     "output_type": "stream",
     "text": [
      "Moviepy - Done !\n",
      "Moviepy - video ready G:\\My Drive\\Data_Science\\Resulam\\Phrasebook_Audio_Video_Processing_production\\Languages\\YorubaPhrasebook\\Final_videos\\Yoruba_final_Chap29_chunk_5.mp4\n",
      "Moviepy - Building video G:\\My Drive\\Data_Science\\Resulam\\Phrasebook_Audio_Video_Processing_production\\Languages\\YorubaPhrasebook\\Final_videos\\Yoruba_final_Chap29_chunk_6.mp4.\n",
      "MoviePy - Writing audio in Yoruba_final_Chap29_chunk_6TEMP_MPY_wvf_snd.mp3\n"
     ]
    },
    {
     "name": "stderr",
     "output_type": "stream",
     "text": [
      "                                                                                                                       \r"
     ]
    },
    {
     "name": "stdout",
     "output_type": "stream",
     "text": [
      "MoviePy - Done.\n",
      "Moviepy - Writing video G:\\My Drive\\Data_Science\\Resulam\\Phrasebook_Audio_Video_Processing_production\\Languages\\YorubaPhrasebook\\Final_videos\\Yoruba_final_Chap29_chunk_6.mp4\n",
      "\n"
     ]
    },
    {
     "name": "stderr",
     "output_type": "stream",
     "text": [
      "                                                                                                                       \r"
     ]
    },
    {
     "name": "stdout",
     "output_type": "stream",
     "text": [
      "Moviepy - Done !\n",
      "Moviepy - video ready G:\\My Drive\\Data_Science\\Resulam\\Phrasebook_Audio_Video_Processing_production\\Languages\\YorubaPhrasebook\\Final_videos\\Yoruba_final_Chap29_chunk_6.mp4\n",
      "Moviepy - Building video G:\\My Drive\\Data_Science\\Resulam\\Phrasebook_Audio_Video_Processing_production\\Languages\\YorubaPhrasebook\\Final_videos\\Yoruba_final_Chap29_chunk_7.mp4.\n",
      "MoviePy - Writing audio in Yoruba_final_Chap29_chunk_7TEMP_MPY_wvf_snd.mp3\n"
     ]
    },
    {
     "name": "stderr",
     "output_type": "stream",
     "text": [
      "                                                                                                                       \r"
     ]
    },
    {
     "name": "stdout",
     "output_type": "stream",
     "text": [
      "MoviePy - Done.\n",
      "Moviepy - Writing video G:\\My Drive\\Data_Science\\Resulam\\Phrasebook_Audio_Video_Processing_production\\Languages\\YorubaPhrasebook\\Final_videos\\Yoruba_final_Chap29_chunk_7.mp4\n",
      "\n"
     ]
    },
    {
     "name": "stderr",
     "output_type": "stream",
     "text": [
      "                                                                                                                       \r"
     ]
    },
    {
     "name": "stdout",
     "output_type": "stream",
     "text": [
      "Moviepy - Done !\n",
      "Moviepy - video ready G:\\My Drive\\Data_Science\\Resulam\\Phrasebook_Audio_Video_Processing_production\\Languages\\YorubaPhrasebook\\Final_videos\\Yoruba_final_Chap29_chunk_7.mp4\n",
      "Moviepy - Building video G:\\My Drive\\Data_Science\\Resulam\\Phrasebook_Audio_Video_Processing_production\\Languages\\YorubaPhrasebook\\Final_videos\\Yoruba_final_Chap29_chunk_8.mp4.\n",
      "MoviePy - Writing audio in Yoruba_final_Chap29_chunk_8TEMP_MPY_wvf_snd.mp3\n"
     ]
    },
    {
     "name": "stderr",
     "output_type": "stream",
     "text": [
      "                                                                                                                       \r"
     ]
    },
    {
     "name": "stdout",
     "output_type": "stream",
     "text": [
      "MoviePy - Done.\n",
      "Moviepy - Writing video G:\\My Drive\\Data_Science\\Resulam\\Phrasebook_Audio_Video_Processing_production\\Languages\\YorubaPhrasebook\\Final_videos\\Yoruba_final_Chap29_chunk_8.mp4\n",
      "\n"
     ]
    },
    {
     "name": "stderr",
     "output_type": "stream",
     "text": [
      "                                                                                                                       \r"
     ]
    },
    {
     "name": "stdout",
     "output_type": "stream",
     "text": [
      "Moviepy - Done !\n",
      "Moviepy - video ready G:\\My Drive\\Data_Science\\Resulam\\Phrasebook_Audio_Video_Processing_production\\Languages\\YorubaPhrasebook\\Final_videos\\Yoruba_final_Chap29_chunk_8.mp4\n",
      "Moviepy - Building video G:\\My Drive\\Data_Science\\Resulam\\Phrasebook_Audio_Video_Processing_production\\Languages\\YorubaPhrasebook\\Final_videos\\Yoruba_final_Chap29_chunk_9.mp4.\n",
      "MoviePy - Writing audio in Yoruba_final_Chap29_chunk_9TEMP_MPY_wvf_snd.mp3\n"
     ]
    },
    {
     "name": "stderr",
     "output_type": "stream",
     "text": [
      "                                                                                                                       \r"
     ]
    },
    {
     "name": "stdout",
     "output_type": "stream",
     "text": [
      "MoviePy - Done.\n",
      "Moviepy - Writing video G:\\My Drive\\Data_Science\\Resulam\\Phrasebook_Audio_Video_Processing_production\\Languages\\YorubaPhrasebook\\Final_videos\\Yoruba_final_Chap29_chunk_9.mp4\n",
      "\n"
     ]
    },
    {
     "name": "stderr",
     "output_type": "stream",
     "text": [
      "                                                                                                                       \r"
     ]
    },
    {
     "name": "stdout",
     "output_type": "stream",
     "text": [
      "Moviepy - Done !\n",
      "Moviepy - video ready G:\\My Drive\\Data_Science\\Resulam\\Phrasebook_Audio_Video_Processing_production\\Languages\\YorubaPhrasebook\\Final_videos\\Yoruba_final_Chap29_chunk_9.mp4\n",
      "Moviepy - Building video G:\\My Drive\\Data_Science\\Resulam\\Phrasebook_Audio_Video_Processing_production\\Languages\\YorubaPhrasebook\\Final_videos\\Yoruba_final_Chap29_chunk_10.mp4.\n",
      "MoviePy - Writing audio in Yoruba_final_Chap29_chunk_10TEMP_MPY_wvf_snd.mp3\n"
     ]
    },
    {
     "name": "stderr",
     "output_type": "stream",
     "text": [
      "                                                                                                                       \r"
     ]
    },
    {
     "name": "stdout",
     "output_type": "stream",
     "text": [
      "MoviePy - Done.\n",
      "Moviepy - Writing video G:\\My Drive\\Data_Science\\Resulam\\Phrasebook_Audio_Video_Processing_production\\Languages\\YorubaPhrasebook\\Final_videos\\Yoruba_final_Chap29_chunk_10.mp4\n",
      "\n"
     ]
    },
    {
     "name": "stderr",
     "output_type": "stream",
     "text": [
      "                                                                                                                       \r"
     ]
    },
    {
     "name": "stdout",
     "output_type": "stream",
     "text": [
      "Moviepy - Done !\n",
      "Moviepy - video ready G:\\My Drive\\Data_Science\\Resulam\\Phrasebook_Audio_Video_Processing_production\\Languages\\YorubaPhrasebook\\Final_videos\\Yoruba_final_Chap29_chunk_10.mp4\n",
      "Moviepy - Building video G:\\My Drive\\Data_Science\\Resulam\\Phrasebook_Audio_Video_Processing_production\\Languages\\YorubaPhrasebook\\Final_videos\\Yoruba_final_Chap29_chunk_11.mp4.\n",
      "MoviePy - Writing audio in Yoruba_final_Chap29_chunk_11TEMP_MPY_wvf_snd.mp3\n"
     ]
    },
    {
     "name": "stderr",
     "output_type": "stream",
     "text": [
      "                                                                                                                       \r"
     ]
    },
    {
     "name": "stdout",
     "output_type": "stream",
     "text": [
      "MoviePy - Done.\n",
      "Moviepy - Writing video G:\\My Drive\\Data_Science\\Resulam\\Phrasebook_Audio_Video_Processing_production\\Languages\\YorubaPhrasebook\\Final_videos\\Yoruba_final_Chap29_chunk_11.mp4\n",
      "\n"
     ]
    },
    {
     "name": "stderr",
     "output_type": "stream",
     "text": [
      "                                                                                                                       \r"
     ]
    },
    {
     "name": "stdout",
     "output_type": "stream",
     "text": [
      "Moviepy - Done !\n",
      "Moviepy - video ready G:\\My Drive\\Data_Science\\Resulam\\Phrasebook_Audio_Video_Processing_production\\Languages\\YorubaPhrasebook\\Final_videos\\Yoruba_final_Chap29_chunk_11.mp4\n",
      "Moviepy - Building video G:\\My Drive\\Data_Science\\Resulam\\Phrasebook_Audio_Video_Processing_production\\Languages\\YorubaPhrasebook\\Final_videos\\Yoruba_final_Chap29_chunk_12.mp4.\n",
      "MoviePy - Writing audio in Yoruba_final_Chap29_chunk_12TEMP_MPY_wvf_snd.mp3\n"
     ]
    },
    {
     "name": "stderr",
     "output_type": "stream",
     "text": [
      "                                                                                                                       \r"
     ]
    },
    {
     "name": "stdout",
     "output_type": "stream",
     "text": [
      "MoviePy - Done.\n",
      "Moviepy - Writing video G:\\My Drive\\Data_Science\\Resulam\\Phrasebook_Audio_Video_Processing_production\\Languages\\YorubaPhrasebook\\Final_videos\\Yoruba_final_Chap29_chunk_12.mp4\n",
      "\n"
     ]
    },
    {
     "name": "stderr",
     "output_type": "stream",
     "text": [
      "                                                                                                                       \r"
     ]
    },
    {
     "name": "stdout",
     "output_type": "stream",
     "text": [
      "Moviepy - Done !\n",
      "Moviepy - video ready G:\\My Drive\\Data_Science\\Resulam\\Phrasebook_Audio_Video_Processing_production\\Languages\\YorubaPhrasebook\\Final_videos\\Yoruba_final_Chap29_chunk_12.mp4\n",
      "Moviepy - Building video G:\\My Drive\\Data_Science\\Resulam\\Phrasebook_Audio_Video_Processing_production\\Languages\\YorubaPhrasebook\\Final_videos\\Yoruba_final_Chap30_chunk_1.mp4.\n",
      "MoviePy - Writing audio in Yoruba_final_Chap30_chunk_1TEMP_MPY_wvf_snd.mp3\n"
     ]
    },
    {
     "name": "stderr",
     "output_type": "stream",
     "text": [
      "                                                                                                                       \r"
     ]
    },
    {
     "name": "stdout",
     "output_type": "stream",
     "text": [
      "MoviePy - Done.\n",
      "Moviepy - Writing video G:\\My Drive\\Data_Science\\Resulam\\Phrasebook_Audio_Video_Processing_production\\Languages\\YorubaPhrasebook\\Final_videos\\Yoruba_final_Chap30_chunk_1.mp4\n",
      "\n"
     ]
    },
    {
     "name": "stderr",
     "output_type": "stream",
     "text": [
      "                                                                                                                       \r"
     ]
    },
    {
     "name": "stdout",
     "output_type": "stream",
     "text": [
      "Moviepy - Done !\n",
      "Moviepy - video ready G:\\My Drive\\Data_Science\\Resulam\\Phrasebook_Audio_Video_Processing_production\\Languages\\YorubaPhrasebook\\Final_videos\\Yoruba_final_Chap30_chunk_1.mp4\n",
      "Moviepy - Building video G:\\My Drive\\Data_Science\\Resulam\\Phrasebook_Audio_Video_Processing_production\\Languages\\YorubaPhrasebook\\Final_videos\\Yoruba_final_Chap31_chunk_1.mp4.\n",
      "MoviePy - Writing audio in Yoruba_final_Chap31_chunk_1TEMP_MPY_wvf_snd.mp3\n"
     ]
    },
    {
     "name": "stderr",
     "output_type": "stream",
     "text": [
      "                                                                                                                       \r"
     ]
    },
    {
     "name": "stdout",
     "output_type": "stream",
     "text": [
      "MoviePy - Done.\n",
      "Moviepy - Writing video G:\\My Drive\\Data_Science\\Resulam\\Phrasebook_Audio_Video_Processing_production\\Languages\\YorubaPhrasebook\\Final_videos\\Yoruba_final_Chap31_chunk_1.mp4\n",
      "\n"
     ]
    },
    {
     "name": "stderr",
     "output_type": "stream",
     "text": [
      "                                                                                                                       \r"
     ]
    },
    {
     "name": "stdout",
     "output_type": "stream",
     "text": [
      "Moviepy - Done !\n",
      "Moviepy - video ready G:\\My Drive\\Data_Science\\Resulam\\Phrasebook_Audio_Video_Processing_production\\Languages\\YorubaPhrasebook\\Final_videos\\Yoruba_final_Chap31_chunk_1.mp4\n",
      "Moviepy - Building video G:\\My Drive\\Data_Science\\Resulam\\Phrasebook_Audio_Video_Processing_production\\Languages\\YorubaPhrasebook\\Final_videos\\Yoruba_final_Chap31_chunk_2.mp4.\n",
      "MoviePy - Writing audio in Yoruba_final_Chap31_chunk_2TEMP_MPY_wvf_snd.mp3\n"
     ]
    },
    {
     "name": "stderr",
     "output_type": "stream",
     "text": [
      "                                                                                                                       \r"
     ]
    },
    {
     "name": "stdout",
     "output_type": "stream",
     "text": [
      "MoviePy - Done.\n",
      "Moviepy - Writing video G:\\My Drive\\Data_Science\\Resulam\\Phrasebook_Audio_Video_Processing_production\\Languages\\YorubaPhrasebook\\Final_videos\\Yoruba_final_Chap31_chunk_2.mp4\n",
      "\n"
     ]
    },
    {
     "name": "stderr",
     "output_type": "stream",
     "text": [
      "                                                                                                                       \r"
     ]
    },
    {
     "name": "stdout",
     "output_type": "stream",
     "text": [
      "Moviepy - Done !\n",
      "Moviepy - video ready G:\\My Drive\\Data_Science\\Resulam\\Phrasebook_Audio_Video_Processing_production\\Languages\\YorubaPhrasebook\\Final_videos\\Yoruba_final_Chap31_chunk_2.mp4\n",
      "Moviepy - Building video G:\\My Drive\\Data_Science\\Resulam\\Phrasebook_Audio_Video_Processing_production\\Languages\\YorubaPhrasebook\\Final_videos\\Yoruba_final_Chap32_chunk_1.mp4.\n",
      "MoviePy - Writing audio in Yoruba_final_Chap32_chunk_1TEMP_MPY_wvf_snd.mp3\n"
     ]
    },
    {
     "name": "stderr",
     "output_type": "stream",
     "text": [
      "                                                                                                                       \r"
     ]
    },
    {
     "name": "stdout",
     "output_type": "stream",
     "text": [
      "MoviePy - Done.\n",
      "Moviepy - Writing video G:\\My Drive\\Data_Science\\Resulam\\Phrasebook_Audio_Video_Processing_production\\Languages\\YorubaPhrasebook\\Final_videos\\Yoruba_final_Chap32_chunk_1.mp4\n",
      "\n"
     ]
    },
    {
     "name": "stderr",
     "output_type": "stream",
     "text": [
      "                                                                                                                       \r"
     ]
    },
    {
     "name": "stdout",
     "output_type": "stream",
     "text": [
      "Moviepy - Done !\n",
      "Moviepy - video ready G:\\My Drive\\Data_Science\\Resulam\\Phrasebook_Audio_Video_Processing_production\\Languages\\YorubaPhrasebook\\Final_videos\\Yoruba_final_Chap32_chunk_1.mp4\n",
      "Moviepy - Building video G:\\My Drive\\Data_Science\\Resulam\\Phrasebook_Audio_Video_Processing_production\\Languages\\YorubaPhrasebook\\Final_videos\\Yoruba_final_Chap32_chunk_2.mp4.\n",
      "MoviePy - Writing audio in Yoruba_final_Chap32_chunk_2TEMP_MPY_wvf_snd.mp3\n"
     ]
    },
    {
     "name": "stderr",
     "output_type": "stream",
     "text": [
      "                                                                                                                       \r"
     ]
    },
    {
     "name": "stdout",
     "output_type": "stream",
     "text": [
      "MoviePy - Done.\n",
      "Moviepy - Writing video G:\\My Drive\\Data_Science\\Resulam\\Phrasebook_Audio_Video_Processing_production\\Languages\\YorubaPhrasebook\\Final_videos\\Yoruba_final_Chap32_chunk_2.mp4\n",
      "\n"
     ]
    },
    {
     "name": "stderr",
     "output_type": "stream",
     "text": [
      "                                                                                                                       \r"
     ]
    },
    {
     "name": "stdout",
     "output_type": "stream",
     "text": [
      "Moviepy - Done !\n",
      "Moviepy - video ready G:\\My Drive\\Data_Science\\Resulam\\Phrasebook_Audio_Video_Processing_production\\Languages\\YorubaPhrasebook\\Final_videos\\Yoruba_final_Chap32_chunk_2.mp4\n",
      "Moviepy - Building video G:\\My Drive\\Data_Science\\Resulam\\Phrasebook_Audio_Video_Processing_production\\Languages\\YorubaPhrasebook\\Final_videos\\Yoruba_final_Chap32_chunk_3.mp4.\n",
      "MoviePy - Writing audio in Yoruba_final_Chap32_chunk_3TEMP_MPY_wvf_snd.mp3\n"
     ]
    },
    {
     "name": "stderr",
     "output_type": "stream",
     "text": [
      "                                                                                                                       \r"
     ]
    },
    {
     "name": "stdout",
     "output_type": "stream",
     "text": [
      "MoviePy - Done.\n",
      "Moviepy - Writing video G:\\My Drive\\Data_Science\\Resulam\\Phrasebook_Audio_Video_Processing_production\\Languages\\YorubaPhrasebook\\Final_videos\\Yoruba_final_Chap32_chunk_3.mp4\n",
      "\n"
     ]
    },
    {
     "name": "stderr",
     "output_type": "stream",
     "text": [
      "                                                                                                                       \r"
     ]
    },
    {
     "name": "stdout",
     "output_type": "stream",
     "text": [
      "Moviepy - Done !\n",
      "Moviepy - video ready G:\\My Drive\\Data_Science\\Resulam\\Phrasebook_Audio_Video_Processing_production\\Languages\\YorubaPhrasebook\\Final_videos\\Yoruba_final_Chap32_chunk_3.mp4\n",
      "All videos have been processed and saved.\n"
     ]
    }
   ],
   "source": [
    "from moviepy.editor import VideoFileClip, concatenate_videoclips\n",
    "import os\n",
    "import random\n",
    "\n",
    "# Directories setup\n",
    "Main_dir = os.getcwd()\n",
    "Production_dir = os.path.dirname(Main_dir)\n",
    "ads_dir = os.path.join(Production_dir, \"Ads_Video\", \"ResulamVideosAds_Bon\", f\"{lln}VideoAds\")\n",
    "ads_dir_global = os.path.join(Production_dir, \"Ads_Video\", \"ResulamVideosAds_Bon\", \"GlobalVideoAds\")\n",
    "\n",
    "intro_clips_dir = os.path.join(ads_dir, \"intro_videos\")\n",
    "outro_clips_dir = os.path.join(ads_dir, \"outro_videos\")\n",
    "\n",
    "Video_dir = os.path.join(Production_dir, \"Languages\", f\"{lln}Phrasebook\", \"bilingual_sentences\")\n",
    "final_videos_dir = os.path.join(os.path.dirname(Video_dir), \"Final_videos\")\n",
    "\n",
    "os.makedirs(final_videos_dir, exist_ok=True)\n",
    "\n",
    "##########################################\n",
    "\n",
    "ads_dir_intro = os.path.join(ads_dir,\"intro_videos\")\n",
    "ads_dir_outro = os.path.join(ads_dir,\"outro_videos\")\n",
    "\n",
    "ads_dir_global_intro = os.path.join(ads_dir_global,\"intro_videos\")\n",
    "ads_dir_global_outro = os.path.join(ads_dir_global,\"outro_videos\")\n",
    "\n",
    "ads_dir_global_intro = [] # Comment this out to include other ads\n",
    "ads_dir_global_outro = [] # Comment this out to include other ads\n",
    "\n",
    "# # List the contents of both directories and create full paths\n",
    "# video_ads_list = [os.path.join(ads_dir, f) for f in os.listdir(ads_dir)] + [os.path.join(ads_dir_global, f) for f in os.listdir(ads_dir_global)]\n",
    "# video_ads_list = list(set(video_ads_list))  # Remove duplicates if any\n",
    "\n",
    "video_intro_ads_list = [os.path.join(ads_dir_intro, f) for f in os.listdir(ads_dir_intro)] \n",
    "\n",
    "if len(ads_dir_global_intro):\n",
    "\n",
    "    video_intro_ads_list = video_intro_ads_list + [os.path.join(ads_dir_global_intro, f) for f in os.listdir(ads_dir_global_intro)]\n",
    "    video_intro_ads_list = list(set(video_intro_ads_list))  # Remove duplicates if any\n",
    "\n",
    "video_outro_ads_list = [os.path.join(ads_dir_outro, f) for f in os.listdir(ads_dir_outro)] \n",
    "\n",
    "if len(ads_dir_global_intro):\n",
    "    video_outro_ads_list = video_outro_ads_list + [os.path.join(ads_dir_global_outro, f) for f in os.listdir(ads_dir_global_outro)]\n",
    "    video_outro_ads_list = list(set(video_outro_ads_list))  # Remove duplicates if any\n",
    "\n",
    "\n",
    "########################################################################################################\n",
    "\n",
    "# Function to randomly select a video clip from a specified directory\n",
    "# def choose_random_clip(directory):\n",
    "#     files = [f for f in os.listdir(directory) if f.endswith(\".mp4\")]\n",
    "#     chosen_file = random.choice(files)\n",
    "#     return os.path.join(directory, chosen_file)\n",
    "\n",
    "\n",
    "\n",
    "# Process each video in the directory\n",
    "for video_filename in os.listdir(Video_dir):\n",
    "    if video_filename.endswith((\".mp4\", \".mov\", \".avi\")):\n",
    "        # Load intro and outro clips once if they are reused\n",
    "#         intro_path = choose_random_clip(intro_clips_dir)\n",
    "#         outro_path = choose_random_clip(outro_clips_dir)\n",
    "        \n",
    "        intro_path = random.choice(video_intro_ads_list)\n",
    "        outro_path = random.choice(video_outro_ads_list)\n",
    "        \n",
    "        intro_clip = VideoFileClip(intro_path).fadein(1)  # 1 second fade-in\n",
    "        outro_clip = VideoFileClip(outro_path).fadeout(1)  # 1 second fade-out\n",
    "        \n",
    "        video_path = os.path.join(Video_dir, video_filename)\n",
    "        main_clip = VideoFileClip(video_path)\n",
    "\n",
    "        # Concatenate intro, main video, and outro\n",
    "        final_clip = concatenate_videoclips([intro_clip, main_clip, outro_clip])\n",
    "\n",
    "        # Define the output path for the concatenated video\n",
    "        output_path = os.path.join(final_videos_dir, f'{lln}_final_{video_filename}')\n",
    "\n",
    "        # Write the result to a file\n",
    "        final_clip.write_videofile(output_path, codec='libx264', fps=24)\n",
    "\n",
    "        # Close the main video clip\n",
    "        main_clip.close()\n",
    "\n",
    "# Close intro and outro clips outside the loop\n",
    "intro_clip.close()\n",
    "outro_clip.close()\n",
    "\n",
    "print(\"All videos have been processed and saved.\")\n"
   ]
  },
  {
   "cell_type": "code",
   "execution_count": null,
   "id": "6a3a0c3c",
   "metadata": {},
   "outputs": [],
   "source": []
  },
  {
   "cell_type": "code",
   "execution_count": null,
   "id": "d8bfa35f",
   "metadata": {
    "ExecuteTime": {
     "end_time": "2024-04-20T11:05:12.843831Z",
     "start_time": "2024-04-20T05:26:55.709162Z"
    }
   },
   "outputs": [],
   "source": []
  },
  {
   "cell_type": "code",
   "execution_count": 4,
   "id": "80f6cca3",
   "metadata": {
    "ExecuteTime": {
     "end_time": "2024-08-26T09:01:20.388418Z",
     "start_time": "2024-08-26T09:01:17.649143Z"
    }
   },
   "outputs": [],
   "source": [
    "import subprocess\n",
    "from moviepy.editor import VideoFileClip\n",
    "\n",
    "def compress_video(input_path, output_path, target_bitrate='1M'):\n",
    "    \"\"\"\n",
    "    Compresses the video at the input_path and saves it to the output_path with the target bitrate.\n",
    "    \n",
    "    Args:\n",
    "    input_path (str): Path to the input video file.\n",
    "    output_path (str): Path to save the compressed video file.\n",
    "    target_bitrate (str): The target bitrate for compression. Default is '1M'.\n",
    "    \"\"\"\n",
    "    # Load the video to get the dimensions (optional step)\n",
    "    video = VideoFileClip(input_path)\n",
    "    width, height = video.size\n",
    "    \n",
    "    # Define the output command with ffmpeg\n",
    "    ffmpeg_command = [\n",
    "        \"ffmpeg\",\n",
    "        \"-i\", input_path,\n",
    "        \"-vcodec\", \"libx264\",\n",
    "        \"-b:v\", target_bitrate,\n",
    "        \"-vf\", f\"scale={width}:{height}\",\n",
    "        \"-acodec\", \"aac\",\n",
    "        \"-strict\", \"-2\",\n",
    "        output_path\n",
    "    ]\n",
    "    \n",
    "    # Run the command\n",
    "    subprocess.run(ffmpeg_command, check=True)\n",
    "\n",
    "# Example usage\n",
    "input_video = r'G:\\My Drive\\Resulam\\Dessin Anime\\2_Dessin_Anime_Resulam_Presentation_Nufi_Nufi.mp4'\n",
    "output_video = 'output_video_test_nufi_cartoon.mp4'\n",
    "compress_video(input_video, output_video)\n"
   ]
  },
  {
   "cell_type": "code",
   "execution_count": null,
   "id": "306a4a8b",
   "metadata": {},
   "outputs": [],
   "source": []
  },
  {
   "cell_type": "code",
   "execution_count": null,
   "id": "bd1befee",
   "metadata": {},
   "outputs": [],
   "source": []
  },
  {
   "cell_type": "code",
   "execution_count": null,
   "id": "6fdaa291",
   "metadata": {},
   "outputs": [],
   "source": []
  }
 ],
 "metadata": {
  "kernelspec": {
   "display_name": "Python 3 (ipykernel)",
   "language": "python",
   "name": "python3"
  },
  "language_info": {
   "codemirror_mode": {
    "name": "ipython",
    "version": 3
   },
   "file_extension": ".py",
   "mimetype": "text/x-python",
   "name": "python",
   "nbconvert_exporter": "python",
   "pygments_lexer": "ipython3",
   "version": "3.11.5"
  },
  "toc": {
   "base_numbering": 1,
   "nav_menu": {},
   "number_sections": true,
   "sideBar": true,
   "skip_h1_title": false,
   "title_cell": "Table of Contents",
   "title_sidebar": "Contents",
   "toc_cell": false,
   "toc_position": {},
   "toc_section_display": true,
   "toc_window_display": false
  }
 },
 "nbformat": 4,
 "nbformat_minor": 5
}
